{
 "cells": [
  {
   "cell_type": "markdown",
   "metadata": {},
   "source": [
    "# TP1 Organización de Datos"
   ]
  },
  {
   "cell_type": "markdown",
   "metadata": {},
   "source": [
    "## Imports"
   ]
  },
  {
   "cell_type": "code",
   "execution_count": 1,
   "metadata": {},
   "outputs": [],
   "source": [
    "import numpy as np\n",
    "import pandas as pd\n",
    "import seaborn as sb\n",
    "import matplotlib.pyplot as plt"
   ]
  },
  {
   "cell_type": "markdown",
   "metadata": {},
   "source": [
    "## Leemos el archivo"
   ]
  },
  {
   "cell_type": "code",
   "execution_count": 2,
   "metadata": {},
   "outputs": [
    {
     "data": {
      "text/html": [
       "<div>\n",
       "<style scoped>\n",
       "    .dataframe tbody tr th:only-of-type {\n",
       "        vertical-align: middle;\n",
       "    }\n",
       "\n",
       "    .dataframe tbody tr th {\n",
       "        vertical-align: top;\n",
       "    }\n",
       "\n",
       "    .dataframe thead th {\n",
       "        text-align: right;\n",
       "    }\n",
       "</style>\n",
       "<table border=\"1\" class=\"dataframe\">\n",
       "  <thead>\n",
       "    <tr style=\"text-align: right;\">\n",
       "      <th></th>\n",
       "      <th>id</th>\n",
       "      <th>keyword</th>\n",
       "      <th>location</th>\n",
       "      <th>text</th>\n",
       "      <th>target</th>\n",
       "    </tr>\n",
       "  </thead>\n",
       "  <tbody>\n",
       "    <tr>\n",
       "      <th>0</th>\n",
       "      <td>1</td>\n",
       "      <td>NaN</td>\n",
       "      <td>NaN</td>\n",
       "      <td>Our Deeds are the Reason of this #earthquake M...</td>\n",
       "      <td>1</td>\n",
       "    </tr>\n",
       "    <tr>\n",
       "      <th>1</th>\n",
       "      <td>4</td>\n",
       "      <td>NaN</td>\n",
       "      <td>NaN</td>\n",
       "      <td>Forest fire near La Ronge Sask. Canada</td>\n",
       "      <td>1</td>\n",
       "    </tr>\n",
       "    <tr>\n",
       "      <th>2</th>\n",
       "      <td>5</td>\n",
       "      <td>NaN</td>\n",
       "      <td>NaN</td>\n",
       "      <td>All residents asked to 'shelter in place' are ...</td>\n",
       "      <td>1</td>\n",
       "    </tr>\n",
       "    <tr>\n",
       "      <th>3</th>\n",
       "      <td>6</td>\n",
       "      <td>NaN</td>\n",
       "      <td>NaN</td>\n",
       "      <td>13,000 people receive #wildfires evacuation or...</td>\n",
       "      <td>1</td>\n",
       "    </tr>\n",
       "    <tr>\n",
       "      <th>4</th>\n",
       "      <td>7</td>\n",
       "      <td>NaN</td>\n",
       "      <td>NaN</td>\n",
       "      <td>Just got sent this photo from Ruby #Alaska as ...</td>\n",
       "      <td>1</td>\n",
       "    </tr>\n",
       "    <tr>\n",
       "      <th>5</th>\n",
       "      <td>8</td>\n",
       "      <td>NaN</td>\n",
       "      <td>NaN</td>\n",
       "      <td>#RockyFire Update =&gt; California Hwy. 20 closed...</td>\n",
       "      <td>1</td>\n",
       "    </tr>\n",
       "    <tr>\n",
       "      <th>6</th>\n",
       "      <td>10</td>\n",
       "      <td>NaN</td>\n",
       "      <td>NaN</td>\n",
       "      <td>#flood #disaster Heavy rain causes flash flood...</td>\n",
       "      <td>1</td>\n",
       "    </tr>\n",
       "    <tr>\n",
       "      <th>7</th>\n",
       "      <td>13</td>\n",
       "      <td>NaN</td>\n",
       "      <td>NaN</td>\n",
       "      <td>I'm on top of the hill and I can see a fire in...</td>\n",
       "      <td>1</td>\n",
       "    </tr>\n",
       "    <tr>\n",
       "      <th>8</th>\n",
       "      <td>14</td>\n",
       "      <td>NaN</td>\n",
       "      <td>NaN</td>\n",
       "      <td>There's an emergency evacuation happening now ...</td>\n",
       "      <td>1</td>\n",
       "    </tr>\n",
       "    <tr>\n",
       "      <th>9</th>\n",
       "      <td>15</td>\n",
       "      <td>NaN</td>\n",
       "      <td>NaN</td>\n",
       "      <td>I'm afraid that the tornado is coming to our a...</td>\n",
       "      <td>1</td>\n",
       "    </tr>\n",
       "  </tbody>\n",
       "</table>\n",
       "</div>"
      ],
      "text/plain": [
       "   id keyword location                                               text  \\\n",
       "0   1     NaN      NaN  Our Deeds are the Reason of this #earthquake M...   \n",
       "1   4     NaN      NaN             Forest fire near La Ronge Sask. Canada   \n",
       "2   5     NaN      NaN  All residents asked to 'shelter in place' are ...   \n",
       "3   6     NaN      NaN  13,000 people receive #wildfires evacuation or...   \n",
       "4   7     NaN      NaN  Just got sent this photo from Ruby #Alaska as ...   \n",
       "5   8     NaN      NaN  #RockyFire Update => California Hwy. 20 closed...   \n",
       "6  10     NaN      NaN  #flood #disaster Heavy rain causes flash flood...   \n",
       "7  13     NaN      NaN  I'm on top of the hill and I can see a fire in...   \n",
       "8  14     NaN      NaN  There's an emergency evacuation happening now ...   \n",
       "9  15     NaN      NaN  I'm afraid that the tornado is coming to our a...   \n",
       "\n",
       "   target  \n",
       "0       1  \n",
       "1       1  \n",
       "2       1  \n",
       "3       1  \n",
       "4       1  \n",
       "5       1  \n",
       "6       1  \n",
       "7       1  \n",
       "8       1  \n",
       "9       1  "
      ]
     },
     "execution_count": 2,
     "metadata": {},
     "output_type": "execute_result"
    }
   ],
   "source": [
    "train = pd.read_csv('train.csv')\n",
    "train.head(10)"
   ]
  },
  {
   "cell_type": "markdown",
   "metadata": {},
   "source": [
    "## Análisis general"
   ]
  },
  {
   "cell_type": "code",
   "execution_count": 3,
   "metadata": {},
   "outputs": [
    {
     "name": "stdout",
     "output_type": "stream",
     "text": [
      "<class 'pandas.core.frame.DataFrame'>\n",
      "RangeIndex: 7613 entries, 0 to 7612\n",
      "Data columns (total 5 columns):\n",
      " #   Column    Non-Null Count  Dtype \n",
      "---  ------    --------------  ----- \n",
      " 0   id        7613 non-null   int64 \n",
      " 1   keyword   7552 non-null   object\n",
      " 2   location  5080 non-null   object\n",
      " 3   text      7613 non-null   object\n",
      " 4   target    7613 non-null   int64 \n",
      "dtypes: int64(2), object(3)\n",
      "memory usage: 297.5+ KB\n"
     ]
    }
   ],
   "source": [
    "train.info()"
   ]
  },
  {
   "cell_type": "code",
   "execution_count": 4,
   "metadata": {},
   "outputs": [
    {
     "data": {
      "text/plain": [
       "0    4342\n",
       "1    3271\n",
       "Name: target, dtype: int64"
      ]
     },
     "execution_count": 4,
     "metadata": {},
     "output_type": "execute_result"
    }
   ],
   "source": [
    "train['target'].value_counts()"
   ]
  },
  {
   "cell_type": "code",
   "execution_count": 5,
   "metadata": {},
   "outputs": [
    {
     "data": {
      "text/plain": [
       "fatalities               45\n",
       "armageddon               42\n",
       "deluge                   42\n",
       "harm                     41\n",
       "damage                   41\n",
       "                         ..\n",
       "forest%20fire            19\n",
       "epicentre                12\n",
       "threat                   11\n",
       "inundation               10\n",
       "radiation%20emergency     9\n",
       "Name: keyword, Length: 221, dtype: int64"
      ]
     },
     "execution_count": 5,
     "metadata": {},
     "output_type": "execute_result"
    }
   ],
   "source": [
    "train['keyword'].value_counts()"
   ]
  },
  {
   "cell_type": "code",
   "execution_count": 6,
   "metadata": {},
   "outputs": [
    {
     "data": {
      "text/plain": [
       "fatalities             45\n",
       "armageddon             42\n",
       "deluge                 42\n",
       "damage                 41\n",
       "body bags              41\n",
       "                       ..\n",
       "forest fire            19\n",
       "epicentre              12\n",
       "threat                 11\n",
       "inundation             10\n",
       "radiation emergency     9\n",
       "Name: keyword, Length: 221, dtype: int64"
      ]
     },
     "execution_count": 6,
     "metadata": {},
     "output_type": "execute_result"
    }
   ],
   "source": [
    "train['keyword'] = train['keyword'].str.replace('%20', ' ')\n",
    "train['keyword'].value_counts()"
   ]
  },
  {
   "cell_type": "code",
   "execution_count": 7,
   "metadata": {},
   "outputs": [
    {
     "data": {
      "text/plain": [
       "USA                             104\n",
       "New York                         71\n",
       "United States                    50\n",
       "London                           45\n",
       "Canada                           29\n",
       "                               ... \n",
       "Telangana                         1\n",
       "Use #TMW in tweets get #RT        1\n",
       "Pon Di Gully                      1\n",
       "nc                                1\n",
       "#goingdownthetoilet Illinois      1\n",
       "Name: location, Length: 3341, dtype: int64"
      ]
     },
     "execution_count": 7,
     "metadata": {},
     "output_type": "execute_result"
    }
   ],
   "source": [
    "train['location'].value_counts()"
   ]
  },
  {
   "cell_type": "markdown",
   "metadata": {},
   "source": [
    "## Limpiamos los datos para agrupar aquellos que refieren a la misma location pero de distinta forma\n",
    "Tomamos en cuenta aquellos que tienen más de 10 tweets"
   ]
  },
  {
   "cell_type": "code",
   "execution_count": 8,
   "metadata": {},
   "outputs": [
    {
     "data": {
      "text/plain": [
       "USA                  163\n",
       "New York              71\n",
       "London                45\n",
       "Canada                29\n",
       "Nigeria               28\n",
       "UK                    27\n",
       "Los Angeles, CA       26\n",
       "India                 24\n",
       "Mumbai                22\n",
       "California, USA       21\n",
       "Washington, DC        21\n",
       "Kenya                 20\n",
       "Worldwide             19\n",
       "Chicago, IL           18\n",
       "Australia             18\n",
       "California            17\n",
       "New York, NY          15\n",
       "Everywhere            15\n",
       "United Kingdom        14\n",
       "San Francisco         14\n",
       "Florida               14\n",
       "Washington, D.C.      13\n",
       "Los Angeles           13\n",
       "Indonesia             13\n",
       "NYC                   12\n",
       "Toronto               12\n",
       "Ireland               12\n",
       "San Francisco, CA     11\n",
       "Earth                 11\n",
       "Seattle               11\n",
       "Chicago               11\n",
       "Sacramento, CA        10\n",
       "ss                    10\n",
       "London, UK            10\n",
       "London, England       10\n",
       "Atlanta, GA           10\n",
       "Texas                 10\n",
       "New York City         10\n",
       "304                    9\n",
       "Dallas, TX             9\n",
       "Name: location, dtype: int64"
      ]
     },
     "execution_count": 8,
     "metadata": {},
     "output_type": "execute_result"
    }
   ],
   "source": [
    "train['location'] = train['location'].str.replace('United States', 'USA', case=False)\n",
    "train['location'] = train['location'].replace('US', 'USA')\n",
    "train['location'].value_counts().head(40)"
   ]
  },
  {
   "cell_type": "code",
   "execution_count": 9,
   "metadata": {},
   "outputs": [
    {
     "data": {
      "text/plain": [
       "USA                  163\n",
       "New York             112\n",
       "Worldwide             57\n",
       "London                56\n",
       "Los Angeles           41\n",
       "UK                    41\n",
       "California            38\n",
       "Washington, DC        35\n",
       "Canada                29\n",
       "Nigeria               28\n",
       "India                 24\n",
       "Mumbai                22\n",
       "Kenya                 20\n",
       "Chicago, IL           18\n",
       "Australia             18\n",
       "Seattle               18\n",
       "San Francisco         14\n",
       "Florida               14\n",
       "Indonesia             13\n",
       "Ireland               12\n",
       "Toronto               12\n",
       "Chicago               11\n",
       "San Francisco, CA     11\n",
       "Atlanta, GA           10\n",
       "ss                    10\n",
       "Texas                 10\n",
       "Sacramento, CA        10\n",
       "London, England       10\n",
       "World                  9\n",
       "San Diego, CA          9\n",
       "Dallas, TX             9\n",
       "Devnver, CO            9\n",
       "Nashville, TN          9\n",
       "304                    9\n",
       "Manchester             9\n",
       "Houston, TX            8\n",
       "South Africa           8\n",
       "Scotland               8\n",
       "Memphis, TN            7\n",
       "Sydney                 7\n",
       "Name: location, dtype: int64"
      ]
     },
     "execution_count": 9,
     "metadata": {},
     "output_type": "execute_result"
    }
   ],
   "source": [
    "train['location'] = train['location'].str.replace('United Kingdom', 'UK', case=False)\n",
    "train['location'] = train['location'].str.replace('California, USA', 'California', case=False)\n",
    "train['location'] = train['location'].str.replace('New York, NY', 'New York', case=False)\n",
    "train['location'] = train['location'].str.replace('New York ,NY', 'New York', case=False)\n",
    "train['location'] = train['location'].str.replace('New York City', 'New York', case=False)\n",
    "train['location'] = train['location'].str.replace('NYC', 'New York', case=False)\n",
    "train['location'] = train['location'].str.replace('Washington, D.C.', 'Washington, DC', case=False)\n",
    "train['location'] = train['location'].str.replace('Los Angeles, CA', 'Los Angeles', case=False)\n",
    "train['location'] = train['location'].str.replace('London, UK', 'London', case=False)\n",
    "train['location'] = train['location'].replace('worldwide', 'Worldwide')\n",
    "train['location'] = train['location'].replace('Denver, Colorado', 'Devnver, CO')\n",
    "train['location'] = train['location'].replace('Seattle, WA', 'Seattle')\n",
    "train['location'] = train['location'].str.replace('Earth', 'Worldwide', case=False)\n",
    "train['location'] = train['location'].str.replace('Everywhere', 'Worldwide', case=False)\n",
    "train['location'].value_counts().head(40)"
   ]
  },
  {
   "cell_type": "code",
   "execution_count": 10,
   "metadata": {},
   "outputs": [
    {
     "data": {
      "text/plain": [
       "USA               163\n",
       "New York          112\n",
       "Worldwide          66\n",
       "London             66\n",
       "Los Angeles        41\n",
       "UK                 41\n",
       "California         38\n",
       "Washington, DC     35\n",
       "Chicago            30\n",
       "Canada             29\n",
       "Nigeria            28\n",
       "San Francisco      25\n",
       "India              24\n",
       "Mumbai             22\n",
       "Kenya              20\n",
       "Seattle            18\n",
       "Australia          18\n",
       "Florida            14\n",
       "Indonesia          13\n",
       "Toronto            12\n",
       "Ireland            12\n",
       "Sacramento, CA     10\n",
       "Atlanta, GA        10\n",
       "Texas              10\n",
       "ss                 10\n",
       "304                 9\n",
       "Dallas, TX          9\n",
       "San Diego, CA       9\n",
       "Devnver, CO         9\n",
       "Nashville, TN       9\n",
       "Name: location, dtype: int64"
      ]
     },
     "execution_count": 10,
     "metadata": {},
     "output_type": "execute_result"
    }
   ],
   "source": [
    "train['location'] = train['location'].str.replace('San Francisco, CA', 'San Francisco', case=False)\n",
    "train['location'] = train['location'].str.replace('London, England', 'London', case=False)\n",
    "train['location'] = train['location'].str.replace('Chicago, IL', 'Chicago', case=False)\n",
    "train['location'] = train['location'].replace('World', 'Worldwide')\n",
    "train['location'].value_counts().head(30)"
   ]
  },
  {
   "cell_type": "code",
   "execution_count": 11,
   "metadata": {},
   "outputs": [
    {
     "data": {
      "text/html": [
       "<div>\n",
       "<style scoped>\n",
       "    .dataframe tbody tr th:only-of-type {\n",
       "        vertical-align: middle;\n",
       "    }\n",
       "\n",
       "    .dataframe tbody tr th {\n",
       "        vertical-align: top;\n",
       "    }\n",
       "\n",
       "    .dataframe thead th {\n",
       "        text-align: right;\n",
       "    }\n",
       "</style>\n",
       "<table border=\"1\" class=\"dataframe\">\n",
       "  <thead>\n",
       "    <tr style=\"text-align: right;\">\n",
       "      <th></th>\n",
       "      <th>id</th>\n",
       "      <th>target</th>\n",
       "    </tr>\n",
       "  </thead>\n",
       "  <tbody>\n",
       "    <tr>\n",
       "      <th>count</th>\n",
       "      <td>7613.000000</td>\n",
       "      <td>7613.00000</td>\n",
       "    </tr>\n",
       "    <tr>\n",
       "      <th>mean</th>\n",
       "      <td>5441.934848</td>\n",
       "      <td>0.42966</td>\n",
       "    </tr>\n",
       "    <tr>\n",
       "      <th>std</th>\n",
       "      <td>3137.116090</td>\n",
       "      <td>0.49506</td>\n",
       "    </tr>\n",
       "    <tr>\n",
       "      <th>min</th>\n",
       "      <td>1.000000</td>\n",
       "      <td>0.00000</td>\n",
       "    </tr>\n",
       "    <tr>\n",
       "      <th>25%</th>\n",
       "      <td>2734.000000</td>\n",
       "      <td>0.00000</td>\n",
       "    </tr>\n",
       "    <tr>\n",
       "      <th>50%</th>\n",
       "      <td>5408.000000</td>\n",
       "      <td>0.00000</td>\n",
       "    </tr>\n",
       "    <tr>\n",
       "      <th>75%</th>\n",
       "      <td>8146.000000</td>\n",
       "      <td>1.00000</td>\n",
       "    </tr>\n",
       "    <tr>\n",
       "      <th>max</th>\n",
       "      <td>10873.000000</td>\n",
       "      <td>1.00000</td>\n",
       "    </tr>\n",
       "  </tbody>\n",
       "</table>\n",
       "</div>"
      ],
      "text/plain": [
       "                 id      target\n",
       "count   7613.000000  7613.00000\n",
       "mean    5441.934848     0.42966\n",
       "std     3137.116090     0.49506\n",
       "min        1.000000     0.00000\n",
       "25%     2734.000000     0.00000\n",
       "50%     5408.000000     0.00000\n",
       "75%     8146.000000     1.00000\n",
       "max    10873.000000     1.00000"
      ]
     },
     "execution_count": 11,
     "metadata": {},
     "output_type": "execute_result"
    }
   ],
   "source": [
    "train.describe()"
   ]
  },
  {
   "cell_type": "code",
   "execution_count": 12,
   "metadata": {},
   "outputs": [
    {
     "data": {
      "text/plain": [
       "count                                                  7613\n",
       "unique                                                 7503\n",
       "top       11-Year-Old Boy Charged With Manslaughter of T...\n",
       "freq                                                     10\n",
       "Name: text, dtype: object"
      ]
     },
     "execution_count": 12,
     "metadata": {},
     "output_type": "execute_result"
    }
   ],
   "source": [
    "train['text'].describe()"
   ]
  },
  {
   "cell_type": "code",
   "execution_count": 13,
   "metadata": {},
   "outputs": [
    {
     "name": "stdout",
     "output_type": "stream",
     "text": [
      "650\n",
      "1) 'Investigators say a Virgin Galactic spaceship crash was caused by structural failure after the co-pilot unlocked a braking system early'\n",
      "651\n",
      "1-6 TIX Calgary Flames vs COL Avalanche Preseason 9/29 Scotiabank Saddledome http://t.co/5G8qA6mPxm\n",
      "652\n",
      "1.3 #Earthquake in 9Km Ssw Of Anza California #iPhone users download the Earthquake app for more information http://t.co/V3aZWOAmzK\n",
      "653\n",
      "1.43 earthquake occurred near Mount St. Helens area Washington at 09:36 UTC! #earthquake http://t.co/2xMdiDGpnr\n",
      "654\n",
      "1.9 #Earthquake in 5Km S Of Volcano Hawaii #iPhone users download the Earthquake app for more information http://t.co/V3aZWOAmzK\n",
      "655\n",
      "1.9 earthquake occurred 15km E of Anchorage Alaska at 00:11 UTC! #earthquake #Anchorage http://t.co/QFyy5aZIFx\n",
      "656\n",
      "1.94 earthquake occurred 5km S of Volcano Hawaii at 01:04 UTC! #earthquake #Volcano http://t.co/auf4J4Owj1\n",
      "657\n",
      "1/2 of the deaths in red-light running crashes are pedestrians bicyclists &amp; other vehicle occupants that are hit by the red-light runners.\n",
      "658\n",
      "10 Ways To Survive and Escape Martial Law | World http://t.co/BiuEY7bUtS http://t.co/JWQYbe4ep1\n",
      "659\n",
      "10-Month-Old Baby Girl was Rescued by Coastguard after She Floated HALF A MILE Out to Sea! #socialnews http://t.co/kJUzJC6iGD\n",
      "660\n",
      "100  1' MIX NEW FLAT DOUBLE SIDED LINERLESS BOTTLE CAPS YOU CHOOSE MIX FLATTENED - Full reÛ_ http://t.co/w00kjPrfdR http://t.co/mIXl1pFRJe\n",
      "661\n",
      "100  1' MIX NEW FLAT DOUBLE SIDED LINERLESS BOTTLE CAPS YOU CHOOSE MIX FLATTENED - Full reÛ_ http://t.co/wRNpywyaLj http://t.co/Qv7IYdoVx9\n",
      "662\n",
      "10News ? Water main break disrupts trolley service http://t.co/pAug7a68i0\n",
      "663\n",
      "10th death confirmed in Legionnaires' outbreak in South Bronx; total cases reaches triple digits http://t.co/JtzefipdBo\n",
      "664\n",
      "11 puncture wounds\n",
      "665\n",
      "11 soldiers killed in ISIS suicide bomb in air base east Homs SYRIA NEWS | ZAMAN ALWSL  - http://t.co/V8juC5eK1A  #ISIS #Homs\n",
      "666\n",
      "11-Year-Old Boy Charged With Manslaughter of Toddler: Report: An 11-year-old boy has been charged with manslaughter over the fatal sh...\n",
      "667\n",
      "11-Year-Old Boy Charged With Manslaughter of Toddler: Report: An 11-year-old boy has been charged with manslaughter over the fatal sh...\n",
      "668\n",
      "11-Year-Old Boy Charged With Manslaughter of Toddler: Report: An 11-year-old boy has been charged with manslaughter over the fatal sh...\n",
      "669\n",
      "11-Year-Old Boy Charged With Manslaughter of Toddler: Report: An 11-year-old boy has been charged with manslaughter over the fatal sh...\n",
      "670\n",
      "11-Year-Old Boy Charged With Manslaughter of Toddler: Report: An 11-year-old boy has been charged with manslaughter over the fatal sh...\n",
      "671\n",
      "11-Year-Old Boy Charged With Manslaughter of Toddler: Report: An 11-year-old boy has been charged with manslaughter over the fatal sh...\n",
      "672\n",
      "11-Year-Old Boy Charged With Manslaughter of Toddler: Report: An 11-year-old boy has been charged with manslaughter over the fatal sh...\n",
      "673\n",
      "11-Year-Old Boy Charged With Manslaughter of Toddler: Report: An 11-year-old boy has been charged with manslaughter over the fatal sh...\n",
      "674\n",
      "11-Year-Old Boy Charged With Manslaughter of Toddler: Report: An 11-year-old boy has been charged with manslaughter over the fatal sh...\n",
      "675\n",
      "11-Year-Old Boy Charged With Manslaughter of Toddler: Report: An 11-year-old boy has been charged with manslaughter over the fatal sh...\n",
      "676\n",
      "11000 SEEDS 30 VEGETABLE FRUIT VARIETY GARDEN KIT EMERGENCY SURVIVAL GEAR MRE  - Full reaÛ_ http://t.co/DchfPXgY2m http://t.co/UgHpTzjuLK\n",
      "677\n",
      "11:30BST traffic: A10&gt;Paris A40 Geneva A7 Mons A1 Hamburg A2&gt;Hanover A5 Karlsruhe Gotthard n/b  http://t.co/yoi9tOCxiQ\n",
      "678\n",
      "11:30a Radar Update: Widespread Showers/Storms but moving over the same areas-minor flooding possible #HUNwx http://t.co/E3L1JqjH2u\n",
      "679\n",
      "12 Month Payday Short Catastrophe Loans - Promote Finance Your Desire lIQd\n",
      "680\n",
      "12' 72W CREE LED Work Light Bar Alloy Spot Flood Combo Diving Offroad 4WD Boat - Full readÛ_ http://t.co/MJMwA72ER6 http://t.co/ADx9iYi246\n",
      "681\n",
      "12' 72W CREE LED Work Light Bar Alloy Spot Flood Combo Diving Offroad 4WD Boat - Full readÛ_ http://t.co/XWN7rgVkzC http://t.co/SWPDQ84boI\n",
      "682\n",
      "13 reasons why we love women in the military   - lulgzimbestpicts http://t.co/IAPvTqxLht http://t.co/WAMKRe6CKD\n",
      "683\n",
      "13 reasons why we love women in the military   - lulgzimbestpicts http://t.co/N1tjCt8HMC http://t.co/pYTQM7rVP0\n",
      "684\n",
      "13 reasons why we love women in the military   - lulgzimbestpicts http://t.co/XKMLQ99SjY http://t.co/a3RGQuCUgo\n",
      "685\n",
      "13 reasons why we love women in the military   - lulgzimbestpicts http://t.co/uZ1yiZ7n6m http://t.co/IjwAr15H16\n",
      "686\n",
      "13 security personnel killed in Iraq suicide bombing | http://t.co/IbAZRHlSUr http://t.co/B6wWq2nYQI\n",
      "687\n",
      "13,000 people receive #wildfires evacuation orders in California \n",
      "688\n",
      "13000 evacuated as California firefighters fight flames to save homes. #RockyFire http://t.co/tB52o146tx http://t.co/tsbTiGDSDT\n",
      "689\n",
      "133 N past  the 5 L lane is reopened. All other lanes are closed. All lanes are open on the 133 S. Trash truck fire cleanup. @KNX1070\n",
      "690\n",
      "150-Foot Sinkhole Opens In Lowndes County Residential Area http://t.co/cBAxCuBA0h\n",
      "691\n",
      "150-Foot Sinkhole Opens in Lowndes County Residential Area\n",
      "WCTV-35 minutes ago\n",
      "692\n",
      "150-Foot Sinkhole Opens in Lowndes County Residential Area http://t.co/0YAxrJICRR\n",
      "693\n",
      "16 Stylishly Unique Houses That Might Help You Survive the Zombie Apocalypse | http://t.co/AU3DBCI7nf http://t.co/BOvJRF62T7\n",
      "694\n",
      "16 dead in Russia bus accident: At least 16 people were killed and 26 others injured when two buses collided i... http://t.co/jMBVPanXR3\n",
      "695\n",
      "16 dead in Russia bus accident: At least 16 people were killed and 26 others injured when two buses collided i... http://t.co/ybyP68ieVn\n",
      "696\n",
      "16yr old PKK suicide bomber who detonated bomb in Turkey Army trench released http://t.co/5orTB8p51c\n",
      "697\n",
      "16yr old PKK suicide bomber who detonated bomb in Turkey Army trench released http://t.co/mGZslZz1wF\n",
      "698\n",
      "16yr old PKK suicide bomber who detonated bomb in Turkey Army trench released http://t.co/mMkLapX2ok\n",
      "699\n",
      "16yr old PKK suicide bomber who detonated bomb in Turkey Army trench released http://t.co/n7Yst76ku3\n"
     ]
    }
   ],
   "source": [
    "ordenado_t = train.sort_values('text')\n",
    "ordenado_t\n",
    "i = 650\n",
    "while i < 700 :\n",
    "    print (i)\n",
    "    print (ordenado_t['text'].iloc[i])\n",
    "    i += 1"
   ]
  },
  {
   "cell_type": "code",
   "execution_count": 14,
   "metadata": {},
   "outputs": [
    {
     "data": {
      "text/plain": [
       "id                                                       5127\n",
       "keyword                                                 fatal\n",
       "location                                             Varanasi\n",
       "text        11-Year-Old Boy Charged With Manslaughter of T...\n",
       "target                                                      1\n",
       "Name: 3589, dtype: object"
      ]
     },
     "execution_count": 14,
     "metadata": {},
     "output_type": "execute_result"
    }
   ],
   "source": [
    "ordenado_t.iloc[666]"
   ]
  },
  {
   "cell_type": "code",
   "execution_count": 15,
   "metadata": {},
   "outputs": [
    {
     "data": {
      "text/html": [
       "<div>\n",
       "<style scoped>\n",
       "    .dataframe tbody tr th:only-of-type {\n",
       "        vertical-align: middle;\n",
       "    }\n",
       "\n",
       "    .dataframe tbody tr th {\n",
       "        vertical-align: top;\n",
       "    }\n",
       "\n",
       "    .dataframe thead th {\n",
       "        text-align: right;\n",
       "    }\n",
       "</style>\n",
       "<table border=\"1\" class=\"dataframe\">\n",
       "  <thead>\n",
       "    <tr style=\"text-align: right;\">\n",
       "      <th></th>\n",
       "      <th>id</th>\n",
       "      <th>keyword</th>\n",
       "      <th>location</th>\n",
       "      <th>text</th>\n",
       "      <th>target</th>\n",
       "    </tr>\n",
       "  </thead>\n",
       "  <tbody>\n",
       "    <tr>\n",
       "      <th>3609</th>\n",
       "      <td>5152</td>\n",
       "      <td>fatal</td>\n",
       "      <td>NaN</td>\n",
       "      <td>#news #crimes Police ID victim in fatal crash ...</td>\n",
       "      <td>1</td>\n",
       "    </tr>\n",
       "    <tr>\n",
       "      <th>3589</th>\n",
       "      <td>5127</td>\n",
       "      <td>fatal</td>\n",
       "      <td>Varanasi</td>\n",
       "      <td>11-Year-Old Boy Charged With Manslaughter of T...</td>\n",
       "      <td>1</td>\n",
       "    </tr>\n",
       "    <tr>\n",
       "      <th>3578</th>\n",
       "      <td>5113</td>\n",
       "      <td>fatal</td>\n",
       "      <td>NaN</td>\n",
       "      <td>11-Year-Old Boy Charged With Manslaughter of T...</td>\n",
       "      <td>1</td>\n",
       "    </tr>\n",
       "    <tr>\n",
       "      <th>3613</th>\n",
       "      <td>5157</td>\n",
       "      <td>fatal</td>\n",
       "      <td>NaN</td>\n",
       "      <td>11-Year-Old Boy Charged With Manslaughter of T...</td>\n",
       "      <td>1</td>\n",
       "    </tr>\n",
       "    <tr>\n",
       "      <th>3597</th>\n",
       "      <td>5137</td>\n",
       "      <td>fatal</td>\n",
       "      <td>NaN</td>\n",
       "      <td>11-Year-Old Boy Charged With Manslaughter of T...</td>\n",
       "      <td>1</td>\n",
       "    </tr>\n",
       "    <tr>\n",
       "      <th>3600</th>\n",
       "      <td>5140</td>\n",
       "      <td>fatal</td>\n",
       "      <td>NaN</td>\n",
       "      <td>11-Year-Old Boy Charged With Manslaughter of T...</td>\n",
       "      <td>1</td>\n",
       "    </tr>\n",
       "    <tr>\n",
       "      <th>3603</th>\n",
       "      <td>5144</td>\n",
       "      <td>fatal</td>\n",
       "      <td>NaN</td>\n",
       "      <td>11-Year-Old Boy Charged With Manslaughter of T...</td>\n",
       "      <td>1</td>\n",
       "    </tr>\n",
       "    <tr>\n",
       "      <th>3604</th>\n",
       "      <td>5145</td>\n",
       "      <td>fatal</td>\n",
       "      <td>Bangalore</td>\n",
       "      <td>11-Year-Old Boy Charged With Manslaughter of T...</td>\n",
       "      <td>1</td>\n",
       "    </tr>\n",
       "    <tr>\n",
       "      <th>3610</th>\n",
       "      <td>5153</td>\n",
       "      <td>fatal</td>\n",
       "      <td>Dimapur</td>\n",
       "      <td>11-Year-Old Boy Charged With Manslaughter of T...</td>\n",
       "      <td>1</td>\n",
       "    </tr>\n",
       "    <tr>\n",
       "      <th>3614</th>\n",
       "      <td>5159</td>\n",
       "      <td>fatal</td>\n",
       "      <td>NaN</td>\n",
       "      <td>11-Year-Old Boy Charged With Manslaughter of T...</td>\n",
       "      <td>1</td>\n",
       "    </tr>\n",
       "    <tr>\n",
       "      <th>3591</th>\n",
       "      <td>5130</td>\n",
       "      <td>fatal</td>\n",
       "      <td>Thane</td>\n",
       "      <td>11-Year-Old Boy Charged With Manslaughter of T...</td>\n",
       "      <td>1</td>\n",
       "    </tr>\n",
       "    <tr>\n",
       "      <th>3588</th>\n",
       "      <td>5126</td>\n",
       "      <td>fatal</td>\n",
       "      <td>Fresno, CA</td>\n",
       "      <td>@ChrisDanielShow Nearly-Fatal Pee in San Franc...</td>\n",
       "      <td>0</td>\n",
       "    </tr>\n",
       "  </tbody>\n",
       "</table>\n",
       "</div>"
      ],
      "text/plain": [
       "        id keyword    location  \\\n",
       "3609  5152   fatal         NaN   \n",
       "3589  5127   fatal    Varanasi   \n",
       "3578  5113   fatal         NaN   \n",
       "3613  5157   fatal         NaN   \n",
       "3597  5137   fatal         NaN   \n",
       "3600  5140   fatal         NaN   \n",
       "3603  5144   fatal         NaN   \n",
       "3604  5145   fatal   Bangalore   \n",
       "3610  5153   fatal     Dimapur   \n",
       "3614  5159   fatal         NaN   \n",
       "3591  5130   fatal       Thane   \n",
       "3588  5126   fatal  Fresno, CA   \n",
       "\n",
       "                                                   text  target  \n",
       "3609  #news #crimes Police ID victim in fatal crash ...       1  \n",
       "3589  11-Year-Old Boy Charged With Manslaughter of T...       1  \n",
       "3578  11-Year-Old Boy Charged With Manslaughter of T...       1  \n",
       "3613  11-Year-Old Boy Charged With Manslaughter of T...       1  \n",
       "3597  11-Year-Old Boy Charged With Manslaughter of T...       1  \n",
       "3600  11-Year-Old Boy Charged With Manslaughter of T...       1  \n",
       "3603  11-Year-Old Boy Charged With Manslaughter of T...       1  \n",
       "3604  11-Year-Old Boy Charged With Manslaughter of T...       1  \n",
       "3610  11-Year-Old Boy Charged With Manslaughter of T...       1  \n",
       "3614  11-Year-Old Boy Charged With Manslaughter of T...       1  \n",
       "3591  11-Year-Old Boy Charged With Manslaughter of T...       1  \n",
       "3588  @ChrisDanielShow Nearly-Fatal Pee in San Franc...       0  "
      ]
     },
     "execution_count": 15,
     "metadata": {},
     "output_type": "execute_result"
    }
   ],
   "source": [
    "top_keyword = ordenado_t[ordenado_t['keyword'] == 'fatal']\n",
    "top_keyword.head(12)"
   ]
  },
  {
   "cell_type": "code",
   "execution_count": 16,
   "metadata": {},
   "outputs": [
    {
     "data": {
      "text/plain": [
       "count           7552\n",
       "unique           221\n",
       "top       fatalities\n",
       "freq              45\n",
       "Name: keyword, dtype: object"
      ]
     },
     "execution_count": 16,
     "metadata": {},
     "output_type": "execute_result"
    }
   ],
   "source": [
    "train['keyword'].describe()"
   ]
  },
  {
   "cell_type": "code",
   "execution_count": 17,
   "metadata": {},
   "outputs": [
    {
     "data": {
      "text/html": [
       "<div>\n",
       "<style scoped>\n",
       "    .dataframe tbody tr th:only-of-type {\n",
       "        vertical-align: middle;\n",
       "    }\n",
       "\n",
       "    .dataframe tbody tr th {\n",
       "        vertical-align: top;\n",
       "    }\n",
       "\n",
       "    .dataframe thead th {\n",
       "        text-align: right;\n",
       "    }\n",
       "</style>\n",
       "<table border=\"1\" class=\"dataframe\">\n",
       "  <thead>\n",
       "    <tr style=\"text-align: right;\">\n",
       "      <th></th>\n",
       "      <th>id</th>\n",
       "      <th>keyword</th>\n",
       "      <th>location</th>\n",
       "      <th>text</th>\n",
       "      <th>target</th>\n",
       "    </tr>\n",
       "  </thead>\n",
       "  <tbody>\n",
       "    <tr>\n",
       "      <th>3616</th>\n",
       "      <td>5162</td>\n",
       "      <td>fatalities</td>\n",
       "      <td>NaN</td>\n",
       "      <td>EXCLUSIVE: In 179 fatalities involving on-duty...</td>\n",
       "      <td>1</td>\n",
       "    </tr>\n",
       "    <tr>\n",
       "      <th>3617</th>\n",
       "      <td>5164</td>\n",
       "      <td>fatalities</td>\n",
       "      <td>New York</td>\n",
       "      <td>#NYC #News Legionnaires death toll rises to 8 ...</td>\n",
       "      <td>1</td>\n",
       "    </tr>\n",
       "    <tr>\n",
       "      <th>3618</th>\n",
       "      <td>5165</td>\n",
       "      <td>fatalities</td>\n",
       "      <td>New York ,NY</td>\n",
       "      <td>Let's fraction the vital need for Our fataliti...</td>\n",
       "      <td>0</td>\n",
       "    </tr>\n",
       "    <tr>\n",
       "      <th>3619</th>\n",
       "      <td>5166</td>\n",
       "      <td>fatalities</td>\n",
       "      <td>NaN</td>\n",
       "      <td>Las Vegas in top 5 cities for red-light runnin...</td>\n",
       "      <td>0</td>\n",
       "    </tr>\n",
       "    <tr>\n",
       "      <th>3620</th>\n",
       "      <td>5168</td>\n",
       "      <td>fatalities</td>\n",
       "      <td>Corpus Christi, Texas</td>\n",
       "      <td>We are totally unprepared for an EMP attack. B...</td>\n",
       "      <td>1</td>\n",
       "    </tr>\n",
       "    <tr>\n",
       "      <th>3621</th>\n",
       "      <td>5169</td>\n",
       "      <td>fatalities</td>\n",
       "      <td>Cape Town</td>\n",
       "      <td>City implores motorists not to speed after mor...</td>\n",
       "      <td>1</td>\n",
       "    </tr>\n",
       "    <tr>\n",
       "      <th>3622</th>\n",
       "      <td>5170</td>\n",
       "      <td>fatalities</td>\n",
       "      <td>NaN</td>\n",
       "      <td>@kyrikoni @ExpressandStar Who said veg and fru...</td>\n",
       "      <td>0</td>\n",
       "    </tr>\n",
       "    <tr>\n",
       "      <th>3623</th>\n",
       "      <td>5171</td>\n",
       "      <td>fatalities</td>\n",
       "      <td>Wolverhampton/Brum/Jersey</td>\n",
       "      <td>Understand that there are no fatalities as no ...</td>\n",
       "      <td>1</td>\n",
       "    </tr>\n",
       "    <tr>\n",
       "      <th>3624</th>\n",
       "      <td>5172</td>\n",
       "      <td>fatalities</td>\n",
       "      <td>Chamblee, Georgia</td>\n",
       "      <td>As of the 6-month mark there were a total of 6...</td>\n",
       "      <td>1</td>\n",
       "    </tr>\n",
       "    <tr>\n",
       "      <th>3625</th>\n",
       "      <td>5174</td>\n",
       "      <td>fatalities</td>\n",
       "      <td>Official Website</td>\n",
       "      <td>#HSE releases annual workplace facilities data...</td>\n",
       "      <td>0</td>\n",
       "    </tr>\n",
       "    <tr>\n",
       "      <th>3626</th>\n",
       "      <td>5175</td>\n",
       "      <td>fatalities</td>\n",
       "      <td>#WashingtonState #Seattle</td>\n",
       "      <td>#Seattle's deadliest red light runner intersec...</td>\n",
       "      <td>1</td>\n",
       "    </tr>\n",
       "    <tr>\n",
       "      <th>3627</th>\n",
       "      <td>5176</td>\n",
       "      <td>fatalities</td>\n",
       "      <td>TechFish</td>\n",
       "      <td>5 Rejected Mortal Kombat Fatalities: Mortal Ko...</td>\n",
       "      <td>0</td>\n",
       "    </tr>\n",
       "    <tr>\n",
       "      <th>3628</th>\n",
       "      <td>5177</td>\n",
       "      <td>fatalities</td>\n",
       "      <td>Washington, DC &amp; Charlotte, NC</td>\n",
       "      <td>@unsuckdcmetro minor train leaves rails. Major...</td>\n",
       "      <td>1</td>\n",
       "    </tr>\n",
       "    <tr>\n",
       "      <th>3629</th>\n",
       "      <td>5178</td>\n",
       "      <td>fatalities</td>\n",
       "      <td>NaN</td>\n",
       "      <td>Injuries Illnesses and Fatalities Latest Numbe...</td>\n",
       "      <td>1</td>\n",
       "    </tr>\n",
       "    <tr>\n",
       "      <th>3630</th>\n",
       "      <td>5179</td>\n",
       "      <td>fatalities</td>\n",
       "      <td>USA where it's warm</td>\n",
       "      <td>http://t.co/JwIv6WYW6F Osage Beach releases name</td>\n",
       "      <td>0</td>\n",
       "    </tr>\n",
       "    <tr>\n",
       "      <th>3631</th>\n",
       "      <td>5180</td>\n",
       "      <td>fatalities</td>\n",
       "      <td>NaN</td>\n",
       "      <td>I wonder how Cool/Weird It'll look to have all...</td>\n",
       "      <td>0</td>\n",
       "    </tr>\n",
       "    <tr>\n",
       "      <th>3632</th>\n",
       "      <td>5181</td>\n",
       "      <td>fatalities</td>\n",
       "      <td>Washington, DC</td>\n",
       "      <td>#Saudi Arabia: #Abha: Fatalities reported foll...</td>\n",
       "      <td>1</td>\n",
       "    </tr>\n",
       "    <tr>\n",
       "      <th>3633</th>\n",
       "      <td>5182</td>\n",
       "      <td>fatalities</td>\n",
       "      <td>Hope Road, Jamaica</td>\n",
       "      <td>'Use our roads wisely and prevent the carnage ...</td>\n",
       "      <td>0</td>\n",
       "    </tr>\n",
       "    <tr>\n",
       "      <th>3634</th>\n",
       "      <td>5183</td>\n",
       "      <td>fatalities</td>\n",
       "      <td>jersey</td>\n",
       "      <td>mortal kombat fatalities are so gross but inte...</td>\n",
       "      <td>0</td>\n",
       "    </tr>\n",
       "    <tr>\n",
       "      <th>3635</th>\n",
       "      <td>5184</td>\n",
       "      <td>fatalities</td>\n",
       "      <td>NaN</td>\n",
       "      <td>The X-rays in MKX be looking like fatalities.</td>\n",
       "      <td>0</td>\n",
       "    </tr>\n",
       "    <tr>\n",
       "      <th>3636</th>\n",
       "      <td>5185</td>\n",
       "      <td>fatalities</td>\n",
       "      <td>WestEnd, Puritan Ave</td>\n",
       "      <td>@dwilliams313  RT @Ieansquad: When you donÛªt...</td>\n",
       "      <td>0</td>\n",
       "    </tr>\n",
       "    <tr>\n",
       "      <th>3637</th>\n",
       "      <td>5186</td>\n",
       "      <td>fatalities</td>\n",
       "      <td>NaN</td>\n",
       "      <td>-??-\\n; kitana\\n? her fatalities slay me\\nÛÓk...</td>\n",
       "      <td>1</td>\n",
       "    </tr>\n",
       "    <tr>\n",
       "      <th>3638</th>\n",
       "      <td>5187</td>\n",
       "      <td>fatalities</td>\n",
       "      <td>Youngstown, OH</td>\n",
       "      <td>OSP concerned about mounting fatalities http:/...</td>\n",
       "      <td>1</td>\n",
       "    </tr>\n",
       "    <tr>\n",
       "      <th>3639</th>\n",
       "      <td>5188</td>\n",
       "      <td>fatalities</td>\n",
       "      <td>NaN</td>\n",
       "      <td>Mortal Kombat X: All Fatalities On Meat Predat...</td>\n",
       "      <td>0</td>\n",
       "    </tr>\n",
       "    <tr>\n",
       "      <th>3640</th>\n",
       "      <td>5189</td>\n",
       "      <td>fatalities</td>\n",
       "      <td>Nantes, France</td>\n",
       "      <td>Estimated damage and fatalities of an Hiroshim...</td>\n",
       "      <td>1</td>\n",
       "    </tr>\n",
       "    <tr>\n",
       "      <th>3641</th>\n",
       "      <td>5190</td>\n",
       "      <td>fatalities</td>\n",
       "      <td>St. John's, NL, Canada</td>\n",
       "      <td>The RCMP are reporting fatalities and serious ...</td>\n",
       "      <td>1</td>\n",
       "    </tr>\n",
       "    <tr>\n",
       "      <th>3642</th>\n",
       "      <td>5191</td>\n",
       "      <td>fatalities</td>\n",
       "      <td>Caserta-Roma, Italy</td>\n",
       "      <td>Govt allocating 1.3 bn for flood action: Issue...</td>\n",
       "      <td>1</td>\n",
       "    </tr>\n",
       "    <tr>\n",
       "      <th>3643</th>\n",
       "      <td>5192</td>\n",
       "      <td>fatalities</td>\n",
       "      <td>Pekanbaruå¡Batam Islandå¡Medan</td>\n",
       "      <td>There have been zero spider bite-related fatal...</td>\n",
       "      <td>0</td>\n",
       "    </tr>\n",
       "    <tr>\n",
       "      <th>3644</th>\n",
       "      <td>5193</td>\n",
       "      <td>fatalities</td>\n",
       "      <td>oman muscat al seeb</td>\n",
       "      <td>I liked a @YouTube video http://t.co/43sXG9Z6x...</td>\n",
       "      <td>1</td>\n",
       "    </tr>\n",
       "    <tr>\n",
       "      <th>3645</th>\n",
       "      <td>5194</td>\n",
       "      <td>fatalities</td>\n",
       "      <td>San Francisco</td>\n",
       "      <td>'Motordom' lobbied to change our language arou...</td>\n",
       "      <td>0</td>\n",
       "    </tr>\n",
       "    <tr>\n",
       "      <th>3646</th>\n",
       "      <td>5195</td>\n",
       "      <td>fatalities</td>\n",
       "      <td>Wisconsin</td>\n",
       "      <td>Sharing to help our cousin's family http://t.c...</td>\n",
       "      <td>0</td>\n",
       "    </tr>\n",
       "    <tr>\n",
       "      <th>3647</th>\n",
       "      <td>5196</td>\n",
       "      <td>fatalities</td>\n",
       "      <td>NaN</td>\n",
       "      <td>'Among other main factors behind pedestrian fa...</td>\n",
       "      <td>1</td>\n",
       "    </tr>\n",
       "    <tr>\n",
       "      <th>3648</th>\n",
       "      <td>5197</td>\n",
       "      <td>fatalities</td>\n",
       "      <td>Jogja, Indonesia Slowly Asia</td>\n",
       "      <td>Mortal Kombat X is an excellent fatalities and...</td>\n",
       "      <td>0</td>\n",
       "    </tr>\n",
       "    <tr>\n",
       "      <th>3649</th>\n",
       "      <td>5198</td>\n",
       "      <td>fatalities</td>\n",
       "      <td>Vancouver BC</td>\n",
       "      <td>Uber reduces drunk driving fatalities says ind...</td>\n",
       "      <td>0</td>\n",
       "    </tr>\n",
       "    <tr>\n",
       "      <th>3650</th>\n",
       "      <td>5199</td>\n",
       "      <td>fatalities</td>\n",
       "      <td>NaN</td>\n",
       "      <td>I liked a @YouTube video from @kevinedwardsjr ...</td>\n",
       "      <td>0</td>\n",
       "    </tr>\n",
       "    <tr>\n",
       "      <th>3651</th>\n",
       "      <td>5200</td>\n",
       "      <td>fatalities</td>\n",
       "      <td>USA</td>\n",
       "      <td>Las Vegas in top 5 cities for red-light runnin...</td>\n",
       "      <td>1</td>\n",
       "    </tr>\n",
       "    <tr>\n",
       "      <th>3652</th>\n",
       "      <td>5201</td>\n",
       "      <td>fatalities</td>\n",
       "      <td>NaN</td>\n",
       "      <td>RCMP confirm fatalities in two-vehicle crash: ...</td>\n",
       "      <td>1</td>\n",
       "    </tr>\n",
       "    <tr>\n",
       "      <th>3653</th>\n",
       "      <td>5202</td>\n",
       "      <td>fatalities</td>\n",
       "      <td>Avon, OH</td>\n",
       "      <td>...American casualties including 400000ÛÒ8000...</td>\n",
       "      <td>1</td>\n",
       "    </tr>\n",
       "    <tr>\n",
       "      <th>3654</th>\n",
       "      <td>5203</td>\n",
       "      <td>fatalities</td>\n",
       "      <td>NaN</td>\n",
       "      <td>No UK train accident fatalities for 8th year r...</td>\n",
       "      <td>1</td>\n",
       "    </tr>\n",
       "    <tr>\n",
       "      <th>3655</th>\n",
       "      <td>5204</td>\n",
       "      <td>fatalities</td>\n",
       "      <td>The North</td>\n",
       "      <td>I fail to see how that would not bring the num...</td>\n",
       "      <td>0</td>\n",
       "    </tr>\n",
       "    <tr>\n",
       "      <th>3656</th>\n",
       "      <td>5206</td>\n",
       "      <td>fatalities</td>\n",
       "      <td>Philadelphia, PA</td>\n",
       "      <td>PolicyLab is at @CECANF's last public hearing ...</td>\n",
       "      <td>1</td>\n",
       "    </tr>\n",
       "    <tr>\n",
       "      <th>3657</th>\n",
       "      <td>5207</td>\n",
       "      <td>fatalities</td>\n",
       "      <td>Just Happy to Be Anywhere</td>\n",
       "      <td>.@KurtSchlichter Yep considering that *million...</td>\n",
       "      <td>1</td>\n",
       "    </tr>\n",
       "    <tr>\n",
       "      <th>3658</th>\n",
       "      <td>5208</td>\n",
       "      <td>fatalities</td>\n",
       "      <td>NaN</td>\n",
       "      <td>#Shipping #Logistics eNCA | Fatalities as migr...</td>\n",
       "      <td>1</td>\n",
       "    </tr>\n",
       "    <tr>\n",
       "      <th>3659</th>\n",
       "      <td>5209</td>\n",
       "      <td>fatalities</td>\n",
       "      <td>Lima, Ohio</td>\n",
       "      <td>Message boards will display updated traffic fa...</td>\n",
       "      <td>1</td>\n",
       "    </tr>\n",
       "    <tr>\n",
       "      <th>3660</th>\n",
       "      <td>5210</td>\n",
       "      <td>fatalities</td>\n",
       "      <td>Ireland</td>\n",
       "      <td>Driver fatalities down on Irish roads but pede...</td>\n",
       "      <td>1</td>\n",
       "    </tr>\n",
       "  </tbody>\n",
       "</table>\n",
       "</div>"
      ],
      "text/plain": [
       "        id     keyword                        location  \\\n",
       "3616  5162  fatalities                             NaN   \n",
       "3617  5164  fatalities                        New York   \n",
       "3618  5165  fatalities                    New York ,NY   \n",
       "3619  5166  fatalities                             NaN   \n",
       "3620  5168  fatalities           Corpus Christi, Texas   \n",
       "3621  5169  fatalities                       Cape Town   \n",
       "3622  5170  fatalities                             NaN   \n",
       "3623  5171  fatalities       Wolverhampton/Brum/Jersey   \n",
       "3624  5172  fatalities               Chamblee, Georgia   \n",
       "3625  5174  fatalities                Official Website   \n",
       "3626  5175  fatalities       #WashingtonState #Seattle   \n",
       "3627  5176  fatalities                       TechFish    \n",
       "3628  5177  fatalities  Washington, DC & Charlotte, NC   \n",
       "3629  5178  fatalities                             NaN   \n",
       "3630  5179  fatalities             USA where it's warm   \n",
       "3631  5180  fatalities                             NaN   \n",
       "3632  5181  fatalities                  Washington, DC   \n",
       "3633  5182  fatalities             Hope Road, Jamaica    \n",
       "3634  5183  fatalities                         jersey    \n",
       "3635  5184  fatalities                             NaN   \n",
       "3636  5185  fatalities           WestEnd, Puritan Ave    \n",
       "3637  5186  fatalities                             NaN   \n",
       "3638  5187  fatalities                  Youngstown, OH   \n",
       "3639  5188  fatalities                             NaN   \n",
       "3640  5189  fatalities                  Nantes, France   \n",
       "3641  5190  fatalities          St. John's, NL, Canada   \n",
       "3642  5191  fatalities            Caserta-Roma, Italy    \n",
       "3643  5192  fatalities  Pekanbaruå¡Batam Islandå¡Medan   \n",
       "3644  5193  fatalities            oman muscat al seeb    \n",
       "3645  5194  fatalities                   San Francisco   \n",
       "3646  5195  fatalities                       Wisconsin   \n",
       "3647  5196  fatalities                             NaN   \n",
       "3648  5197  fatalities    Jogja, Indonesia Slowly Asia   \n",
       "3649  5198  fatalities                    Vancouver BC   \n",
       "3650  5199  fatalities                             NaN   \n",
       "3651  5200  fatalities                             USA   \n",
       "3652  5201  fatalities                             NaN   \n",
       "3653  5202  fatalities                        Avon, OH   \n",
       "3654  5203  fatalities                             NaN   \n",
       "3655  5204  fatalities                       The North   \n",
       "3656  5206  fatalities                Philadelphia, PA   \n",
       "3657  5207  fatalities       Just Happy to Be Anywhere   \n",
       "3658  5208  fatalities                             NaN   \n",
       "3659  5209  fatalities                      Lima, Ohio   \n",
       "3660  5210  fatalities                         Ireland   \n",
       "\n",
       "                                                   text  target  \n",
       "3616  EXCLUSIVE: In 179 fatalities involving on-duty...       1  \n",
       "3617  #NYC #News Legionnaires death toll rises to 8 ...       1  \n",
       "3618  Let's fraction the vital need for Our fataliti...       0  \n",
       "3619  Las Vegas in top 5 cities for red-light runnin...       0  \n",
       "3620  We are totally unprepared for an EMP attack. B...       1  \n",
       "3621  City implores motorists not to speed after mor...       1  \n",
       "3622  @kyrikoni @ExpressandStar Who said veg and fru...       0  \n",
       "3623  Understand that there are no fatalities as no ...       1  \n",
       "3624  As of the 6-month mark there were a total of 6...       1  \n",
       "3625  #HSE releases annual workplace facilities data...       0  \n",
       "3626  #Seattle's deadliest red light runner intersec...       1  \n",
       "3627  5 Rejected Mortal Kombat Fatalities: Mortal Ko...       0  \n",
       "3628  @unsuckdcmetro minor train leaves rails. Major...       1  \n",
       "3629  Injuries Illnesses and Fatalities Latest Numbe...       1  \n",
       "3630   http://t.co/JwIv6WYW6F Osage Beach releases name       0  \n",
       "3631  I wonder how Cool/Weird It'll look to have all...       0  \n",
       "3632  #Saudi Arabia: #Abha: Fatalities reported foll...       1  \n",
       "3633  'Use our roads wisely and prevent the carnage ...       0  \n",
       "3634  mortal kombat fatalities are so gross but inte...       0  \n",
       "3635      The X-rays in MKX be looking like fatalities.       0  \n",
       "3636  @dwilliams313  RT @Ieansquad: When you donÛªt...       0  \n",
       "3637  -??-\\n; kitana\\n? her fatalities slay me\\nÛÓk...       1  \n",
       "3638  OSP concerned about mounting fatalities http:/...       1  \n",
       "3639  Mortal Kombat X: All Fatalities On Meat Predat...       0  \n",
       "3640  Estimated damage and fatalities of an Hiroshim...       1  \n",
       "3641  The RCMP are reporting fatalities and serious ...       1  \n",
       "3642  Govt allocating 1.3 bn for flood action: Issue...       1  \n",
       "3643  There have been zero spider bite-related fatal...       0  \n",
       "3644  I liked a @YouTube video http://t.co/43sXG9Z6x...       1  \n",
       "3645  'Motordom' lobbied to change our language arou...       0  \n",
       "3646  Sharing to help our cousin's family http://t.c...       0  \n",
       "3647  'Among other main factors behind pedestrian fa...       1  \n",
       "3648  Mortal Kombat X is an excellent fatalities and...       0  \n",
       "3649  Uber reduces drunk driving fatalities says ind...       0  \n",
       "3650  I liked a @YouTube video from @kevinedwardsjr ...       0  \n",
       "3651  Las Vegas in top 5 cities for red-light runnin...       1  \n",
       "3652  RCMP confirm fatalities in two-vehicle crash: ...       1  \n",
       "3653  ...American casualties including 400000ÛÒ8000...       1  \n",
       "3654  No UK train accident fatalities for 8th year r...       1  \n",
       "3655  I fail to see how that would not bring the num...       0  \n",
       "3656  PolicyLab is at @CECANF's last public hearing ...       1  \n",
       "3657  .@KurtSchlichter Yep considering that *million...       1  \n",
       "3658  #Shipping #Logistics eNCA | Fatalities as migr...       1  \n",
       "3659  Message boards will display updated traffic fa...       1  \n",
       "3660  Driver fatalities down on Irish roads but pede...       1  "
      ]
     },
     "execution_count": 17,
     "metadata": {},
     "output_type": "execute_result"
    }
   ],
   "source": [
    "top_keyword = train[train['keyword'] == 'fatalities']\n",
    "top_keyword"
   ]
  },
  {
   "cell_type": "markdown",
   "metadata": {},
   "source": [
    "## Correlaciones"
   ]
  },
  {
   "cell_type": "markdown",
   "metadata": {},
   "source": [
    "### Buscamos alguna relación entre el largo de los Tweets y con su veracidad"
   ]
  },
  {
   "cell_type": "code",
   "execution_count": 18,
   "metadata": {},
   "outputs": [
    {
     "data": {
      "text/html": [
       "<div>\n",
       "<style scoped>\n",
       "    .dataframe tbody tr th:only-of-type {\n",
       "        vertical-align: middle;\n",
       "    }\n",
       "\n",
       "    .dataframe tbody tr th {\n",
       "        vertical-align: top;\n",
       "    }\n",
       "\n",
       "    .dataframe thead th {\n",
       "        text-align: right;\n",
       "    }\n",
       "</style>\n",
       "<table border=\"1\" class=\"dataframe\">\n",
       "  <thead>\n",
       "    <tr style=\"text-align: right;\">\n",
       "      <th></th>\n",
       "      <th>id</th>\n",
       "      <th>keyword</th>\n",
       "      <th>location</th>\n",
       "      <th>text</th>\n",
       "      <th>len_text</th>\n",
       "      <th>target</th>\n",
       "    </tr>\n",
       "  </thead>\n",
       "  <tbody>\n",
       "    <tr>\n",
       "      <th>0</th>\n",
       "      <td>1</td>\n",
       "      <td>NaN</td>\n",
       "      <td>NaN</td>\n",
       "      <td>Our Deeds are the Reason of this #earthquake M...</td>\n",
       "      <td>69</td>\n",
       "      <td>1</td>\n",
       "    </tr>\n",
       "    <tr>\n",
       "      <th>1</th>\n",
       "      <td>4</td>\n",
       "      <td>NaN</td>\n",
       "      <td>NaN</td>\n",
       "      <td>Forest fire near La Ronge Sask. Canada</td>\n",
       "      <td>38</td>\n",
       "      <td>1</td>\n",
       "    </tr>\n",
       "    <tr>\n",
       "      <th>2</th>\n",
       "      <td>5</td>\n",
       "      <td>NaN</td>\n",
       "      <td>NaN</td>\n",
       "      <td>All residents asked to 'shelter in place' are ...</td>\n",
       "      <td>133</td>\n",
       "      <td>1</td>\n",
       "    </tr>\n",
       "    <tr>\n",
       "      <th>3</th>\n",
       "      <td>6</td>\n",
       "      <td>NaN</td>\n",
       "      <td>NaN</td>\n",
       "      <td>13,000 people receive #wildfires evacuation or...</td>\n",
       "      <td>65</td>\n",
       "      <td>1</td>\n",
       "    </tr>\n",
       "    <tr>\n",
       "      <th>4</th>\n",
       "      <td>7</td>\n",
       "      <td>NaN</td>\n",
       "      <td>NaN</td>\n",
       "      <td>Just got sent this photo from Ruby #Alaska as ...</td>\n",
       "      <td>88</td>\n",
       "      <td>1</td>\n",
       "    </tr>\n",
       "  </tbody>\n",
       "</table>\n",
       "</div>"
      ],
      "text/plain": [
       "   id keyword location                                               text  \\\n",
       "0   1     NaN      NaN  Our Deeds are the Reason of this #earthquake M...   \n",
       "1   4     NaN      NaN             Forest fire near La Ronge Sask. Canada   \n",
       "2   5     NaN      NaN  All residents asked to 'shelter in place' are ...   \n",
       "3   6     NaN      NaN  13,000 people receive #wildfires evacuation or...   \n",
       "4   7     NaN      NaN  Just got sent this photo from Ruby #Alaska as ...   \n",
       "\n",
       "   len_text  target  \n",
       "0        69       1  \n",
       "1        38       1  \n",
       "2       133       1  \n",
       "3        65       1  \n",
       "4        88       1  "
      ]
     },
     "execution_count": 18,
     "metadata": {},
     "output_type": "execute_result"
    }
   ],
   "source": [
    "pos_col_text = train.columns.get_loc('text')+1\n",
    "train.insert(loc=pos_col_text, column='len_text', value=train['text'].iloc[:].str.len())\n",
    "train.head(5)"
   ]
  },
  {
   "cell_type": "code",
   "execution_count": 19,
   "metadata": {},
   "outputs": [
    {
     "data": {
      "text/plain": [
       "count    7613.000000\n",
       "mean      101.037436\n",
       "std        33.781325\n",
       "min         7.000000\n",
       "25%        78.000000\n",
       "50%       107.000000\n",
       "75%       133.000000\n",
       "max       157.000000\n",
       "Name: len_text, dtype: float64"
      ]
     },
     "execution_count": 19,
     "metadata": {},
     "output_type": "execute_result"
    }
   ],
   "source": [
    "train['len_text'].describe()"
   ]
  },
  {
   "cell_type": "code",
   "execution_count": 20,
   "metadata": {},
   "outputs": [
    {
     "data": {
      "text/plain": [
       "0    4342\n",
       "1    3271\n",
       "Name: target, dtype: int64"
      ]
     },
     "execution_count": 20,
     "metadata": {},
     "output_type": "execute_result"
    }
   ],
   "source": [
    "train['target'].value_counts()"
   ]
  },
  {
   "cell_type": "markdown",
   "metadata": {},
   "source": [
    "### Plot"
   ]
  },
  {
   "cell_type": "code",
   "execution_count": 21,
   "metadata": {},
   "outputs": [
    {
     "data": {
      "text/plain": [
       "Text(0, 0.5, 'Cantidad')"
      ]
     },
     "execution_count": 21,
     "metadata": {},
     "output_type": "execute_result"
    },
    {
     "data": {
      "image/png": "[encoded data removed]",
      "text/plain": [
       "<Figure size 432x288 with 1 Axes>"
      ]
     },
     "metadata": {
      "needs_background": "light"
     },
     "output_type": "display_data"
    }
   ],
   "source": [
    "g1 = sb.distplot(train[train['target'] == 1]['len_text'], color=\"blue\", label='len_text in target true', hist=False)\n",
    "g1 = sb.distplot(train[train['target'] == 0]['len_text'], color=\"red\", label='len_text in target false', hist=False)\n",
    "g1.set_title(\"Distribucion de longitud por target\", fontsize=18)\n",
    "g1.set_ylabel(\"Cantidad\", fontsize=18)"
   ]
  },
  {
   "cell_type": "code",
   "execution_count": 22,
   "metadata": {},
   "outputs": [
    {
     "data": {
      "text/plain": [
       "1    26\n",
       "0    19\n",
       "Name: target, dtype: int64"
      ]
     },
     "execution_count": 22,
     "metadata": {},
     "output_type": "execute_result"
    }
   ],
   "source": [
    "top_keyword['target'].value_counts()"
   ]
  },
  {
   "cell_type": "code",
   "execution_count": 23,
   "metadata": {},
   "outputs": [
    {
     "data": {
      "text/plain": [
       "Chamblee, Georgia                 1\n",
       "WestEnd, Puritan Ave              1\n",
       "Avon, OH                          1\n",
       "Lima, Ohio                        1\n",
       "New York ,NY                      1\n",
       "Hope Road, Jamaica                1\n",
       "Corpus Christi, Texas             1\n",
       "USA                               1\n",
       "Cape Town                         1\n",
       "jersey                            1\n",
       "Official Website                  1\n",
       "USA where it's warm               1\n",
       "Caserta-Roma, Italy               1\n",
       "The North                         1\n",
       "Washington, DC                    1\n",
       "Jogja, Indonesia Slowly Asia      1\n",
       "San Francisco                     1\n",
       "Nantes, France                    1\n",
       "Philadelphia, PA                  1\n",
       "Washington, DC & Charlotte, NC    1\n",
       "Pekanbaruå¡Batam Islandå¡Medan    1\n",
       "#WashingtonState #Seattle         1\n",
       "Ireland                           1\n",
       "oman muscat al seeb               1\n",
       "Just Happy to Be Anywhere         1\n",
       "Youngstown, OH                    1\n",
       "Wisconsin                         1\n",
       "TechFish                          1\n",
       "Wolverhampton/Brum/Jersey         1\n",
       "Vancouver BC                      1\n",
       "St. John's, NL, Canada            1\n",
       "New York                          1\n",
       "Name: location, dtype: int64"
      ]
     },
     "execution_count": 23,
     "metadata": {},
     "output_type": "execute_result"
    }
   ],
   "source": [
    "top_keyword['location'].value_counts()"
   ]
  },
  {
   "cell_type": "markdown",
   "metadata": {},
   "source": [
    "### Buscamos relacion entre la zona y la veracidad"
   ]
  },
  {
   "cell_type": "code",
   "execution_count": 24,
   "metadata": {},
   "outputs": [
    {
     "data": {
      "text/html": [
       "<div>\n",
       "<style scoped>\n",
       "    .dataframe tbody tr th:only-of-type {\n",
       "        vertical-align: middle;\n",
       "    }\n",
       "\n",
       "    .dataframe tbody tr th {\n",
       "        vertical-align: top;\n",
       "    }\n",
       "\n",
       "    .dataframe thead th {\n",
       "        text-align: right;\n",
       "    }\n",
       "</style>\n",
       "<table border=\"1\" class=\"dataframe\">\n",
       "  <thead>\n",
       "    <tr style=\"text-align: right;\">\n",
       "      <th></th>\n",
       "      <th>id</th>\n",
       "      <th>keyword</th>\n",
       "      <th>location</th>\n",
       "      <th>text</th>\n",
       "      <th>len_text</th>\n",
       "      <th>target</th>\n",
       "    </tr>\n",
       "  </thead>\n",
       "  <tbody>\n",
       "    <tr>\n",
       "      <th>0</th>\n",
       "      <td>1</td>\n",
       "      <td>NaN</td>\n",
       "      <td>NaN</td>\n",
       "      <td>Our Deeds are the Reason of this #earthquake M...</td>\n",
       "      <td>69</td>\n",
       "      <td>1</td>\n",
       "    </tr>\n",
       "    <tr>\n",
       "      <th>1</th>\n",
       "      <td>4</td>\n",
       "      <td>NaN</td>\n",
       "      <td>NaN</td>\n",
       "      <td>Forest fire near La Ronge Sask. Canada</td>\n",
       "      <td>38</td>\n",
       "      <td>1</td>\n",
       "    </tr>\n",
       "    <tr>\n",
       "      <th>2</th>\n",
       "      <td>5</td>\n",
       "      <td>NaN</td>\n",
       "      <td>NaN</td>\n",
       "      <td>All residents asked to 'shelter in place' are ...</td>\n",
       "      <td>133</td>\n",
       "      <td>1</td>\n",
       "    </tr>\n",
       "    <tr>\n",
       "      <th>3</th>\n",
       "      <td>6</td>\n",
       "      <td>NaN</td>\n",
       "      <td>NaN</td>\n",
       "      <td>13,000 people receive #wildfires evacuation or...</td>\n",
       "      <td>65</td>\n",
       "      <td>1</td>\n",
       "    </tr>\n",
       "    <tr>\n",
       "      <th>4</th>\n",
       "      <td>7</td>\n",
       "      <td>NaN</td>\n",
       "      <td>NaN</td>\n",
       "      <td>Just got sent this photo from Ruby #Alaska as ...</td>\n",
       "      <td>88</td>\n",
       "      <td>1</td>\n",
       "    </tr>\n",
       "    <tr>\n",
       "      <th>...</th>\n",
       "      <td>...</td>\n",
       "      <td>...</td>\n",
       "      <td>...</td>\n",
       "      <td>...</td>\n",
       "      <td>...</td>\n",
       "      <td>...</td>\n",
       "    </tr>\n",
       "    <tr>\n",
       "      <th>7608</th>\n",
       "      <td>10869</td>\n",
       "      <td>NaN</td>\n",
       "      <td>NaN</td>\n",
       "      <td>Two giant cranes holding a bridge collapse int...</td>\n",
       "      <td>83</td>\n",
       "      <td>1</td>\n",
       "    </tr>\n",
       "    <tr>\n",
       "      <th>7609</th>\n",
       "      <td>10870</td>\n",
       "      <td>NaN</td>\n",
       "      <td>NaN</td>\n",
       "      <td>@aria_ahrary @TheTawniest The out of control w...</td>\n",
       "      <td>125</td>\n",
       "      <td>1</td>\n",
       "    </tr>\n",
       "    <tr>\n",
       "      <th>7610</th>\n",
       "      <td>10871</td>\n",
       "      <td>NaN</td>\n",
       "      <td>NaN</td>\n",
       "      <td>M1.94 [01:04 UTC]?5km S of Volcano Hawaii. htt...</td>\n",
       "      <td>65</td>\n",
       "      <td>1</td>\n",
       "    </tr>\n",
       "    <tr>\n",
       "      <th>7611</th>\n",
       "      <td>10872</td>\n",
       "      <td>NaN</td>\n",
       "      <td>NaN</td>\n",
       "      <td>Police investigating after an e-bike collided ...</td>\n",
       "      <td>137</td>\n",
       "      <td>1</td>\n",
       "    </tr>\n",
       "    <tr>\n",
       "      <th>7612</th>\n",
       "      <td>10873</td>\n",
       "      <td>NaN</td>\n",
       "      <td>NaN</td>\n",
       "      <td>The Latest: More Homes Razed by Northern Calif...</td>\n",
       "      <td>94</td>\n",
       "      <td>1</td>\n",
       "    </tr>\n",
       "  </tbody>\n",
       "</table>\n",
       "<p>3271 rows × 6 columns</p>\n",
       "</div>"
      ],
      "text/plain": [
       "         id keyword location  \\\n",
       "0         1     NaN      NaN   \n",
       "1         4     NaN      NaN   \n",
       "2         5     NaN      NaN   \n",
       "3         6     NaN      NaN   \n",
       "4         7     NaN      NaN   \n",
       "...     ...     ...      ...   \n",
       "7608  10869     NaN      NaN   \n",
       "7609  10870     NaN      NaN   \n",
       "7610  10871     NaN      NaN   \n",
       "7611  10872     NaN      NaN   \n",
       "7612  10873     NaN      NaN   \n",
       "\n",
       "                                                   text  len_text  target  \n",
       "0     Our Deeds are the Reason of this #earthquake M...        69       1  \n",
       "1                Forest fire near La Ronge Sask. Canada        38       1  \n",
       "2     All residents asked to 'shelter in place' are ...       133       1  \n",
       "3     13,000 people receive #wildfires evacuation or...        65       1  \n",
       "4     Just got sent this photo from Ruby #Alaska as ...        88       1  \n",
       "...                                                 ...       ...     ...  \n",
       "7608  Two giant cranes holding a bridge collapse int...        83       1  \n",
       "7609  @aria_ahrary @TheTawniest The out of control w...       125       1  \n",
       "7610  M1.94 [01:04 UTC]?5km S of Volcano Hawaii. htt...        65       1  \n",
       "7611  Police investigating after an e-bike collided ...       137       1  \n",
       "7612  The Latest: More Homes Razed by Northern Calif...        94       1  \n",
       "\n",
       "[3271 rows x 6 columns]"
      ]
     },
     "execution_count": 24,
     "metadata": {},
     "output_type": "execute_result"
    }
   ],
   "source": [
    "true = train[train['target'] == 1]\n",
    "true"
   ]
  },
  {
   "cell_type": "code",
   "execution_count": 25,
   "metadata": {},
   "outputs": [
    {
     "data": {
      "text/plain": [
       "wreckage      39\n",
       "derailment    39\n",
       "outbreak      39\n",
       "debris        37\n",
       "oil spill     37\n",
       "              ..\n",
       "epicentre      1\n",
       "body bags      1\n",
       "body bag       1\n",
       "ruin           1\n",
       "blazing        1\n",
       "Name: keyword, Length: 220, dtype: int64"
      ]
     },
     "execution_count": 25,
     "metadata": {},
     "output_type": "execute_result"
    }
   ],
   "source": [
    "true['keyword'].value_counts()"
   ]
  },
  {
   "cell_type": "code",
   "execution_count": 26,
   "metadata": {},
   "outputs": [
    {
     "data": {
      "text/plain": [
       "<matplotlib.axes._subplots.AxesSubplot at 0x7f96679b8ca0>"
      ]
     },
     "execution_count": 26,
     "metadata": {},
     "output_type": "execute_result"
    },
    {
     "data": {
      "image/png": "[encoded data removed]",
      "text/plain": [
       "<Figure size 2880x720 with 1 Axes>"
      ]
     },
     "metadata": {
      "needs_background": "light"
     },
     "output_type": "display_data"
    }
   ],
   "source": [
    "true['keyword'].value_counts().sort_index().plot(kind='bar', figsize=(40,10))"
   ]
  },
  {
   "cell_type": "code",
   "execution_count": 27,
   "metadata": {},
   "outputs": [
    {
     "data": {
      "text/html": [
       "<div>\n",
       "<style scoped>\n",
       "    .dataframe tbody tr th:only-of-type {\n",
       "        vertical-align: middle;\n",
       "    }\n",
       "\n",
       "    .dataframe tbody tr th {\n",
       "        vertical-align: top;\n",
       "    }\n",
       "\n",
       "    .dataframe thead th {\n",
       "        text-align: right;\n",
       "    }\n",
       "</style>\n",
       "<table border=\"1\" class=\"dataframe\">\n",
       "  <thead>\n",
       "    <tr style=\"text-align: right;\">\n",
       "      <th></th>\n",
       "      <th>id</th>\n",
       "      <th>keyword</th>\n",
       "      <th>location</th>\n",
       "      <th>text</th>\n",
       "      <th>len_text</th>\n",
       "      <th>target</th>\n",
       "    </tr>\n",
       "  </thead>\n",
       "  <tbody>\n",
       "    <tr>\n",
       "      <th>15</th>\n",
       "      <td>23</td>\n",
       "      <td>NaN</td>\n",
       "      <td>NaN</td>\n",
       "      <td>What's up man?</td>\n",
       "      <td>14</td>\n",
       "      <td>0</td>\n",
       "    </tr>\n",
       "    <tr>\n",
       "      <th>16</th>\n",
       "      <td>24</td>\n",
       "      <td>NaN</td>\n",
       "      <td>NaN</td>\n",
       "      <td>I love fruits</td>\n",
       "      <td>13</td>\n",
       "      <td>0</td>\n",
       "    </tr>\n",
       "    <tr>\n",
       "      <th>17</th>\n",
       "      <td>25</td>\n",
       "      <td>NaN</td>\n",
       "      <td>NaN</td>\n",
       "      <td>Summer is lovely</td>\n",
       "      <td>16</td>\n",
       "      <td>0</td>\n",
       "    </tr>\n",
       "    <tr>\n",
       "      <th>18</th>\n",
       "      <td>26</td>\n",
       "      <td>NaN</td>\n",
       "      <td>NaN</td>\n",
       "      <td>My car is so fast</td>\n",
       "      <td>17</td>\n",
       "      <td>0</td>\n",
       "    </tr>\n",
       "    <tr>\n",
       "      <th>19</th>\n",
       "      <td>28</td>\n",
       "      <td>NaN</td>\n",
       "      <td>NaN</td>\n",
       "      <td>What a goooooooaaaaaal!!!!!!</td>\n",
       "      <td>28</td>\n",
       "      <td>0</td>\n",
       "    </tr>\n",
       "    <tr>\n",
       "      <th>...</th>\n",
       "      <td>...</td>\n",
       "      <td>...</td>\n",
       "      <td>...</td>\n",
       "      <td>...</td>\n",
       "      <td>...</td>\n",
       "      <td>...</td>\n",
       "    </tr>\n",
       "    <tr>\n",
       "      <th>7581</th>\n",
       "      <td>10833</td>\n",
       "      <td>wrecked</td>\n",
       "      <td>Lincoln</td>\n",
       "      <td>@engineshed Great atmosphere at the British Li...</td>\n",
       "      <td>104</td>\n",
       "      <td>0</td>\n",
       "    </tr>\n",
       "    <tr>\n",
       "      <th>7582</th>\n",
       "      <td>10834</td>\n",
       "      <td>wrecked</td>\n",
       "      <td>NaN</td>\n",
       "      <td>Cramer: Iger's 3 words that wrecked Disney's s...</td>\n",
       "      <td>80</td>\n",
       "      <td>0</td>\n",
       "    </tr>\n",
       "    <tr>\n",
       "      <th>7584</th>\n",
       "      <td>10837</td>\n",
       "      <td>NaN</td>\n",
       "      <td>NaN</td>\n",
       "      <td>These boxes are ready to explode! Exploding Ki...</td>\n",
       "      <td>127</td>\n",
       "      <td>0</td>\n",
       "    </tr>\n",
       "    <tr>\n",
       "      <th>7587</th>\n",
       "      <td>10841</td>\n",
       "      <td>NaN</td>\n",
       "      <td>NaN</td>\n",
       "      <td>Sirens everywhere!</td>\n",
       "      <td>18</td>\n",
       "      <td>0</td>\n",
       "    </tr>\n",
       "    <tr>\n",
       "      <th>7593</th>\n",
       "      <td>10848</td>\n",
       "      <td>NaN</td>\n",
       "      <td>NaN</td>\n",
       "      <td>I just heard a really loud bang and everyone i...</td>\n",
       "      <td>60</td>\n",
       "      <td>0</td>\n",
       "    </tr>\n",
       "  </tbody>\n",
       "</table>\n",
       "<p>4342 rows × 6 columns</p>\n",
       "</div>"
      ],
      "text/plain": [
       "         id  keyword location  \\\n",
       "15       23      NaN      NaN   \n",
       "16       24      NaN      NaN   \n",
       "17       25      NaN      NaN   \n",
       "18       26      NaN      NaN   \n",
       "19       28      NaN      NaN   \n",
       "...     ...      ...      ...   \n",
       "7581  10833  wrecked  Lincoln   \n",
       "7582  10834  wrecked      NaN   \n",
       "7584  10837      NaN      NaN   \n",
       "7587  10841      NaN      NaN   \n",
       "7593  10848      NaN      NaN   \n",
       "\n",
       "                                                   text  len_text  target  \n",
       "15                                       What's up man?        14       0  \n",
       "16                                        I love fruits        13       0  \n",
       "17                                     Summer is lovely        16       0  \n",
       "18                                    My car is so fast        17       0  \n",
       "19                         What a goooooooaaaaaal!!!!!!        28       0  \n",
       "...                                                 ...       ...     ...  \n",
       "7581  @engineshed Great atmosphere at the British Li...       104       0  \n",
       "7582  Cramer: Iger's 3 words that wrecked Disney's s...        80       0  \n",
       "7584  These boxes are ready to explode! Exploding Ki...       127       0  \n",
       "7587                                 Sirens everywhere!        18       0  \n",
       "7593  I just heard a really loud bang and everyone i...        60       0  \n",
       "\n",
       "[4342 rows x 6 columns]"
      ]
     },
     "execution_count": 27,
     "metadata": {},
     "output_type": "execute_result"
    }
   ],
   "source": [
    "false = train[train['target'] == 0]\n",
    "false"
   ]
  },
  {
   "cell_type": "code",
   "execution_count": 28,
   "metadata": {
    "scrolled": false
   },
   "outputs": [
    {
     "data": {
      "text/plain": [
       "body bags          40\n",
       "harm               37\n",
       "armageddon         37\n",
       "wrecked            36\n",
       "deluge             36\n",
       "                   ..\n",
       "suicide bomber      1\n",
       "suicide bombing     1\n",
       "outbreak            1\n",
       "typhoon             1\n",
       "oil spill           1\n",
       "Name: keyword, Length: 218, dtype: int64"
      ]
     },
     "execution_count": 28,
     "metadata": {},
     "output_type": "execute_result"
    }
   ],
   "source": [
    "false['keyword'].value_counts()"
   ]
  },
  {
   "cell_type": "code",
   "execution_count": 29,
   "metadata": {},
   "outputs": [
    {
     "data": {
      "text/plain": [
       "<matplotlib.axes._subplots.AxesSubplot at 0x7f9666d2f520>"
      ]
     },
     "execution_count": 29,
     "metadata": {},
     "output_type": "execute_result"
    },
    {
     "data": {
      "image/png": "[encoded data removed]",
      "text/plain": [
       "<Figure size 2880x720 with 1 Axes>"
      ]
     },
     "metadata": {
      "needs_background": "light"
     },
     "output_type": "display_data"
    }
   ],
   "source": [
    "false['keyword'].value_counts().sort_index().plot(kind='bar', figsize=(40,10))"
   ]
  },
  {
   "cell_type": "code",
   "execution_count": 30,
   "metadata": {},
   "outputs": [
    {
     "data": {
      "text/plain": [
       "Text(0.5, 1.0, 'len vs target')"
      ]
     },
     "execution_count": 30,
     "metadata": {},
     "output_type": "execute_result"
    },
    {
     "data": {
      "image/png": "[encoded data removed]",
      "text/plain": [
       "<Figure size 432x288 with 1 Axes>"
      ]
     },
     "metadata": {
      "needs_background": "light"
     },
     "output_type": "display_data"
    }
   ],
   "source": [
    "g = sb.scatterplot(x = \"keyword\", y = \"len_text\", data = train)\n",
    "g.set_title(\"len vs target\", fontsize=18)"
   ]
  },
  {
   "cell_type": "code",
   "execution_count": 31,
   "metadata": {},
   "outputs": [
    {
     "data": {
      "text/plain": [
       "1    100\n",
       "0     63\n",
       "Name: target, dtype: int64"
      ]
     },
     "execution_count": 31,
     "metadata": {},
     "output_type": "execute_result"
    }
   ],
   "source": [
    "top_location = train[train['location'] == 'USA']\n",
    "top_location['target'].value_counts()"
   ]
  },
  {
   "cell_type": "code",
   "execution_count": 32,
   "metadata": {},
   "outputs": [
    {
     "data": {
      "text/plain": [
       "sandstorm    22\n",
       "destroyed     7\n",
       "flood         6\n",
       "hail          5\n",
       "hazardous     5\n",
       "             ..\n",
       "sinkhole      1\n",
       "fatality      1\n",
       "hijacker      1\n",
       "drowned       1\n",
       "ablaze        1\n",
       "Name: keyword, Length: 93, dtype: int64"
      ]
     },
     "execution_count": 32,
     "metadata": {},
     "output_type": "execute_result"
    }
   ],
   "source": [
    "top_location['keyword'].value_counts()"
   ]
  },
  {
   "cell_type": "code",
   "execution_count": 33,
   "metadata": {},
   "outputs": [
    {
     "data": {
      "text/plain": [
       "Text(0, 0.5, 'Cantidad')"
      ]
     },
     "execution_count": 33,
     "metadata": {},
     "output_type": "execute_result"
    },
    {
     "data": {
      "image/png": "[encoded data removed]",
      "text/plain": [
       "<Figure size 432x288 with 1 Axes>"
      ]
     },
     "metadata": {
      "needs_background": "light"
     },
     "output_type": "display_data"
    }
   ],
   "source": [
    "g1 = sb.distplot(top_location[top_location['target'] == 1]['len_text'], color=\"blue\", label='len_text in target true', hist=False)\n",
    "g1 = sb.distplot(top_location[top_location['target'] == 0]['len_text'], color=\"red\", label='len_text in target false', hist=False)\n",
    "g1.set_title(\"Distribucion de longitud por target en location USA\", fontsize=18)\n",
    "g1.set_ylabel(\"Cantidad\", fontsize=18)"
   ]
  },
  {
   "cell_type": "code",
   "execution_count": 34,
   "metadata": {},
   "outputs": [
    {
     "data": {
      "text/plain": [
       "Text(0, 0.5, 'Cantidad')"
      ]
     },
     "execution_count": 34,
     "metadata": {},
     "output_type": "execute_result"
    },
    {
     "data": {
      "image/png": "[encoded data removed]",
      "text/plain": [
       "<Figure size 432x288 with 1 Axes>"
      ]
     },
     "metadata": {
      "needs_background": "light"
     },
     "output_type": "display_data"
    }
   ],
   "source": [
    "top_keyword = train[train['keyword'] == 'fatalities']\n",
    "g1 = sb.distplot(top_keyword[top_keyword['target'] == 1]['len_text'], color=\"blue\", label='len_text in target true', hist=False)\n",
    "g1 = sb.distplot(top_keyword[top_keyword['target'] == 0]['len_text'], color=\"red\", label='len_text in target false', hist=False)\n",
    "g1.set_title(\"Distribucion de longitud por target en location location\", fontsize=18)\n",
    "g1.set_ylabel(\"Cantidad\", fontsize=18)"
   ]
  },
  {
   "cell_type": "code",
   "execution_count": 35,
   "metadata": {},
   "outputs": [
    {
     "data": {
      "text/plain": [
       "USA                               100\n",
       "New York                           33\n",
       "Worldwide                          33\n",
       "Washington, DC                     24\n",
       "London                             23\n",
       "                                 ... \n",
       "The World                           1\n",
       "Oneonta, NY/ Staten Island, NY      1\n",
       "cody, austin follows ?*?            1\n",
       "San Diego                           1\n",
       "Arkansas                            1\n",
       "Name: location, Length: 1487, dtype: int64"
      ]
     },
     "execution_count": 35,
     "metadata": {},
     "output_type": "execute_result"
    }
   ],
   "source": [
    "true['location'].value_counts()"
   ]
  },
  {
   "cell_type": "code",
   "execution_count": 36,
   "metadata": {},
   "outputs": [
    {
     "data": {
      "text/plain": [
       "New York               79\n",
       "USA                    63\n",
       "London                 43\n",
       "Worldwide              33\n",
       "Los Angeles            26\n",
       "                       ..\n",
       "  Glasgow               1\n",
       "PunPunlÌ¢ndia           1\n",
       "Lincoln City Oregon     1\n",
       "Fruit Bowl              1\n",
       "Cardiff, Wales          1\n",
       "Name: location, Length: 2112, dtype: int64"
      ]
     },
     "execution_count": 36,
     "metadata": {},
     "output_type": "execute_result"
    }
   ],
   "source": [
    "false['location'].value_counts()"
   ]
  },
  {
   "cell_type": "markdown",
   "metadata": {},
   "source": [
    "#### Corrección en location"
   ]
  },
  {
   "cell_type": "code",
   "execution_count": 37,
   "metadata": {},
   "outputs": [],
   "source": [
    "train['location'] = train['location'].replace('M!$$!$$!PP!', 'Mississippi')"
   ]
  },
  {
   "cell_type": "markdown",
   "metadata": {},
   "source": [
    "### Agrupamos por location"
   ]
  },
  {
   "cell_type": "code",
   "execution_count": 38,
   "metadata": {},
   "outputs": [
    {
     "data": {
      "text/html": [
       "<div>\n",
       "<style scoped>\n",
       "    .dataframe tbody tr th:only-of-type {\n",
       "        vertical-align: middle;\n",
       "    }\n",
       "\n",
       "    .dataframe tbody tr th {\n",
       "        vertical-align: top;\n",
       "    }\n",
       "\n",
       "    .dataframe thead th {\n",
       "        text-align: right;\n",
       "    }\n",
       "</style>\n",
       "<table border=\"1\" class=\"dataframe\">\n",
       "  <thead>\n",
       "    <tr style=\"text-align: right;\">\n",
       "      <th></th>\n",
       "      <th>sum</th>\n",
       "      <th>count</th>\n",
       "    </tr>\n",
       "    <tr>\n",
       "      <th>location</th>\n",
       "      <th></th>\n",
       "      <th></th>\n",
       "    </tr>\n",
       "  </thead>\n",
       "  <tbody>\n",
       "    <tr>\n",
       "      <th>USA</th>\n",
       "      <td>100</td>\n",
       "      <td>163</td>\n",
       "    </tr>\n",
       "    <tr>\n",
       "      <th>New York</th>\n",
       "      <td>33</td>\n",
       "      <td>112</td>\n",
       "    </tr>\n",
       "    <tr>\n",
       "      <th>Worldwide</th>\n",
       "      <td>33</td>\n",
       "      <td>66</td>\n",
       "    </tr>\n",
       "    <tr>\n",
       "      <th>Washington, DC</th>\n",
       "      <td>24</td>\n",
       "      <td>35</td>\n",
       "    </tr>\n",
       "    <tr>\n",
       "      <th>London</th>\n",
       "      <td>23</td>\n",
       "      <td>66</td>\n",
       "    </tr>\n",
       "    <tr>\n",
       "      <th>Nigeria</th>\n",
       "      <td>22</td>\n",
       "      <td>28</td>\n",
       "    </tr>\n",
       "    <tr>\n",
       "      <th>India</th>\n",
       "      <td>20</td>\n",
       "      <td>24</td>\n",
       "    </tr>\n",
       "    <tr>\n",
       "      <th>UK</th>\n",
       "      <td>20</td>\n",
       "      <td>41</td>\n",
       "    </tr>\n",
       "    <tr>\n",
       "      <th>Mumbai</th>\n",
       "      <td>19</td>\n",
       "      <td>22</td>\n",
       "    </tr>\n",
       "    <tr>\n",
       "      <th>California</th>\n",
       "      <td>16</td>\n",
       "      <td>38</td>\n",
       "    </tr>\n",
       "  </tbody>\n",
       "</table>\n",
       "</div>"
      ],
      "text/plain": [
       "                sum  count\n",
       "location                  \n",
       "USA             100    163\n",
       "New York         33    112\n",
       "Worldwide        33     66\n",
       "Washington, DC   24     35\n",
       "London           23     66\n",
       "Nigeria          22     28\n",
       "India            20     24\n",
       "UK               20     41\n",
       "Mumbai           19     22\n",
       "California       16     38"
      ]
     },
     "execution_count": 38,
     "metadata": {},
     "output_type": "execute_result"
    }
   ],
   "source": [
    "grouped_by_location = train.groupby(['location']).agg({'target': ['sum', 'count']})\n",
    "top_10_location_target = grouped_by_location['target'].nlargest(10, 'sum')\n",
    "top_10_location_target"
   ]
  },
  {
   "cell_type": "code",
   "execution_count": 39,
   "metadata": {},
   "outputs": [
    {
     "data": {
      "text/html": [
       "<div>\n",
       "<style scoped>\n",
       "    .dataframe tbody tr th:only-of-type {\n",
       "        vertical-align: middle;\n",
       "    }\n",
       "\n",
       "    .dataframe tbody tr th {\n",
       "        vertical-align: top;\n",
       "    }\n",
       "\n",
       "    .dataframe thead tr th {\n",
       "        text-align: left;\n",
       "    }\n",
       "\n",
       "    .dataframe thead tr:last-of-type th {\n",
       "        text-align: right;\n",
       "    }\n",
       "</style>\n",
       "<table border=\"1\" class=\"dataframe\">\n",
       "  <thead>\n",
       "    <tr>\n",
       "      <th></th>\n",
       "      <th colspan=\"2\" halign=\"left\">target</th>\n",
       "    </tr>\n",
       "    <tr>\n",
       "      <th></th>\n",
       "      <th>sum</th>\n",
       "      <th>count</th>\n",
       "    </tr>\n",
       "    <tr>\n",
       "      <th>location</th>\n",
       "      <th></th>\n",
       "      <th></th>\n",
       "    </tr>\n",
       "  </thead>\n",
       "  <tbody>\n",
       "    <tr>\n",
       "      <th>Atlanta, GA</th>\n",
       "      <td>5</td>\n",
       "      <td>10</td>\n",
       "    </tr>\n",
       "    <tr>\n",
       "      <th>Australia</th>\n",
       "      <td>9</td>\n",
       "      <td>18</td>\n",
       "    </tr>\n",
       "    <tr>\n",
       "      <th>California</th>\n",
       "      <td>16</td>\n",
       "      <td>38</td>\n",
       "    </tr>\n",
       "    <tr>\n",
       "      <th>Canada</th>\n",
       "      <td>13</td>\n",
       "      <td>29</td>\n",
       "    </tr>\n",
       "    <tr>\n",
       "      <th>Chicago</th>\n",
       "      <td>13</td>\n",
       "      <td>30</td>\n",
       "    </tr>\n",
       "    <tr>\n",
       "      <th>Florida</th>\n",
       "      <td>3</td>\n",
       "      <td>14</td>\n",
       "    </tr>\n",
       "    <tr>\n",
       "      <th>India</th>\n",
       "      <td>20</td>\n",
       "      <td>24</td>\n",
       "    </tr>\n",
       "    <tr>\n",
       "      <th>Indonesia</th>\n",
       "      <td>8</td>\n",
       "      <td>13</td>\n",
       "    </tr>\n",
       "    <tr>\n",
       "      <th>Ireland</th>\n",
       "      <td>6</td>\n",
       "      <td>12</td>\n",
       "    </tr>\n",
       "    <tr>\n",
       "      <th>Kenya</th>\n",
       "      <td>5</td>\n",
       "      <td>20</td>\n",
       "    </tr>\n",
       "    <tr>\n",
       "      <th>London</th>\n",
       "      <td>23</td>\n",
       "      <td>66</td>\n",
       "    </tr>\n",
       "    <tr>\n",
       "      <th>Los Angeles</th>\n",
       "      <td>15</td>\n",
       "      <td>41</td>\n",
       "    </tr>\n",
       "    <tr>\n",
       "      <th>Mumbai</th>\n",
       "      <td>19</td>\n",
       "      <td>22</td>\n",
       "    </tr>\n",
       "    <tr>\n",
       "      <th>New York</th>\n",
       "      <td>33</td>\n",
       "      <td>112</td>\n",
       "    </tr>\n",
       "    <tr>\n",
       "      <th>Nigeria</th>\n",
       "      <td>22</td>\n",
       "      <td>28</td>\n",
       "    </tr>\n",
       "    <tr>\n",
       "      <th>Sacramento, CA</th>\n",
       "      <td>7</td>\n",
       "      <td>10</td>\n",
       "    </tr>\n",
       "    <tr>\n",
       "      <th>San Francisco</th>\n",
       "      <td>13</td>\n",
       "      <td>25</td>\n",
       "    </tr>\n",
       "    <tr>\n",
       "      <th>Seattle</th>\n",
       "      <td>7</td>\n",
       "      <td>18</td>\n",
       "    </tr>\n",
       "    <tr>\n",
       "      <th>Texas</th>\n",
       "      <td>3</td>\n",
       "      <td>10</td>\n",
       "    </tr>\n",
       "    <tr>\n",
       "      <th>Toronto</th>\n",
       "      <td>7</td>\n",
       "      <td>12</td>\n",
       "    </tr>\n",
       "    <tr>\n",
       "      <th>UK</th>\n",
       "      <td>20</td>\n",
       "      <td>41</td>\n",
       "    </tr>\n",
       "    <tr>\n",
       "      <th>USA</th>\n",
       "      <td>100</td>\n",
       "      <td>163</td>\n",
       "    </tr>\n",
       "    <tr>\n",
       "      <th>Washington, DC</th>\n",
       "      <td>24</td>\n",
       "      <td>35</td>\n",
       "    </tr>\n",
       "    <tr>\n",
       "      <th>Worldwide</th>\n",
       "      <td>33</td>\n",
       "      <td>66</td>\n",
       "    </tr>\n",
       "    <tr>\n",
       "      <th>ss</th>\n",
       "      <td>1</td>\n",
       "      <td>10</td>\n",
       "    </tr>\n",
       "  </tbody>\n",
       "</table>\n",
       "</div>"
      ],
      "text/plain": [
       "               target      \n",
       "                  sum count\n",
       "location                   \n",
       "Atlanta, GA         5    10\n",
       "Australia           9    18\n",
       "California         16    38\n",
       "Canada             13    29\n",
       "Chicago            13    30\n",
       "Florida             3    14\n",
       "India              20    24\n",
       "Indonesia           8    13\n",
       "Ireland             6    12\n",
       "Kenya               5    20\n",
       "London             23    66\n",
       "Los Angeles        15    41\n",
       "Mumbai             19    22\n",
       "New York           33   112\n",
       "Nigeria            22    28\n",
       "Sacramento, CA      7    10\n",
       "San Francisco      13    25\n",
       "Seattle             7    18\n",
       "Texas               3    10\n",
       "Toronto             7    12\n",
       "UK                 20    41\n",
       "USA               100   163\n",
       "Washington, DC     24    35\n",
       "Worldwide          33    66\n",
       "ss                  1    10"
      ]
     },
     "execution_count": 39,
     "metadata": {},
     "output_type": "execute_result"
    }
   ],
   "source": [
    "grouped_by_location[grouped_by_location[('target', 'count')] >= 10]"
   ]
  },
  {
   "cell_type": "code",
   "execution_count": 40,
   "metadata": {},
   "outputs": [
    {
     "data": {
      "text/html": [
       "<div>\n",
       "<style scoped>\n",
       "    .dataframe tbody tr th:only-of-type {\n",
       "        vertical-align: middle;\n",
       "    }\n",
       "\n",
       "    .dataframe tbody tr th {\n",
       "        vertical-align: top;\n",
       "    }\n",
       "\n",
       "    .dataframe thead tr th {\n",
       "        text-align: left;\n",
       "    }\n",
       "\n",
       "    .dataframe thead tr:last-of-type th {\n",
       "        text-align: right;\n",
       "    }\n",
       "</style>\n",
       "<table border=\"1\" class=\"dataframe\">\n",
       "  <thead>\n",
       "    <tr>\n",
       "      <th></th>\n",
       "      <th colspan=\"2\" halign=\"left\">target</th>\n",
       "    </tr>\n",
       "    <tr>\n",
       "      <th></th>\n",
       "      <th>sum</th>\n",
       "      <th>count</th>\n",
       "    </tr>\n",
       "    <tr>\n",
       "      <th>location</th>\n",
       "      <th></th>\n",
       "      <th></th>\n",
       "    </tr>\n",
       "  </thead>\n",
       "  <tbody>\n",
       "    <tr>\n",
       "      <th>USA</th>\n",
       "      <td>100</td>\n",
       "      <td>163</td>\n",
       "    </tr>\n",
       "    <tr>\n",
       "      <th>Worldwide</th>\n",
       "      <td>33</td>\n",
       "      <td>66</td>\n",
       "    </tr>\n",
       "    <tr>\n",
       "      <th>UK</th>\n",
       "      <td>20</td>\n",
       "      <td>41</td>\n",
       "    </tr>\n",
       "    <tr>\n",
       "      <th>Canada</th>\n",
       "      <td>13</td>\n",
       "      <td>29</td>\n",
       "    </tr>\n",
       "    <tr>\n",
       "      <th>Nigeria</th>\n",
       "      <td>22</td>\n",
       "      <td>28</td>\n",
       "    </tr>\n",
       "    <tr>\n",
       "      <th>India</th>\n",
       "      <td>20</td>\n",
       "      <td>24</td>\n",
       "    </tr>\n",
       "    <tr>\n",
       "      <th>Kenya</th>\n",
       "      <td>5</td>\n",
       "      <td>20</td>\n",
       "    </tr>\n",
       "    <tr>\n",
       "      <th>Australia</th>\n",
       "      <td>9</td>\n",
       "      <td>18</td>\n",
       "    </tr>\n",
       "    <tr>\n",
       "      <th>Indonesia</th>\n",
       "      <td>8</td>\n",
       "      <td>13</td>\n",
       "    </tr>\n",
       "    <tr>\n",
       "      <th>Ireland</th>\n",
       "      <td>6</td>\n",
       "      <td>12</td>\n",
       "    </tr>\n",
       "  </tbody>\n",
       "</table>\n",
       "</div>"
      ],
      "text/plain": [
       "          target      \n",
       "             sum count\n",
       "location              \n",
       "USA          100   163\n",
       "Worldwide     33    66\n",
       "UK            20    41\n",
       "Canada        13    29\n",
       "Nigeria       22    28\n",
       "India         20    24\n",
       "Kenya          5    20\n",
       "Australia      9    18\n",
       "Indonesia      8    13\n",
       "Ireland        6    12"
      ]
     },
     "execution_count": 40,
     "metadata": {},
     "output_type": "execute_result"
    }
   ],
   "source": [
    "countries = ['USA', 'Australia', 'Canada', 'India', 'Indonesia', 'Ireland', 'Kenya', 'Nigeria', 'UK', 'Scotland', 'South Africa', 'Worldwide', '304']\n",
    "grouped_by_country = grouped_by_location.loc[countries]\n",
    "top_10_countries = grouped_by_country.nlargest(10, ('target', 'count'))\n",
    "top_10_countries"
   ]
  },
  {
   "cell_type": "code",
   "execution_count": 41,
   "metadata": {},
   "outputs": [
    {
     "data": {
      "text/plain": [
       "Text(0, 0.5, 'Total Tweets')"
      ]
     },
     "execution_count": 41,
     "metadata": {},
     "output_type": "execute_result"
    },
    {
     "data": {
      "image/png": "[encoded data removed]",
      "text/plain": [
       "<Figure size 432x288 with 1 Axes>"
      ]
     },
     "metadata": {
      "needs_background": "light"
     },
     "output_type": "display_data"
    }
   ],
   "source": [
    "sb.barplot(x=top_10_countries.index, y=top_10_countries[('target', 'count')])\n",
    "plt.ylim(0, 170)\n",
    "plt.xticks(rotation=70)\n",
    "plt.title(\"Top 10 Paises vs Total Tweets\", fontsize=18)\n",
    "plt.xlabel(\"Paises\")\n",
    "plt.ylabel(\"Total Tweets\")"
   ]
  },
  {
   "cell_type": "code",
   "execution_count": 42,
   "metadata": {},
   "outputs": [
    {
     "data": {
      "text/plain": [
       "Text(0, 0.5, 'Tweets verdaderos')"
      ]
     },
     "execution_count": 42,
     "metadata": {},
     "output_type": "execute_result"
    },
    {
     "data": {
      "image/png": "[encoded data removed]",
      "text/plain": [
       "<Figure size 432x288 with 1 Axes>"
      ]
     },
     "metadata": {
      "needs_background": "light"
     },
     "output_type": "display_data"
    }
   ],
   "source": [
    "sb.barplot(x=top_10_countries.index, y=top_10_countries[('target', 'sum')])\n",
    "plt.ylim(0, 170)\n",
    "plt.xticks(rotation=70)\n",
    "plt.title(\"Top 10 Paises vs Tweets verdaderos\", fontsize=18)\n",
    "plt.xlabel(\"Paises\")\n",
    "plt.ylabel(\"Tweets verdaderos\")"
   ]
  },
  {
   "cell_type": "code",
   "execution_count": 43,
   "metadata": {},
   "outputs": [
    {
     "data": {
      "text/html": [
       "<div>\n",
       "<style scoped>\n",
       "    .dataframe tbody tr th:only-of-type {\n",
       "        vertical-align: middle;\n",
       "    }\n",
       "\n",
       "    .dataframe tbody tr th {\n",
       "        vertical-align: top;\n",
       "    }\n",
       "\n",
       "    .dataframe thead tr th {\n",
       "        text-align: left;\n",
       "    }\n",
       "\n",
       "    .dataframe thead tr:last-of-type th {\n",
       "        text-align: right;\n",
       "    }\n",
       "</style>\n",
       "<table border=\"1\" class=\"dataframe\">\n",
       "  <thead>\n",
       "    <tr>\n",
       "      <th></th>\n",
       "      <th colspan=\"2\" halign=\"left\">target</th>\n",
       "    </tr>\n",
       "    <tr>\n",
       "      <th></th>\n",
       "      <th>sum</th>\n",
       "      <th>count</th>\n",
       "    </tr>\n",
       "    <tr>\n",
       "      <th>location</th>\n",
       "      <th></th>\n",
       "      <th></th>\n",
       "    </tr>\n",
       "  </thead>\n",
       "  <tbody>\n",
       "    <tr>\n",
       "      <th>Atlanta, GA</th>\n",
       "      <td>5</td>\n",
       "      <td>10</td>\n",
       "    </tr>\n",
       "    <tr>\n",
       "      <th>California</th>\n",
       "      <td>16</td>\n",
       "      <td>38</td>\n",
       "    </tr>\n",
       "    <tr>\n",
       "      <th>Chicago</th>\n",
       "      <td>13</td>\n",
       "      <td>30</td>\n",
       "    </tr>\n",
       "    <tr>\n",
       "      <th>Florida</th>\n",
       "      <td>3</td>\n",
       "      <td>14</td>\n",
       "    </tr>\n",
       "    <tr>\n",
       "      <th>London</th>\n",
       "      <td>23</td>\n",
       "      <td>66</td>\n",
       "    </tr>\n",
       "    <tr>\n",
       "      <th>Los Angeles</th>\n",
       "      <td>15</td>\n",
       "      <td>41</td>\n",
       "    </tr>\n",
       "    <tr>\n",
       "      <th>Mumbai</th>\n",
       "      <td>19</td>\n",
       "      <td>22</td>\n",
       "    </tr>\n",
       "    <tr>\n",
       "      <th>New York</th>\n",
       "      <td>33</td>\n",
       "      <td>112</td>\n",
       "    </tr>\n",
       "    <tr>\n",
       "      <th>Sacramento, CA</th>\n",
       "      <td>7</td>\n",
       "      <td>10</td>\n",
       "    </tr>\n",
       "    <tr>\n",
       "      <th>San Francisco</th>\n",
       "      <td>13</td>\n",
       "      <td>25</td>\n",
       "    </tr>\n",
       "    <tr>\n",
       "      <th>Seattle</th>\n",
       "      <td>7</td>\n",
       "      <td>18</td>\n",
       "    </tr>\n",
       "    <tr>\n",
       "      <th>Texas</th>\n",
       "      <td>3</td>\n",
       "      <td>10</td>\n",
       "    </tr>\n",
       "    <tr>\n",
       "      <th>Toronto</th>\n",
       "      <td>7</td>\n",
       "      <td>12</td>\n",
       "    </tr>\n",
       "    <tr>\n",
       "      <th>Washington, DC</th>\n",
       "      <td>24</td>\n",
       "      <td>35</td>\n",
       "    </tr>\n",
       "    <tr>\n",
       "      <th>ss</th>\n",
       "      <td>1</td>\n",
       "      <td>10</td>\n",
       "    </tr>\n",
       "  </tbody>\n",
       "</table>\n",
       "</div>"
      ],
      "text/plain": [
       "               target      \n",
       "                  sum count\n",
       "location                   \n",
       "Atlanta, GA         5    10\n",
       "California         16    38\n",
       "Chicago            13    30\n",
       "Florida             3    14\n",
       "London             23    66\n",
       "Los Angeles        15    41\n",
       "Mumbai             19    22\n",
       "New York           33   112\n",
       "Sacramento, CA      7    10\n",
       "San Francisco      13    25\n",
       "Seattle             7    18\n",
       "Texas               3    10\n",
       "Toronto             7    12\n",
       "Washington, DC     24    35\n",
       "ss                  1    10"
      ]
     },
     "execution_count": 43,
     "metadata": {},
     "output_type": "execute_result"
    }
   ],
   "source": [
    "grouped_by_city = grouped_by_location.drop(countries, axis=0)\n",
    "grouped_by_city[grouped_by_city[('target', 'count')] >= 10]"
   ]
  },
  {
   "cell_type": "code",
   "execution_count": 44,
   "metadata": {},
   "outputs": [
    {
     "data": {
      "text/html": [
       "<div>\n",
       "<style scoped>\n",
       "    .dataframe tbody tr th:only-of-type {\n",
       "        vertical-align: middle;\n",
       "    }\n",
       "\n",
       "    .dataframe tbody tr th {\n",
       "        vertical-align: top;\n",
       "    }\n",
       "\n",
       "    .dataframe thead tr th {\n",
       "        text-align: left;\n",
       "    }\n",
       "\n",
       "    .dataframe thead tr:last-of-type th {\n",
       "        text-align: right;\n",
       "    }\n",
       "</style>\n",
       "<table border=\"1\" class=\"dataframe\">\n",
       "  <thead>\n",
       "    <tr>\n",
       "      <th></th>\n",
       "      <th colspan=\"2\" halign=\"left\">target</th>\n",
       "    </tr>\n",
       "    <tr>\n",
       "      <th></th>\n",
       "      <th>sum</th>\n",
       "      <th>count</th>\n",
       "    </tr>\n",
       "    <tr>\n",
       "      <th>location</th>\n",
       "      <th></th>\n",
       "      <th></th>\n",
       "    </tr>\n",
       "  </thead>\n",
       "  <tbody>\n",
       "    <tr>\n",
       "      <th>New York</th>\n",
       "      <td>33</td>\n",
       "      <td>112</td>\n",
       "    </tr>\n",
       "    <tr>\n",
       "      <th>London</th>\n",
       "      <td>23</td>\n",
       "      <td>66</td>\n",
       "    </tr>\n",
       "    <tr>\n",
       "      <th>Los Angeles</th>\n",
       "      <td>15</td>\n",
       "      <td>41</td>\n",
       "    </tr>\n",
       "    <tr>\n",
       "      <th>California</th>\n",
       "      <td>16</td>\n",
       "      <td>38</td>\n",
       "    </tr>\n",
       "    <tr>\n",
       "      <th>Washington, DC</th>\n",
       "      <td>24</td>\n",
       "      <td>35</td>\n",
       "    </tr>\n",
       "    <tr>\n",
       "      <th>Chicago</th>\n",
       "      <td>13</td>\n",
       "      <td>30</td>\n",
       "    </tr>\n",
       "    <tr>\n",
       "      <th>San Francisco</th>\n",
       "      <td>13</td>\n",
       "      <td>25</td>\n",
       "    </tr>\n",
       "    <tr>\n",
       "      <th>Mumbai</th>\n",
       "      <td>19</td>\n",
       "      <td>22</td>\n",
       "    </tr>\n",
       "    <tr>\n",
       "      <th>Seattle</th>\n",
       "      <td>7</td>\n",
       "      <td>18</td>\n",
       "    </tr>\n",
       "    <tr>\n",
       "      <th>Florida</th>\n",
       "      <td>3</td>\n",
       "      <td>14</td>\n",
       "    </tr>\n",
       "  </tbody>\n",
       "</table>\n",
       "</div>"
      ],
      "text/plain": [
       "               target      \n",
       "                  sum count\n",
       "location                   \n",
       "New York           33   112\n",
       "London             23    66\n",
       "Los Angeles        15    41\n",
       "California         16    38\n",
       "Washington, DC     24    35\n",
       "Chicago            13    30\n",
       "San Francisco      13    25\n",
       "Mumbai             19    22\n",
       "Seattle             7    18\n",
       "Florida             3    14"
      ]
     },
     "execution_count": 44,
     "metadata": {},
     "output_type": "execute_result"
    }
   ],
   "source": [
    "top_10_cities = grouped_by_city.nlargest(10, ('target', 'count'))\n",
    "top_10_cities"
   ]
  },
  {
   "cell_type": "code",
   "execution_count": 45,
   "metadata": {},
   "outputs": [
    {
     "data": {
      "text/plain": [
       "Text(0, 0.5, 'Total Tweets')"
      ]
     },
     "execution_count": 45,
     "metadata": {},
     "output_type": "execute_result"
    },
    {
     "data": {
      "image/png": "[encoded data removed]",
      "text/plain": [
       "<Figure size 432x288 with 1 Axes>"
      ]
     },
     "metadata": {
      "needs_background": "light"
     },
     "output_type": "display_data"
    }
   ],
   "source": [
    "sb.barplot(x=top_10_cities.index, y=top_10_cities[('target', 'count')])\n",
    "plt.ylim(0, 115)\n",
    "plt.xticks(rotation=70)\n",
    "plt.title(\"Top 10 Ciudades vs Total Tweets\", fontsize=18)\n",
    "plt.xlabel(\"Ciudades\")\n",
    "plt.ylabel(\"Total Tweets\")"
   ]
  },
  {
   "cell_type": "code",
   "execution_count": 46,
   "metadata": {},
   "outputs": [
    {
     "data": {
      "text/plain": [
       "Text(0, 0.5, 'Tweets verdaderos')"
      ]
     },
     "execution_count": 46,
     "metadata": {},
     "output_type": "execute_result"
    },
    {
     "data": {
      "image/png": "[encoded data removed]",
      "text/plain": [
       "<Figure size 432x288 with 1 Axes>"
      ]
     },
     "metadata": {
      "needs_background": "light"
     },
     "output_type": "display_data"
    }
   ],
   "source": [
    "sb.barplot(x=top_10_cities.index, y=top_10_cities[('target', 'sum')])\n",
    "plt.ylim(0, 115)\n",
    "plt.xticks(rotation=70)\n",
    "plt.title(\"Top 10 Ciudades vs Tweets verdaderos\", fontsize=18)\n",
    "plt.xlabel(\"Ciudades\")\n",
    "plt.ylabel(\"Tweets verdaderos\")"
   ]
  },
  {
   "cell_type": "markdown",
   "metadata": {},
   "source": [
    "### Analizamos los location NaN"
   ]
  },
  {
   "cell_type": "code",
   "execution_count": 47,
   "metadata": {},
   "outputs": [
    {
     "data": {
      "text/plain": [
       "1    1\n",
       "0    1\n",
       "Name: target, dtype: int64"
      ]
     },
     "execution_count": 47,
     "metadata": {},
     "output_type": "execute_result"
    }
   ],
   "source": [
    "#train['location'] = train['location'].fillna(\"Unknown\")\n",
    "train[train['location'] == 'Unknown']['target'].value_counts()"
   ]
  },
  {
   "cell_type": "code",
   "execution_count": 48,
   "metadata": {},
   "outputs": [
    {
     "data": {
      "text/plain": [
       "False    5080\n",
       "True     2533\n",
       "Name: location, dtype: int64"
      ]
     },
     "execution_count": 48,
     "metadata": {},
     "output_type": "execute_result"
    }
   ],
   "source": [
    "train['location'].isnull().value_counts()"
   ]
  }
 ],
 "metadata": {
  "kernelspec": {
   "display_name": "Python 3",
   "language": "python",
   "name": "python3"
  },
  "language_info": {
   "codemirror_mode": {
    "name": "ipython",
    "version": 3
   },
   "file_extension": ".py",
   "mimetype": "text/x-python",
   "name": "python",
   "nbconvert_exporter": "python",
   "pygments_lexer": "ipython3",
   "version": "3.8.2"
  }
 },
 "nbformat": 4,
 "nbformat_minor": 2
}
