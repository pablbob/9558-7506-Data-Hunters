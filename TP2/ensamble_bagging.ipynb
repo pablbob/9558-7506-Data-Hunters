{
 "cells": [
  {
   "cell_type": "markdown",
   "metadata": {},
   "source": [
    "# Imports"
   ]
  },
  {
   "cell_type": "code",
   "execution_count": 8,
   "metadata": {},
   "outputs": [],
   "source": [
    "import pandas as pd\n",
    "import numpy as np\n",
    "from numpy import mean\n",
    "from numpy import std\n",
    "import sklearn\n",
    "from sklearn import model_selection\n",
    "from sklearn.model_selection import train_test_split\n",
    "from sklearn.model_selection import cross_val_score\n",
    "from sklearn.model_selection import RepeatedStratifiedKFold\n",
    "from sklearn.ensemble import BaggingClassifier\n",
    "from sklearn.ensemble import AdaBoostClassifier\n",
    "import lightgbm as lgb\n",
    "import xgboost as xgb\n",
    "from catboost import CatBoostClassifier\n",
    "from sklearn.ensemble import VotingClassifier"
   ]
  },
  {
   "cell_type": "markdown",
   "metadata": {},
   "source": [
    "# Train"
   ]
  },
  {
   "cell_type": "code",
   "execution_count": 4,
   "metadata": {},
   "outputs": [],
   "source": [
    "train_set = pd.read_csv('train/train_encoded.csv')"
   ]
  },
  {
   "cell_type": "code",
   "execution_count": 5,
   "metadata": {},
   "outputs": [
    {
     "data": {
      "text/html": [
       "<div>\n",
       "<style scoped>\n",
       "    .dataframe tbody tr th:only-of-type {\n",
       "        vertical-align: middle;\n",
       "    }\n",
       "\n",
       "    .dataframe tbody tr th {\n",
       "        vertical-align: top;\n",
       "    }\n",
       "\n",
       "    .dataframe thead th {\n",
       "        text-align: right;\n",
       "    }\n",
       "</style>\n",
       "<table border=\"1\" class=\"dataframe\">\n",
       "  <thead>\n",
       "    <tr style=\"text-align: right;\">\n",
       "      <th></th>\n",
       "      <th>len_keyword</th>\n",
       "      <th>len_location</th>\n",
       "      <th>len_text</th>\n",
       "      <th>len_text_original</th>\n",
       "      <th>diff_len_text</th>\n",
       "      <th>keyword_sum</th>\n",
       "      <th>keyword_min</th>\n",
       "      <th>keyword_max</th>\n",
       "      <th>keyword_mean</th>\n",
       "      <th>keyword_median</th>\n",
       "      <th>...</th>\n",
       "      <th>text_min_tf-idf</th>\n",
       "      <th>text_max_tf-idf</th>\n",
       "      <th>text_mean_tf-idf</th>\n",
       "      <th>text_median_tf-idf</th>\n",
       "      <th>text_sum_w2v</th>\n",
       "      <th>text_min_w2v</th>\n",
       "      <th>text_max_w2v</th>\n",
       "      <th>text_mean_w2v</th>\n",
       "      <th>text_median_w2v</th>\n",
       "      <th>target</th>\n",
       "    </tr>\n",
       "  </thead>\n",
       "  <tbody>\n",
       "    <tr>\n",
       "      <th>0</th>\n",
       "      <td>0.0</td>\n",
       "      <td>0.0</td>\n",
       "      <td>68</td>\n",
       "      <td>69</td>\n",
       "      <td>1</td>\n",
       "      <td>1.0</td>\n",
       "      <td>1.0</td>\n",
       "      <td>1.0</td>\n",
       "      <td>1.0</td>\n",
       "      <td>1.0</td>\n",
       "      <td>...</td>\n",
       "      <td>0.099866</td>\n",
       "      <td>0.430347</td>\n",
       "      <td>0.257765</td>\n",
       "      <td>0.249176</td>\n",
       "      <td>11.683651</td>\n",
       "      <td>-0.018116</td>\n",
       "      <td>0.615265</td>\n",
       "      <td>0.177025</td>\n",
       "      <td>0.150866</td>\n",
       "      <td>1</td>\n",
       "    </tr>\n",
       "    <tr>\n",
       "      <th>1</th>\n",
       "      <td>0.0</td>\n",
       "      <td>0.0</td>\n",
       "      <td>38</td>\n",
       "      <td>38</td>\n",
       "      <td>0</td>\n",
       "      <td>1.0</td>\n",
       "      <td>1.0</td>\n",
       "      <td>1.0</td>\n",
       "      <td>1.0</td>\n",
       "      <td>1.0</td>\n",
       "      <td>...</td>\n",
       "      <td>0.227820</td>\n",
       "      <td>0.504613</td>\n",
       "      <td>0.365052</td>\n",
       "      <td>0.347656</td>\n",
       "      <td>0.790154</td>\n",
       "      <td>-0.103024</td>\n",
       "      <td>0.308946</td>\n",
       "      <td>0.079015</td>\n",
       "      <td>0.055061</td>\n",
       "      <td>1</td>\n",
       "    </tr>\n",
       "    <tr>\n",
       "      <th>2</th>\n",
       "      <td>0.0</td>\n",
       "      <td>0.0</td>\n",
       "      <td>131</td>\n",
       "      <td>133</td>\n",
       "      <td>2</td>\n",
       "      <td>1.0</td>\n",
       "      <td>1.0</td>\n",
       "      <td>1.0</td>\n",
       "      <td>1.0</td>\n",
       "      <td>1.0</td>\n",
       "      <td>...</td>\n",
       "      <td>0.074545</td>\n",
       "      <td>0.497279</td>\n",
       "      <td>0.232038</td>\n",
       "      <td>0.219919</td>\n",
       "      <td>32.468316</td>\n",
       "      <td>-0.044882</td>\n",
       "      <td>1.000000</td>\n",
       "      <td>0.154611</td>\n",
       "      <td>0.113670</td>\n",
       "      <td>1</td>\n",
       "    </tr>\n",
       "    <tr>\n",
       "      <th>3</th>\n",
       "      <td>0.0</td>\n",
       "      <td>0.0</td>\n",
       "      <td>63</td>\n",
       "      <td>65</td>\n",
       "      <td>2</td>\n",
       "      <td>1.0</td>\n",
       "      <td>1.0</td>\n",
       "      <td>1.0</td>\n",
       "      <td>1.0</td>\n",
       "      <td>1.0</td>\n",
       "      <td>...</td>\n",
       "      <td>0.128410</td>\n",
       "      <td>0.484991</td>\n",
       "      <td>0.335797</td>\n",
       "      <td>0.356367</td>\n",
       "      <td>1.943116</td>\n",
       "      <td>-0.039545</td>\n",
       "      <td>0.317247</td>\n",
       "      <td>0.092529</td>\n",
       "      <td>0.078856</td>\n",
       "      <td>1</td>\n",
       "    </tr>\n",
       "    <tr>\n",
       "      <th>4</th>\n",
       "      <td>0.0</td>\n",
       "      <td>0.0</td>\n",
       "      <td>86</td>\n",
       "      <td>88</td>\n",
       "      <td>2</td>\n",
       "      <td>1.0</td>\n",
       "      <td>1.0</td>\n",
       "      <td>1.0</td>\n",
       "      <td>1.0</td>\n",
       "      <td>1.0</td>\n",
       "      <td>...</td>\n",
       "      <td>0.096273</td>\n",
       "      <td>0.390788</td>\n",
       "      <td>0.248369</td>\n",
       "      <td>0.241596</td>\n",
       "      <td>13.153737</td>\n",
       "      <td>-0.041156</td>\n",
       "      <td>1.000000</td>\n",
       "      <td>0.125274</td>\n",
       "      <td>0.086994</td>\n",
       "      <td>1</td>\n",
       "    </tr>\n",
       "    <tr>\n",
       "      <th>...</th>\n",
       "      <td>...</td>\n",
       "      <td>...</td>\n",
       "      <td>...</td>\n",
       "      <td>...</td>\n",
       "      <td>...</td>\n",
       "      <td>...</td>\n",
       "      <td>...</td>\n",
       "      <td>...</td>\n",
       "      <td>...</td>\n",
       "      <td>...</td>\n",
       "      <td>...</td>\n",
       "      <td>...</td>\n",
       "      <td>...</td>\n",
       "      <td>...</td>\n",
       "      <td>...</td>\n",
       "      <td>...</td>\n",
       "      <td>...</td>\n",
       "      <td>...</td>\n",
       "      <td>...</td>\n",
       "      <td>...</td>\n",
       "      <td>...</td>\n",
       "    </tr>\n",
       "    <tr>\n",
       "      <th>7608</th>\n",
       "      <td>0.0</td>\n",
       "      <td>0.0</td>\n",
       "      <td>61</td>\n",
       "      <td>83</td>\n",
       "      <td>22</td>\n",
       "      <td>1.0</td>\n",
       "      <td>1.0</td>\n",
       "      <td>1.0</td>\n",
       "      <td>1.0</td>\n",
       "      <td>1.0</td>\n",
       "      <td>...</td>\n",
       "      <td>0.128512</td>\n",
       "      <td>0.391212</td>\n",
       "      <td>0.307677</td>\n",
       "      <td>0.318035</td>\n",
       "      <td>4.244816</td>\n",
       "      <td>-0.026625</td>\n",
       "      <td>0.312744</td>\n",
       "      <td>0.117912</td>\n",
       "      <td>0.114414</td>\n",
       "      <td>1</td>\n",
       "    </tr>\n",
       "    <tr>\n",
       "      <th>7609</th>\n",
       "      <td>0.0</td>\n",
       "      <td>0.0</td>\n",
       "      <td>122</td>\n",
       "      <td>125</td>\n",
       "      <td>3</td>\n",
       "      <td>1.0</td>\n",
       "      <td>1.0</td>\n",
       "      <td>1.0</td>\n",
       "      <td>1.0</td>\n",
       "      <td>1.0</td>\n",
       "      <td>...</td>\n",
       "      <td>0.166141</td>\n",
       "      <td>0.352438</td>\n",
       "      <td>0.238144</td>\n",
       "      <td>0.229751</td>\n",
       "      <td>25.374036</td>\n",
       "      <td>-0.006511</td>\n",
       "      <td>1.000000</td>\n",
       "      <td>0.211450</td>\n",
       "      <td>0.158652</td>\n",
       "      <td>1</td>\n",
       "    </tr>\n",
       "    <tr>\n",
       "      <th>7610</th>\n",
       "      <td>0.0</td>\n",
       "      <td>0.0</td>\n",
       "      <td>40</td>\n",
       "      <td>65</td>\n",
       "      <td>25</td>\n",
       "      <td>1.0</td>\n",
       "      <td>1.0</td>\n",
       "      <td>1.0</td>\n",
       "      <td>1.0</td>\n",
       "      <td>1.0</td>\n",
       "      <td>...</td>\n",
       "      <td>0.117186</td>\n",
       "      <td>0.427936</td>\n",
       "      <td>0.321743</td>\n",
       "      <td>0.353433</td>\n",
       "      <td>0.795194</td>\n",
       "      <td>-0.016643</td>\n",
       "      <td>0.215985</td>\n",
       "      <td>0.132532</td>\n",
       "      <td>0.165923</td>\n",
       "      <td>1</td>\n",
       "    </tr>\n",
       "    <tr>\n",
       "      <th>7611</th>\n",
       "      <td>0.0</td>\n",
       "      <td>0.0</td>\n",
       "      <td>137</td>\n",
       "      <td>137</td>\n",
       "      <td>0</td>\n",
       "      <td>1.0</td>\n",
       "      <td>1.0</td>\n",
       "      <td>1.0</td>\n",
       "      <td>1.0</td>\n",
       "      <td>1.0</td>\n",
       "      <td>...</td>\n",
       "      <td>0.070977</td>\n",
       "      <td>0.495946</td>\n",
       "      <td>0.222646</td>\n",
       "      <td>0.194716</td>\n",
       "      <td>24.563957</td>\n",
       "      <td>-0.091922</td>\n",
       "      <td>1.000000</td>\n",
       "      <td>0.116971</td>\n",
       "      <td>0.085238</td>\n",
       "      <td>1</td>\n",
       "    </tr>\n",
       "    <tr>\n",
       "      <th>7612</th>\n",
       "      <td>0.0</td>\n",
       "      <td>0.0</td>\n",
       "      <td>72</td>\n",
       "      <td>94</td>\n",
       "      <td>22</td>\n",
       "      <td>1.0</td>\n",
       "      <td>1.0</td>\n",
       "      <td>1.0</td>\n",
       "      <td>1.0</td>\n",
       "      <td>1.0</td>\n",
       "      <td>...</td>\n",
       "      <td>0.122275</td>\n",
       "      <td>0.380716</td>\n",
       "      <td>0.292883</td>\n",
       "      <td>0.322660</td>\n",
       "      <td>5.446468</td>\n",
       "      <td>-0.061215</td>\n",
       "      <td>0.350692</td>\n",
       "      <td>0.099027</td>\n",
       "      <td>0.079582</td>\n",
       "      <td>1</td>\n",
       "    </tr>\n",
       "  </tbody>\n",
       "</table>\n",
       "<p>7613 rows × 26 columns</p>\n",
       "</div>"
      ],
      "text/plain": [
       "      len_keyword  len_location  len_text  len_text_original  diff_len_text  \\\n",
       "0             0.0           0.0        68                 69              1   \n",
       "1             0.0           0.0        38                 38              0   \n",
       "2             0.0           0.0       131                133              2   \n",
       "3             0.0           0.0        63                 65              2   \n",
       "4             0.0           0.0        86                 88              2   \n",
       "...           ...           ...       ...                ...            ...   \n",
       "7608          0.0           0.0        61                 83             22   \n",
       "7609          0.0           0.0       122                125              3   \n",
       "7610          0.0           0.0        40                 65             25   \n",
       "7611          0.0           0.0       137                137              0   \n",
       "7612          0.0           0.0        72                 94             22   \n",
       "\n",
       "      keyword_sum  keyword_min  keyword_max  keyword_mean  keyword_median  \\\n",
       "0             1.0          1.0          1.0           1.0             1.0   \n",
       "1             1.0          1.0          1.0           1.0             1.0   \n",
       "2             1.0          1.0          1.0           1.0             1.0   \n",
       "3             1.0          1.0          1.0           1.0             1.0   \n",
       "4             1.0          1.0          1.0           1.0             1.0   \n",
       "...           ...          ...          ...           ...             ...   \n",
       "7608          1.0          1.0          1.0           1.0             1.0   \n",
       "7609          1.0          1.0          1.0           1.0             1.0   \n",
       "7610          1.0          1.0          1.0           1.0             1.0   \n",
       "7611          1.0          1.0          1.0           1.0             1.0   \n",
       "7612          1.0          1.0          1.0           1.0             1.0   \n",
       "\n",
       "      ...  text_min_tf-idf  text_max_tf-idf  text_mean_tf-idf  \\\n",
       "0     ...         0.099866         0.430347          0.257765   \n",
       "1     ...         0.227820         0.504613          0.365052   \n",
       "2     ...         0.074545         0.497279          0.232038   \n",
       "3     ...         0.128410         0.484991          0.335797   \n",
       "4     ...         0.096273         0.390788          0.248369   \n",
       "...   ...              ...              ...               ...   \n",
       "7608  ...         0.128512         0.391212          0.307677   \n",
       "7609  ...         0.166141         0.352438          0.238144   \n",
       "7610  ...         0.117186         0.427936          0.321743   \n",
       "7611  ...         0.070977         0.495946          0.222646   \n",
       "7612  ...         0.122275         0.380716          0.292883   \n",
       "\n",
       "      text_median_tf-idf  text_sum_w2v  text_min_w2v  text_max_w2v  \\\n",
       "0               0.249176     11.683651     -0.018116      0.615265   \n",
       "1               0.347656      0.790154     -0.103024      0.308946   \n",
       "2               0.219919     32.468316     -0.044882      1.000000   \n",
       "3               0.356367      1.943116     -0.039545      0.317247   \n",
       "4               0.241596     13.153737     -0.041156      1.000000   \n",
       "...                  ...           ...           ...           ...   \n",
       "7608            0.318035      4.244816     -0.026625      0.312744   \n",
       "7609            0.229751     25.374036     -0.006511      1.000000   \n",
       "7610            0.353433      0.795194     -0.016643      0.215985   \n",
       "7611            0.194716     24.563957     -0.091922      1.000000   \n",
       "7612            0.322660      5.446468     -0.061215      0.350692   \n",
       "\n",
       "      text_mean_w2v  text_median_w2v  target  \n",
       "0          0.177025         0.150866       1  \n",
       "1          0.079015         0.055061       1  \n",
       "2          0.154611         0.113670       1  \n",
       "3          0.092529         0.078856       1  \n",
       "4          0.125274         0.086994       1  \n",
       "...             ...              ...     ...  \n",
       "7608       0.117912         0.114414       1  \n",
       "7609       0.211450         0.158652       1  \n",
       "7610       0.132532         0.165923       1  \n",
       "7611       0.116971         0.085238       1  \n",
       "7612       0.099027         0.079582       1  \n",
       "\n",
       "[7613 rows x 26 columns]"
      ]
     },
     "execution_count": 5,
     "metadata": {},
     "output_type": "execute_result"
    }
   ],
   "source": [
    "train_set.drop('id', axis=1, inplace=True)\n",
    "train_set"
   ]
  },
  {
   "cell_type": "code",
   "execution_count": 12,
   "metadata": {},
   "outputs": [],
   "source": [
    "X, y = train_set.iloc[:,:-1],train_set.iloc[:,-1]\n",
    "#X_train, X_test, y_train, y_test = train_test_split(X, y, test_size=0.3)"
   ]
  },
  {
   "cell_type": "markdown",
   "metadata": {},
   "source": [
    "## Bagging"
   ]
  },
  {
   "cell_type": "code",
   "execution_count": 10,
   "metadata": {},
   "outputs": [
    {
     "name": "stdout",
     "output_type": "stream",
     "text": [
      "0.6334029299909184\n"
     ]
    }
   ],
   "source": [
    "lgbm_model = lgb.LGBMClassifier()\n",
    "\n",
    "model = BaggingClassifier(base_estimator=lgbm_model)\n",
    "\n",
    "cv = RepeatedStratifiedKFold(n_splits=10, n_repeats=5, random_state=42)\n",
    "results = model_selection.cross_val_score(model, X_train, y_train, cv=cv, scoring='f1')\n",
    "\n",
    "print(results.mean())"
   ]
  },
  {
   "cell_type": "code",
   "execution_count": 13,
   "metadata": {},
   "outputs": [
    {
     "name": "stdout",
     "output_type": "stream",
     "text": [
      "0.6438864350632691\n"
     ]
    }
   ],
   "source": [
    "lgbm_model = lgb.LGBMClassifier(objective='binary', num_leaves=40, learning_rate=0.1, max_depth=100)\n",
    "\n",
    "model = BaggingClassifier(base_estimator=lgbm_model)\n",
    "\n",
    "cv = RepeatedStratifiedKFold(n_splits=10, n_repeats=5, random_state=42)\n",
    "results = model_selection.cross_val_score(model, X, y, cv=cv, scoring='f1')\n",
    "\n",
    "print(results.mean())"
   ]
  },
  {
   "cell_type": "markdown",
   "metadata": {},
   "source": [
    "**=================**"
   ]
  },
  {
   "cell_type": "code",
   "execution_count": 14,
   "metadata": {},
   "outputs": [
    {
     "name": "stdout",
     "output_type": "stream",
     "text": [
      "0.6399951290540629\n"
     ]
    }
   ],
   "source": [
    "lgbm_model = lgb.LGBMClassifier(objective='binary', num_leaves=40, learning_rate=0.1, max_depth=100)\n",
    "\n",
    "model = BaggingClassifier(base_estimator=lgbm_model)\n",
    "\n",
    "cv = RepeatedStratifiedKFold(random_state=42)\n",
    "results = model_selection.cross_val_score(model, X, y, cv=cv, scoring='f1')\n",
    "\n",
    "print(results.mean())"
   ]
  },
  {
   "cell_type": "code",
   "execution_count": 15,
   "metadata": {},
   "outputs": [
    {
     "name": "stdout",
     "output_type": "stream",
     "text": [
      "0.6530932316096092\n"
     ]
    }
   ],
   "source": [
    "seed = 111\n",
    "num_trees = 100\n",
    "kfold = model_selection.KFold(n_splits=2)\n",
    "model = AdaBoostClassifier(n_estimators=num_trees, random_state=seed)\n",
    "\n",
    "results = model_selection.cross_val_score(model, X, y, cv=kfold)\n",
    "print(results.mean())"
   ]
  },
  {
   "cell_type": "code",
   "execution_count": 16,
   "metadata": {},
   "outputs": [
    {
     "name": "stdout",
     "output_type": "stream",
     "text": [
      "0.6705669669143589\n"
     ]
    }
   ],
   "source": [
    "kfold = model_selection.KFold(n_splits=3)\n",
    "estimators = []\n",
    "\n",
    "model1 = lgb.LGBMClassifier(objective='binary', num_leaves=20, learning_rate=0.1)\n",
    "estimators.append(('lgbm', model1))\n",
    "\n",
    "model2 = xgb.XGBClassifier(objective ='reg:logistic', colsample_bytree = 0.5,\\\n",
    "                           learning_rate = 0.01, max_depth = 100, n_estimators = 100)\n",
    "estimators.append(('xgb', model2))\n",
    "\n",
    "model3 = CatBoostClassifier(silent=True)\n",
    "estimators.append(('catboost', model3))\n",
    "\n",
    "model4 = AdaBoostClassifier(n_estimators=100, random_state=42)\n",
    "estimators.append(('adaboost', model4))\n",
    "\n",
    "ensemble = VotingClassifier(estimators)\n",
    "results = model_selection.cross_val_score(ensemble, X, y, cv=kfold)\n",
    "print(results.mean())"
   ]
  },
  {
   "cell_type": "markdown",
   "metadata": {},
   "source": [
    "0.6081618329246296"
   ]
  },
  {
   "cell_type": "code",
   "execution_count": 17,
   "metadata": {},
   "outputs": [
    {
     "name": "stdout",
     "output_type": "stream",
     "text": [
      "0.650072894456529\n"
     ]
    }
   ],
   "source": [
    "kfold = model_selection.KFold(n_splits=2)\n",
    "estimators = []\n",
    "\n",
    "model1 = lgb.LGBMClassifier()\n",
    "estimators.append(('lgbm', model1))\n",
    "\n",
    "model2 = xgb.XGBClassifier()\n",
    "estimators.append(('xgb', model2))\n",
    "\n",
    "model3 = CatBoostClassifier(silent=True)\n",
    "estimators.append(('catboost', model3))\n",
    "\n",
    "ensemble = VotingClassifier(estimators)\n",
    "results = model_selection.cross_val_score(ensemble, X, y, cv=kfold)\n",
    "print(results.mean())"
   ]
  },
  {
   "cell_type": "code",
   "execution_count": 18,
   "metadata": {},
   "outputs": [
    {
     "name": "stdout",
     "output_type": "stream",
     "text": [
      "0.6741047316523016\n"
     ]
    }
   ],
   "source": [
    "kfold = model_selection.KFold(n_splits=10)\n",
    "estimators = []\n",
    "\n",
    "\n",
    "model4 = AdaBoostClassifier(n_estimators=100, random_state=42)\n",
    "estimators.append(('adaboost', model4))\n",
    "\n",
    "model1 = lgb.LGBMClassifier(objective='binary', num_leaves=20, learning_rate=0.1)\n",
    "estimators.append(('lgbm', model1))\n",
    "\n",
    "model3 = CatBoostClassifier(silent=True)\n",
    "estimators.append(('catboost', model3))\n",
    "\n",
    "model2 = xgb.XGBClassifier(objective ='reg:logistic', colsample_bytree = 0.5,\\\n",
    "                           learning_rate = 0.01, max_depth = 100, n_estimators = 100)\n",
    "estimators.append(('xgb', model2))\n",
    "\n",
    "ensemble = VotingClassifier(estimators)\n",
    "results = model_selection.cross_val_score(ensemble, X, y, cv=kfold)\n",
    "print(results.mean())"
   ]
  },
  {
   "cell_type": "code",
   "execution_count": 19,
   "metadata": {},
   "outputs": [
    {
     "name": "stdout",
     "output_type": "stream",
     "text": [
      "0.6714773005542506\n"
     ]
    }
   ],
   "source": [
    "kfold = model_selection.KFold(n_splits=10)\n",
    "models = []\n",
    "\n",
    "model4 = AdaBoostClassifier(n_estimators=100, random_state=42)\n",
    "models.append(('adaboost', model4))\n",
    "\n",
    "model1 = lgb.LGBMClassifier(objective='binary', num_leaves=20, learning_rate=0.1)\n",
    "models.append(('lgbm', model1))\n",
    "\n",
    "model3 = CatBoostClassifier(silent=True)\n",
    "models.append(('catboost', model3))\n",
    "\n",
    "model2 = xgb.XGBClassifier(objective ='reg:logistic', colsample_bytree = 0.5,\\\n",
    "                           learning_rate = 0.1, max_depth = 100, n_estimators = 100)\n",
    "models.append(('xgb', model2))\n",
    "\n",
    "ensemble = VotingClassifier(models)\n",
    "results = model_selection.cross_val_score(ensemble, X, y, cv=kfold)\n",
    "print(results.mean())"
   ]
  },
  {
   "cell_type": "code",
   "execution_count": 25,
   "metadata": {},
   "outputs": [
    {
     "name": "stdout",
     "output_type": "stream",
     "text": [
      "0.6726608172007409\n"
     ]
    }
   ],
   "source": [
    "kfold = model_selection.KFold(n_splits=10)\n",
    "models = []\n",
    "\n",
    "model1 = lgb.LGBMClassifier(objective='binary', num_leaves=20, learning_rate=0.1)\n",
    "models.append(('lgbm', model1))\n",
    "\n",
    "model2 = xgb.XGBClassifier(objective ='reg:logistic', colsample_bytree = 0.5,\\\n",
    "                           learning_rate = 0.1, max_depth = 100, n_estimators = 100)\n",
    "models.append(('xgb', model2))\n",
    "\n",
    "model3 = CatBoostClassifier(silent=True)\n",
    "models.append(('catboost', model3))\n",
    "\n",
    "model4 = AdaBoostClassifier(n_estimators=100, random_state=42)\n",
    "models.append(('adaboost', model4))\n",
    "\n",
    "model5 = AdaBoostClassifier(n_estimators=50, random_state=42)\n",
    "models.append(('adaboost_2', model5))\n",
    "\n",
    "model6 = xgb.XGBClassifier(objective ='reg:logistic', colsample_bytree = 0.5,\\\n",
    "                           learning_rate = 0.1, max_depth = 100, n_estimators = 57)\n",
    "models.append(('xgb_2', model6))\n",
    "\n",
    "model7 = lgb.LGBMClassifier(objective='binary', num_leaves=100, learning_rate=0.1)\n",
    "models.append(('lgbm_2', model7))\n",
    "\n",
    "ensemble = VotingClassifier(models)\n",
    "results = model_selection.cross_val_score(ensemble, X, y, cv=kfold)\n",
    "print(results.mean())"
   ]
  },
  {
   "cell_type": "markdown",
   "metadata": {},
   "source": [
    "## Old model"
   ]
  },
  {
   "cell_type": "code",
   "execution_count": 27,
   "metadata": {},
   "outputs": [
    {
     "name": "stdout",
     "output_type": "stream",
     "text": [
      "Accuracy: 0.645 (0.022)\n",
      "[0.67651888 0.65897858 0.64900662 0.64855688 0.61691542 0.62837838\n",
      " 0.63545151 0.62184874 0.65442404 0.66979656 0.65084746 0.63787375\n",
      " 0.63513514 0.63476874 0.65874363 0.66034755 0.69508197 0.63497453\n",
      " 0.58181818 0.64473684 0.65776294 0.62176166 0.63772955 0.66993464\n",
      " 0.63398693 0.65912763 0.63366337 0.62091503 0.64440735 0.68300654]\n"
     ]
    }
   ],
   "source": [
    "model = BaggingClassifier(base_estimator=lgb.LGBMClassifier(objective='binary', num_leaves=40,\\\n",
    "                                                           learning_rate=0.1, max_depth=100))\n",
    "\n",
    "cv = RepeatedStratifiedKFold(n_splits=10, n_repeats=3, random_state=42)\n",
    "n_scores = cross_val_score(model, X, y, scoring='f1', cv=cv)\n",
    "\n",
    "print('Accuracy: %.3f (%.3f)' % (mean(n_scores), std(n_scores)))\n",
    "print(n_scores)"
   ]
  }
 ],
 "metadata": {
  "kernelspec": {
   "display_name": "Python 3",
   "language": "python",
   "name": "python3"
  },
  "language_info": {
   "codemirror_mode": {
    "name": "ipython",
    "version": 3
   },
   "file_extension": ".py",
   "mimetype": "text/x-python",
   "name": "python",
   "nbconvert_exporter": "python",
   "pygments_lexer": "ipython3",
   "version": "3.8.5"
  }
 },
 "nbformat": 4,
 "nbformat_minor": 4
}
