{
 "cells": [
  {
   "cell_type": "markdown",
   "metadata": {},
   "source": [
    "# Imports"
   ]
  },
  {
   "cell_type": "code",
   "execution_count": 9,
   "metadata": {},
   "outputs": [],
   "source": [
    "import pandas as pd\n",
    "import numpy as np\n",
    "from numpy import mean\n",
    "from numpy import std\n",
    "import sklearn\n",
    "from sklearn import model_selection\n",
    "from sklearn.model_selection import cross_val_score\n",
    "from sklearn.model_selection import RepeatedStratifiedKFold\n",
    "from sklearn.ensemble import BaggingClassifier\n",
    "from sklearn.ensemble import AdaBoostClassifier\n",
    "import lightgbm as lgb\n",
    "import xgboost as xgb\n",
    "from catboost import CatBoostClassifier\n",
    "from sklearn.ensemble import VotingClassifier"
   ]
  },
  {
   "cell_type": "markdown",
   "metadata": {},
   "source": [
    "# Train"
   ]
  },
  {
   "cell_type": "code",
   "execution_count": 3,
   "metadata": {},
   "outputs": [],
   "source": [
    "train_set = pd.read_csv('train/train_encoded_sin_location.csv')"
   ]
  },
  {
   "cell_type": "code",
   "execution_count": 4,
   "metadata": {},
   "outputs": [],
   "source": [
    "X, y = train_set.iloc[:,:-1],train_set.iloc[:,-1]\n",
    "#X_train, X_test, y_train, y_test = train_test_split(X, y, test_size=0.3)"
   ]
  },
  {
   "cell_type": "markdown",
   "metadata": {},
   "source": [
    "## Bagging"
   ]
  },
  {
   "cell_type": "code",
   "execution_count": 19,
   "metadata": {},
   "outputs": [
    {
     "name": "stdout",
     "output_type": "stream",
     "text": [
      "0.6439449378562999\n"
     ]
    }
   ],
   "source": [
    "lgbm_model = lgb.LGBMClassifier()\n",
    "\n",
    "model = BaggingClassifier(base_estimator=lgbm_model)\n",
    "\n",
    "cv = RepeatedStratifiedKFold(n_splits=10, n_repeats=5, random_state=42)\n",
    "results = model_selection.cross_val_score(model, X, y, cv=cv, scoring='f1')\n",
    "\n",
    "print(results.mean())"
   ]
  },
  {
   "cell_type": "code",
   "execution_count": 20,
   "metadata": {},
   "outputs": [
    {
     "name": "stdout",
     "output_type": "stream",
     "text": [
      "0.6443063087931455\n"
     ]
    }
   ],
   "source": [
    "lgbm_model = lgb.LGBMClassifier(objective='binary', num_leaves=40, learning_rate=0.1, max_depth=100)\n",
    "\n",
    "model = BaggingClassifier(base_estimator=lgbm_model)\n",
    "\n",
    "cv = RepeatedStratifiedKFold(n_splits=10, n_repeats=5, random_state=42)\n",
    "results = model_selection.cross_val_score(model, X, y, cv=cv, scoring='f1')\n",
    "\n",
    "print(results.mean())"
   ]
  },
  {
   "cell_type": "code",
   "execution_count": 21,
   "metadata": {},
   "outputs": [
    {
     "name": "stdout",
     "output_type": "stream",
     "text": [
      "0.6368600910002535\n"
     ]
    }
   ],
   "source": [
    "lgbm_model = lgb.LGBMClassifier(objective='binary', num_leaves=40, learning_rate=0.1, max_depth=100)\n",
    "\n",
    "model = BaggingClassifier(base_estimator=lgbm_model)\n",
    "\n",
    "cv = RepeatedStratifiedKFold(random_state=42)\n",
    "results = model_selection.cross_val_score(model, X, y, cv=cv, scoring='f1')\n",
    "\n",
    "print(results.mean())"
   ]
  },
  {
   "cell_type": "code",
   "execution_count": 9,
   "metadata": {},
   "outputs": [
    {
     "name": "stdout",
     "output_type": "stream",
     "text": [
      "0.4791895022596453\n"
     ]
    }
   ],
   "source": [
    "seed = 7\n",
    "num_trees = 100\n",
    "kfold = model_selection.KFold(n_splits=2)\n",
    "model = AdaBoostClassifier(n_estimators=num_trees, random_state=seed)\n",
    "\n",
    "results = model_selection.cross_val_score(model, X, y, cv=kfold)\n",
    "print(results.mean())"
   ]
  },
  {
   "cell_type": "code",
   "execution_count": 7,
   "metadata": {},
   "outputs": [
    {
     "name": "stdout",
     "output_type": "stream",
     "text": [
      "0.5943740028715023\n"
     ]
    }
   ],
   "source": [
    "kfold = model_selection.KFold(n_splits=3)\n",
    "estimators = []\n",
    "\n",
    "model1 = lgb.LGBMClassifier(objective='binary', num_leaves=20, learning_rate=0.1)\n",
    "estimators.append(('lgbm', model1))\n",
    "\n",
    "model2 = xgb.XGBClassifier(objective ='reg:logistic', colsample_bytree = 0.5,\\\n",
    "                           learning_rate = 0.01, max_depth = 100, n_estimators = 100)\n",
    "estimators.append(('xgb', model2))\n",
    "\n",
    "model3 = CatBoostClassifier(silent=True)\n",
    "estimators.append(('catboost', model3))\n",
    "\n",
    "model4 = AdaBoostClassifier(n_estimators=100, random_state=42)\n",
    "estimators.append(('adaboost', model4))\n",
    "\n",
    "ensemble = VotingClassifier(estimators)\n",
    "results = model_selection.cross_val_score(ensemble, X, y, cv=kfold)\n",
    "print(results.mean())"
   ]
  },
  {
   "cell_type": "markdown",
   "metadata": {},
   "source": [
    "0.6081618329246296"
   ]
  },
  {
   "cell_type": "code",
   "execution_count": 8,
   "metadata": {},
   "outputs": [
    {
     "name": "stdout",
     "output_type": "stream",
     "text": [
      "0.590698799857165\n"
     ]
    }
   ],
   "source": [
    "kfold = model_selection.KFold(n_splits=2)\n",
    "estimators = []\n",
    "\n",
    "model1 = lgb.LGBMClassifier()\n",
    "estimators.append(('lgbm', model1))\n",
    "\n",
    "model2 = xgb.XGBClassifier()\n",
    "estimators.append(('xgb', model2))\n",
    "\n",
    "model3 = CatBoostClassifier(silent=True)\n",
    "estimators.append(('catboost', model3))\n",
    "\n",
    "ensemble = VotingClassifier(estimators)\n",
    "results = model_selection.cross_val_score(ensemble, X, y, cv=kfold)\n",
    "print(results.mean())"
   ]
  },
  {
   "cell_type": "code",
   "execution_count": 6,
   "metadata": {},
   "outputs": [
    {
     "name": "stdout",
     "output_type": "stream",
     "text": [
      "0.6081618329246296\n"
     ]
    }
   ],
   "source": [
    "kfold = model_selection.KFold(n_splits=10)\n",
    "estimators = []\n",
    "\n",
    "\n",
    "model4 = AdaBoostClassifier(n_estimators=100, random_state=42)\n",
    "estimators.append(('adaboost', model4))\n",
    "\n",
    "model1 = lgb.LGBMClassifier(objective='binary', num_leaves=20, learning_rate=0.1)\n",
    "estimators.append(('lgbm', model1))\n",
    "\n",
    "model3 = CatBoostClassifier(silent=True)\n",
    "estimators.append(('catboost', model3))\n",
    "\n",
    "model2 = xgb.XGBClassifier(objective ='reg:logistic', colsample_bytree = 0.5,\\\n",
    "                           learning_rate = 0.01, max_depth = 100, n_estimators = 100)\n",
    "estimators.append(('xgb', model2))\n",
    "\n",
    "ensemble = VotingClassifier(estimators)\n",
    "results = model_selection.cross_val_score(ensemble, X, y, cv=kfold)\n",
    "print(results.mean())"
   ]
  },
  {
   "cell_type": "markdown",
   "metadata": {},
   "source": [
    "## Old model"
   ]
  },
  {
   "cell_type": "code",
   "execution_count": 11,
   "metadata": {},
   "outputs": [
    {
     "name": "stdout",
     "output_type": "stream",
     "text": [
      "Accuracy: 0.642 (0.019)\n",
      "[0.67802385 0.64802632 0.6422629  0.63681592 0.63356164 0.64321608\n",
      " 0.65051903 0.6271777  0.63481229 0.63497453 0.6609589  0.64965986\n",
      " 0.60988075 0.65313029 0.6746167  0.66126418 0.65897858 0.63439065\n",
      " 0.62605753 0.58741259 0.6409396  0.6272578  0.64371773 0.63959391\n",
      " 0.64418212 0.66438356 0.64493997 0.6523888  0.60899654 0.66225166]\n"
     ]
    }
   ],
   "source": [
    "model = BaggingClassifier(base_estimator=lgb.LGBMClassifier(objective='binary', num_leaves=40,\\\n",
    "                                                           learning_rate=0.1, max_depth=100))\n",
    "\n",
    "cv = RepeatedStratifiedKFold(n_splits=10, n_repeats=3, random_state=42)\n",
    "n_scores = cross_val_score(model, X, y, scoring='f1', cv=cv)\n",
    "\n",
    "print('Accuracy: %.3f (%.3f)' % (mean(n_scores), std(n_scores)))\n",
    "print(n_scores)"
   ]
  }
 ],
 "metadata": {
  "kernelspec": {
   "display_name": "Python 3",
   "language": "python",
   "name": "python3"
  },
  "language_info": {
   "codemirror_mode": {
    "name": "ipython",
    "version": 3
   },
   "file_extension": ".py",
   "mimetype": "text/x-python",
   "name": "python",
   "nbconvert_exporter": "python",
   "pygments_lexer": "ipython3",
   "version": "3.8.5"
  }
 },
 "nbformat": 4,
 "nbformat_minor": 4
}
