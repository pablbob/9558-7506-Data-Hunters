{
 "cells": [
  {
   "cell_type": "markdown",
   "metadata": {},
   "source": [
    "# Imports"
   ]
  },
  {
   "cell_type": "code",
   "execution_count": 85,
   "metadata": {},
   "outputs": [
    {
     "name": "stderr",
     "output_type": "stream",
     "text": [
      "[nltk_data] Downloading package punkt to /home/ben/nltk_data...\n",
      "[nltk_data]   Package punkt is already up-to-date!\n",
      "[nltk_data] Downloading package stopwords to /home/ben/nltk_data...\n",
      "[nltk_data]   Package stopwords is already up-to-date!\n"
     ]
    },
    {
     "data": {
      "text/plain": [
       "True"
      ]
     },
     "execution_count": 85,
     "metadata": {},
     "output_type": "execute_result"
    }
   ],
   "source": [
    "import numpy as np\n",
    "import pandas as pd\n",
    "import re\n",
    "import nltk #pip install nltk\n",
    "from nltk.corpus import stopwords\n",
    "nltk.download('punkt')\n",
    "nltk.download('stopwords')"
   ]
  },
  {
   "cell_type": "markdown",
   "metadata": {},
   "source": [
    "# Funciones"
   ]
  },
  {
   "cell_type": "code",
   "execution_count": 36,
   "metadata": {},
   "outputs": [],
   "source": [
    "porter=nltk.PorterStemmer()"
   ]
  },
  {
   "cell_type": "markdown",
   "metadata": {},
   "source": [
    "## Keyword"
   ]
  },
  {
   "cell_type": "code",
   "execution_count": 59,
   "metadata": {},
   "outputs": [],
   "source": [
    "def clean_keyword(keyword):\n",
    "    \n",
    "    if keyword is not np.nan:\n",
    "        keyword = re.sub(\"%20\", \" \", keyword)\n",
    "        \n",
    "        token_keyword = nltk.word_tokenize(keyword)\n",
    "        new_keyword = []\n",
    "        \n",
    "        for word in token_keyword:\n",
    "            if word not in stopwords.words('english'):\n",
    "                new_keyword.append(porter.stem(word))\n",
    "\n",
    "        keyword = \" \".join(new_keyword)\n",
    "        \n",
    "    return keyword"
   ]
  },
  {
   "cell_type": "markdown",
   "metadata": {},
   "source": [
    "## Location"
   ]
  },
  {
   "cell_type": "code",
   "execution_count": 141,
   "metadata": {},
   "outputs": [],
   "source": [
    "def clean_location(location):\n",
    "    if location is not np.nan:\n",
    "        location = location.lower()\n",
    "        location = re.sub(\"[^a-zñ, -]\", \"\", location)\n",
    "        location = re.sub(\"(^ +)|( +$)\", \"\", location)\n",
    "        location = re.sub(\"[,-]\", \" \", location)\n",
    "        location = re.sub(r\"\\busa*\\b\", \"united states of america\", location)\n",
    "        location = re.sub(r\"\\buk\\b\", \"united kingdom\", location)\n",
    "        location = re.sub(r\"\\bny\\b\", \"new york\", location)\n",
    "        location = re.sub(r\"\\bnyc\\b\", \"new york city\", location)\n",
    "        location = re.sub(r\"\\bca\\b\", \"california\", location)\n",
    "        location = re.sub(r\"\\bnc\\b\", \"north carolina\", location)\n",
    "        location = re.sub(r\"\\btx\\b\", \"texas\", location)\n",
    "        location = re.sub(r\"\\bga\\b\", \"georgia\", location)\n",
    "        location = re.sub(r\"\\bncr\\b\", \"national capital region of india\", location)\n",
    "        location = re.sub(r\"\\bfl\\b\", \"florida\", location)\n",
    "        location = re.sub(r\"\\bsfo\\b\", \"san francisco\", location)\n",
    "        location = re.sub(r\"\\bco\\b\", \"colorado\", location)\n",
    "        location = re.sub(r\"\\boh\\b\", \"ohio\", location)\n",
    "        location = re.sub(r\"\\bok\\b\", \"oklahoma\", location)\n",
    "        \n",
    "        location = re.sub(\" +\", \" \", location)\n",
    "    \n",
    "    return location"
   ]
  },
  {
   "cell_type": "markdown",
   "metadata": {},
   "source": [
    "## Text"
   ]
  },
  {
   "cell_type": "code",
   "execution_count": 4,
   "metadata": {},
   "outputs": [],
   "source": [
    "def replace_text(text):\n",
    "    text = text.replace('&amp', 'and')\n",
    "    text = text.replace('amp;', 'and')\n",
    "    text = text.replace('~', ' ')\n",
    "    text = text.replace('Ûª', '\\'')\n",
    "    text = text.replace('ÛÒ', ' ')\n",
    "    text = text.replace('ÛÓ', ' ')\n",
    "    text = text.replace('&gt;', ' ')\n",
    "    text = text.replace('&lt;', ' ')\n",
    "    text = text.replace('ÛÏ', ' ')\n",
    "    text = text.replace('Û', ' ')\n",
    "    text = text.replace('\\n', ' ')\n",
    "    text = text.replace('å«', '\\'')\n",
    "    text = text.replace('åÊ', ' ')\n",
    "    text = text.replace('åÇ', ' ')\n",
    "    text = text.replace('Ì©', 'e')\n",
    "    text = text.replace('Ì¤', 'c')\n",
    "    text = text.replace('Ì¼', 'u')\n",
    "    text = text.replace('Ì_', 'o')\n",
    "    text = text.replace('`', '\\'' )\n",
    "    text = text.replace('\\x89', '')\n",
    "    text = text.replace('\\x9d', '')\n",
    "    \n",
    "    return text"
   ]
  },
  {
   "cell_type": "code",
   "execution_count": 33,
   "metadata": {},
   "outputs": [],
   "source": [
    "one_letter=\"adhijklqruvwxyz\"\n",
    "double_letters=\"bcefgmnopst\""
   ]
  },
  {
   "cell_type": "code",
   "execution_count": 60,
   "metadata": {},
   "outputs": [],
   "source": [
    "def clean_text(text):\n",
    "    text = text.lower()\n",
    "    \n",
    "    text = re.sub(\"(http|https)\\S+\", \"\", text)\n",
    "    text = re.sub(\" can(\\'*)t \", \" cannot \", text)\n",
    "    text = re.sub(\"n\\'t \", \" not \", text)\n",
    "    text = re.sub(\"\\'s \", \" is \", text)\n",
    "    text = re.sub(\"\\'re \", \" are \", text)\n",
    "    text = re.sub(\"\\'ve \", \" have \", text)\n",
    "    text = re.sub(\"\\'d \", \" would \", text)\n",
    "    text = re.sub(\"\\'m \", \" am \", text)\n",
    "    text = re.sub(\"\\.|/|\\+|-|÷|\\*|:\", \" \", text)\n",
    "    text = re.sub(\"( ' )|( # )\", \" \", text)\n",
    "    text = re.sub(\"[^a-z 0-9]\", \"\", text)\n",
    "    \n",
    "    \n",
    "    for letter in one_letter:\n",
    "        re_gex = letter + \"(\" + letter + \"+)\"\n",
    "        text = re.sub(re_gex, letter, text)\n",
    "        \n",
    "    #Generalizamos para todas las palabras que contengan más de 2 letras iguales\n",
    "    for letter in double_letters:\n",
    "        double = letter + letter\n",
    "        re_gex = double + \"+\"\n",
    "        text = re.sub(re_gex, double, text)\n",
    "    \n",
    "    split_text = re.split(\"(\\d+)\", text)\n",
    "    text = \" \".join(split_text)\n",
    "        \n",
    "    text = re.sub(\"[0-9]\\d*\", \"number\", text)\n",
    "    \n",
    "    token_text = nltk.word_tokenize(text)    \n",
    "    new_text = []\n",
    "    for word in token_text:\n",
    "        if word not in stopwords.words('english'):\n",
    "            new_text.append(porter.stem(word))\n",
    "    \n",
    "    text = \" \".join(new_text)\n",
    "    text = re.sub(\" +\", \" \", text) #Espacios múltiples\n",
    "    \n",
    "    return text"
   ]
  },
  {
   "cell_type": "markdown",
   "metadata": {},
   "source": [
    "## Extras"
   ]
  },
  {
   "cell_type": "code",
   "execution_count": 7,
   "metadata": {},
   "outputs": [],
   "source": [
    "english = 'abcdefghijklmnopqrstuvwxyz0123456789 '\n",
    "len_english = len(english)"
   ]
  },
  {
   "cell_type": "code",
   "execution_count": 8,
   "metadata": {},
   "outputs": [],
   "source": [
    "def search_text_samples(col_text):\n",
    "    text = {}\n",
    "    len_col_text = len(col_text)\n",
    "    for i in range(0, len_col_text):\n",
    "        len_text = len(col_text.iloc[i])\n",
    "        for j in range(0, len_text):\n",
    "            lower_case = col_text.iloc[i].lower()\n",
    "            special_character = []\n",
    "            if lower_case[j] not in english:\n",
    "                if lower_case[j] in text:\n",
    "                    special_character = text[lower_case[j]]\n",
    "                special_character.append(i)\n",
    "                text[lower_case[j]] = special_character\n",
    "    return text"
   ]
  },
  {
   "cell_type": "code",
   "execution_count": 9,
   "metadata": {},
   "outputs": [],
   "source": [
    "def show_text_samples(col_text, text):\n",
    "    for key in text.keys():\n",
    "        sample = text[key][0]\n",
    "        print(col_text.iloc[sample])"
   ]
  },
  {
   "cell_type": "markdown",
   "metadata": {},
   "source": [
    "# Train"
   ]
  },
  {
   "cell_type": "code",
   "execution_count": 142,
   "metadata": {},
   "outputs": [
    {
     "data": {
      "text/html": [
       "<div>\n",
       "<style scoped>\n",
       "    .dataframe tbody tr th:only-of-type {\n",
       "        vertical-align: middle;\n",
       "    }\n",
       "\n",
       "    .dataframe tbody tr th {\n",
       "        vertical-align: top;\n",
       "    }\n",
       "\n",
       "    .dataframe thead th {\n",
       "        text-align: right;\n",
       "    }\n",
       "</style>\n",
       "<table border=\"1\" class=\"dataframe\">\n",
       "  <thead>\n",
       "    <tr style=\"text-align: right;\">\n",
       "      <th></th>\n",
       "      <th>id</th>\n",
       "      <th>keyword</th>\n",
       "      <th>location</th>\n",
       "      <th>text</th>\n",
       "      <th>target</th>\n",
       "    </tr>\n",
       "  </thead>\n",
       "  <tbody>\n",
       "    <tr>\n",
       "      <th>0</th>\n",
       "      <td>1</td>\n",
       "      <td>NaN</td>\n",
       "      <td>NaN</td>\n",
       "      <td>Our Deeds are the Reason of this #earthquake M...</td>\n",
       "      <td>1</td>\n",
       "    </tr>\n",
       "    <tr>\n",
       "      <th>1</th>\n",
       "      <td>4</td>\n",
       "      <td>NaN</td>\n",
       "      <td>NaN</td>\n",
       "      <td>Forest fire near La Ronge Sask. Canada</td>\n",
       "      <td>1</td>\n",
       "    </tr>\n",
       "    <tr>\n",
       "      <th>2</th>\n",
       "      <td>5</td>\n",
       "      <td>NaN</td>\n",
       "      <td>NaN</td>\n",
       "      <td>All residents asked to 'shelter in place' are ...</td>\n",
       "      <td>1</td>\n",
       "    </tr>\n",
       "    <tr>\n",
       "      <th>3</th>\n",
       "      <td>6</td>\n",
       "      <td>NaN</td>\n",
       "      <td>NaN</td>\n",
       "      <td>13,000 people receive #wildfires evacuation or...</td>\n",
       "      <td>1</td>\n",
       "    </tr>\n",
       "    <tr>\n",
       "      <th>4</th>\n",
       "      <td>7</td>\n",
       "      <td>NaN</td>\n",
       "      <td>NaN</td>\n",
       "      <td>Just got sent this photo from Ruby #Alaska as ...</td>\n",
       "      <td>1</td>\n",
       "    </tr>\n",
       "    <tr>\n",
       "      <th>...</th>\n",
       "      <td>...</td>\n",
       "      <td>...</td>\n",
       "      <td>...</td>\n",
       "      <td>...</td>\n",
       "      <td>...</td>\n",
       "    </tr>\n",
       "    <tr>\n",
       "      <th>7608</th>\n",
       "      <td>10869</td>\n",
       "      <td>NaN</td>\n",
       "      <td>NaN</td>\n",
       "      <td>Two giant cranes holding a bridge collapse int...</td>\n",
       "      <td>1</td>\n",
       "    </tr>\n",
       "    <tr>\n",
       "      <th>7609</th>\n",
       "      <td>10870</td>\n",
       "      <td>NaN</td>\n",
       "      <td>NaN</td>\n",
       "      <td>@aria_ahrary @TheTawniest The out of control w...</td>\n",
       "      <td>1</td>\n",
       "    </tr>\n",
       "    <tr>\n",
       "      <th>7610</th>\n",
       "      <td>10871</td>\n",
       "      <td>NaN</td>\n",
       "      <td>NaN</td>\n",
       "      <td>M1.94 [01:04 UTC]?5km S of Volcano Hawaii. htt...</td>\n",
       "      <td>1</td>\n",
       "    </tr>\n",
       "    <tr>\n",
       "      <th>7611</th>\n",
       "      <td>10872</td>\n",
       "      <td>NaN</td>\n",
       "      <td>NaN</td>\n",
       "      <td>Police investigating after an e-bike collided ...</td>\n",
       "      <td>1</td>\n",
       "    </tr>\n",
       "    <tr>\n",
       "      <th>7612</th>\n",
       "      <td>10873</td>\n",
       "      <td>NaN</td>\n",
       "      <td>NaN</td>\n",
       "      <td>The Latest: More Homes Razed by Northern Calif...</td>\n",
       "      <td>1</td>\n",
       "    </tr>\n",
       "  </tbody>\n",
       "</table>\n",
       "<p>7613 rows × 5 columns</p>\n",
       "</div>"
      ],
      "text/plain": [
       "         id keyword location  \\\n",
       "0         1     NaN      NaN   \n",
       "1         4     NaN      NaN   \n",
       "2         5     NaN      NaN   \n",
       "3         6     NaN      NaN   \n",
       "4         7     NaN      NaN   \n",
       "...     ...     ...      ...   \n",
       "7608  10869     NaN      NaN   \n",
       "7609  10870     NaN      NaN   \n",
       "7610  10871     NaN      NaN   \n",
       "7611  10872     NaN      NaN   \n",
       "7612  10873     NaN      NaN   \n",
       "\n",
       "                                                   text  target  \n",
       "0     Our Deeds are the Reason of this #earthquake M...       1  \n",
       "1                Forest fire near La Ronge Sask. Canada       1  \n",
       "2     All residents asked to 'shelter in place' are ...       1  \n",
       "3     13,000 people receive #wildfires evacuation or...       1  \n",
       "4     Just got sent this photo from Ruby #Alaska as ...       1  \n",
       "...                                                 ...     ...  \n",
       "7608  Two giant cranes holding a bridge collapse int...       1  \n",
       "7609  @aria_ahrary @TheTawniest The out of control w...       1  \n",
       "7610  M1.94 [01:04 UTC]?5km S of Volcano Hawaii. htt...       1  \n",
       "7611  Police investigating after an e-bike collided ...       1  \n",
       "7612  The Latest: More Homes Razed by Northern Calif...       1  \n",
       "\n",
       "[7613 rows x 5 columns]"
      ]
     },
     "execution_count": 142,
     "metadata": {},
     "output_type": "execute_result"
    }
   ],
   "source": [
    "train = pd.read_csv('train/train_original.csv')\n",
    "train"
   ]
  },
  {
   "cell_type": "markdown",
   "metadata": {},
   "source": [
    "## Keyword"
   ]
  },
  {
   "cell_type": "code",
   "execution_count": 70,
   "metadata": {},
   "outputs": [
    {
     "data": {
      "text/plain": [
       "array([nan, 'ambulance', 'army', 'avalanche', 'blazing', 'blood',\n",
       "       'body%20bags', 'buildings%20burning', 'bush%20fires',\n",
       "       'chemical%20emergency', 'collided', 'crushed', 'dead', 'deluged',\n",
       "       'derailed', 'destroyed', 'devastation', 'drowned', 'electrocuted',\n",
       "       'epicentre', 'exploded', 'fatalities', 'first%20responders',\n",
       "       'floods', 'harm', 'hijack', 'hurricane', 'inundation',\n",
       "       'mass%20murder', 'military', 'obliterate', 'pandemonium',\n",
       "       'quarantined', 'rescue', 'rubble', 'screams', 'sirens',\n",
       "       'structural%20failure', 'survive', 'threat', 'trapped', 'twister',\n",
       "       'war%20zone', 'wildfire', 'wreckage'], dtype=object)"
      ]
     },
     "execution_count": 70,
     "metadata": {},
     "output_type": "execute_result"
    }
   ],
   "source": [
    "train['keyword'].unique()[::5]"
   ]
  },
  {
   "cell_type": "code",
   "execution_count": 71,
   "metadata": {},
   "outputs": [],
   "source": [
    "train['keyword'] = train['keyword'].apply(clean_keyword)"
   ]
  },
  {
   "cell_type": "code",
   "execution_count": 72,
   "metadata": {},
   "outputs": [
    {
     "data": {
      "text/plain": [
       "array([nan, 'ablaz', 'accid', 'aftershock', 'airplan accid', 'ambul',\n",
       "       'annihil', 'apocalyps', 'armageddon', 'armi', 'arson', 'arsonist',\n",
       "       'attack', 'avalanch', 'battl', 'bioterror', 'blaze', 'bleed',\n",
       "       'blew', 'blight', 'blizzard', 'blood', 'bloodi', 'blown',\n",
       "       'bodi bag', 'bomb', 'bridg collaps', 'build burn', 'build fire',\n",
       "       'burn', 'burn build', 'bush fire', 'casualti', 'catastroph',\n",
       "       'chemic emerg', 'cliff fall', 'collaps', 'collid', 'collis',\n",
       "       'crash', 'crush', 'curfew', 'cyclon', 'damag', 'danger', 'dead',\n",
       "       'death', 'debri', 'delug', 'demolish', 'demolit', 'derail',\n",
       "       'desol', 'destroy', 'destruct', 'deton', 'devast', 'disast',\n",
       "       'displac', 'drought', 'drown', 'dust storm', 'earthquak',\n",
       "       'electrocut', 'emerg', 'emerg plan', 'emerg servic', 'engulf',\n",
       "       'epicentr', 'evacu', 'explod', 'explos', 'eyewit', 'famin',\n",
       "       'fatal', 'fear', 'fire', 'fire truck', 'first respond', 'flame',\n",
       "       'flatten', 'flood', 'forest fire', 'hail', 'hailstorm', 'harm',\n",
       "       'hazard', 'heat wave', 'hellfir', 'hijack', 'hostag', 'hurrican',\n",
       "       'injur', 'injuri', 'inund', 'landslid', 'lava', 'lightn',\n",
       "       'loud bang', 'mass murder', 'massacr', 'mayhem', 'meltdown',\n",
       "       'militari', 'mudslid', 'natur disast', 'nuclear disast',\n",
       "       'nuclear reactor', 'obliter', 'oil spill', 'outbreak',\n",
       "       'pandemonium', 'panic', 'panick', 'polic', 'quarantin',\n",
       "       'radiat emerg', 'rainstorm', 'raze', 'refuge', 'rescu', 'rescuer',\n",
       "       'riot', 'rubbl', 'ruin', 'sandstorm', 'scream', 'seismic',\n",
       "       'sinkhol', 'sink', 'siren', 'smoke', 'snowstorm', 'storm',\n",
       "       'stretcher', 'structur failur', 'suicid bomb', 'suicid bomber',\n",
       "       'sunk', 'surviv', 'survivor', 'terror', 'terrorist', 'threat',\n",
       "       'thunder', 'thunderstorm', 'tornado', 'tragedi', 'trap', 'trauma',\n",
       "       'traumatis', 'troubl', 'tsunami', 'twister', 'typhoon', 'upheav',\n",
       "       'violent storm', 'volcano', 'war zone', 'weapon', 'whirlwind',\n",
       "       'wild fire', 'wildfir', 'windstorm', 'wound', 'wreck', 'wreckag'],\n",
       "      dtype=object)"
      ]
     },
     "execution_count": 72,
     "metadata": {},
     "output_type": "execute_result"
    }
   ],
   "source": [
    "train['keyword'].unique()"
   ]
  },
  {
   "cell_type": "code",
   "execution_count": 73,
   "metadata": {},
   "outputs": [
    {
     "data": {
      "text/plain": [
       "167"
      ]
     },
     "execution_count": 73,
     "metadata": {},
     "output_type": "execute_result"
    }
   ],
   "source": [
    "len(train['keyword'].unique())"
   ]
  },
  {
   "cell_type": "markdown",
   "metadata": {},
   "source": [
    "## Location"
   ]
  },
  {
   "cell_type": "code",
   "execution_count": 143,
   "metadata": {},
   "outputs": [
    {
     "data": {
      "text/plain": [
       "array([nan, 'Santa Clara, CA', 'Oshawa, Canada', 'italy', 'Boston',\n",
       "       'Elk Grove, CA, USA', 'Helsinki, Finland',\n",
       "       'North-East Region, Singapore', 'West Bank, Gaza Strip',\n",
       "       'The Hammock, FL, USA', 'Washington D.C.', 'Atlanta,Ga',\n",
       "       'Swag Francisco', '?205?478?', 'Scotland', 'North Jersey',\n",
       "       'Oklahoma', 'New Your', 'Menlo Park. SFO. The World.',\n",
       "       'MY RTs ARE NOT ENDORSEMENTS', 'Pittsburgh PA',\n",
       "       'taken by piper curda', '956', 'Whiterun, Skyrim',\n",
       "       'Hoxton, London', 'Hartford  London Hong Kong', 'N?? Y???.',\n",
       "       'Abuja, Nigeria', 'Pompano Beach, FL', 'Fort Smith, AR',\n",
       "       'On the court ', '21.462446,-158.022017', 'San Antonio, TX',\n",
       "       'Ankara - Malatya - ad Orontem', 'Hartford,  connecticut', 'USAoV',\n",
       "       'UPTOWN ', 'the void, U.S.A', '518', 'Otsego, MI',\n",
       "       'aggressive cannoli eater ', 'Anchorage, AK', 'Michigan, USA',\n",
       "       'Johannesburg ', 'Patra-Greece.', \"Sharkatraz/Bindle's Cleft, PA\",\n",
       "       'ITALY', 'UK  & Germany', 'Where the money at', '94123', 'chicago',\n",
       "       'Kutztown, PA', 'Alexandria, VA, USA', 'Alaska',\n",
       "       'Gold Coast, Qld, Australia', 'Bend, Oregon',\n",
       "       '?????? in Yokohama Japan', 'Los Angeles... CA... USA', 'Dimapur',\n",
       "       'Fort Wayne, IN', 'Bremerton, WA', 'lost in my thoughts', 'manaus',\n",
       "       'Lubbock, Texas', 'Kualar Lumpur, Malaysia',\n",
       "       'Lansdale,Pennsylvania', 'Calgary, AB, Canada',\n",
       "       'SWinfo@dot.state.al.us', '570 Vanderbilt; Brooklyn, NY', 'rome',\n",
       "       'Pune, Maharashtra', 'Bronx NY', 'Saint Paul',\n",
       "       'Asia European Continent Korea ', 'Rapid City, Black Hills, SD',\n",
       "       \"i'm a Citizen of the World\", 'Stay Tuned ;) ',\n",
       "       'Storybrooke / The Moors', 'South, England',\n",
       "       'Eaubonne, 95, France', 'prob turning up with sheen', 'Amarillo',\n",
       "       'Durham, NC', 'Macon, GA', 'Area 8 ', 'Coventry, Rhode Island',\n",
       "       'tripoli international airport', 'Here, there and everywhere',\n",
       "       'Columbus, Georgia',\n",
       "       'youtube.com/channel/UCHWTLC9B4ZjUGh7yDlb55Iw', '21, Porto',\n",
       "       'BrasÌ_lia', 'B&B near Alton Towers', 'Hame', 'Dalston, Hackney',\n",
       "       'Johns Creek, GA', 'ÌÏT: 27.9136024,-81.6078532',\n",
       "       'Bon Temps Louisiana', 'Auburn ', 'Bangalore City, India',\n",
       "       'El Dorado, Arkansas', 'Noida, NCR, India', 'The Triskelion',\n",
       "       'Kleenex factory', 'Santiago,RepÌ¼blica Dominicana',\n",
       "       'Newcastle, OK', 'UK,singer,songwriter,?2 act',\n",
       "       'Somewhere between here & there', 'Hartford, Connecticut',\n",
       "       'Webster, TX', 'cody, austin follows ?*?',\n",
       "       'Click the link below, okay '], dtype=object)"
      ]
     },
     "execution_count": 143,
     "metadata": {},
     "output_type": "execute_result"
    }
   ],
   "source": [
    "train['location'].unique()[::30]"
   ]
  },
  {
   "cell_type": "code",
   "execution_count": 144,
   "metadata": {},
   "outputs": [],
   "source": [
    "train['location'] = train['location'].replace('M!$$!$$!PP!', 'Mississippi')\n",
    "train['location'] = train['location'].apply(clean_location)"
   ]
  },
  {
   "cell_type": "code",
   "execution_count": 145,
   "metadata": {},
   "outputs": [
    {
     "data": {
      "text/plain": [
       "array([nan, 'santa clara california', 'baker city oregon', 'toronto',\n",
       "       'the own zone layer', 'austin texas', 'perthshire', 'atlanta',\n",
       "       'ph', 'brasil', 'washington dc area', 'lima peru', 'indiana',\n",
       "       'me mammys belly', 'biloxi mississippi', 'georgia', 'miami',\n",
       "       'gia kardashianempire', 'puerto rico', 'new orleans louisiana',\n",
       "       'belleville illinois', 'whiterun skyrim',\n",
       "       'las vegas nv united states of america', 'wellington new zealand',\n",
       "       'wales', 'draw a circle thats the earth', 'spokane wa',\n",
       "       'protectingtitans side', 'th st ss', 'san diego texas',\n",
       "       'illinois united states of america', 'columbia sc',\n",
       "       'orlando florida', 'asuncin py tbingen ger', 'ct new york city',\n",
       "       'fruit bowl', 'atlantic ia', 'coimbatore', 'chile',\n",
       "       'georgia united states of america', 'the meadow',\n",
       "       'nearest trash can', 'lynwood california', 'ct new york',\n",
       "       'tchira venezuela', 'mumbai maharashtra',\n",
       "       'united states of america northern virginia', 'kenosha wi',\n",
       "       'breaking news', 'cleveland tn', 'earth milky way universe',\n",
       "       'techfish', 'yewa zone', 'the desert', 'bandung', 'leeds',\n",
       "       'ocean city nj', 'lansdale pennsylvania', 'the barn',\n",
       "       'crayford london', 'free state south africa', 'cuba',\n",
       "       'orlando florida united states of america', 'louisiana', 'dundee',\n",
       "       'why should you know', 'fresno', 'detroit michigan',\n",
       "       'birmingham bristol', 'dhaka bangladsh', 'dudetown', 'illinois',\n",
       "       'the kingdom of fife scotland', 'pawnee', 'poplar london',\n",
       "       'paradise', 'iminchina', 'cassadaga florida', 'dakar',\n",
       "       'wakefield west yorkshire', 'lakewood tennessee',\n",
       "       'rhyme or reason', 'medelln antioquia', 'pittsboro',\n",
       "       'email lovethterrygmailcom', 'gaffney sc', 'numenor', 'indiland',\n",
       "       'new york city international', 'elvy',\n",
       "       'gotham city united states of america',\n",
       "       'wisconsin united states of america',\n",
       "       'new hampshire united states of america', 'st louis',\n",
       "       'vail valley', 'yogya berhati nyaman', 'plano il'], dtype=object)"
      ]
     },
     "execution_count": 145,
     "metadata": {},
     "output_type": "execute_result"
    }
   ],
   "source": [
    "train['location'].unique()[::30]"
   ]
  },
  {
   "cell_type": "code",
   "execution_count": 146,
   "metadata": {},
   "outputs": [
    {
     "data": {
      "text/plain": [
       "2897"
      ]
     },
     "execution_count": 146,
     "metadata": {},
     "output_type": "execute_result"
    }
   ],
   "source": [
    "len(train['location'].unique())"
   ]
  },
  {
   "cell_type": "markdown",
   "metadata": {},
   "source": [
    "## Text"
   ]
  },
  {
   "cell_type": "code",
   "execution_count": 79,
   "metadata": {},
   "outputs": [
    {
     "name": "stdout",
     "output_type": "stream",
     "text": [
      "Our Deeds are the Reason of this #earthquake May ALLAH Forgive us all\n",
      "Forest fire near La Ronge Sask. Canada\n",
      "All residents asked to 'shelter in place' are being notified by officers. No other evacuation or shelter in place orders are expected\n",
      "13,000 people receive #wildfires evacuation orders in California \n",
      "#RockyFire Update => California Hwy. 20 closed in both directions due to Lake County fire - #CAfire #wildfires\n",
      "#RockyFire Update => California Hwy. 20 closed in both directions due to Lake County fire - #CAfire #wildfires\n",
      "#RockyFire Update => California Hwy. 20 closed in both directions due to Lake County fire - #CAfire #wildfires\n",
      "What's up man?\n",
      "What a goooooooaaaaaal!!!!!!\n",
      "London is cool ;)\n",
      "London is cool ;)\n",
      "Cooool :)\n",
      "@bbcmtd Wholesale Markets ablaze http://t.co/lHYXEOHY6C\n",
      "@bbcmtd Wholesale Markets ablaze http://t.co/lHYXEOHY6C\n",
      "Barbados #Bridgetown JAMAICA ÛÒ Two cars set ablaze: SANTA CRUZ ÛÓ Head of the St Elizabeth Police Superintende...  http://t.co/wDUEaj8Q4J\n",
      "Barbados #Bridgetown JAMAICA ÛÒ Two cars set ablaze: SANTA CRUZ ÛÓ Head of the St Elizabeth Police Superintende...  http://t.co/wDUEaj8Q4J\n",
      "Barbados #Bridgetown JAMAICA ÛÒ Two cars set ablaze: SANTA CRUZ ÛÓ Head of the St Elizabeth Police Superintende...  http://t.co/wDUEaj8Q4J\n",
      "Barbados #Bridgetown JAMAICA ÛÒ Two cars set ablaze: SANTA CRUZ ÛÓ Head of the St Elizabeth Police Superintende...  http://t.co/wDUEaj8Q4J\n",
      "on the outside you're ablaze and alive\n",
      "but you're dead inside\n",
      "Police: Arsonist Deliberately Set Black Church In North CarolinaåÊAblaze http://t.co/pcXarbH9An\n",
      "Police: Arsonist Deliberately Set Black Church In North CarolinaåÊAblaze http://t.co/pcXarbH9An\n",
      "Noches El-Bestia '@Alexis_Sanchez: happy to see my teammates and training hard ?? goodnight gunners.?????? http://t.co/uc4j4jHvGR'\n",
      "Rene Ablaze &amp; Jacinta - Secret 2k13 (Fallen Skies Edit) - Mar 30 2013  https://t.co/7MLMsUzV1Z\n",
      "Rene Ablaze &amp; Jacinta - Secret 2k13 (Fallen Skies Edit) - Mar 30 2013  https://t.co/7MLMsUzV1Z\n",
      "320 [IR] ICEMOON [AFTERSHOCK] | http://t.co/yNXnvVKCDA | @djicemoon | #Dubstep #TrapMusic #DnB #EDM #Dance #IcesÛ_ http://t.co/weQPesENku\n",
      "320 [IR] ICEMOON [AFTERSHOCK] | http://t.co/yNXnvVKCDA | @djicemoon | #Dubstep #TrapMusic #DnB #EDM #Dance #IcesÛ_ http://t.co/weQPesENku\n",
      "320 [IR] ICEMOON [AFTERSHOCK] | http://t.co/yNXnvVKCDA | @djicemoon | #Dubstep #TrapMusic #DnB #EDM #Dance #IcesÛ_ http://t.co/weQPesENku\n",
      "Aftershock was the most terrifying best roller coaster I've ever been on. *DISCLAIMER* I've been on very few.\n",
      "Aftershock ã¢ (2010) Fullã¢ Streaming - YouTube http://t.co/vVE3UsesGf\n",
      "Aftershock ã¢ (2010) Fullã¢ Streaming - YouTube http://t.co/vVE3UsesGf\n",
      "&gt;&gt; $15 Aftershock : Protect Yourself and Profit in the Next Global Financial... ##book http://t.co/f6ntUc734Z\n",
      "@esquireattire\n",
      "Horrible Accident Man Died In Wings Of ÛÏAirplaneÛ 29-07-2015. WTF You CanÛªt Believe Your EYES ÛÒ... http://t.co/6fFyLAjWpS\n",
      "Horrible Accident Man Died In Wings Of ÛÏAirplaneÛ 29-07-2015. WTF You CanÛªt Believe Your EYES ÛÒ... http://t.co/6fFyLAjWpS\n",
      "Horrible Accident Man Died In Wings Of ÛÏAirplaneÛ 29-07-2015. WTF You CanÛªt Believe Your EYES ÛÒ... http://t.co/6fFyLAjWpS\n",
      "+ Nicole Fletcher one of a victim of crashed airplane few times ago. \n",
      "\n",
      "The accident left a little bit trauma for her. Although she's \n",
      "\n",
      "+\n",
      "EMS1: NY EMTs petition for $17 per hour Û÷minimum wageÛª http://t.co/4oa6SWlxmR #ems #paramedics #ambulance\n",
      "5 Seconds of Summer Is my pick for http://t.co/qcHV3JqOVK Fan Army #5SOSFAM http://t.co/gc0uDfnFgg  ÌÑ1\n",
      "5 Seconds of Summer Is my pick for http://t.co/qcHV3JqOVK Fan Army #5SOSFAM http://t.co/gc0uDfnFgg  ÌÑ1\n",
      "#Colorado #Avalanche Men's Official Colorado Avalanche Reebok T-Shirt XL Blue 100% Cotton http://t.co/ZNSvsTGwx3 #NHL #Hockey\n",
      "#Tb #throwback ??\n",
      "\n",
      "??~ You want a battle? Here's a War! ~ ?? https://t.co/B0ZJWgmaIW\n",
      "# handbags Genuine Mulberry Antony Cross Body Messenger Bag Dark Oak Soft Buffalo Leather:  å£279.00End Date: W... http://t.co/FTM4RKl8mN\n",
      "å¤} New Ladies Shoulder Tote #Handbag Faux Leather Hobo Purse Cross Body Bag #Womens http://t.co/UooZXauS26 http://t.co/6MGBizjfgd RT enÛ_\n",
      "å¤} New Ladies Shoulder Tote #Handbag Faux Leather Hobo Purse Cross Body Bag #Womens http://t.co/UooZXauS26 http://t.co/6MGBizjfgd RT enÛ_\n",
      "?Ìü New Ladies Shoulder Tote #Handbag Faux Leather Hobo Purse Cross Body Bag #Womens http://t.co/UooZXauS26 http://t.co/Pw78nblJKy RT enÛ_\n",
      "I love The body shopÛªs bags??\n",
      "\n",
      "#cutekitten #catsofinstagram #summerinsweden #katt #katterpÌ´instagram #dumle #dagensÛ_ http://t.co/p4ZFXdnbcH\n",
      "@SyringeToAnger åÇ and probably even more. But some disagreements with General Ross and the catastrophic occurrence made something clear. åÈ\n",
      "@SyringeToAnger åÇ and probably even more. But some disagreements with General Ross and the catastrophic occurrence made something clear. åÈ\n",
      "EUROCRISIS Guardian Greece's tax revenues collapse as debt crisis continues: As talks continue over proposed âÂ... http://t.co/bBm9sR1wOw\n",
      "#Greece's tax revenues collapse as debt crisis continues via @guardian #bailout http://t.co/cJvbQXw83s ^mp\n",
      "åÈMGN-AFRICAå¨ pin:263789F4 åÈ Correction: Tent Collapse Story: Correction: Tent Collapse story åÈ http://t.co/fDJUYvZMrv @wizkidayo\n",
      "How Missing JetÛªs Debris Could Have Floated to RÌ©union - The New York Times http://t.co/pNnUnrnqjA\n",
      "People donå«t want to hear the truth because they donå«t want  their illusions destroyed. #FN.\n",
      "Marquei como visto Dragon Ball Super - 1x1 - The God of Destruction\\'s Dream http://t.co/vJLnsKbG86 #bancodeseries\n",
      "å¬'Only the sea knows how many are dead' @MSF_Sea after last disaster in #Mediterranean turned into a massgrave  http://t.co/m0utLDif77\n",
      "#Metepec #Mexico - ?NIGHT DISASTER?...E(Oficial) @ #NitClub #mÌ¼sica #mÌ¼sica http://t.co/WTfJF9jjzs\n",
      "Heat wave is relentless:  91å¡F Feels Like 100 Humidity 55% +\n",
      "relentless drought too: now Dominicana. I know is worse in other places.\n",
      "I didn`t want to hurt you but the fear drove me to do it ............... Midnight\n",
      "{:en}Tension In Bayelsa As Patience Jonathan Plans To Hijack APCåÊPDP{:} http://t.co/W1ufeibALa http://t.co/bIULQpRxke\n"
     ]
    }
   ],
   "source": [
    "text = search_text_samples(train['text'])\n",
    "show_text_samples(train['text'], text)"
   ]
  },
  {
   "cell_type": "code",
   "execution_count": 80,
   "metadata": {},
   "outputs": [],
   "source": [
    "train['text'] = train['text'].apply(replace_text)"
   ]
  },
  {
   "cell_type": "code",
   "execution_count": 81,
   "metadata": {},
   "outputs": [],
   "source": [
    "train['text'] = train['text'].apply(clean_text)"
   ]
  },
  {
   "cell_type": "code",
   "execution_count": 82,
   "metadata": {},
   "outputs": [
    {
     "name": "stdout",
     "output_type": "stream",
     "text": [
      "deed reason earthquak may alah forgiv us al\n",
      "forest fire near la rong sask canada\n",
      "al resid ask shelter place notifi offic evacu shelter place order expect\n",
      "number peopl receiv wildfir evacu order california\n",
      "rockyfir updat california hwi number close direct due lake counti fire cafir wildfir\n",
      "rockyfir updat california hwi number close direct due lake counti fire cafir wildfir\n",
      "rockyfir updat california hwi number close direct due lake counti fire cafir wildfir\n",
      "man\n",
      "gooal\n",
      "london cool\n",
      "london cool\n",
      "cool\n",
      "bbcmtd wholesal market ablaz\n",
      "bbcmtd wholesal market ablaz\n",
      "barbado bridgetown jamaica two car set ablaz santa cruz head st elizabeth polic superintend\n",
      "barbado bridgetown jamaica two car set ablaz santa cruz head st elizabeth polic superintend\n",
      "barbado bridgetown jamaica two car set ablaz santa cruz head st elizabeth polic superintend\n",
      "barbado bridgetown jamaica two car set ablaz santa cruz head st elizabeth polic superintend\n",
      "outsid ablaz aliv dead insid\n",
      "polic arsonist deliber set black church north carolina ablaz\n",
      "polic arsonist deliber set black church north carolina ablaz\n",
      "noch el bestia alexissanchez happi see teammat train hard goodnight gunner\n",
      "rene ablaz jacinta secret number k number falen sky edit mar number number\n",
      "rene ablaz jacinta secret number k number falen sky edit mar number number\n",
      "number ir icemoon aftershock djicemoon dubstep trapmus dnb edm danc ice\n",
      "number ir icemoon aftershock djicemoon dubstep trapmus dnb edm danc ice\n",
      "number ir icemoon aftershock djicemoon dubstep trapmus dnb edm danc ice\n",
      "aftershock terifi best roler coaster ever disclaim\n",
      "aftershock number ful stream youtub\n",
      "aftershock number ful stream youtub\n",
      "number aftershock protect profit next global financi book esquireattir\n",
      "horibl accid man die wing airplan number number number wtf believ eye\n",
      "horibl accid man die wing airplan number number number wtf believ eye\n",
      "horibl accid man die wing airplan number number number wtf believ eye\n",
      "nicol fletcher one victim crash airplan time ago accid left littl bit trauma although\n",
      "em number ny emt petit number per hour minimum wage em paramed ambul\n",
      "number second summer pick fan armi number sosfam number\n",
      "number second summer pick fan armi number sosfam number\n",
      "colorado avalanch men offici colorado avalanch reebok shirt xl blue number cotton nhl hockey\n",
      "tb throwback want battl war\n",
      "handbag genuin mulberi antoni cross bodi messeng bag dark oak soft buffalo leather number number end date w\n",
      "new ladi shoulder tote handbag faux leather hobo purs cross bodi bag women rt en\n",
      "new ladi shoulder tote handbag faux leather hobo purs cross bodi bag women rt en\n",
      "new ladi shoulder tote handbag faux leather hobo purs cross bodi bag women rt en\n",
      "love bodi shop bag cutekitten catsofinstagram summerinsweden katt katterpinstagram duml dagen\n",
      "syringetoang probabl even disagr gener ross catastroph occur made someth clear\n",
      "syringetoang probabl even disagr gener ross catastroph occur made someth clear\n",
      "eurocrisi guardian greec tax revenu colaps debt crisi continu talk continu propos\n",
      "greec tax revenu colaps debt crisi continu via guardian bailout mp\n",
      "mgn africa pin number f number corect tent colaps stori corect tent colaps stori wizkidayo\n",
      "miss jet debri could float reunion new york time\n",
      "peopl want hear truth want ilus destroy fn\n",
      "marquei como visto dragon bal super number x number god destruct dream bancodeseri\n",
      "sea know mani dead msfsea last disast mediteranean turn massgrav\n",
      "metepec mexico night disast eofici nitclub musica musica\n",
      "heat wave relentless number f feel like number humid number relentless drought dominicana know wors place\n",
      "want hurt fear drove midnight\n",
      "entens bayelsa patienc jonathan plan hijack apc pdp\n"
     ]
    }
   ],
   "source": [
    "show_text_samples(train['text'], text)"
   ]
  },
  {
   "cell_type": "markdown",
   "metadata": {},
   "source": [
    "## Resultado"
   ]
  },
  {
   "cell_type": "code",
   "execution_count": 83,
   "metadata": {},
   "outputs": [
    {
     "data": {
      "text/html": [
       "<div>\n",
       "<style scoped>\n",
       "    .dataframe tbody tr th:only-of-type {\n",
       "        vertical-align: middle;\n",
       "    }\n",
       "\n",
       "    .dataframe tbody tr th {\n",
       "        vertical-align: top;\n",
       "    }\n",
       "\n",
       "    .dataframe thead th {\n",
       "        text-align: right;\n",
       "    }\n",
       "</style>\n",
       "<table border=\"1\" class=\"dataframe\">\n",
       "  <thead>\n",
       "    <tr style=\"text-align: right;\">\n",
       "      <th></th>\n",
       "      <th>id</th>\n",
       "      <th>keyword</th>\n",
       "      <th>location</th>\n",
       "      <th>text</th>\n",
       "      <th>target</th>\n",
       "    </tr>\n",
       "  </thead>\n",
       "  <tbody>\n",
       "    <tr>\n",
       "      <th>0</th>\n",
       "      <td>1</td>\n",
       "      <td>NaN</td>\n",
       "      <td>NaN</td>\n",
       "      <td>deed reason earthquak may alah forgiv us al</td>\n",
       "      <td>1</td>\n",
       "    </tr>\n",
       "    <tr>\n",
       "      <th>1</th>\n",
       "      <td>4</td>\n",
       "      <td>NaN</td>\n",
       "      <td>NaN</td>\n",
       "      <td>forest fire near la rong sask canada</td>\n",
       "      <td>1</td>\n",
       "    </tr>\n",
       "    <tr>\n",
       "      <th>2</th>\n",
       "      <td>5</td>\n",
       "      <td>NaN</td>\n",
       "      <td>NaN</td>\n",
       "      <td>al resid ask shelter place notifi offic evacu ...</td>\n",
       "      <td>1</td>\n",
       "    </tr>\n",
       "    <tr>\n",
       "      <th>3</th>\n",
       "      <td>6</td>\n",
       "      <td>NaN</td>\n",
       "      <td>NaN</td>\n",
       "      <td>number peopl receiv wildfir evacu order califo...</td>\n",
       "      <td>1</td>\n",
       "    </tr>\n",
       "    <tr>\n",
       "      <th>4</th>\n",
       "      <td>7</td>\n",
       "      <td>NaN</td>\n",
       "      <td>NaN</td>\n",
       "      <td>got sent photo rubi alaska smoke wildfir pour ...</td>\n",
       "      <td>1</td>\n",
       "    </tr>\n",
       "    <tr>\n",
       "      <th>...</th>\n",
       "      <td>...</td>\n",
       "      <td>...</td>\n",
       "      <td>...</td>\n",
       "      <td>...</td>\n",
       "      <td>...</td>\n",
       "    </tr>\n",
       "    <tr>\n",
       "      <th>7608</th>\n",
       "      <td>10869</td>\n",
       "      <td>NaN</td>\n",
       "      <td>NaN</td>\n",
       "      <td>two giant crane hold bridg colaps nearbi home</td>\n",
       "      <td>1</td>\n",
       "    </tr>\n",
       "    <tr>\n",
       "      <th>7609</th>\n",
       "      <td>10870</td>\n",
       "      <td>NaN</td>\n",
       "      <td>NaN</td>\n",
       "      <td>ariahrari thetawniest control wild fire califo...</td>\n",
       "      <td>1</td>\n",
       "    </tr>\n",
       "    <tr>\n",
       "      <th>7610</th>\n",
       "      <td>10871</td>\n",
       "      <td>NaN</td>\n",
       "      <td>NaN</td>\n",
       "      <td>number number number number utc number km volc...</td>\n",
       "      <td>1</td>\n",
       "    </tr>\n",
       "    <tr>\n",
       "      <th>7611</th>\n",
       "      <td>10872</td>\n",
       "      <td>NaN</td>\n",
       "      <td>NaN</td>\n",
       "      <td>polic investig e bike colid car littl portug e...</td>\n",
       "      <td>1</td>\n",
       "    </tr>\n",
       "    <tr>\n",
       "      <th>7612</th>\n",
       "      <td>10873</td>\n",
       "      <td>NaN</td>\n",
       "      <td>NaN</td>\n",
       "      <td>latest home raze northern california wildfir a...</td>\n",
       "      <td>1</td>\n",
       "    </tr>\n",
       "  </tbody>\n",
       "</table>\n",
       "<p>7613 rows × 5 columns</p>\n",
       "</div>"
      ],
      "text/plain": [
       "         id keyword location  \\\n",
       "0         1     NaN      NaN   \n",
       "1         4     NaN      NaN   \n",
       "2         5     NaN      NaN   \n",
       "3         6     NaN      NaN   \n",
       "4         7     NaN      NaN   \n",
       "...     ...     ...      ...   \n",
       "7608  10869     NaN      NaN   \n",
       "7609  10870     NaN      NaN   \n",
       "7610  10871     NaN      NaN   \n",
       "7611  10872     NaN      NaN   \n",
       "7612  10873     NaN      NaN   \n",
       "\n",
       "                                                   text  target  \n",
       "0           deed reason earthquak may alah forgiv us al       1  \n",
       "1                  forest fire near la rong sask canada       1  \n",
       "2     al resid ask shelter place notifi offic evacu ...       1  \n",
       "3     number peopl receiv wildfir evacu order califo...       1  \n",
       "4     got sent photo rubi alaska smoke wildfir pour ...       1  \n",
       "...                                                 ...     ...  \n",
       "7608      two giant crane hold bridg colaps nearbi home       1  \n",
       "7609  ariahrari thetawniest control wild fire califo...       1  \n",
       "7610  number number number number utc number km volc...       1  \n",
       "7611  polic investig e bike colid car littl portug e...       1  \n",
       "7612  latest home raze northern california wildfir a...       1  \n",
       "\n",
       "[7613 rows x 5 columns]"
      ]
     },
     "execution_count": 83,
     "metadata": {},
     "output_type": "execute_result"
    }
   ],
   "source": [
    "train"
   ]
  },
  {
   "cell_type": "markdown",
   "metadata": {},
   "source": [
    "## Guardado del dataframe"
   ]
  },
  {
   "cell_type": "code",
   "execution_count": 84,
   "metadata": {},
   "outputs": [],
   "source": [
    "train.to_csv('train/train_limpio.csv', index=False)"
   ]
  },
  {
   "cell_type": "markdown",
   "metadata": {},
   "source": [
    "# Test"
   ]
  },
  {
   "cell_type": "code",
   "execution_count": 152,
   "metadata": {},
   "outputs": [],
   "source": [
    "test = pd.read_csv('test/test_original.csv')"
   ]
  },
  {
   "cell_type": "code",
   "execution_count": 88,
   "metadata": {},
   "outputs": [
    {
     "data": {
      "text/html": [
       "<div>\n",
       "<style scoped>\n",
       "    .dataframe tbody tr th:only-of-type {\n",
       "        vertical-align: middle;\n",
       "    }\n",
       "\n",
       "    .dataframe tbody tr th {\n",
       "        vertical-align: top;\n",
       "    }\n",
       "\n",
       "    .dataframe thead th {\n",
       "        text-align: right;\n",
       "    }\n",
       "</style>\n",
       "<table border=\"1\" class=\"dataframe\">\n",
       "  <thead>\n",
       "    <tr style=\"text-align: right;\">\n",
       "      <th></th>\n",
       "      <th>id</th>\n",
       "      <th>keyword</th>\n",
       "      <th>location</th>\n",
       "      <th>text</th>\n",
       "    </tr>\n",
       "  </thead>\n",
       "  <tbody>\n",
       "    <tr>\n",
       "      <th>0</th>\n",
       "      <td>0</td>\n",
       "      <td>NaN</td>\n",
       "      <td>NaN</td>\n",
       "      <td>Just happened a terrible car crash</td>\n",
       "    </tr>\n",
       "    <tr>\n",
       "      <th>1</th>\n",
       "      <td>2</td>\n",
       "      <td>NaN</td>\n",
       "      <td>NaN</td>\n",
       "      <td>Heard about #earthquake is different cities, s...</td>\n",
       "    </tr>\n",
       "    <tr>\n",
       "      <th>2</th>\n",
       "      <td>3</td>\n",
       "      <td>NaN</td>\n",
       "      <td>NaN</td>\n",
       "      <td>there is a forest fire at spot pond, geese are...</td>\n",
       "    </tr>\n",
       "    <tr>\n",
       "      <th>3</th>\n",
       "      <td>9</td>\n",
       "      <td>NaN</td>\n",
       "      <td>NaN</td>\n",
       "      <td>Apocalypse lighting. #Spokane #wildfires</td>\n",
       "    </tr>\n",
       "    <tr>\n",
       "      <th>4</th>\n",
       "      <td>11</td>\n",
       "      <td>NaN</td>\n",
       "      <td>NaN</td>\n",
       "      <td>Typhoon Soudelor kills 28 in China and Taiwan</td>\n",
       "    </tr>\n",
       "    <tr>\n",
       "      <th>...</th>\n",
       "      <td>...</td>\n",
       "      <td>...</td>\n",
       "      <td>...</td>\n",
       "      <td>...</td>\n",
       "    </tr>\n",
       "    <tr>\n",
       "      <th>3258</th>\n",
       "      <td>10861</td>\n",
       "      <td>NaN</td>\n",
       "      <td>NaN</td>\n",
       "      <td>EARTHQUAKE SAFETY LOS ANGELES ÛÒ SAFETY FASTE...</td>\n",
       "    </tr>\n",
       "    <tr>\n",
       "      <th>3259</th>\n",
       "      <td>10865</td>\n",
       "      <td>NaN</td>\n",
       "      <td>NaN</td>\n",
       "      <td>Storm in RI worse than last hurricane. My city...</td>\n",
       "    </tr>\n",
       "    <tr>\n",
       "      <th>3260</th>\n",
       "      <td>10868</td>\n",
       "      <td>NaN</td>\n",
       "      <td>NaN</td>\n",
       "      <td>Green Line derailment in Chicago http://t.co/U...</td>\n",
       "    </tr>\n",
       "    <tr>\n",
       "      <th>3261</th>\n",
       "      <td>10874</td>\n",
       "      <td>NaN</td>\n",
       "      <td>NaN</td>\n",
       "      <td>MEG issues Hazardous Weather Outlook (HWO) htt...</td>\n",
       "    </tr>\n",
       "    <tr>\n",
       "      <th>3262</th>\n",
       "      <td>10875</td>\n",
       "      <td>NaN</td>\n",
       "      <td>NaN</td>\n",
       "      <td>#CityofCalgary has activated its Municipal Eme...</td>\n",
       "    </tr>\n",
       "  </tbody>\n",
       "</table>\n",
       "<p>3263 rows × 4 columns</p>\n",
       "</div>"
      ],
      "text/plain": [
       "         id keyword location  \\\n",
       "0         0     NaN      NaN   \n",
       "1         2     NaN      NaN   \n",
       "2         3     NaN      NaN   \n",
       "3         9     NaN      NaN   \n",
       "4        11     NaN      NaN   \n",
       "...     ...     ...      ...   \n",
       "3258  10861     NaN      NaN   \n",
       "3259  10865     NaN      NaN   \n",
       "3260  10868     NaN      NaN   \n",
       "3261  10874     NaN      NaN   \n",
       "3262  10875     NaN      NaN   \n",
       "\n",
       "                                                   text  \n",
       "0                    Just happened a terrible car crash  \n",
       "1     Heard about #earthquake is different cities, s...  \n",
       "2     there is a forest fire at spot pond, geese are...  \n",
       "3              Apocalypse lighting. #Spokane #wildfires  \n",
       "4         Typhoon Soudelor kills 28 in China and Taiwan  \n",
       "...                                                 ...  \n",
       "3258  EARTHQUAKE SAFETY LOS ANGELES ÛÒ SAFETY FASTE...  \n",
       "3259  Storm in RI worse than last hurricane. My city...  \n",
       "3260  Green Line derailment in Chicago http://t.co/U...  \n",
       "3261  MEG issues Hazardous Weather Outlook (HWO) htt...  \n",
       "3262  #CityofCalgary has activated its Municipal Eme...  \n",
       "\n",
       "[3263 rows x 4 columns]"
      ]
     },
     "execution_count": 88,
     "metadata": {},
     "output_type": "execute_result"
    }
   ],
   "source": [
    "test"
   ]
  },
  {
   "cell_type": "markdown",
   "metadata": {},
   "source": [
    "## Keyword"
   ]
  },
  {
   "cell_type": "code",
   "execution_count": 89,
   "metadata": {},
   "outputs": [
    {
     "data": {
      "text/plain": [
       "array([nan, 'ambulance', 'army', 'avalanche', 'blazing', 'blood',\n",
       "       'body%20bags', 'buildings%20burning', 'bush%20fires',\n",
       "       'chemical%20emergency', 'collided', 'crushed', 'dead', 'deluged',\n",
       "       'derailed', 'destroyed', 'devastation', 'drowned', 'electrocuted',\n",
       "       'epicentre', 'exploded', 'fatalities', 'first%20responders',\n",
       "       'floods', 'harm', 'hijack', 'hurricane', 'inundation',\n",
       "       'mass%20murder', 'military', 'obliterate', 'pandemonium',\n",
       "       'quarantined', 'rescue', 'rubble', 'screams', 'sirens',\n",
       "       'structural%20failure', 'survive', 'threat', 'trapped', 'twister',\n",
       "       'war%20zone', 'wildfire', 'wreckage'], dtype=object)"
      ]
     },
     "execution_count": 89,
     "metadata": {},
     "output_type": "execute_result"
    }
   ],
   "source": [
    "test['keyword'].unique()[::5]"
   ]
  },
  {
   "cell_type": "code",
   "execution_count": 90,
   "metadata": {},
   "outputs": [],
   "source": [
    "test['keyword'] = test['keyword'].apply(clean_keyword)"
   ]
  },
  {
   "cell_type": "code",
   "execution_count": 91,
   "metadata": {},
   "outputs": [
    {
     "data": {
      "text/plain": [
       "array([nan, 'ablaz', 'accid', 'aftershock', 'airplan accid', 'ambul',\n",
       "       'annihil', 'apocalyps', 'armageddon', 'armi', 'arson', 'arsonist',\n",
       "       'attack', 'avalanch', 'battl', 'bioterror', 'blaze', 'bleed',\n",
       "       'blew', 'blight', 'blizzard', 'blood', 'bloodi', 'blown',\n",
       "       'bodi bag', 'bomb', 'bridg collaps', 'build burn', 'build fire',\n",
       "       'burn', 'burn build', 'bush fire', 'casualti', 'catastroph',\n",
       "       'chemic emerg', 'cliff fall', 'collaps', 'collid', 'collis',\n",
       "       'crash', 'crush', 'curfew', 'cyclon', 'damag', 'danger', 'dead',\n",
       "       'death', 'debri', 'delug', 'demolish', 'demolit', 'derail',\n",
       "       'desol', 'destroy', 'destruct', 'deton', 'devast', 'disast',\n",
       "       'displac', 'drought', 'drown', 'dust storm', 'earthquak',\n",
       "       'electrocut', 'emerg', 'emerg plan', 'emerg servic', 'engulf',\n",
       "       'epicentr', 'evacu', 'explod', 'explos', 'eyewit', 'famin',\n",
       "       'fatal', 'fear', 'fire', 'fire truck', 'first respond', 'flame',\n",
       "       'flatten', 'flood', 'forest fire', 'hail', 'hailstorm', 'harm',\n",
       "       'hazard', 'heat wave', 'hellfir', 'hijack', 'hostag', 'hurrican',\n",
       "       'injur', 'injuri', 'inund', 'landslid', 'lava', 'lightn',\n",
       "       'loud bang', 'mass murder', 'massacr', 'mayhem', 'meltdown',\n",
       "       'militari', 'mudslid', 'natur disast', 'nuclear disast',\n",
       "       'nuclear reactor', 'obliter', 'oil spill', 'outbreak',\n",
       "       'pandemonium', 'panic', 'panick', 'polic', 'quarantin',\n",
       "       'radiat emerg', 'rainstorm', 'raze', 'refuge', 'rescu', 'rescuer',\n",
       "       'riot', 'rubbl', 'ruin', 'sandstorm', 'scream', 'seismic',\n",
       "       'sinkhol', 'sink', 'siren', 'smoke', 'snowstorm', 'storm',\n",
       "       'stretcher', 'structur failur', 'suicid bomb', 'suicid bomber',\n",
       "       'sunk', 'surviv', 'survivor', 'terror', 'terrorist', 'threat',\n",
       "       'thunder', 'thunderstorm', 'tornado', 'tragedi', 'trap', 'trauma',\n",
       "       'traumatis', 'troubl', 'tsunami', 'twister', 'typhoon', 'upheav',\n",
       "       'violent storm', 'volcano', 'war zone', 'weapon', 'whirlwind',\n",
       "       'wild fire', 'wildfir', 'windstorm', 'wound', 'wreck', 'wreckag'],\n",
       "      dtype=object)"
      ]
     },
     "execution_count": 91,
     "metadata": {},
     "output_type": "execute_result"
    }
   ],
   "source": [
    "test['keyword'].unique()"
   ]
  },
  {
   "cell_type": "code",
   "execution_count": 92,
   "metadata": {},
   "outputs": [
    {
     "data": {
      "text/plain": [
       "167"
      ]
     },
     "execution_count": 92,
     "metadata": {},
     "output_type": "execute_result"
    }
   ],
   "source": [
    "len(test['keyword'].unique())"
   ]
  },
  {
   "cell_type": "markdown",
   "metadata": {},
   "source": [
    "## Location"
   ]
  },
  {
   "cell_type": "code",
   "execution_count": 153,
   "metadata": {},
   "outputs": [
    {
     "data": {
      "text/plain": [
       "1603"
      ]
     },
     "execution_count": 153,
     "metadata": {},
     "output_type": "execute_result"
    }
   ],
   "source": [
    "len(test['location'].unique())"
   ]
  },
  {
   "cell_type": "code",
   "execution_count": 148,
   "metadata": {},
   "outputs": [
    {
     "data": {
      "text/plain": [
       "array([nan, 'USA ', 'Chicago, IL', 'East Texas', 'Oh.',\n",
       "       '? the Foothills of SC ?', 'Somewhere on the Earth',\n",
       "       'gateway regional hs', 'Leanbox?', 'The Open road!',\n",
       "       'Toronto, Ontario, Canada', 'Camberville (Bostonish)',\n",
       "       'Cardiff/London/NYC/Warwick', 'Please follow and RT! :)',\n",
       "       'FEMA REGION 2', 'Isle of Patmos', 'West Palm Beach, FL',\n",
       "       'Santa Cruz, CA', 'Desloge, Mo', 'Dark Night. ???? ??',\n",
       "       'Limerick, Ireland.', 'Wickford', 'The Woodlands, TX',\n",
       "       'trashcan somewhere in hell', '9.25.14?8.5.15?10.6.15 | gen?',\n",
       "       ' Kaijo High School', 'Rice Lake, WI/Toronto, ON', 'NJ, USA',\n",
       "       'St. Catharines', 'OKC', 'Okinawa', 'Sheffield.?',\n",
       "       'Acey mountain islanddåÇTorontoåÈ'], dtype=object)"
      ]
     },
     "execution_count": 148,
     "metadata": {},
     "output_type": "execute_result"
    }
   ],
   "source": [
    "test['location'].unique()[::50]"
   ]
  },
  {
   "cell_type": "code",
   "execution_count": 149,
   "metadata": {},
   "outputs": [],
   "source": [
    "test['location'] = test['location'].apply(clean_location)"
   ]
  },
  {
   "cell_type": "code",
   "execution_count": 150,
   "metadata": {},
   "outputs": [
    {
     "data": {
      "text/plain": [
       "array([nan, 'worldwide', 'reality based world',\n",
       "       'denver colorado united states of america', 'twitchtvdgnesports',\n",
       "       'dont stalk me thanks', 'cin city', 'mid north coast of nsw',\n",
       "       'eugene or', 'piscataway nj', 'eastbourne east sussex',\n",
       "       'st louis missouri', 'palacio madrid', 'jupiter',\n",
       "       'paonia colorado', 'alexander iowa', 'lampe mo', 'stgo chile',\n",
       "       'california central valley', 'beijing china', 'dili east timor',\n",
       "       'theythem', 'colorado the mile high city', 'benua ltd',\n",
       "       'london herts', 'virginia beach va united states of america',\n",
       "       'portland oregon united states of america', 'louavul ky',\n",
       "       'where eer the mood takes me'], dtype=object)"
      ]
     },
     "execution_count": 150,
     "metadata": {},
     "output_type": "execute_result"
    }
   ],
   "source": [
    "test['location'].unique()[::50]"
   ]
  },
  {
   "cell_type": "code",
   "execution_count": 151,
   "metadata": {},
   "outputs": [
    {
     "data": {
      "text/plain": [
       "1437"
      ]
     },
     "execution_count": 151,
     "metadata": {},
     "output_type": "execute_result"
    }
   ],
   "source": [
    "len(test['location'].unique())"
   ]
  },
  {
   "cell_type": "markdown",
   "metadata": {},
   "source": [
    "## Text"
   ]
  },
  {
   "cell_type": "code",
   "execution_count": 97,
   "metadata": {},
   "outputs": [
    {
     "name": "stdout",
     "output_type": "stream",
     "text": [
      "Heard about #earthquake is different cities, stay safe everyone.\n",
      "Heard about #earthquake is different cities, stay safe everyone.\n",
      "Heard about #earthquake is different cities, stay safe everyone.\n",
      "We're shaking...It's an earthquake\n",
      "They'd probably still show more life than Arsenal did yesterday, eh? EH?\n",
      "Hey! How are you?\n",
      "Birmingham Wholesale Market is ablaze BBC News - Fire breaks out at Birmingham's Wholesale Market http://t.co/irWqCEZWEU\n",
      "Birmingham Wholesale Market is ablaze BBC News - Fire breaks out at Birmingham's Wholesale Market http://t.co/irWqCEZWEU\n",
      "Birmingham Wholesale Market is ablaze BBC News - Fire breaks out at Birmingham's Wholesale Market http://t.co/irWqCEZWEU\n",
      "@sunkxssedharry will you wear shorts for race ablaze ?\n",
      "#PreviouslyOnDoyinTv: Toke MakinwaÛªs marriage crisis sets Nigerian Twitter ablaze... http://t.co/CMghxBa2XI\n",
      "#PreviouslyOnDoyinTv: Toke MakinwaÛªs marriage crisis sets Nigerian Twitter ablaze... http://t.co/CMghxBa2XI\n",
      "#PreviouslyOnDoyinTv: Toke MakinwaÛªs marriage crisis sets Nigerian Twitter ablaze... http://t.co/CMghxBa2XI\n",
      "PSA: IÛªm splitting my personalities.\n",
      "\n",
      "?? techies follow @ablaze_co\n",
      "?? Burners follow @ablaze\n",
      "PSA: IÛªm splitting my personalities.\n",
      "\n",
      "?? techies follow @ablaze_co\n",
      "?? Burners follow @ablaze\n",
      "beware world ablaze sierra leone &amp; guap.\n",
      "beware world ablaze sierra leone &amp; guap.\n",
      "#3: Car Recorder ZeroEdgeå¨ Dual-lens Car Camera Vehicle Traffic/Driving History/Accident Camcorder  Large Re... http://t.co/kKFaSJv6Cj\n",
      "#3: Car Recorder ZeroEdgeå¨ Dual-lens Car Camera Vehicle Traffic/Driving History/Accident Camcorder  Large Re... http://t.co/kKFaSJv6Cj\n",
      "@sakuma_en If you pretend to feel a certain way the feeling can become genuine all by accident. -Hei (Darker than Black) #manga #anime\n",
      "@sakuma_en If you pretend to feel a certain way the feeling can become genuine all by accident. -Hei (Darker than Black) #manga #anime\n",
      "ACCIDENT - HIT AND RUN - COLD at 500 BLOCK OF SE VISTA TER GRESHAM OR [Gresham Police #PG15000044357] 10:35 #pdx911\n",
      "ACCIDENT - HIT AND RUN - COLD at 500 BLOCK OF SE VISTA TER GRESHAM OR [Gresham Police #PG15000044357] 10:35 #pdx911\n",
      "Please donate and spread the word! A training accident left the pole-vaulter Kira GrÌ_nberg a paraplegic http://t.co/6MpnyCl8PK\n",
      "Schoolboy ÛÒ Aftershock (Original Mix)\n",
      "Excision &amp; Skism ÛÒ SEXisM (Far Too Loud Remix)\n",
      "Firebeatz Schella ÛÒ Dear New... http://t.co/JQLzUA6YzQ\n",
      "320 [IR] ICEMOON [AFTERSHOCK] | http://t.co/THyzOMVWU0 | @djicemoon | #Dubstep #TrapMusic #DnB #EDM #Dance #IcesÛ_ http://t.co/83jOO0xk29\n",
      "@rewind_music found out about you guys today(regarding the accident on the airplane lol) &amp; became a fan! Sending love &amp; support from Cali~?\n",
      "Horrible Accident  Man Died In Wings of AirplaneåÊ(29-07-2015) http://t.co/5ZRKZdhODe\n",
      "Why should a helicopter ambulance ride to transfer to a hospital 21 miles away cost $29800? http://t.co/7ZqIreY7Te http://t.co/9Qp3PqPwZv\n",
      "Aug 3 1915ÛÓKAISERJAEGERS WIPED OUT.; Francis Joseph's Crack Regiment Annihilated on Carso Plateau.\n",
      "http://t.co/D1sPSwl66H\n",
      "***Latest Updates on the Salt River Wild Horse Round-up*** https://t.co/WJsCdvCevH via @Change\n",
      "5 Seconds of Summer Is my pick for http://t.co/qcHV3JqOVK Fan Army #5SOSFAM http://t.co/gc0uDfnFgg ÌÑ2\n",
      "#BreakingNews Mourning notices for stabbing arson victims stir Û÷politics of griefÛª in Israel: Posters f... http://t.co/KTKDrGVHgX #rome\n",
      "Hotel arsonist who caused å£70000 damage was Û÷crying for helpÛª: An arsonist has been jailed after a court hear... http://t.co/HNGDdBhewa\n",
      "Photo: #Repost @gregskazphotography with @repostapp. åáåáåá @rainierarms Avalanche Ambi Charging Handle... http://t.co/t3dK3OoV7e\n",
      "I liked a @YouTube video from @sharpino1990 http://t.co/LU7dgOwtyl PokÌ©mon Omega Ruby and Alpha Sapphire Wi-Fi Battle #05 cjs064 vs\n",
      "Do people not understand they cant bleeding tweet everyone all the timedoes me head in 'stop ignoring me' they are hardly ignoring you+\n",
      "1860 BLOOD'S PENNY POST Philly OCTAGONAL CDS 1Ìâå¢ Black 15L18 Grid Cancel + #26! http://t.co/rpV4MQSCQA http://t.co/JrjEiBUGsE\n",
      "1860 BLOOD'S PENNY POST Philly OCTAGONAL CDS 1Ìâå¢ Black 15L18 Grid Cancel + #26! http://t.co/rpV4MQSCQA http://t.co/JrjEiBUGsE\n",
      "Û¼? New Ladies Shoulder Tote #Handbag Faux Leather Hobo Purse Cross Body Bag #Womens http://t.co/zujwUiomb3 http://t.co/sdvNAKZek4\n",
      "ÛÏTell Shinichi Kudo that IÛªm giving him 3 minutes to enjoy it..Û -Moriya Teiji famous architect from The Time Bombed Skyscraper\n",
      "ÛÏTell Shinichi Kudo that IÛªm giving him 3 minutes to enjoy it..Û -Moriya Teiji famous architect from The Time Bombed Skyscraper\n",
      "@davej798 @JohnEJefferson remind me when SomaliaEritrea &amp; Nigeria were bombed by UK 28% of asylum applicants to UK 2014 were from S &amp; E\n",
      "Geoengineering and burning of fossil fuels is making our global weather unstable. With temps up to 165å¡ and biggest flood in past 200 years\n",
      "@taylorswift13 @Caradelevingne Mother Chucker and Catastrophe = So much hotness in one room we can't cope. #Swifties\n",
      "411Naija åÈ Flood: Two people dead 60 houses destroyed in Kaduna http://t.co/yAvL49DoOF\n",
      "AND I'M DROWNING IN THE DÌäJÌÛ VUUUUU WE'VE SEEN IT ALL BEFOOOOOOOORE\n",
      "@skydragonforce ^^why i usually never try to express opinions for fear of the hate ._.\n",
      "@traplordthings Y din u fav my fire memez åÀ!\n",
      "'Dont use \\Allahuakbar\\'' and start rioting. Do you guys even listen to yourselves? #SHAME'''\n",
      "Sinking. {part 2}\n",
      "??????\n",
      "#buildingmuseum #TheBEACHDC #VSCOcam #acreativedc #dc #dctography #vscodcÛ_ https://t.co/SsD9ign6HO\n",
      "Sinking. {part 2}\n",
      "??????\n",
      "#buildingmuseum #TheBEACHDC #VSCOcam #acreativedc #dc #dctography #vscodcÛ_ https://t.co/SsD9ign6HO\n",
      "The goddess is said to be married to either Perk?nas (thunder god) or Praam_ius (manifestation of chief heavenly god Dievas).\n"
     ]
    }
   ],
   "source": [
    "text = search_text_samples(test['text'])\n",
    "show_text_samples(test['text'], text)"
   ]
  },
  {
   "cell_type": "code",
   "execution_count": 98,
   "metadata": {},
   "outputs": [],
   "source": [
    "test['text'] = test['text'].apply(replace_text)"
   ]
  },
  {
   "cell_type": "code",
   "execution_count": 99,
   "metadata": {},
   "outputs": [],
   "source": [
    "test['text'] = test['text'].apply(clean_text)"
   ]
  },
  {
   "cell_type": "code",
   "execution_count": 100,
   "metadata": {},
   "outputs": [
    {
     "name": "stdout",
     "output_type": "stream",
     "text": [
      "heard earthquak differ citi stay safe everyon\n",
      "heard earthquak differ citi stay safe everyon\n",
      "heard earthquak differ citi stay safe everyon\n",
      "shake earthquak\n",
      "would probabl stil show life arsen yesterday eh eh\n",
      "hey\n",
      "birmingham wholesal market ablaz bbc news fire break birmingham wholesal market\n",
      "birmingham wholesal market ablaz bbc news fire break birmingham wholesal market\n",
      "birmingham wholesal market ablaz bbc news fire break birmingham wholesal market\n",
      "sunkxssedhari wil wear short race ablaz\n",
      "previouslyondoyintv toke makinwa mariag crisi set nigerian twitter ablaz\n",
      "previouslyondoyintv toke makinwa mariag crisi set nigerian twitter ablaz\n",
      "previouslyondoyintv toke makinwa mariag crisi set nigerian twitter ablaz\n",
      "psa split person techi folow ablazeco burner folow ablaz\n",
      "psa split person techi folow ablazeco burner folow ablaz\n",
      "bewar world ablaz siera leon guap\n",
      "bewar world ablaz siera leon guap\n",
      "number car record zeroedg dual len car camera vehicl traffic drive histori accid camcord larg\n",
      "number car record zeroedg dual len car camera vehicl traffic drive histori accid camcord larg\n",
      "sakumaen pretend feel certain way feel becom genuin al accid hei darker black manga anim\n",
      "sakumaen pretend feel certain way feel becom genuin al accid hei darker black manga anim\n",
      "accid hit run cold number block se vista ter gresham gresham polic pg number number number pdx number\n",
      "accid hit run cold number block se vista ter gresham gresham polic pg number number number pdx number\n",
      "pleas donat spread word train accid left pole vaulter kira gronberg parapleg\n",
      "schoolboy aftershock origin mix excis skism sexism far loud remix firebeatz schela dear new\n",
      "number ir icemoon aftershock djicemoon dubstep trapmus dnb edm danc ice\n",
      "rewindmus found guy todayregard accid airplan lol becam fan send love support cali\n",
      "horibl accid man die wing airplan number number number\n",
      "helicopt ambul ride transfer hospit number mile away cost number\n",
      "aug number number kaiserjaeg wipe franci joseph crack regiment annihil carso plateau\n",
      "latest updat salt river wild hors round via chang\n",
      "number second summer pick fan armi number sosfam number\n",
      "breakingnew mourn notic stab arson victim stir polit grief israel poster f rome\n",
      "hotel arsonist caus number damag cri help arsonist jail court hear\n",
      "photo repost gregskazphotographi repostapp rainierarm avalanch ambi charg handl\n",
      "like youtub video sharpino number pokemon omega rubi alpha sapphir wi fi battl number cj number vs\n",
      "peopl understand bleed tweet everyon al timedo head stop ignor hardli ignor\n",
      "number blood penni post phili octagon cd number black number l number grid cancel number\n",
      "number blood penni post phili octagon cd number black number l number grid cancel number\n",
      "new ladi shoulder tote handbag faux leather hobo purs cross bodi bag women\n",
      "tel shinichi kudo give number minut enjoy moriya teiji famou architect time bomb skyscrap\n",
      "tel shinichi kudo give number minut enjoy moriya teiji famou architect time bomb skyscrap\n",
      "davej number johnejefferson remind somaliaeritrea nigeria bomb uk number asylum applic uk number e\n",
      "geoengin burn fossil fuel make global weather unstabl temp number biggest flood past number year\n",
      "taylorswift number caradelevingn mother chucker catastroph much hot one room cope swifti\n",
      "number naija flood two peopl dead number hous destroy kaduna\n",
      "drown dj vu seen al befoor\n",
      "skydragonforc usuali never tri express opinion fear hate\n",
      "traplordth din u fav fire memez\n",
      "dont use alahuakbar start riot guy even listen shame\n",
      "sink part number buildingmuseum thebeachdc vscocam acreativedc dc dctographi vscodc\n",
      "sink part number buildingmuseum thebeachdc vscocam acreativedc dc dctographi vscodc\n",
      "godess said mari either perkna thunder god pramiu manifest chief heavenli god dieva\n"
     ]
    }
   ],
   "source": [
    "show_text_samples(test['text'], text)"
   ]
  },
  {
   "cell_type": "markdown",
   "metadata": {},
   "source": [
    "## Guardado del dataframe"
   ]
  },
  {
   "cell_type": "code",
   "execution_count": 101,
   "metadata": {},
   "outputs": [],
   "source": [
    "test.to_csv('test/test_limpio.csv', index=False)"
   ]
  }
 ],
 "metadata": {
  "kernelspec": {
   "display_name": "Python 3",
   "language": "python",
   "name": "python3"
  },
  "language_info": {
   "codemirror_mode": {
    "name": "ipython",
    "version": 3
   },
   "file_extension": ".py",
   "mimetype": "text/x-python",
   "name": "python",
   "nbconvert_exporter": "python",
   "pygments_lexer": "ipython3",
   "version": "3.8.3"
  }
 },
 "nbformat": 4,
 "nbformat_minor": 4
}
