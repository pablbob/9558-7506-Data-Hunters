{
 "cells": [
  {
   "cell_type": "markdown",
   "metadata": {},
   "source": [
    "# Imports"
   ]
  },
  {
   "cell_type": "code",
   "execution_count": null,
   "metadata": {},
   "outputs": [],
   "source": [
    "import pandas as pd\n",
    "import numpy as np\n",
    "from numpy import mean\n",
    "from numpy import std\n",
    "import sklearn\n",
    "from sklearn import model_selection\n",
    "from sklearn.model_selection import cross_val_score\n",
    "from sklearn.model_selection import RepeatedStratifiedKFold\n",
    "from sklearn.ensemble import BaggingClassifier\n",
    "from sklearn.ensemble import AdaBoostClassifier\n",
    "import lightgbm as lgb\n",
    "import xgboost as xgb\n",
    "from catboost import CatBoostClassifier\n",
    "from sklearn.ensemble import VotingClassifier"
   ]
  },
  {
   "cell_type": "markdown",
   "metadata": {},
   "source": [
    "# Train"
   ]
  },
  {
   "cell_type": "code",
   "execution_count": null,
   "metadata": {},
   "outputs": [],
   "source": [
    "train_set = pd.read_csv('train/train_encoded.csv')"
   ]
  },
  {
   "cell_type": "code",
   "execution_count": null,
   "metadata": {},
   "outputs": [],
   "source": [
    "train_set"
   ]
  },
  {
   "cell_type": "code",
   "execution_count": null,
   "metadata": {},
   "outputs": [],
   "source": [
    "X, y = train_set.iloc[:,:-1],train_set.iloc[:,-1]"
   ]
  },
  {
   "cell_type": "markdown",
   "metadata": {},
   "source": [
    "## Bagging"
   ]
  },
  {
   "cell_type": "code",
   "execution_count": null,
   "metadata": {},
   "outputs": [],
   "source": [
    "lgbm_model = lgb.LGBMClassifier()\n",
    "\n",
    "model = BaggingClassifier(base_estimator=lgbm_model)\n",
    "\n",
    "cv = RepeatedStratifiedKFold(n_splits=10, n_repeats=5, random_state=42)\n",
    "results = model_selection.cross_val_score(model, X, y, cv=cv, scoring='f1')\n",
    "\n",
    "print(results.mean())"
   ]
  },
  {
   "cell_type": "code",
   "execution_count": null,
   "metadata": {},
   "outputs": [],
   "source": [
    "lgbm_model = lgb.LGBMClassifier(objective='binary', num_leaves=40, learning_rate=0.1, max_depth=100)\n",
    "\n",
    "model = BaggingClassifier(base_estimator=lgbm_model)\n",
    "\n",
    "cv = RepeatedStratifiedKFold(n_splits=10, n_repeats=5, random_state=42)\n",
    "results = model_selection.cross_val_score(model, X, y, cv=cv, scoring='f1')\n",
    "\n",
    "print(results.mean())"
   ]
  },
  {
   "cell_type": "code",
   "execution_count": null,
   "metadata": {},
   "outputs": [],
   "source": [
    "lgbm_model = lgb.LGBMClassifier(objective='binary', num_leaves=40, learning_rate=0.1, max_depth=100)\n",
    "\n",
    "model = BaggingClassifier(base_estimator=lgbm_model)\n",
    "\n",
    "cv = RepeatedStratifiedKFold(random_state=42)\n",
    "results = model_selection.cross_val_score(model, X, y, cv=cv, scoring='f1')\n",
    "\n",
    "print(results.mean())"
   ]
  },
  {
   "cell_type": "code",
   "execution_count": null,
   "metadata": {},
   "outputs": [],
   "source": [
    "seed = 7\n",
    "num_trees = 100\n",
    "kfold = model_selection.KFold(n_splits=2)\n",
    "model = AdaBoostClassifier(n_estimators=num_trees, random_state=seed)\n",
    "\n",
    "results = model_selection.cross_val_score(model, X, y, cv=kfold)\n",
    "print(results.mean())"
   ]
  },
  {
   "cell_type": "code",
   "execution_count": null,
   "metadata": {},
   "outputs": [],
   "source": [
    "kfold = model_selection.KFold(n_splits=3)\n",
    "estimators = []\n",
    "\n",
    "model1 = lgb.LGBMClassifier(objective='binary', num_leaves=20, learning_rate=0.1)\n",
    "estimators.append(('lgbm', model1))\n",
    "\n",
    "model2 = xgb.XGBClassifier(objective ='reg:logistic', colsample_bytree = 0.5,\\\n",
    "                           learning_rate = 0.01, max_depth = 100, n_estimators = 100)\n",
    "estimators.append(('xgb', model2))\n",
    "\n",
    "model3 = CatBoostClassifier(silent=True)\n",
    "estimators.append(('catboost', model3))\n",
    "\n",
    "model4 = AdaBoostClassifier(n_estimators=100, random_state=42)\n",
    "estimators.append(('adaboost', model4))\n",
    "\n",
    "ensemble = VotingClassifier(estimators)\n",
    "results = model_selection.cross_val_score(ensemble, X, y, cv=kfold)\n",
    "print(results.mean())"
   ]
  },
  {
   "cell_type": "markdown",
   "metadata": {},
   "source": [
    "0.6081618329246296"
   ]
  },
  {
   "cell_type": "code",
   "execution_count": null,
   "metadata": {},
   "outputs": [],
   "source": [
    "kfold = model_selection.KFold(n_splits=2)\n",
    "estimators = []\n",
    "\n",
    "model1 = lgb.LGBMClassifier()\n",
    "estimators.append(('lgbm', model1))\n",
    "\n",
    "model2 = xgb.XGBClassifier()\n",
    "estimators.append(('xgb', model2))\n",
    "\n",
    "model3 = CatBoostClassifier(silent=True)\n",
    "estimators.append(('catboost', model3))\n",
    "\n",
    "ensemble = VotingClassifier(estimators)\n",
    "results = model_selection.cross_val_score(ensemble, X, y, cv=kfold)\n",
    "print(results.mean())"
   ]
  },
  {
   "cell_type": "code",
   "execution_count": null,
   "metadata": {},
   "outputs": [],
   "source": [
    "kfold = model_selection.KFold(n_splits=10)\n",
    "estimators = []\n",
    "\n",
    "\n",
    "model4 = AdaBoostClassifier(n_estimators=100, random_state=42)\n",
    "estimators.append(('adaboost', model4))\n",
    "\n",
    "model1 = lgb.LGBMClassifier(objective='binary', num_leaves=20, learning_rate=0.1)\n",
    "estimators.append(('lgbm', model1))\n",
    "\n",
    "model3 = CatBoostClassifier(silent=True)\n",
    "estimators.append(('catboost', model3))\n",
    "\n",
    "model2 = xgb.XGBClassifier(objective ='reg:logistic', colsample_bytree = 0.5,\\\n",
    "                           learning_rate = 0.01, max_depth = 100, n_estimators = 100)\n",
    "estimators.append(('xgb', model2))\n",
    "\n",
    "ensemble = VotingClassifier(estimators)\n",
    "results = model_selection.cross_val_score(ensemble, X, y, cv=kfold)\n",
    "print(results.mean())"
   ]
  }
 ],
 "metadata": {
  "kernelspec": {
   "display_name": "Python 3",
   "language": "python",
   "name": "python3"
  },
  "language_info": {
   "codemirror_mode": {
    "name": "ipython",
    "version": 3
   },
   "file_extension": ".py",
   "mimetype": "text/x-python",
   "name": "python",
   "nbconvert_exporter": "python",
   "pygments_lexer": "ipython3",
   "version": "3.8.5"
  }
 },
 "nbformat": 4,
 "nbformat_minor": 4
}
