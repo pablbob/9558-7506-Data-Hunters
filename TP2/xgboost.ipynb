{
 "cells": [
  {
   "cell_type": "markdown",
   "metadata": {},
   "source": [
    "# Imports"
   ]
  },
  {
   "cell_type": "code",
   "execution_count": 1,
   "metadata": {},
   "outputs": [],
   "source": [
    "import xgboost as xgb\n",
    "from sklearn.metrics import f1_score\n",
    "import pandas as pd\n",
    "import numpy as np\n",
    "%matplotlib inline\n",
    "import matplotlib.pyplot as plt\n",
    "from sklearn import tree\n",
    "from sklearn.model_selection import train_test_split\n",
    "from sklearn.model_selection import RandomizedSearchCV"
   ]
  },
  {
   "cell_type": "markdown",
   "metadata": {},
   "source": [
    "# Train"
   ]
  },
  {
   "cell_type": "code",
   "execution_count": 2,
   "metadata": {},
   "outputs": [
    {
     "data": {
      "text/html": [
       "<div>\n",
       "<style scoped>\n",
       "    .dataframe tbody tr th:only-of-type {\n",
       "        vertical-align: middle;\n",
       "    }\n",
       "\n",
       "    .dataframe tbody tr th {\n",
       "        vertical-align: top;\n",
       "    }\n",
       "\n",
       "    .dataframe thead th {\n",
       "        text-align: right;\n",
       "    }\n",
       "</style>\n",
       "<table border=\"1\" class=\"dataframe\">\n",
       "  <thead>\n",
       "    <tr style=\"text-align: right;\">\n",
       "      <th></th>\n",
       "      <th>len_location</th>\n",
       "      <th>len_keyword</th>\n",
       "      <th>len_text</th>\n",
       "      <th>len_text_original</th>\n",
       "      <th>diff_len_text</th>\n",
       "      <th>keyword_value</th>\n",
       "      <th>keyword_sum</th>\n",
       "      <th>keyword_min</th>\n",
       "      <th>keyword_max</th>\n",
       "      <th>keyword_mean</th>\n",
       "      <th>...</th>\n",
       "      <th>text_mean_tf-idf</th>\n",
       "      <th>text_median_tf-idf</th>\n",
       "      <th>text_value</th>\n",
       "      <th>text_norm_value</th>\n",
       "      <th>text_sum_w2v</th>\n",
       "      <th>text_min_w2v</th>\n",
       "      <th>text_max_w2v</th>\n",
       "      <th>text_mean_w2v</th>\n",
       "      <th>text_median_w2v</th>\n",
       "      <th>target</th>\n",
       "    </tr>\n",
       "  </thead>\n",
       "  <tbody>\n",
       "    <tr>\n",
       "      <th>0</th>\n",
       "      <td>0</td>\n",
       "      <td>0</td>\n",
       "      <td>43</td>\n",
       "      <td>69</td>\n",
       "      <td>26</td>\n",
       "      <td>3.267254</td>\n",
       "      <td>1.0</td>\n",
       "      <td>1.0</td>\n",
       "      <td>1.0</td>\n",
       "      <td>1.0</td>\n",
       "      <td>...</td>\n",
       "      <td>0.343243</td>\n",
       "      <td>0.323476</td>\n",
       "      <td>27.431596</td>\n",
       "      <td>12.513938</td>\n",
       "      <td>8.481658</td>\n",
       "      <td>0.000850</td>\n",
       "      <td>0.615265</td>\n",
       "      <td>0.154212</td>\n",
       "      <td>0.121727</td>\n",
       "      <td>1</td>\n",
       "    </tr>\n",
       "    <tr>\n",
       "      <th>1</th>\n",
       "      <td>0</td>\n",
       "      <td>0</td>\n",
       "      <td>36</td>\n",
       "      <td>38</td>\n",
       "      <td>2</td>\n",
       "      <td>3.267254</td>\n",
       "      <td>1.0</td>\n",
       "      <td>1.0</td>\n",
       "      <td>1.0</td>\n",
       "      <td>1.0</td>\n",
       "      <td>...</td>\n",
       "      <td>0.363618</td>\n",
       "      <td>0.340166</td>\n",
       "      <td>15.093579</td>\n",
       "      <td>7.808587</td>\n",
       "      <td>0.790154</td>\n",
       "      <td>-0.103024</td>\n",
       "      <td>0.308946</td>\n",
       "      <td>0.079015</td>\n",
       "      <td>0.055061</td>\n",
       "      <td>1</td>\n",
       "    </tr>\n",
       "    <tr>\n",
       "      <th>2</th>\n",
       "      <td>0</td>\n",
       "      <td>0</td>\n",
       "      <td>72</td>\n",
       "      <td>133</td>\n",
       "      <td>61</td>\n",
       "      <td>3.267254</td>\n",
       "      <td>1.0</td>\n",
       "      <td>1.0</td>\n",
       "      <td>1.0</td>\n",
       "      <td>1.0</td>\n",
       "      <td>...</td>\n",
       "      <td>0.327084</td>\n",
       "      <td>0.256037</td>\n",
       "      <td>51.178261</td>\n",
       "      <td>21.319380</td>\n",
       "      <td>29.265612</td>\n",
       "      <td>-0.044882</td>\n",
       "      <td>1.000000</td>\n",
       "      <td>0.139360</td>\n",
       "      <td>0.095317</td>\n",
       "      <td>1</td>\n",
       "    </tr>\n",
       "    <tr>\n",
       "      <th>3</th>\n",
       "      <td>0</td>\n",
       "      <td>0</td>\n",
       "      <td>50</td>\n",
       "      <td>65</td>\n",
       "      <td>15</td>\n",
       "      <td>3.267254</td>\n",
       "      <td>1.0</td>\n",
       "      <td>1.0</td>\n",
       "      <td>1.0</td>\n",
       "      <td>1.0</td>\n",
       "      <td>...</td>\n",
       "      <td>0.359336</td>\n",
       "      <td>0.346962</td>\n",
       "      <td>24.392019</td>\n",
       "      <td>11.505696</td>\n",
       "      <td>2.733583</td>\n",
       "      <td>-0.039545</td>\n",
       "      <td>0.317247</td>\n",
       "      <td>0.097628</td>\n",
       "      <td>0.082558</td>\n",
       "      <td>1</td>\n",
       "    </tr>\n",
       "    <tr>\n",
       "      <th>4</th>\n",
       "      <td>0</td>\n",
       "      <td>0</td>\n",
       "      <td>52</td>\n",
       "      <td>88</td>\n",
       "      <td>36</td>\n",
       "      <td>3.267254</td>\n",
       "      <td>1.0</td>\n",
       "      <td>1.0</td>\n",
       "      <td>1.0</td>\n",
       "      <td>1.0</td>\n",
       "      <td>...</td>\n",
       "      <td>0.326443</td>\n",
       "      <td>0.287533</td>\n",
       "      <td>38.645027</td>\n",
       "      <td>15.708514</td>\n",
       "      <td>13.153737</td>\n",
       "      <td>-0.041156</td>\n",
       "      <td>1.000000</td>\n",
       "      <td>0.125274</td>\n",
       "      <td>0.086994</td>\n",
       "      <td>1</td>\n",
       "    </tr>\n",
       "    <tr>\n",
       "      <th>5</th>\n",
       "      <td>0</td>\n",
       "      <td>0</td>\n",
       "      <td>84</td>\n",
       "      <td>110</td>\n",
       "      <td>26</td>\n",
       "      <td>3.267254</td>\n",
       "      <td>1.0</td>\n",
       "      <td>1.0</td>\n",
       "      <td>1.0</td>\n",
       "      <td>1.0</td>\n",
       "      <td>...</td>\n",
       "      <td>0.267090</td>\n",
       "      <td>0.268381</td>\n",
       "      <td>37.357096</td>\n",
       "      <td>15.731668</td>\n",
       "      <td>7.810325</td>\n",
       "      <td>-0.093557</td>\n",
       "      <td>0.478663</td>\n",
       "      <td>0.100132</td>\n",
       "      <td>0.080587</td>\n",
       "      <td>1</td>\n",
       "    </tr>\n",
       "    <tr>\n",
       "      <th>6</th>\n",
       "      <td>0</td>\n",
       "      <td>0</td>\n",
       "      <td>74</td>\n",
       "      <td>95</td>\n",
       "      <td>21</td>\n",
       "      <td>3.267254</td>\n",
       "      <td>1.0</td>\n",
       "      <td>1.0</td>\n",
       "      <td>1.0</td>\n",
       "      <td>1.0</td>\n",
       "      <td>...</td>\n",
       "      <td>0.304355</td>\n",
       "      <td>0.292368</td>\n",
       "      <td>34.450148</td>\n",
       "      <td>16.301306</td>\n",
       "      <td>9.341228</td>\n",
       "      <td>-0.047981</td>\n",
       "      <td>0.788929</td>\n",
       "      <td>0.141534</td>\n",
       "      <td>0.109943</td>\n",
       "      <td>1</td>\n",
       "    </tr>\n",
       "    <tr>\n",
       "      <th>7</th>\n",
       "      <td>0</td>\n",
       "      <td>0</td>\n",
       "      <td>21</td>\n",
       "      <td>59</td>\n",
       "      <td>38</td>\n",
       "      <td>3.267254</td>\n",
       "      <td>1.0</td>\n",
       "      <td>1.0</td>\n",
       "      <td>1.0</td>\n",
       "      <td>1.0</td>\n",
       "      <td>...</td>\n",
       "      <td>0.433880</td>\n",
       "      <td>0.410864</td>\n",
       "      <td>26.954125</td>\n",
       "      <td>12.321519</td>\n",
       "      <td>11.859967</td>\n",
       "      <td>-0.143466</td>\n",
       "      <td>1.000000</td>\n",
       "      <td>0.152051</td>\n",
       "      <td>0.112546</td>\n",
       "      <td>1</td>\n",
       "    </tr>\n",
       "    <tr>\n",
       "      <th>8</th>\n",
       "      <td>0</td>\n",
       "      <td>0</td>\n",
       "      <td>38</td>\n",
       "      <td>79</td>\n",
       "      <td>41</td>\n",
       "      <td>3.267254</td>\n",
       "      <td>1.0</td>\n",
       "      <td>1.0</td>\n",
       "      <td>1.0</td>\n",
       "      <td>1.0</td>\n",
       "      <td>...</td>\n",
       "      <td>0.404259</td>\n",
       "      <td>0.389401</td>\n",
       "      <td>27.801975</td>\n",
       "      <td>13.488863</td>\n",
       "      <td>15.609978</td>\n",
       "      <td>-0.033696</td>\n",
       "      <td>1.000000</td>\n",
       "      <td>0.200128</td>\n",
       "      <td>0.158737</td>\n",
       "      <td>1</td>\n",
       "    </tr>\n",
       "    <tr>\n",
       "      <th>9</th>\n",
       "      <td>0</td>\n",
       "      <td>0</td>\n",
       "      <td>24</td>\n",
       "      <td>52</td>\n",
       "      <td>28</td>\n",
       "      <td>3.267254</td>\n",
       "      <td>1.0</td>\n",
       "      <td>1.0</td>\n",
       "      <td>1.0</td>\n",
       "      <td>1.0</td>\n",
       "      <td>...</td>\n",
       "      <td>0.491594</td>\n",
       "      <td>0.467736</td>\n",
       "      <td>23.065922</td>\n",
       "      <td>11.107360</td>\n",
       "      <td>7.238668</td>\n",
       "      <td>0.004347</td>\n",
       "      <td>0.526257</td>\n",
       "      <td>0.160859</td>\n",
       "      <td>0.136866</td>\n",
       "      <td>1</td>\n",
       "    </tr>\n",
       "  </tbody>\n",
       "</table>\n",
       "<p>10 rows × 36 columns</p>\n",
       "</div>"
      ],
      "text/plain": [
       "   len_location  len_keyword  len_text  len_text_original  diff_len_text  \\\n",
       "0             0            0        43                 69             26   \n",
       "1             0            0        36                 38              2   \n",
       "2             0            0        72                133             61   \n",
       "3             0            0        50                 65             15   \n",
       "4             0            0        52                 88             36   \n",
       "5             0            0        84                110             26   \n",
       "6             0            0        74                 95             21   \n",
       "7             0            0        21                 59             38   \n",
       "8             0            0        38                 79             41   \n",
       "9             0            0        24                 52             28   \n",
       "\n",
       "   keyword_value  keyword_sum  keyword_min  keyword_max  keyword_mean  ...  \\\n",
       "0       3.267254          1.0          1.0          1.0           1.0  ...   \n",
       "1       3.267254          1.0          1.0          1.0           1.0  ...   \n",
       "2       3.267254          1.0          1.0          1.0           1.0  ...   \n",
       "3       3.267254          1.0          1.0          1.0           1.0  ...   \n",
       "4       3.267254          1.0          1.0          1.0           1.0  ...   \n",
       "5       3.267254          1.0          1.0          1.0           1.0  ...   \n",
       "6       3.267254          1.0          1.0          1.0           1.0  ...   \n",
       "7       3.267254          1.0          1.0          1.0           1.0  ...   \n",
       "8       3.267254          1.0          1.0          1.0           1.0  ...   \n",
       "9       3.267254          1.0          1.0          1.0           1.0  ...   \n",
       "\n",
       "   text_mean_tf-idf  text_median_tf-idf  text_value  text_norm_value  \\\n",
       "0          0.343243            0.323476   27.431596        12.513938   \n",
       "1          0.363618            0.340166   15.093579         7.808587   \n",
       "2          0.327084            0.256037   51.178261        21.319380   \n",
       "3          0.359336            0.346962   24.392019        11.505696   \n",
       "4          0.326443            0.287533   38.645027        15.708514   \n",
       "5          0.267090            0.268381   37.357096        15.731668   \n",
       "6          0.304355            0.292368   34.450148        16.301306   \n",
       "7          0.433880            0.410864   26.954125        12.321519   \n",
       "8          0.404259            0.389401   27.801975        13.488863   \n",
       "9          0.491594            0.467736   23.065922        11.107360   \n",
       "\n",
       "   text_sum_w2v  text_min_w2v  text_max_w2v  text_mean_w2v  text_median_w2v  \\\n",
       "0      8.481658      0.000850      0.615265       0.154212         0.121727   \n",
       "1      0.790154     -0.103024      0.308946       0.079015         0.055061   \n",
       "2     29.265612     -0.044882      1.000000       0.139360         0.095317   \n",
       "3      2.733583     -0.039545      0.317247       0.097628         0.082558   \n",
       "4     13.153737     -0.041156      1.000000       0.125274         0.086994   \n",
       "5      7.810325     -0.093557      0.478663       0.100132         0.080587   \n",
       "6      9.341228     -0.047981      0.788929       0.141534         0.109943   \n",
       "7     11.859967     -0.143466      1.000000       0.152051         0.112546   \n",
       "8     15.609978     -0.033696      1.000000       0.200128         0.158737   \n",
       "9      7.238668      0.004347      0.526257       0.160859         0.136866   \n",
       "\n",
       "   target  \n",
       "0       1  \n",
       "1       1  \n",
       "2       1  \n",
       "3       1  \n",
       "4       1  \n",
       "5       1  \n",
       "6       1  \n",
       "7       1  \n",
       "8       1  \n",
       "9       1  \n",
       "\n",
       "[10 rows x 36 columns]"
      ]
     },
     "execution_count": 2,
     "metadata": {},
     "output_type": "execute_result"
    }
   ],
   "source": [
    "train_set = pd.read_csv('train/train_encoded.csv')\n",
    "train_set.head(10)"
   ]
  },
  {
   "cell_type": "markdown",
   "metadata": {},
   "source": [
    "### XGBoost"
   ]
  },
  {
   "cell_type": "code",
   "execution_count": 22,
   "metadata": {},
   "outputs": [],
   "source": [
    "X, y = train_set.iloc[:,:-1],train_set.iloc[:,-1]\n",
    "X_train, X_test, y_train, y_test = train_test_split(X, y, test_size=0.1)"
   ]
  },
  {
   "cell_type": "markdown",
   "metadata": {},
   "source": [
    "### Random Search"
   ]
  },
  {
   "cell_type": "code",
   "execution_count": 4,
   "metadata": {},
   "outputs": [],
   "source": [
    "learning_rate = [0.1, 0.3, 0.01, 0.001]\n",
    "max_depth = [20, 50, 70, 100]\n",
    "#subsamples = [0.4, 0.5, 0.6]\n",
    "colsample_bytree = [0.4, 0.5, 0.6]\n",
    "n_estimators = [20, 50, 70, 100]\n",
    "objective = ['reg:logistic']\n",
    "\n",
    "random_search = {'learning_rate': learning_rate, 'max_depth': max_depth,\\\n",
    "                'colsample_bytree': colsample_bytree, 'n_estimators': n_estimators, 'objective': objective}"
   ]
  },
  {
   "cell_type": "code",
   "execution_count": 5,
   "metadata": {},
   "outputs": [],
   "source": [
    "xgb_random = RandomizedSearchCV(estimator = xgb.XGBClassifier(),\\\n",
    "                               param_distributions=random_search, n_iter=50, cv=7, random_state=111)"
   ]
  },
  {
   "cell_type": "code",
   "execution_count": 6,
   "metadata": {},
   "outputs": [
    {
     "data": {
      "text/plain": [
       "RandomizedSearchCV(cv=7,\n",
       "                   estimator=XGBClassifier(base_score=None, booster=None,\n",
       "                                           colsample_bylevel=None,\n",
       "                                           colsample_bynode=None,\n",
       "                                           colsample_bytree=None, gamma=None,\n",
       "                                           gpu_id=None, importance_type='gain',\n",
       "                                           interaction_constraints=None,\n",
       "                                           learning_rate=None,\n",
       "                                           max_delta_step=None, max_depth=None,\n",
       "                                           min_child_weight=None, missing=nan,\n",
       "                                           monotone_constraints=None,\n",
       "                                           n_estimators=100,...\n",
       "                                           num_parallel_tree=None,\n",
       "                                           random_state=None, reg_alpha=None,\n",
       "                                           reg_lambda=None,\n",
       "                                           scale_pos_weight=None,\n",
       "                                           subsample=None, tree_method=None,\n",
       "                                           validate_parameters=None,\n",
       "                                           verbosity=None),\n",
       "                   n_iter=50,\n",
       "                   param_distributions={'colsample_bytree': [0.4, 0.5, 0.6],\n",
       "                                        'learning_rate': [0.1, 0.3, 0.01,\n",
       "                                                          0.001],\n",
       "                                        'max_depth': [20, 50, 70, 100],\n",
       "                                        'n_estimators': [20, 50, 70, 100],\n",
       "                                        'objective': ['reg:logistic']},\n",
       "                   random_state=111)"
      ]
     },
     "execution_count": 6,
     "metadata": {},
     "output_type": "execute_result"
    }
   ],
   "source": [
    "xgb_random.fit(X_train, y_train)"
   ]
  },
  {
   "cell_type": "code",
   "execution_count": 7,
   "metadata": {},
   "outputs": [
    {
     "data": {
      "text/plain": [
       "{'objective': 'reg:logistic',\n",
       " 'n_estimators': 100,\n",
       " 'max_depth': 100,\n",
       " 'learning_rate': 0.1,\n",
       " 'colsample_bytree': 0.5}"
      ]
     },
     "execution_count": 7,
     "metadata": {},
     "output_type": "execute_result"
    }
   ],
   "source": [
    "xgb_random.best_params_"
   ]
  },
  {
   "cell_type": "code",
   "execution_count": 8,
   "metadata": {},
   "outputs": [
    {
     "name": "stdout",
     "output_type": "stream",
     "text": [
      "F1-Mean Score: 0.806671\n"
     ]
    }
   ],
   "source": [
    "preds = xgb_random.predict(X_test)\n",
    "f1 = np.sqrt(f1_score(y_test, preds))\n",
    "print(\"F1-Mean Score: %f\" % (f1))"
   ]
  },
  {
   "cell_type": "code",
   "execution_count": 23,
   "metadata": {},
   "outputs": [
    {
     "name": "stdout",
     "output_type": "stream",
     "text": [
      "F1-Mean Score: 0.815827\n"
     ]
    }
   ],
   "source": [
    "xg_reg = xgb.XGBClassifier(objective ='reg:logistic', colsample_bytree = 0.6,\\\n",
    "                           learning_rate = 0.1, max_depth = 100, n_estimators = 100)\n",
    "xg_reg.fit(X_train,y_train)\n",
    "preds = xg_reg.predict(X_test)\n",
    "f1 = np.sqrt(f1_score(y_test, preds))\n",
    "print(\"F1-Mean Score: %f\" % (f1))"
   ]
  },
  {
   "cell_type": "code",
   "execution_count": 24,
   "metadata": {},
   "outputs": [
    {
     "name": "stdout",
     "output_type": "stream",
     "text": [
      "F1-Mean Score: 0.814473\n"
     ]
    }
   ],
   "source": [
    "xg_reg = xgb.XGBClassifier(objective ='reg:logistic', colsample_bytree = 0.4,\\\n",
    "                           learning_rate = 0.001, max_depth = 50, n_estimators = 50)\n",
    "xg_reg.fit(X_train,y_train)\n",
    "preds = xg_reg.predict(X_test)\n",
    "f1 = np.sqrt(f1_score(y_test, preds))\n",
    "print(\"F1-Mean Score: %f\" % (f1))"
   ]
  },
  {
   "cell_type": "code",
   "execution_count": 25,
   "metadata": {},
   "outputs": [
    {
     "name": "stdout",
     "output_type": "stream",
     "text": [
      "F1-Mean Score: 0.811751\n"
     ]
    }
   ],
   "source": [
    "xg_reg = xgb.XGBClassifier(objective ='reg:logistic', colsample_bytree = 0.5,\\\n",
    "                           learning_rate = 0.1, max_depth = 100, n_estimators = 100)\n",
    "xg_reg.fit(X_train,y_train)\n",
    "preds = xg_reg.predict(X_test)\n",
    "f1 = np.sqrt(f1_score(y_test, preds))\n",
    "print(\"F1-Mean Score: %f\" % (f1))"
   ]
  },
  {
   "cell_type": "code",
   "execution_count": 26,
   "metadata": {},
   "outputs": [
    {
     "name": "stdout",
     "output_type": "stream",
     "text": [
      "F1-Mean Score: 0.814473\n"
     ]
    }
   ],
   "source": [
    "xg_reg = xgb.XGBClassifier(objective ='reg:logistic', colsample_bytree = 0.5,\\\n",
    "                           learning_rate = 0.01, max_depth = 100, n_estimators = 100)\n",
    "xg_reg.fit(X_train,y_train)\n",
    "preds = xg_reg.predict(X_test)\n",
    "f1 = np.sqrt(f1_score(y_test, preds))\n",
    "print(\"F1-Mean Score: %f\" % (f1))"
   ]
  },
  {
   "cell_type": "markdown",
   "metadata": {},
   "source": [
    "Best score w/ test_size 0.1: 83,6"
   ]
  },
  {
   "cell_type": "markdown",
   "metadata": {},
   "source": [
    "##### Best params de random forest"
   ]
  },
  {
   "cell_type": "code",
   "execution_count": 27,
   "metadata": {},
   "outputs": [
    {
     "name": "stdout",
     "output_type": "stream",
     "text": [
      "F1-Mean Score: 0.813854\n"
     ]
    }
   ],
   "source": [
    "xg_reg = xgb.XGBClassifier(objective ='reg:logistic', learning_rate = 0.1, max_depth = 70, n_estimators = 100)\n",
    "xg_reg.fit(X_train,y_train)\n",
    "preds = xg_reg.predict(X_test)\n",
    "f1 = np.sqrt(f1_score(y_test, preds))\n",
    "print(\"F1-Mean Score: %f\" % (f1))"
   ]
  },
  {
   "cell_type": "code",
   "execution_count": 30,
   "metadata": {},
   "outputs": [
    {
     "name": "stdout",
     "output_type": "stream",
     "text": [
      "F1-Mean Score: 0.819772\n"
     ]
    }
   ],
   "source": [
    "xg_reg = xgb.XGBClassifier(objective ='reg:logistic', subsample=0.3, colsample_bytree = 0.7,\\\n",
    "                           learning_rate = 0.1, max_depth = 37, n_estimators = 60)\n",
    "xg_reg.fit(X_train,y_train)\n",
    "preds = xg_reg.predict(X_test)\n",
    "f1 = np.sqrt(f1_score(y_test, preds))\n",
    "print(\"F1-Mean Score: %f\" % (f1))"
   ]
  },
  {
   "cell_type": "code",
   "execution_count": 29,
   "metadata": {},
   "outputs": [
    {
     "name": "stdout",
     "output_type": "stream",
     "text": [
      "F1-Mean Score: 0.815810\n"
     ]
    }
   ],
   "source": [
    "xg_reg = xgb.XGBClassifier(objective ='reg:logistic', subsample=0.3,\n",
    "                colsample_bytree = 0.6, learning_rate = 0.1,\n",
    "                max_depth = 70, alpha = 10, n_estimators = 57)\n",
    "xg_reg.fit(X_train,y_train)\n",
    "preds = xg_reg.predict(X_test)\n",
    "f1 = np.sqrt(f1_score(y_test, preds))\n",
    "print(\"F1-Mean Score: %f\" % (f1))"
   ]
  },
  {
   "cell_type": "markdown",
   "metadata": {},
   "source": [
    "# Test"
   ]
  },
  {
   "cell_type": "code",
   "execution_count": 31,
   "metadata": {},
   "outputs": [],
   "source": [
    "test_set = pd.read_csv('test/test_encoded.csv')"
   ]
  },
  {
   "cell_type": "code",
   "execution_count": 32,
   "metadata": {},
   "outputs": [],
   "source": [
    "col_id = test_set['id']\n",
    "test_set.drop('id', axis=1, inplace=True)"
   ]
  },
  {
   "cell_type": "code",
   "execution_count": 33,
   "metadata": {},
   "outputs": [
    {
     "data": {
      "text/plain": [
       "array([0, 0, 1, ..., 1, 1, 0])"
      ]
     },
     "execution_count": 33,
     "metadata": {},
     "output_type": "execute_result"
    }
   ],
   "source": [
    "preds = xg_reg.predict(test_set)\n",
    "preds"
   ]
  },
  {
   "cell_type": "code",
   "execution_count": 34,
   "metadata": {},
   "outputs": [
    {
     "data": {
      "text/html": [
       "<div>\n",
       "<style scoped>\n",
       "    .dataframe tbody tr th:only-of-type {\n",
       "        vertical-align: middle;\n",
       "    }\n",
       "\n",
       "    .dataframe tbody tr th {\n",
       "        vertical-align: top;\n",
       "    }\n",
       "\n",
       "    .dataframe thead th {\n",
       "        text-align: right;\n",
       "    }\n",
       "</style>\n",
       "<table border=\"1\" class=\"dataframe\">\n",
       "  <thead>\n",
       "    <tr style=\"text-align: right;\">\n",
       "      <th></th>\n",
       "      <th>id</th>\n",
       "      <th>target</th>\n",
       "    </tr>\n",
       "  </thead>\n",
       "  <tbody>\n",
       "    <tr>\n",
       "      <th>0</th>\n",
       "      <td>0</td>\n",
       "      <td>0</td>\n",
       "    </tr>\n",
       "    <tr>\n",
       "      <th>1</th>\n",
       "      <td>2</td>\n",
       "      <td>0</td>\n",
       "    </tr>\n",
       "    <tr>\n",
       "      <th>2</th>\n",
       "      <td>3</td>\n",
       "      <td>1</td>\n",
       "    </tr>\n",
       "    <tr>\n",
       "      <th>3</th>\n",
       "      <td>9</td>\n",
       "      <td>0</td>\n",
       "    </tr>\n",
       "    <tr>\n",
       "      <th>4</th>\n",
       "      <td>11</td>\n",
       "      <td>1</td>\n",
       "    </tr>\n",
       "    <tr>\n",
       "      <th>...</th>\n",
       "      <td>...</td>\n",
       "      <td>...</td>\n",
       "    </tr>\n",
       "    <tr>\n",
       "      <th>3258</th>\n",
       "      <td>10861</td>\n",
       "      <td>1</td>\n",
       "    </tr>\n",
       "    <tr>\n",
       "      <th>3259</th>\n",
       "      <td>10865</td>\n",
       "      <td>0</td>\n",
       "    </tr>\n",
       "    <tr>\n",
       "      <th>3260</th>\n",
       "      <td>10868</td>\n",
       "      <td>1</td>\n",
       "    </tr>\n",
       "    <tr>\n",
       "      <th>3261</th>\n",
       "      <td>10874</td>\n",
       "      <td>1</td>\n",
       "    </tr>\n",
       "    <tr>\n",
       "      <th>3262</th>\n",
       "      <td>10875</td>\n",
       "      <td>0</td>\n",
       "    </tr>\n",
       "  </tbody>\n",
       "</table>\n",
       "<p>3263 rows × 2 columns</p>\n",
       "</div>"
      ],
      "text/plain": [
       "         id  target\n",
       "0         0       0\n",
       "1         2       0\n",
       "2         3       1\n",
       "3         9       0\n",
       "4        11       1\n",
       "...     ...     ...\n",
       "3258  10861       1\n",
       "3259  10865       0\n",
       "3260  10868       1\n",
       "3261  10874       1\n",
       "3262  10875       0\n",
       "\n",
       "[3263 rows x 2 columns]"
      ]
     },
     "execution_count": 34,
     "metadata": {},
     "output_type": "execute_result"
    }
   ],
   "source": [
    "test_set['target'] = preds\n",
    "test_set['id'] = col_id\n",
    "test_set[['id', 'target']]"
   ]
  },
  {
   "cell_type": "markdown",
   "metadata": {},
   "source": [
    "### Resultado"
   ]
  },
  {
   "cell_type": "code",
   "execution_count": 35,
   "metadata": {},
   "outputs": [],
   "source": [
    "test_set[['id', 'target']].to_csv('result.csv', header=True, index=False)"
   ]
  }
 ],
 "metadata": {
  "kernelspec": {
   "display_name": "Python 3",
   "language": "python",
   "name": "python3"
  },
  "language_info": {
   "codemirror_mode": {
    "name": "ipython",
    "version": 3
   },
   "file_extension": ".py",
   "mimetype": "text/x-python",
   "name": "python",
   "nbconvert_exporter": "python",
   "pygments_lexer": "ipython3",
   "version": "3.8.5"
  }
 },
 "nbformat": 4,
 "nbformat_minor": 4
}
