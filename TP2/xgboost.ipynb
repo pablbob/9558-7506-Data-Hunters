{
 "cells": [
  {
   "cell_type": "markdown",
   "metadata": {},
   "source": [
    "# Imports"
   ]
  },
  {
   "cell_type": "code",
   "execution_count": 1,
   "metadata": {},
   "outputs": [],
   "source": [
    "import xgboost as xgb\n",
    "from sklearn.metrics import f1_score\n",
    "import pandas as pd\n",
    "import numpy as np\n",
    "%matplotlib inline\n",
    "import matplotlib.pyplot as plt\n",
    "from sklearn import tree\n",
    "from sklearn.model_selection import train_test_split\n",
    "from sklearn.model_selection import RandomizedSearchCV"
   ]
  },
  {
   "cell_type": "markdown",
   "metadata": {},
   "source": [
    "# Train"
   ]
  },
  {
   "cell_type": "code",
   "execution_count": 19,
   "metadata": {},
   "outputs": [
    {
     "data": {
      "text/html": [
       "<div>\n",
       "<style scoped>\n",
       "    .dataframe tbody tr th:only-of-type {\n",
       "        vertical-align: middle;\n",
       "    }\n",
       "\n",
       "    .dataframe tbody tr th {\n",
       "        vertical-align: top;\n",
       "    }\n",
       "\n",
       "    .dataframe thead th {\n",
       "        text-align: right;\n",
       "    }\n",
       "</style>\n",
       "<table border=\"1\" class=\"dataframe\">\n",
       "  <thead>\n",
       "    <tr style=\"text-align: right;\">\n",
       "      <th></th>\n",
       "      <th>id</th>\n",
       "      <th>len_keyword</th>\n",
       "      <th>len_location</th>\n",
       "      <th>len_text</th>\n",
       "      <th>len_text_original</th>\n",
       "      <th>diff_len_text</th>\n",
       "      <th>keyword_sum</th>\n",
       "      <th>keyword_min</th>\n",
       "      <th>keyword_max</th>\n",
       "      <th>keyword_mean</th>\n",
       "      <th>...</th>\n",
       "      <th>text_min_tf-idf</th>\n",
       "      <th>text_max_tf-idf</th>\n",
       "      <th>text_mean_tf-idf</th>\n",
       "      <th>text_median_tf-idf</th>\n",
       "      <th>text_sum_w2v</th>\n",
       "      <th>text_min_w2v</th>\n",
       "      <th>text_max_w2v</th>\n",
       "      <th>text_mean_w2v</th>\n",
       "      <th>text_median_w2v</th>\n",
       "      <th>target</th>\n",
       "    </tr>\n",
       "  </thead>\n",
       "  <tbody>\n",
       "    <tr>\n",
       "      <th>0</th>\n",
       "      <td>1</td>\n",
       "      <td>0.0</td>\n",
       "      <td>0.0</td>\n",
       "      <td>68</td>\n",
       "      <td>69</td>\n",
       "      <td>1</td>\n",
       "      <td>1.0</td>\n",
       "      <td>1.0</td>\n",
       "      <td>1.0</td>\n",
       "      <td>1.0</td>\n",
       "      <td>...</td>\n",
       "      <td>0.099866</td>\n",
       "      <td>0.430347</td>\n",
       "      <td>0.257765</td>\n",
       "      <td>0.249176</td>\n",
       "      <td>11.683651</td>\n",
       "      <td>-0.018116</td>\n",
       "      <td>0.615265</td>\n",
       "      <td>0.177025</td>\n",
       "      <td>0.150866</td>\n",
       "      <td>1</td>\n",
       "    </tr>\n",
       "    <tr>\n",
       "      <th>1</th>\n",
       "      <td>4</td>\n",
       "      <td>0.0</td>\n",
       "      <td>0.0</td>\n",
       "      <td>38</td>\n",
       "      <td>38</td>\n",
       "      <td>0</td>\n",
       "      <td>1.0</td>\n",
       "      <td>1.0</td>\n",
       "      <td>1.0</td>\n",
       "      <td>1.0</td>\n",
       "      <td>...</td>\n",
       "      <td>0.227820</td>\n",
       "      <td>0.504613</td>\n",
       "      <td>0.365052</td>\n",
       "      <td>0.347656</td>\n",
       "      <td>0.790154</td>\n",
       "      <td>-0.103024</td>\n",
       "      <td>0.308946</td>\n",
       "      <td>0.079015</td>\n",
       "      <td>0.055061</td>\n",
       "      <td>1</td>\n",
       "    </tr>\n",
       "    <tr>\n",
       "      <th>2</th>\n",
       "      <td>5</td>\n",
       "      <td>0.0</td>\n",
       "      <td>0.0</td>\n",
       "      <td>131</td>\n",
       "      <td>133</td>\n",
       "      <td>2</td>\n",
       "      <td>1.0</td>\n",
       "      <td>1.0</td>\n",
       "      <td>1.0</td>\n",
       "      <td>1.0</td>\n",
       "      <td>...</td>\n",
       "      <td>0.074545</td>\n",
       "      <td>0.497279</td>\n",
       "      <td>0.232038</td>\n",
       "      <td>0.219919</td>\n",
       "      <td>32.468316</td>\n",
       "      <td>-0.044882</td>\n",
       "      <td>1.000000</td>\n",
       "      <td>0.154611</td>\n",
       "      <td>0.113670</td>\n",
       "      <td>1</td>\n",
       "    </tr>\n",
       "    <tr>\n",
       "      <th>3</th>\n",
       "      <td>6</td>\n",
       "      <td>0.0</td>\n",
       "      <td>0.0</td>\n",
       "      <td>63</td>\n",
       "      <td>65</td>\n",
       "      <td>2</td>\n",
       "      <td>1.0</td>\n",
       "      <td>1.0</td>\n",
       "      <td>1.0</td>\n",
       "      <td>1.0</td>\n",
       "      <td>...</td>\n",
       "      <td>0.128410</td>\n",
       "      <td>0.484991</td>\n",
       "      <td>0.335797</td>\n",
       "      <td>0.356367</td>\n",
       "      <td>1.943116</td>\n",
       "      <td>-0.039545</td>\n",
       "      <td>0.317247</td>\n",
       "      <td>0.092529</td>\n",
       "      <td>0.078856</td>\n",
       "      <td>1</td>\n",
       "    </tr>\n",
       "    <tr>\n",
       "      <th>4</th>\n",
       "      <td>7</td>\n",
       "      <td>0.0</td>\n",
       "      <td>0.0</td>\n",
       "      <td>86</td>\n",
       "      <td>88</td>\n",
       "      <td>2</td>\n",
       "      <td>1.0</td>\n",
       "      <td>1.0</td>\n",
       "      <td>1.0</td>\n",
       "      <td>1.0</td>\n",
       "      <td>...</td>\n",
       "      <td>0.096273</td>\n",
       "      <td>0.390788</td>\n",
       "      <td>0.248369</td>\n",
       "      <td>0.241596</td>\n",
       "      <td>13.153737</td>\n",
       "      <td>-0.041156</td>\n",
       "      <td>1.000000</td>\n",
       "      <td>0.125274</td>\n",
       "      <td>0.086994</td>\n",
       "      <td>1</td>\n",
       "    </tr>\n",
       "    <tr>\n",
       "      <th>5</th>\n",
       "      <td>8</td>\n",
       "      <td>0.0</td>\n",
       "      <td>0.0</td>\n",
       "      <td>105</td>\n",
       "      <td>110</td>\n",
       "      <td>5</td>\n",
       "      <td>1.0</td>\n",
       "      <td>1.0</td>\n",
       "      <td>1.0</td>\n",
       "      <td>1.0</td>\n",
       "      <td>...</td>\n",
       "      <td>0.089499</td>\n",
       "      <td>0.363373</td>\n",
       "      <td>0.238811</td>\n",
       "      <td>0.245703</td>\n",
       "      <td>6.677405</td>\n",
       "      <td>-0.093557</td>\n",
       "      <td>0.478663</td>\n",
       "      <td>0.101173</td>\n",
       "      <td>0.080587</td>\n",
       "      <td>1</td>\n",
       "    </tr>\n",
       "    <tr>\n",
       "      <th>6</th>\n",
       "      <td>10</td>\n",
       "      <td>0.0</td>\n",
       "      <td>0.0</td>\n",
       "      <td>92</td>\n",
       "      <td>95</td>\n",
       "      <td>3</td>\n",
       "      <td>1.0</td>\n",
       "      <td>1.0</td>\n",
       "      <td>1.0</td>\n",
       "      <td>1.0</td>\n",
       "      <td>...</td>\n",
       "      <td>0.096857</td>\n",
       "      <td>0.393245</td>\n",
       "      <td>0.255461</td>\n",
       "      <td>0.272769</td>\n",
       "      <td>9.341228</td>\n",
       "      <td>-0.047981</td>\n",
       "      <td>0.788929</td>\n",
       "      <td>0.141534</td>\n",
       "      <td>0.109943</td>\n",
       "      <td>1</td>\n",
       "    </tr>\n",
       "    <tr>\n",
       "      <th>7</th>\n",
       "      <td>13</td>\n",
       "      <td>0.0</td>\n",
       "      <td>0.0</td>\n",
       "      <td>60</td>\n",
       "      <td>59</td>\n",
       "      <td>-1</td>\n",
       "      <td>1.0</td>\n",
       "      <td>1.0</td>\n",
       "      <td>1.0</td>\n",
       "      <td>1.0</td>\n",
       "      <td>...</td>\n",
       "      <td>0.128963</td>\n",
       "      <td>0.487079</td>\n",
       "      <td>0.246268</td>\n",
       "      <td>0.228644</td>\n",
       "      <td>12.705849</td>\n",
       "      <td>-0.018808</td>\n",
       "      <td>1.000000</td>\n",
       "      <td>0.162896</td>\n",
       "      <td>0.129083</td>\n",
       "      <td>1</td>\n",
       "    </tr>\n",
       "    <tr>\n",
       "      <th>8</th>\n",
       "      <td>14</td>\n",
       "      <td>0.0</td>\n",
       "      <td>0.0</td>\n",
       "      <td>80</td>\n",
       "      <td>79</td>\n",
       "      <td>-1</td>\n",
       "      <td>1.0</td>\n",
       "      <td>1.0</td>\n",
       "      <td>1.0</td>\n",
       "      <td>1.0</td>\n",
       "      <td>...</td>\n",
       "      <td>0.131362</td>\n",
       "      <td>0.399979</td>\n",
       "      <td>0.272497</td>\n",
       "      <td>0.254940</td>\n",
       "      <td>15.609978</td>\n",
       "      <td>-0.033696</td>\n",
       "      <td>1.000000</td>\n",
       "      <td>0.200128</td>\n",
       "      <td>0.158737</td>\n",
       "      <td>1</td>\n",
       "    </tr>\n",
       "    <tr>\n",
       "      <th>9</th>\n",
       "      <td>15</td>\n",
       "      <td>0.0</td>\n",
       "      <td>0.0</td>\n",
       "      <td>53</td>\n",
       "      <td>52</td>\n",
       "      <td>-1</td>\n",
       "      <td>1.0</td>\n",
       "      <td>1.0</td>\n",
       "      <td>1.0</td>\n",
       "      <td>1.0</td>\n",
       "      <td>...</td>\n",
       "      <td>0.130843</td>\n",
       "      <td>0.507948</td>\n",
       "      <td>0.277341</td>\n",
       "      <td>0.259876</td>\n",
       "      <td>7.238668</td>\n",
       "      <td>0.004347</td>\n",
       "      <td>0.526257</td>\n",
       "      <td>0.160859</td>\n",
       "      <td>0.136866</td>\n",
       "      <td>1</td>\n",
       "    </tr>\n",
       "  </tbody>\n",
       "</table>\n",
       "<p>10 rows × 27 columns</p>\n",
       "</div>"
      ],
      "text/plain": [
       "   id  len_keyword  len_location  len_text  len_text_original  diff_len_text  \\\n",
       "0   1          0.0           0.0        68                 69              1   \n",
       "1   4          0.0           0.0        38                 38              0   \n",
       "2   5          0.0           0.0       131                133              2   \n",
       "3   6          0.0           0.0        63                 65              2   \n",
       "4   7          0.0           0.0        86                 88              2   \n",
       "5   8          0.0           0.0       105                110              5   \n",
       "6  10          0.0           0.0        92                 95              3   \n",
       "7  13          0.0           0.0        60                 59             -1   \n",
       "8  14          0.0           0.0        80                 79             -1   \n",
       "9  15          0.0           0.0        53                 52             -1   \n",
       "\n",
       "   keyword_sum  keyword_min  keyword_max  keyword_mean  ...  text_min_tf-idf  \\\n",
       "0          1.0          1.0          1.0           1.0  ...         0.099866   \n",
       "1          1.0          1.0          1.0           1.0  ...         0.227820   \n",
       "2          1.0          1.0          1.0           1.0  ...         0.074545   \n",
       "3          1.0          1.0          1.0           1.0  ...         0.128410   \n",
       "4          1.0          1.0          1.0           1.0  ...         0.096273   \n",
       "5          1.0          1.0          1.0           1.0  ...         0.089499   \n",
       "6          1.0          1.0          1.0           1.0  ...         0.096857   \n",
       "7          1.0          1.0          1.0           1.0  ...         0.128963   \n",
       "8          1.0          1.0          1.0           1.0  ...         0.131362   \n",
       "9          1.0          1.0          1.0           1.0  ...         0.130843   \n",
       "\n",
       "   text_max_tf-idf  text_mean_tf-idf  text_median_tf-idf  text_sum_w2v  \\\n",
       "0         0.430347          0.257765            0.249176     11.683651   \n",
       "1         0.504613          0.365052            0.347656      0.790154   \n",
       "2         0.497279          0.232038            0.219919     32.468316   \n",
       "3         0.484991          0.335797            0.356367      1.943116   \n",
       "4         0.390788          0.248369            0.241596     13.153737   \n",
       "5         0.363373          0.238811            0.245703      6.677405   \n",
       "6         0.393245          0.255461            0.272769      9.341228   \n",
       "7         0.487079          0.246268            0.228644     12.705849   \n",
       "8         0.399979          0.272497            0.254940     15.609978   \n",
       "9         0.507948          0.277341            0.259876      7.238668   \n",
       "\n",
       "   text_min_w2v  text_max_w2v  text_mean_w2v  text_median_w2v  target  \n",
       "0     -0.018116      0.615265       0.177025         0.150866       1  \n",
       "1     -0.103024      0.308946       0.079015         0.055061       1  \n",
       "2     -0.044882      1.000000       0.154611         0.113670       1  \n",
       "3     -0.039545      0.317247       0.092529         0.078856       1  \n",
       "4     -0.041156      1.000000       0.125274         0.086994       1  \n",
       "5     -0.093557      0.478663       0.101173         0.080587       1  \n",
       "6     -0.047981      0.788929       0.141534         0.109943       1  \n",
       "7     -0.018808      1.000000       0.162896         0.129083       1  \n",
       "8     -0.033696      1.000000       0.200128         0.158737       1  \n",
       "9      0.004347      0.526257       0.160859         0.136866       1  \n",
       "\n",
       "[10 rows x 27 columns]"
      ]
     },
     "execution_count": 19,
     "metadata": {},
     "output_type": "execute_result"
    }
   ],
   "source": [
    "train_set = pd.read_csv('train/train_encoded.csv')\n",
    "train_set.head(10)"
   ]
  },
  {
   "cell_type": "code",
   "execution_count": 20,
   "metadata": {},
   "outputs": [],
   "source": [
    "train_set.drop('id', axis=1, inplace=True)"
   ]
  },
  {
   "cell_type": "markdown",
   "metadata": {},
   "source": [
    "### XGBoost"
   ]
  },
  {
   "cell_type": "code",
   "execution_count": 21,
   "metadata": {},
   "outputs": [],
   "source": [
    "X, y = train_set.iloc[:,:-1],train_set.iloc[:,-1]\n",
    "X_train, X_test, y_train, y_test = train_test_split(X, y, test_size=0.3)"
   ]
  },
  {
   "cell_type": "markdown",
   "metadata": {},
   "source": [
    "### Random Search"
   ]
  },
  {
   "cell_type": "code",
   "execution_count": 5,
   "metadata": {},
   "outputs": [],
   "source": [
    "learning_rate = [0.1, 0.3, 0.01, 0.001]\n",
    "max_depth = [20, 50, 70, 100]\n",
    "#subsamples = [0.4, 0.5, 0.6]\n",
    "colsample_bytree = [0.4, 0.5, 0.6]\n",
    "n_estimators = [20, 50, 70, 100]\n",
    "objective = ['reg:logistic']\n",
    "\n",
    "random_search = {'learning_rate': learning_rate, 'max_depth': max_depth,\\\n",
    "                'colsample_bytree': colsample_bytree, 'n_estimators': n_estimators, 'objective': objective}"
   ]
  },
  {
   "cell_type": "code",
   "execution_count": 6,
   "metadata": {},
   "outputs": [],
   "source": [
    "xgb_random = RandomizedSearchCV(estimator = xgb.XGBClassifier(),\\\n",
    "                               param_distributions=random_search, n_iter=50, cv=7, random_state=111)"
   ]
  },
  {
   "cell_type": "code",
   "execution_count": 7,
   "metadata": {},
   "outputs": [
    {
     "data": {
      "text/plain": [
       "RandomizedSearchCV(cv=7,\n",
       "                   estimator=XGBClassifier(base_score=None, booster=None,\n",
       "                                           colsample_bylevel=None,\n",
       "                                           colsample_bynode=None,\n",
       "                                           colsample_bytree=None, gamma=None,\n",
       "                                           gpu_id=None, importance_type='gain',\n",
       "                                           interaction_constraints=None,\n",
       "                                           learning_rate=None,\n",
       "                                           max_delta_step=None, max_depth=None,\n",
       "                                           min_child_weight=None, missing=nan,\n",
       "                                           monotone_constraints=None,\n",
       "                                           n_estimators=100,...\n",
       "                                           num_parallel_tree=None,\n",
       "                                           random_state=None, reg_alpha=None,\n",
       "                                           reg_lambda=None,\n",
       "                                           scale_pos_weight=None,\n",
       "                                           subsample=None, tree_method=None,\n",
       "                                           validate_parameters=None,\n",
       "                                           verbosity=None),\n",
       "                   n_iter=50,\n",
       "                   param_distributions={'colsample_bytree': [0.4, 0.5, 0.6],\n",
       "                                        'learning_rate': [0.1, 0.3, 0.01,\n",
       "                                                          0.001],\n",
       "                                        'max_depth': [20, 50, 70, 100],\n",
       "                                        'n_estimators': [20, 50, 70, 100],\n",
       "                                        'objective': ['reg:logistic']},\n",
       "                   random_state=111)"
      ]
     },
     "execution_count": 7,
     "metadata": {},
     "output_type": "execute_result"
    }
   ],
   "source": [
    "xgb_random.fit(X_train, y_train)"
   ]
  },
  {
   "cell_type": "code",
   "execution_count": 8,
   "metadata": {},
   "outputs": [
    {
     "data": {
      "text/plain": [
       "{'objective': 'reg:logistic',\n",
       " 'n_estimators': 100,\n",
       " 'max_depth': 70,\n",
       " 'learning_rate': 0.1,\n",
       " 'colsample_bytree': 0.4}"
      ]
     },
     "execution_count": 8,
     "metadata": {},
     "output_type": "execute_result"
    }
   ],
   "source": [
    "xgb_random.best_params_"
   ]
  },
  {
   "cell_type": "code",
   "execution_count": null,
   "metadata": {},
   "outputs": [],
   "source": [
    "preds = xgb_random.predict(X_test)\n",
    "f1 = np.sqrt(f1_score(y_test, preds))\n",
    "print(\"F1-Mean Score: %f\" % (f1))"
   ]
  },
  {
   "cell_type": "code",
   "execution_count": 24,
   "metadata": {},
   "outputs": [
    {
     "name": "stdout",
     "output_type": "stream",
     "text": [
      "F1-Mean Score: 0.780995\n"
     ]
    }
   ],
   "source": [
    "xg_reg = xgb.XGBClassifier(objective ='reg:logistic', colsample_bytree = 0.4,\\\n",
    "                           learning_rate = 0.001, max_depth = 50, n_estimators = 50)\n",
    "xg_reg.fit(X_train,y_train)\n",
    "preds = xg_reg.predict(X_test)\n",
    "f1 = np.sqrt(f1_score(y_test, preds))\n",
    "print(\"F1-Mean Score: %f\" % (f1))"
   ]
  },
  {
   "cell_type": "code",
   "execution_count": 25,
   "metadata": {},
   "outputs": [
    {
     "name": "stdout",
     "output_type": "stream",
     "text": [
      "F1-Mean Score: 0.783653\n"
     ]
    }
   ],
   "source": [
    "xg_reg = xgb.XGBClassifier(objective ='reg:logistic', colsample_bytree = 0.5,\\\n",
    "                           learning_rate = 0.1, max_depth = 100, n_estimators = 100)\n",
    "xg_reg.fit(X_train,y_train)\n",
    "preds = xg_reg.predict(X_test)\n",
    "f1 = np.sqrt(f1_score(y_test, preds))\n",
    "print(\"F1-Mean Score: %f\" % (f1))"
   ]
  },
  {
   "cell_type": "code",
   "execution_count": 26,
   "metadata": {},
   "outputs": [
    {
     "name": "stdout",
     "output_type": "stream",
     "text": [
      "F1-Mean Score: 0.780693\n"
     ]
    }
   ],
   "source": [
    "xg_reg = xgb.XGBClassifier(objective ='reg:logistic', colsample_bytree = 0.5,\\\n",
    "                           learning_rate = 0.01, max_depth = 100, n_estimators = 100)\n",
    "xg_reg.fit(X_train,y_train)\n",
    "preds = xg_reg.predict(X_test)\n",
    "f1 = np.sqrt(f1_score(y_test, preds))\n",
    "print(\"F1-Mean Score: %f\" % (f1))"
   ]
  },
  {
   "cell_type": "markdown",
   "metadata": {},
   "source": [
    "##### Best params de random forest"
   ]
  },
  {
   "cell_type": "code",
   "execution_count": 27,
   "metadata": {},
   "outputs": [
    {
     "name": "stdout",
     "output_type": "stream",
     "text": [
      "F1-Mean Score: 0.773945\n"
     ]
    }
   ],
   "source": [
    "xg_reg = xgb.XGBClassifier(objective ='reg:logistic', subsample=0.3, colsample_bytree = 0.6,\\\n",
    "                           learning_rate = 0.1, max_depth = 70, alpha = 10, n_estimators = 100)\n",
    "xg_reg.fit(X_train,y_train)\n",
    "preds = xg_reg.predict(X_test)\n",
    "f1 = np.sqrt(f1_score(y_test, preds))\n",
    "print(\"F1-Mean Score: %f\" % (f1))"
   ]
  },
  {
   "cell_type": "markdown",
   "metadata": {},
   "source": [
    "##### Parámetros que mejor funcionaron con pruebas a mano"
   ]
  },
  {
   "cell_type": "code",
   "execution_count": 28,
   "metadata": {},
   "outputs": [
    {
     "name": "stdout",
     "output_type": "stream",
     "text": [
      "F1-Mean Score: 0.773956\n"
     ]
    }
   ],
   "source": [
    "xg_reg = xgb.XGBClassifier(objective ='reg:logistic', subsample=0.3,\n",
    "                colsample_bytree = 0.6, learning_rate = 0.1,\n",
    "                max_depth = 70, alpha = 10, n_estimators = 57)\n",
    "xg_reg.fit(X_train,y_train)\n",
    "preds = xg_reg.predict(X_test)\n",
    "f1 = np.sqrt(f1_score(y_test, preds))\n",
    "print(\"F1-Mean Score: %f\" % (f1))"
   ]
  },
  {
   "cell_type": "markdown",
   "metadata": {},
   "source": [
    "# Test"
   ]
  },
  {
   "cell_type": "code",
   "execution_count": 16,
   "metadata": {},
   "outputs": [],
   "source": [
    "test_set = pd.read_csv('test/test_encoded.csv')"
   ]
  },
  {
   "cell_type": "code",
   "execution_count": 17,
   "metadata": {},
   "outputs": [],
   "source": [
    "col_id = test_set['id']\n",
    "test_set.drop('id', axis=1, inplace=True)"
   ]
  },
  {
   "cell_type": "code",
   "execution_count": 29,
   "metadata": {},
   "outputs": [
    {
     "data": {
      "text/plain": [
       "array([0, 0, 0, ..., 0, 0, 1])"
      ]
     },
     "execution_count": 29,
     "metadata": {},
     "output_type": "execute_result"
    }
   ],
   "source": [
    "preds = xg_reg.predict(test_set)\n",
    "preds"
   ]
  },
  {
   "cell_type": "code",
   "execution_count": null,
   "metadata": {},
   "outputs": [],
   "source": [
    "test_set['target'] = preds\n",
    "test_set['id'] = col_id\n",
    "test_set[['id', 'target']]"
   ]
  },
  {
   "cell_type": "markdown",
   "metadata": {},
   "source": [
    "### Resultado"
   ]
  },
  {
   "cell_type": "code",
   "execution_count": 30,
   "metadata": {},
   "outputs": [],
   "source": [
    "test_set[['id', 'target']].to_csv('result_xgb.csv', header=True, index=False)"
   ]
  }
 ],
 "metadata": {
  "kernelspec": {
   "display_name": "Python 3",
   "language": "python",
   "name": "python3"
  },
  "language_info": {
   "codemirror_mode": {
    "name": "ipython",
    "version": 3
   },
   "file_extension": ".py",
   "mimetype": "text/x-python",
   "name": "python",
   "nbconvert_exporter": "python",
   "pygments_lexer": "ipython3",
   "version": "3.8.5"
  }
 },
 "nbformat": 4,
 "nbformat_minor": 4
}
