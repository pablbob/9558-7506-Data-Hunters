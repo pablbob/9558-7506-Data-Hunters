{
 "cells": [
  {
   "cell_type": "markdown",
   "metadata": {},
   "source": [
    "# Imports"
   ]
  },
  {
   "cell_type": "code",
   "execution_count": 1,
   "metadata": {},
   "outputs": [],
   "source": [
    "from sklearn.metrics import f1_score\n",
    "import pandas as pd\n",
    "import numpy as np\n",
    "%matplotlib inline\n",
    "import matplotlib.pyplot as plt\n",
    "from sklearn import tree\n",
    "from sklearn.model_selection import train_test_split\n",
    "from sklearn.model_selection import RandomizedSearchCV\n",
    "from sklearn.model_selection import GridSearchCV\n",
    "import lightgbm as lgb"
   ]
  },
  {
   "cell_type": "markdown",
   "metadata": {},
   "source": [
    "# Train"
   ]
  },
  {
   "cell_type": "code",
   "execution_count": 2,
   "metadata": {},
   "outputs": [],
   "source": [
    "train_set = pd.read_csv('train/train_encoded.csv')"
   ]
  },
  {
   "cell_type": "code",
   "execution_count": 3,
   "metadata": {},
   "outputs": [
    {
     "data": {
      "text/html": [
       "<div>\n",
       "<style scoped>\n",
       "    .dataframe tbody tr th:only-of-type {\n",
       "        vertical-align: middle;\n",
       "    }\n",
       "\n",
       "    .dataframe tbody tr th {\n",
       "        vertical-align: top;\n",
       "    }\n",
       "\n",
       "    .dataframe thead th {\n",
       "        text-align: right;\n",
       "    }\n",
       "</style>\n",
       "<table border=\"1\" class=\"dataframe\">\n",
       "  <thead>\n",
       "    <tr style=\"text-align: right;\">\n",
       "      <th></th>\n",
       "      <th>len_location</th>\n",
       "      <th>len_keyword</th>\n",
       "      <th>len_text</th>\n",
       "      <th>len_text_original</th>\n",
       "      <th>diff_len_text</th>\n",
       "      <th>keyword_value</th>\n",
       "      <th>keyword_sum</th>\n",
       "      <th>keyword_min</th>\n",
       "      <th>keyword_max</th>\n",
       "      <th>keyword_mean</th>\n",
       "      <th>...</th>\n",
       "      <th>text_median_w2v</th>\n",
       "      <th>text_value_1_gram</th>\n",
       "      <th>text_norm_value_1_gram</th>\n",
       "      <th>text_value_2_gram</th>\n",
       "      <th>text_norm_value_2_gram</th>\n",
       "      <th>text_value_3_gram</th>\n",
       "      <th>text_norm_value_3_gram</th>\n",
       "      <th>text_value_4_gram</th>\n",
       "      <th>text_norm_value_4_gram</th>\n",
       "      <th>target</th>\n",
       "    </tr>\n",
       "  </thead>\n",
       "  <tbody>\n",
       "    <tr>\n",
       "      <th>0</th>\n",
       "      <td>0</td>\n",
       "      <td>0</td>\n",
       "      <td>43</td>\n",
       "      <td>69</td>\n",
       "      <td>26</td>\n",
       "      <td>3.267254</td>\n",
       "      <td>1.0</td>\n",
       "      <td>1.0</td>\n",
       "      <td>1.0</td>\n",
       "      <td>1.0</td>\n",
       "      <td>...</td>\n",
       "      <td>0.121727</td>\n",
       "      <td>0.227191</td>\n",
       "      <td>0.077967</td>\n",
       "      <td>0.056394</td>\n",
       "      <td>0.040931</td>\n",
       "      <td>0.000000</td>\n",
       "      <td>0.000000</td>\n",
       "      <td>0.000000</td>\n",
       "      <td>0.000000</td>\n",
       "      <td>1</td>\n",
       "    </tr>\n",
       "    <tr>\n",
       "      <th>1</th>\n",
       "      <td>0</td>\n",
       "      <td>0</td>\n",
       "      <td>36</td>\n",
       "      <td>38</td>\n",
       "      <td>2</td>\n",
       "      <td>3.267254</td>\n",
       "      <td>1.0</td>\n",
       "      <td>1.0</td>\n",
       "      <td>1.0</td>\n",
       "      <td>1.0</td>\n",
       "      <td>...</td>\n",
       "      <td>0.055061</td>\n",
       "      <td>0.143954</td>\n",
       "      <td>0.061261</td>\n",
       "      <td>0.056181</td>\n",
       "      <td>0.042664</td>\n",
       "      <td>0.000000</td>\n",
       "      <td>0.000000</td>\n",
       "      <td>0.000000</td>\n",
       "      <td>0.000000</td>\n",
       "      <td>1</td>\n",
       "    </tr>\n",
       "    <tr>\n",
       "      <th>2</th>\n",
       "      <td>0</td>\n",
       "      <td>0</td>\n",
       "      <td>72</td>\n",
       "      <td>133</td>\n",
       "      <td>61</td>\n",
       "      <td>3.267254</td>\n",
       "      <td>1.0</td>\n",
       "      <td>1.0</td>\n",
       "      <td>1.0</td>\n",
       "      <td>1.0</td>\n",
       "      <td>...</td>\n",
       "      <td>0.095317</td>\n",
       "      <td>0.313103</td>\n",
       "      <td>0.117570</td>\n",
       "      <td>0.055537</td>\n",
       "      <td>0.055537</td>\n",
       "      <td>0.000000</td>\n",
       "      <td>0.000000</td>\n",
       "      <td>0.000000</td>\n",
       "      <td>0.000000</td>\n",
       "      <td>1</td>\n",
       "    </tr>\n",
       "    <tr>\n",
       "      <th>3</th>\n",
       "      <td>0</td>\n",
       "      <td>0</td>\n",
       "      <td>50</td>\n",
       "      <td>65</td>\n",
       "      <td>15</td>\n",
       "      <td>3.267254</td>\n",
       "      <td>1.0</td>\n",
       "      <td>1.0</td>\n",
       "      <td>1.0</td>\n",
       "      <td>1.0</td>\n",
       "      <td>...</td>\n",
       "      <td>0.082558</td>\n",
       "      <td>0.197538</td>\n",
       "      <td>0.078924</td>\n",
       "      <td>0.059248</td>\n",
       "      <td>0.043484</td>\n",
       "      <td>0.000000</td>\n",
       "      <td>0.000000</td>\n",
       "      <td>0.000000</td>\n",
       "      <td>0.000000</td>\n",
       "      <td>1</td>\n",
       "    </tr>\n",
       "    <tr>\n",
       "      <th>4</th>\n",
       "      <td>0</td>\n",
       "      <td>0</td>\n",
       "      <td>52</td>\n",
       "      <td>88</td>\n",
       "      <td>36</td>\n",
       "      <td>3.267254</td>\n",
       "      <td>1.0</td>\n",
       "      <td>1.0</td>\n",
       "      <td>1.0</td>\n",
       "      <td>1.0</td>\n",
       "      <td>...</td>\n",
       "      <td>0.086994</td>\n",
       "      <td>0.265268</td>\n",
       "      <td>0.083965</td>\n",
       "      <td>0.000000</td>\n",
       "      <td>0.000000</td>\n",
       "      <td>0.000000</td>\n",
       "      <td>0.000000</td>\n",
       "      <td>0.000000</td>\n",
       "      <td>0.000000</td>\n",
       "      <td>1</td>\n",
       "    </tr>\n",
       "    <tr>\n",
       "      <th>...</th>\n",
       "      <td>...</td>\n",
       "      <td>...</td>\n",
       "      <td>...</td>\n",
       "      <td>...</td>\n",
       "      <td>...</td>\n",
       "      <td>...</td>\n",
       "      <td>...</td>\n",
       "      <td>...</td>\n",
       "      <td>...</td>\n",
       "      <td>...</td>\n",
       "      <td>...</td>\n",
       "      <td>...</td>\n",
       "      <td>...</td>\n",
       "      <td>...</td>\n",
       "      <td>...</td>\n",
       "      <td>...</td>\n",
       "      <td>...</td>\n",
       "      <td>...</td>\n",
       "      <td>...</td>\n",
       "      <td>...</td>\n",
       "      <td>...</td>\n",
       "    </tr>\n",
       "    <tr>\n",
       "      <th>7608</th>\n",
       "      <td>0</td>\n",
       "      <td>0</td>\n",
       "      <td>50</td>\n",
       "      <td>83</td>\n",
       "      <td>33</td>\n",
       "      <td>3.267254</td>\n",
       "      <td>1.0</td>\n",
       "      <td>1.0</td>\n",
       "      <td>1.0</td>\n",
       "      <td>1.0</td>\n",
       "      <td>...</td>\n",
       "      <td>0.090719</td>\n",
       "      <td>0.252617</td>\n",
       "      <td>0.087472</td>\n",
       "      <td>0.230477</td>\n",
       "      <td>0.095556</td>\n",
       "      <td>0.200416</td>\n",
       "      <td>0.077877</td>\n",
       "      <td>0.179269</td>\n",
       "      <td>0.062804</td>\n",
       "      <td>1</td>\n",
       "    </tr>\n",
       "    <tr>\n",
       "      <th>7609</th>\n",
       "      <td>0</td>\n",
       "      <td>0</td>\n",
       "      <td>82</td>\n",
       "      <td>125</td>\n",
       "      <td>43</td>\n",
       "      <td>3.267254</td>\n",
       "      <td>1.0</td>\n",
       "      <td>1.0</td>\n",
       "      <td>1.0</td>\n",
       "      <td>1.0</td>\n",
       "      <td>...</td>\n",
       "      <td>0.158652</td>\n",
       "      <td>0.317482</td>\n",
       "      <td>0.090036</td>\n",
       "      <td>0.290268</td>\n",
       "      <td>0.092334</td>\n",
       "      <td>0.254335</td>\n",
       "      <td>0.087856</td>\n",
       "      <td>0.226830</td>\n",
       "      <td>0.074986</td>\n",
       "      <td>1</td>\n",
       "    </tr>\n",
       "    <tr>\n",
       "      <th>7610</th>\n",
       "      <td>0</td>\n",
       "      <td>0</td>\n",
       "      <td>60</td>\n",
       "      <td>65</td>\n",
       "      <td>5</td>\n",
       "      <td>3.267254</td>\n",
       "      <td>1.0</td>\n",
       "      <td>1.0</td>\n",
       "      <td>1.0</td>\n",
       "      <td>1.0</td>\n",
       "      <td>...</td>\n",
       "      <td>0.046951</td>\n",
       "      <td>0.290424</td>\n",
       "      <td>0.150312</td>\n",
       "      <td>0.259849</td>\n",
       "      <td>0.107001</td>\n",
       "      <td>0.231129</td>\n",
       "      <td>0.087631</td>\n",
       "      <td>0.200353</td>\n",
       "      <td>0.075999</td>\n",
       "      <td>1</td>\n",
       "    </tr>\n",
       "    <tr>\n",
       "      <th>7611</th>\n",
       "      <td>0</td>\n",
       "      <td>0</td>\n",
       "      <td>96</td>\n",
       "      <td>137</td>\n",
       "      <td>41</td>\n",
       "      <td>3.267254</td>\n",
       "      <td>1.0</td>\n",
       "      <td>1.0</td>\n",
       "      <td>1.0</td>\n",
       "      <td>1.0</td>\n",
       "      <td>...</td>\n",
       "      <td>0.085732</td>\n",
       "      <td>0.489610</td>\n",
       "      <td>0.136034</td>\n",
       "      <td>0.463238</td>\n",
       "      <td>0.137259</td>\n",
       "      <td>0.440136</td>\n",
       "      <td>0.121416</td>\n",
       "      <td>0.403074</td>\n",
       "      <td>0.118529</td>\n",
       "      <td>1</td>\n",
       "    </tr>\n",
       "    <tr>\n",
       "      <th>7612</th>\n",
       "      <td>0</td>\n",
       "      <td>0</td>\n",
       "      <td>58</td>\n",
       "      <td>94</td>\n",
       "      <td>36</td>\n",
       "      <td>3.267254</td>\n",
       "      <td>1.0</td>\n",
       "      <td>1.0</td>\n",
       "      <td>1.0</td>\n",
       "      <td>1.0</td>\n",
       "      <td>...</td>\n",
       "      <td>0.084648</td>\n",
       "      <td>0.254336</td>\n",
       "      <td>0.089005</td>\n",
       "      <td>0.233998</td>\n",
       "      <td>0.083966</td>\n",
       "      <td>0.205074</td>\n",
       "      <td>0.074552</td>\n",
       "      <td>0.171774</td>\n",
       "      <td>0.070728</td>\n",
       "      <td>1</td>\n",
       "    </tr>\n",
       "  </tbody>\n",
       "</table>\n",
       "<p>7613 rows × 48 columns</p>\n",
       "</div>"
      ],
      "text/plain": [
       "      len_location  len_keyword  len_text  len_text_original  diff_len_text  \\\n",
       "0                0            0        43                 69             26   \n",
       "1                0            0        36                 38              2   \n",
       "2                0            0        72                133             61   \n",
       "3                0            0        50                 65             15   \n",
       "4                0            0        52                 88             36   \n",
       "...            ...          ...       ...                ...            ...   \n",
       "7608             0            0        50                 83             33   \n",
       "7609             0            0        82                125             43   \n",
       "7610             0            0        60                 65              5   \n",
       "7611             0            0        96                137             41   \n",
       "7612             0            0        58                 94             36   \n",
       "\n",
       "      keyword_value  keyword_sum  keyword_min  keyword_max  keyword_mean  ...  \\\n",
       "0          3.267254          1.0          1.0          1.0           1.0  ...   \n",
       "1          3.267254          1.0          1.0          1.0           1.0  ...   \n",
       "2          3.267254          1.0          1.0          1.0           1.0  ...   \n",
       "3          3.267254          1.0          1.0          1.0           1.0  ...   \n",
       "4          3.267254          1.0          1.0          1.0           1.0  ...   \n",
       "...             ...          ...          ...          ...           ...  ...   \n",
       "7608       3.267254          1.0          1.0          1.0           1.0  ...   \n",
       "7609       3.267254          1.0          1.0          1.0           1.0  ...   \n",
       "7610       3.267254          1.0          1.0          1.0           1.0  ...   \n",
       "7611       3.267254          1.0          1.0          1.0           1.0  ...   \n",
       "7612       3.267254          1.0          1.0          1.0           1.0  ...   \n",
       "\n",
       "      text_median_w2v  text_value_1_gram  text_norm_value_1_gram  \\\n",
       "0            0.121727           0.227191                0.077967   \n",
       "1            0.055061           0.143954                0.061261   \n",
       "2            0.095317           0.313103                0.117570   \n",
       "3            0.082558           0.197538                0.078924   \n",
       "4            0.086994           0.265268                0.083965   \n",
       "...               ...                ...                     ...   \n",
       "7608         0.090719           0.252617                0.087472   \n",
       "7609         0.158652           0.317482                0.090036   \n",
       "7610         0.046951           0.290424                0.150312   \n",
       "7611         0.085732           0.489610                0.136034   \n",
       "7612         0.084648           0.254336                0.089005   \n",
       "\n",
       "      text_value_2_gram  text_norm_value_2_gram  text_value_3_gram  \\\n",
       "0              0.056394                0.040931           0.000000   \n",
       "1              0.056181                0.042664           0.000000   \n",
       "2              0.055537                0.055537           0.000000   \n",
       "3              0.059248                0.043484           0.000000   \n",
       "4              0.000000                0.000000           0.000000   \n",
       "...                 ...                     ...                ...   \n",
       "7608           0.230477                0.095556           0.200416   \n",
       "7609           0.290268                0.092334           0.254335   \n",
       "7610           0.259849                0.107001           0.231129   \n",
       "7611           0.463238                0.137259           0.440136   \n",
       "7612           0.233998                0.083966           0.205074   \n",
       "\n",
       "      text_norm_value_3_gram  text_value_4_gram  text_norm_value_4_gram  \\\n",
       "0                   0.000000           0.000000                0.000000   \n",
       "1                   0.000000           0.000000                0.000000   \n",
       "2                   0.000000           0.000000                0.000000   \n",
       "3                   0.000000           0.000000                0.000000   \n",
       "4                   0.000000           0.000000                0.000000   \n",
       "...                      ...                ...                     ...   \n",
       "7608                0.077877           0.179269                0.062804   \n",
       "7609                0.087856           0.226830                0.074986   \n",
       "7610                0.087631           0.200353                0.075999   \n",
       "7611                0.121416           0.403074                0.118529   \n",
       "7612                0.074552           0.171774                0.070728   \n",
       "\n",
       "      target  \n",
       "0          1  \n",
       "1          1  \n",
       "2          1  \n",
       "3          1  \n",
       "4          1  \n",
       "...      ...  \n",
       "7608       1  \n",
       "7609       1  \n",
       "7610       1  \n",
       "7611       1  \n",
       "7612       1  \n",
       "\n",
       "[7613 rows x 48 columns]"
      ]
     },
     "execution_count": 3,
     "metadata": {},
     "output_type": "execute_result"
    }
   ],
   "source": [
    "train_set"
   ]
  },
  {
   "cell_type": "code",
   "execution_count": 41,
   "metadata": {},
   "outputs": [],
   "source": [
    "X, y = train_set.iloc[:,:-1],train_set.iloc[:,-1]\n",
    "X_train, X_test, y_train, y_test = train_test_split(X, y, test_size=0.2)\n",
    "lgb_train = lgb.Dataset(X_train, y_train)\n",
    "lgb_eval = lgb.Dataset(X_test, y_test, reference=lgb_train)"
   ]
  },
  {
   "cell_type": "code",
   "execution_count": 32,
   "metadata": {},
   "outputs": [],
   "source": [
    "def binary_preds(preds):\n",
    "    len_preds = len(preds)\n",
    "    for i in range(len_preds):\n",
    "        if preds[i] >= 0.5:\n",
    "            preds[i] = 1\n",
    "        else:\n",
    "            preds[i] = 0"
   ]
  },
  {
   "cell_type": "code",
   "execution_count": 33,
   "metadata": {},
   "outputs": [],
   "source": [
    "params = {\n",
    "    'learning_rate': [0.3, 0.1, 0.01, 0.001],\n",
    "    'num_leaves': [10, 20, 40, 70, 150, 300],\n",
    "    'max_depth': [20, 50, 70, 100, 200],\n",
    "    'metric': ['binary_logloss'],\n",
    "    'sub_feature': [0.2, 0.3, 0.5, 0.7, 0.8],\n",
    "}"
   ]
  },
  {
   "cell_type": "markdown",
   "metadata": {},
   "source": [
    "## Grid Search"
   ]
  },
  {
   "cell_type": "code",
   "execution_count": 21,
   "metadata": {},
   "outputs": [],
   "source": [
    "grid_model = GridSearchCV(estimator=lgb.LGBMClassifier(), param_grid=params, cv=7)\n",
    "result = grid_model.fit(X_train, y_train)"
   ]
  },
  {
   "cell_type": "code",
   "execution_count": 22,
   "metadata": {},
   "outputs": [
    {
     "data": {
      "text/plain": [
       "{'learning_rate': 0.1,\n",
       " 'max_depth': 50,\n",
       " 'metric': 'binary_logloss',\n",
       " 'num_leaves': 40,\n",
       " 'sub_feature': 0.5}"
      ]
     },
     "execution_count": 22,
     "metadata": {},
     "output_type": "execute_result"
    }
   ],
   "source": [
    "grid_model.best_params_"
   ]
  },
  {
   "cell_type": "code",
   "execution_count": 23,
   "metadata": {},
   "outputs": [
    {
     "name": "stdout",
     "output_type": "stream",
     "text": [
      "F-Mean Score: 0.814046\n"
     ]
    }
   ],
   "source": [
    "preds = grid_model.predict(X_test)\n",
    "f1 = np.sqrt(f1_score(y_test, preds))\n",
    "print(\"F-Mean Score: %f\" % (f1))"
   ]
  },
  {
   "cell_type": "markdown",
   "metadata": {},
   "source": [
    "## Random search"
   ]
  },
  {
   "cell_type": "code",
   "execution_count": 7,
   "metadata": {},
   "outputs": [],
   "source": [
    "lgbm_random = RandomizedSearchCV(estimator = lgb.LGBMClassifier(),\\\n",
    "                               param_distributions=params, n_iter=30, cv=7, random_state=111)\n",
    "result = lgbm_random.fit(X_train, y_train)"
   ]
  },
  {
   "cell_type": "code",
   "execution_count": 8,
   "metadata": {},
   "outputs": [
    {
     "data": {
      "text/plain": [
       "{'sub_feature': 0.5,\n",
       " 'num_leaves': 20,\n",
       " 'metric': 'binary_logloss',\n",
       " 'max_depth': 200,\n",
       " 'learning_rate': 0.1}"
      ]
     },
     "execution_count": 8,
     "metadata": {},
     "output_type": "execute_result"
    }
   ],
   "source": [
    "lgbm_random.best_params_"
   ]
  },
  {
   "cell_type": "code",
   "execution_count": 9,
   "metadata": {},
   "outputs": [
    {
     "name": "stdout",
     "output_type": "stream",
     "text": [
      "F-Mean Score: 0.811377\n"
     ]
    }
   ],
   "source": [
    "preds = lgbm_random.predict(X_test)\n",
    "f1 = np.sqrt(f1_score(y_test, preds))\n",
    "print(\"F-Mean Score: %f\" % (f1))"
   ]
  },
  {
   "cell_type": "markdown",
   "metadata": {},
   "source": [
    "## Pruebas manuales"
   ]
  },
  {
   "cell_type": "markdown",
   "metadata": {},
   "source": [
    "## Este es"
   ]
  },
  {
   "cell_type": "code",
   "execution_count": 49,
   "metadata": {},
   "outputs": [
    {
     "name": "stdout",
     "output_type": "stream",
     "text": [
      "F-Mean Score: 0.818110\n"
     ]
    }
   ],
   "source": [
    "params = {'objective': 'binary', 'metric': 'binary_logloss', 'num_leaves': 40,\\\n",
    "          'learning_rate': 0.1, 'sub_feature': 0.5, 'max_depth': 50}\n",
    "\n",
    "gbm = lgb.train(params, lgb_train, num_boost_round=600, valid_sets=lgb_eval, verbose_eval=False)\n",
    "preds = gbm.predict(X_test, num_iteration=gbm.best_iteration)\n",
    "\n",
    "binary_preds(preds)\n",
    "\n",
    "f1 = np.sqrt(f1_score(y_test, preds))\n",
    "print(\"F-Mean Score: %f\" % (f1))"
   ]
  },
  {
   "cell_type": "code",
   "execution_count": 43,
   "metadata": {},
   "outputs": [
    {
     "name": "stdout",
     "output_type": "stream",
     "text": [
      "F-Mean Score: 0.816822\n"
     ]
    }
   ],
   "source": [
    "params = {'objective': 'binary', 'metric': 'binary_logloss', 'num_leaves': 20,\\\n",
    "          'learning_rate': 0.1, 'sub_feature': 0.5, 'max_depth': 200}\n",
    "\n",
    "gbm = lgb.train(params, lgb_train, num_boost_round=600, valid_sets=lgb_eval, verbose_eval=False)\n",
    "preds = gbm.predict(X_test, num_iteration=gbm.best_iteration)\n",
    "\n",
    "binary_preds(preds)\n",
    "\n",
    "f1 = np.sqrt(f1_score(y_test, preds))\n",
    "print(\"F-Mean Score: %f\" % (f1))"
   ]
  },
  {
   "cell_type": "code",
   "execution_count": 44,
   "metadata": {},
   "outputs": [
    {
     "name": "stdout",
     "output_type": "stream",
     "text": [
      "F-Mean Score: 0.808042\n"
     ]
    }
   ],
   "source": [
    "params = {'objective': 'binary', 'metric': 'binary_logloss', 'num_leaves': 20,\\\n",
    "          'learning_rate': 0.1, 'sub_feature': 0.2, 'max_depth': 20}\n",
    "\n",
    "gbm = lgb.train(params, lgb_train, num_boost_round=600, valid_sets=lgb_eval, verbose_eval=False)\n",
    "preds = gbm.predict(X_test, num_iteration=gbm.best_iteration)\n",
    "\n",
    "binary_preds(preds)\n",
    "\n",
    "f1 = np.sqrt(f1_score(y_test, preds))\n",
    "print(\"F-Mean Score: %f\" % (f1))"
   ]
  },
  {
   "cell_type": "code",
   "execution_count": 45,
   "metadata": {},
   "outputs": [
    {
     "name": "stdout",
     "output_type": "stream",
     "text": [
      "F-Mean Score: 0.821656\n"
     ]
    }
   ],
   "source": [
    "params = {'objective': 'binary', 'metric': 'binary_logloss', 'num_leaves': 20,\\\n",
    "          'learning_rate': 0.1, 'sub_feature': 0.4, 'max_depth': 20}\n",
    "\n",
    "gbm = lgb.train(params, lgb_train, num_boost_round=600, valid_sets=lgb_eval, verbose_eval=False)\n",
    "preds = gbm.predict(X_test, num_iteration=gbm.best_iteration)\n",
    "\n",
    "binary_preds(preds)\n",
    "\n",
    "f1 = np.sqrt(f1_score(y_test, preds))\n",
    "print(\"F-Mean Score: %f\" % (f1))"
   ]
  },
  {
   "cell_type": "code",
   "execution_count": 46,
   "metadata": {},
   "outputs": [
    {
     "name": "stdout",
     "output_type": "stream",
     "text": [
      "F-Mean Score: 0.813822\n"
     ]
    }
   ],
   "source": [
    "params = {'objective': 'binary', 'metric': 'binary_logloss', 'num_leaves': 40,\\\n",
    "          'learning_rate': 0.1, 'sub_feature': 0.6, 'max_depth': 100}\n",
    "\n",
    "gbm = lgb.train(params, lgb_train, num_boost_round=100, valid_sets=lgb_eval, verbose_eval=False)\n",
    "preds = gbm.predict(X_test, num_iteration=gbm.best_iteration)\n",
    "\n",
    "binary_preds(preds)\n",
    "\n",
    "f1 = np.sqrt(f1_score(y_test, preds))\n",
    "print(\"F-Mean Score: %f\" % (f1))"
   ]
  },
  {
   "cell_type": "code",
   "execution_count": 47,
   "metadata": {},
   "outputs": [
    {
     "name": "stdout",
     "output_type": "stream",
     "text": [
      "F-Mean Score: 0.812504\n"
     ]
    }
   ],
   "source": [
    "params = {'objective': 'binary', 'metric': 'accuracy', 'num_leaves': 20,\\\n",
    "          'learning_rate': 0.1, 'feature_fraction': 0.9}\n",
    "\n",
    "gbm = lgb.train(params, lgb_train, num_boost_round=100, valid_sets=lgb_eval)\n",
    "preds = gbm.predict(X_test, num_iteration=gbm.best_iteration)\n",
    "\n",
    "binary_preds(preds)\n",
    "f1 = np.sqrt(f1_score(y_test, preds))\n",
    "print(\"F-Mean Score: %f\" % (f1))"
   ]
  },
  {
   "cell_type": "code",
   "execution_count": 48,
   "metadata": {},
   "outputs": [
    {
     "name": "stdout",
     "output_type": "stream",
     "text": [
      "F-Mean Score: 0.816161\n"
     ]
    }
   ],
   "source": [
    "gbm = lgb.train({}, train_set=lgb_train, num_boost_round=100, valid_sets=lgb_eval)\n",
    "preds = gbm.predict(X_test, num_iteration=gbm.best_iteration)\n",
    "\n",
    "binary_preds(preds)\n",
    "f1 = np.sqrt(f1_score(y_test, preds))\n",
    "print(\"F-Mean Score: %f\" % (f1))"
   ]
  },
  {
   "cell_type": "markdown",
   "metadata": {},
   "source": [
    "## Test"
   ]
  },
  {
   "cell_type": "code",
   "execution_count": 50,
   "metadata": {},
   "outputs": [],
   "source": [
    "test_set = pd.read_csv('test/test_encoded.csv')"
   ]
  },
  {
   "cell_type": "code",
   "execution_count": 51,
   "metadata": {},
   "outputs": [],
   "source": [
    "col_id = test_set['id']\n",
    "test_set.drop('id', axis=1, inplace=True)"
   ]
  },
  {
   "cell_type": "code",
   "execution_count": 52,
   "metadata": {},
   "outputs": [
    {
     "data": {
      "text/plain": [
       "array([0., 1., 1., ..., 1., 1., 1.])"
      ]
     },
     "execution_count": 52,
     "metadata": {},
     "output_type": "execute_result"
    }
   ],
   "source": [
    "preds = gbm.predict(test_set)\n",
    "binary_preds(preds)\n",
    "preds"
   ]
  },
  {
   "cell_type": "code",
   "execution_count": 53,
   "metadata": {},
   "outputs": [],
   "source": [
    "test_set['id'] = col_id"
   ]
  },
  {
   "cell_type": "code",
   "execution_count": 54,
   "metadata": {},
   "outputs": [
    {
     "data": {
      "text/html": [
       "<div>\n",
       "<style scoped>\n",
       "    .dataframe tbody tr th:only-of-type {\n",
       "        vertical-align: middle;\n",
       "    }\n",
       "\n",
       "    .dataframe tbody tr th {\n",
       "        vertical-align: top;\n",
       "    }\n",
       "\n",
       "    .dataframe thead th {\n",
       "        text-align: right;\n",
       "    }\n",
       "</style>\n",
       "<table border=\"1\" class=\"dataframe\">\n",
       "  <thead>\n",
       "    <tr style=\"text-align: right;\">\n",
       "      <th></th>\n",
       "      <th>id</th>\n",
       "      <th>target</th>\n",
       "    </tr>\n",
       "  </thead>\n",
       "  <tbody>\n",
       "    <tr>\n",
       "      <th>0</th>\n",
       "      <td>0</td>\n",
       "      <td>0</td>\n",
       "    </tr>\n",
       "    <tr>\n",
       "      <th>1</th>\n",
       "      <td>2</td>\n",
       "      <td>1</td>\n",
       "    </tr>\n",
       "    <tr>\n",
       "      <th>2</th>\n",
       "      <td>3</td>\n",
       "      <td>1</td>\n",
       "    </tr>\n",
       "    <tr>\n",
       "      <th>3</th>\n",
       "      <td>9</td>\n",
       "      <td>0</td>\n",
       "    </tr>\n",
       "    <tr>\n",
       "      <th>4</th>\n",
       "      <td>11</td>\n",
       "      <td>1</td>\n",
       "    </tr>\n",
       "    <tr>\n",
       "      <th>...</th>\n",
       "      <td>...</td>\n",
       "      <td>...</td>\n",
       "    </tr>\n",
       "    <tr>\n",
       "      <th>3258</th>\n",
       "      <td>10861</td>\n",
       "      <td>1</td>\n",
       "    </tr>\n",
       "    <tr>\n",
       "      <th>3259</th>\n",
       "      <td>10865</td>\n",
       "      <td>1</td>\n",
       "    </tr>\n",
       "    <tr>\n",
       "      <th>3260</th>\n",
       "      <td>10868</td>\n",
       "      <td>1</td>\n",
       "    </tr>\n",
       "    <tr>\n",
       "      <th>3261</th>\n",
       "      <td>10874</td>\n",
       "      <td>1</td>\n",
       "    </tr>\n",
       "    <tr>\n",
       "      <th>3262</th>\n",
       "      <td>10875</td>\n",
       "      <td>1</td>\n",
       "    </tr>\n",
       "  </tbody>\n",
       "</table>\n",
       "<p>3263 rows × 2 columns</p>\n",
       "</div>"
      ],
      "text/plain": [
       "         id  target\n",
       "0         0       0\n",
       "1         2       1\n",
       "2         3       1\n",
       "3         9       0\n",
       "4        11       1\n",
       "...     ...     ...\n",
       "3258  10861       1\n",
       "3259  10865       1\n",
       "3260  10868       1\n",
       "3261  10874       1\n",
       "3262  10875       1\n",
       "\n",
       "[3263 rows x 2 columns]"
      ]
     },
     "execution_count": 54,
     "metadata": {},
     "output_type": "execute_result"
    }
   ],
   "source": [
    "test_set['target'] = preds.astype('int64')\n",
    "test_set[['id', 'target']]"
   ]
  },
  {
   "cell_type": "code",
   "execution_count": 55,
   "metadata": {},
   "outputs": [],
   "source": [
    "test_set[['id', 'target']].to_csv('result.csv', header=True, index=False)"
   ]
  }
 ],
 "metadata": {
  "kernelspec": {
   "display_name": "Python 3",
   "language": "python",
   "name": "python3"
  },
  "language_info": {
   "codemirror_mode": {
    "name": "ipython",
    "version": 3
   },
   "file_extension": ".py",
   "mimetype": "text/x-python",
   "name": "python",
   "nbconvert_exporter": "python",
   "pygments_lexer": "ipython3",
   "version": "3.8.5"
  }
 },
 "nbformat": 4,
 "nbformat_minor": 4
}
