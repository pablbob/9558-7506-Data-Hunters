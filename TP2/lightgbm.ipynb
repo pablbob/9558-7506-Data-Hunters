{
 "cells": [
  {
   "cell_type": "markdown",
   "metadata": {},
   "source": [
    "# Imports"
   ]
  },
  {
   "cell_type": "code",
   "execution_count": 1,
   "metadata": {},
   "outputs": [],
   "source": [
    "from sklearn.metrics import f1_score\n",
    "import pandas as pd\n",
    "import numpy as np\n",
    "%matplotlib inline\n",
    "import matplotlib.pyplot as plt\n",
    "from sklearn import tree\n",
    "from sklearn.model_selection import train_test_split\n",
    "from sklearn.model_selection import RandomizedSearchCV\n",
    "from sklearn.model_selection import GridSearchCV\n",
    "import lightgbm as lgb"
   ]
  },
  {
   "cell_type": "markdown",
   "metadata": {},
   "source": [
    "# Train"
   ]
  },
  {
   "cell_type": "code",
   "execution_count": 20,
   "metadata": {},
   "outputs": [],
   "source": [
    "train_set = pd.read_csv('train/train_encoded.csv')"
   ]
  },
  {
   "cell_type": "code",
   "execution_count": 21,
   "metadata": {},
   "outputs": [
    {
     "data": {
      "text/html": [
       "<div>\n",
       "<style scoped>\n",
       "    .dataframe tbody tr th:only-of-type {\n",
       "        vertical-align: middle;\n",
       "    }\n",
       "\n",
       "    .dataframe tbody tr th {\n",
       "        vertical-align: top;\n",
       "    }\n",
       "\n",
       "    .dataframe thead th {\n",
       "        text-align: right;\n",
       "    }\n",
       "</style>\n",
       "<table border=\"1\" class=\"dataframe\">\n",
       "  <thead>\n",
       "    <tr style=\"text-align: right;\">\n",
       "      <th></th>\n",
       "      <th>len_location</th>\n",
       "      <th>len_keyword</th>\n",
       "      <th>len_text</th>\n",
       "      <th>len_text_original</th>\n",
       "      <th>diff_len_text</th>\n",
       "      <th>keyword_value_sin_stemming</th>\n",
       "      <th>keyword_value_con_stemming</th>\n",
       "      <th>keyword_value_mult</th>\n",
       "      <th>keyword_value_diff</th>\n",
       "      <th>keyword_sum</th>\n",
       "      <th>...</th>\n",
       "      <th>text_norm_value_2_gram</th>\n",
       "      <th>text_value_3_gram</th>\n",
       "      <th>text_norm_value_3_gram</th>\n",
       "      <th>text_value_4_gram</th>\n",
       "      <th>text_norm_value_4_gram</th>\n",
       "      <th>text_value_mult</th>\n",
       "      <th>text_value_diff</th>\n",
       "      <th>text_norm_value_mult</th>\n",
       "      <th>text_norm_value_diff</th>\n",
       "      <th>target</th>\n",
       "    </tr>\n",
       "  </thead>\n",
       "  <tbody>\n",
       "    <tr>\n",
       "      <th>0</th>\n",
       "      <td>0</td>\n",
       "      <td>0</td>\n",
       "      <td>43</td>\n",
       "      <td>69</td>\n",
       "      <td>26</td>\n",
       "      <td>3.267254</td>\n",
       "      <td>0.03008</td>\n",
       "      <td>0.098278</td>\n",
       "      <td>3.237175</td>\n",
       "      <td>1.0</td>\n",
       "      <td>...</td>\n",
       "      <td>0.039129</td>\n",
       "      <td>0.000000</td>\n",
       "      <td>0.000000</td>\n",
       "      <td>0.000000</td>\n",
       "      <td>0.000000</td>\n",
       "      <td>6.328488</td>\n",
       "      <td>27.200895</td>\n",
       "      <td>1.034131</td>\n",
       "      <td>12.431300</td>\n",
       "      <td>1</td>\n",
       "    </tr>\n",
       "    <tr>\n",
       "      <th>1</th>\n",
       "      <td>0</td>\n",
       "      <td>0</td>\n",
       "      <td>36</td>\n",
       "      <td>38</td>\n",
       "      <td>2</td>\n",
       "      <td>3.267254</td>\n",
       "      <td>0.03008</td>\n",
       "      <td>0.098278</td>\n",
       "      <td>3.237175</td>\n",
       "      <td>1.0</td>\n",
       "      <td>...</td>\n",
       "      <td>0.039828</td>\n",
       "      <td>0.000000</td>\n",
       "      <td>0.000000</td>\n",
       "      <td>0.000000</td>\n",
       "      <td>0.000000</td>\n",
       "      <td>2.183374</td>\n",
       "      <td>14.948923</td>\n",
       "      <td>0.482472</td>\n",
       "      <td>7.746799</td>\n",
       "      <td>1</td>\n",
       "    </tr>\n",
       "    <tr>\n",
       "      <th>2</th>\n",
       "      <td>0</td>\n",
       "      <td>0</td>\n",
       "      <td>72</td>\n",
       "      <td>133</td>\n",
       "      <td>61</td>\n",
       "      <td>3.267254</td>\n",
       "      <td>0.03008</td>\n",
       "      <td>0.098278</td>\n",
       "      <td>3.237175</td>\n",
       "      <td>1.0</td>\n",
       "      <td>...</td>\n",
       "      <td>0.058736</td>\n",
       "      <td>0.000000</td>\n",
       "      <td>0.000000</td>\n",
       "      <td>0.000000</td>\n",
       "      <td>0.000000</td>\n",
       "      <td>15.902513</td>\n",
       "      <td>50.867533</td>\n",
       "      <td>2.458198</td>\n",
       "      <td>21.204076</td>\n",
       "      <td>1</td>\n",
       "    </tr>\n",
       "    <tr>\n",
       "      <th>3</th>\n",
       "      <td>0</td>\n",
       "      <td>0</td>\n",
       "      <td>50</td>\n",
       "      <td>65</td>\n",
       "      <td>15</td>\n",
       "      <td>3.267254</td>\n",
       "      <td>0.03008</td>\n",
       "      <td>0.098278</td>\n",
       "      <td>3.237175</td>\n",
       "      <td>1.0</td>\n",
       "      <td>...</td>\n",
       "      <td>0.040829</td>\n",
       "      <td>0.000000</td>\n",
       "      <td>0.000000</td>\n",
       "      <td>0.000000</td>\n",
       "      <td>0.000000</td>\n",
       "      <td>4.867260</td>\n",
       "      <td>24.192476</td>\n",
       "      <td>0.804374</td>\n",
       "      <td>11.435785</td>\n",
       "      <td>1</td>\n",
       "    </tr>\n",
       "    <tr>\n",
       "      <th>4</th>\n",
       "      <td>0</td>\n",
       "      <td>0</td>\n",
       "      <td>52</td>\n",
       "      <td>88</td>\n",
       "      <td>36</td>\n",
       "      <td>3.267254</td>\n",
       "      <td>0.03008</td>\n",
       "      <td>0.098278</td>\n",
       "      <td>3.237175</td>\n",
       "      <td>1.0</td>\n",
       "      <td>...</td>\n",
       "      <td>0.000000</td>\n",
       "      <td>0.000000</td>\n",
       "      <td>0.000000</td>\n",
       "      <td>0.000000</td>\n",
       "      <td>0.000000</td>\n",
       "      <td>9.930953</td>\n",
       "      <td>38.388048</td>\n",
       "      <td>1.239480</td>\n",
       "      <td>15.629609</td>\n",
       "      <td>1</td>\n",
       "    </tr>\n",
       "    <tr>\n",
       "      <th>...</th>\n",
       "      <td>...</td>\n",
       "      <td>...</td>\n",
       "      <td>...</td>\n",
       "      <td>...</td>\n",
       "      <td>...</td>\n",
       "      <td>...</td>\n",
       "      <td>...</td>\n",
       "      <td>...</td>\n",
       "      <td>...</td>\n",
       "      <td>...</td>\n",
       "      <td>...</td>\n",
       "      <td>...</td>\n",
       "      <td>...</td>\n",
       "      <td>...</td>\n",
       "      <td>...</td>\n",
       "      <td>...</td>\n",
       "      <td>...</td>\n",
       "      <td>...</td>\n",
       "      <td>...</td>\n",
       "      <td>...</td>\n",
       "      <td>...</td>\n",
       "    </tr>\n",
       "    <tr>\n",
       "      <th>7608</th>\n",
       "      <td>0</td>\n",
       "      <td>0</td>\n",
       "      <td>50</td>\n",
       "      <td>83</td>\n",
       "      <td>33</td>\n",
       "      <td>3.267254</td>\n",
       "      <td>0.03008</td>\n",
       "      <td>0.098278</td>\n",
       "      <td>3.237175</td>\n",
       "      <td>1.0</td>\n",
       "      <td>...</td>\n",
       "      <td>0.081231</td>\n",
       "      <td>0.200066</td>\n",
       "      <td>0.076401</td>\n",
       "      <td>0.175942</td>\n",
       "      <td>0.074368</td>\n",
       "      <td>6.251264</td>\n",
       "      <td>23.519079</td>\n",
       "      <td>0.907812</td>\n",
       "      <td>10.779492</td>\n",
       "      <td>1</td>\n",
       "    </tr>\n",
       "    <tr>\n",
       "      <th>7609</th>\n",
       "      <td>0</td>\n",
       "      <td>0</td>\n",
       "      <td>82</td>\n",
       "      <td>125</td>\n",
       "      <td>43</td>\n",
       "      <td>3.267254</td>\n",
       "      <td>0.03008</td>\n",
       "      <td>0.098278</td>\n",
       "      <td>3.237175</td>\n",
       "      <td>1.0</td>\n",
       "      <td>...</td>\n",
       "      <td>0.085929</td>\n",
       "      <td>0.255415</td>\n",
       "      <td>0.090223</td>\n",
       "      <td>0.228933</td>\n",
       "      <td>0.070228</td>\n",
       "      <td>10.658496</td>\n",
       "      <td>33.534944</td>\n",
       "      <td>1.475837</td>\n",
       "      <td>15.424894</td>\n",
       "      <td>1</td>\n",
       "    </tr>\n",
       "    <tr>\n",
       "      <th>7610</th>\n",
       "      <td>0</td>\n",
       "      <td>0</td>\n",
       "      <td>60</td>\n",
       "      <td>65</td>\n",
       "      <td>5</td>\n",
       "      <td>3.267254</td>\n",
       "      <td>0.03008</td>\n",
       "      <td>0.098278</td>\n",
       "      <td>3.237175</td>\n",
       "      <td>1.0</td>\n",
       "      <td>...</td>\n",
       "      <td>0.112936</td>\n",
       "      <td>0.238182</td>\n",
       "      <td>0.086771</td>\n",
       "      <td>0.206868</td>\n",
       "      <td>0.077030</td>\n",
       "      <td>8.823204</td>\n",
       "      <td>30.397755</td>\n",
       "      <td>2.377698</td>\n",
       "      <td>15.240896</td>\n",
       "      <td>1</td>\n",
       "    </tr>\n",
       "    <tr>\n",
       "      <th>7611</th>\n",
       "      <td>0</td>\n",
       "      <td>0</td>\n",
       "      <td>96</td>\n",
       "      <td>137</td>\n",
       "      <td>41</td>\n",
       "      <td>3.267254</td>\n",
       "      <td>0.03008</td>\n",
       "      <td>0.098278</td>\n",
       "      <td>3.237175</td>\n",
       "      <td>1.0</td>\n",
       "      <td>...</td>\n",
       "      <td>0.111862</td>\n",
       "      <td>0.433861</td>\n",
       "      <td>0.109249</td>\n",
       "      <td>0.406871</td>\n",
       "      <td>0.112182</td>\n",
       "      <td>25.300413</td>\n",
       "      <td>51.636186</td>\n",
       "      <td>2.709726</td>\n",
       "      <td>21.319579</td>\n",
       "      <td>1</td>\n",
       "    </tr>\n",
       "    <tr>\n",
       "      <th>7612</th>\n",
       "      <td>0</td>\n",
       "      <td>0</td>\n",
       "      <td>58</td>\n",
       "      <td>94</td>\n",
       "      <td>36</td>\n",
       "      <td>3.267254</td>\n",
       "      <td>0.03008</td>\n",
       "      <td>0.098278</td>\n",
       "      <td>3.237175</td>\n",
       "      <td>1.0</td>\n",
       "      <td>...</td>\n",
       "      <td>0.075668</td>\n",
       "      <td>0.202807</td>\n",
       "      <td>0.081158</td>\n",
       "      <td>0.175936</td>\n",
       "      <td>0.071055</td>\n",
       "      <td>8.699998</td>\n",
       "      <td>33.251702</td>\n",
       "      <td>1.264146</td>\n",
       "      <td>14.001665</td>\n",
       "      <td>1</td>\n",
       "    </tr>\n",
       "  </tbody>\n",
       "</table>\n",
       "<p>7613 rows × 55 columns</p>\n",
       "</div>"
      ],
      "text/plain": [
       "      len_location  len_keyword  len_text  len_text_original  diff_len_text  \\\n",
       "0                0            0        43                 69             26   \n",
       "1                0            0        36                 38              2   \n",
       "2                0            0        72                133             61   \n",
       "3                0            0        50                 65             15   \n",
       "4                0            0        52                 88             36   \n",
       "...            ...          ...       ...                ...            ...   \n",
       "7608             0            0        50                 83             33   \n",
       "7609             0            0        82                125             43   \n",
       "7610             0            0        60                 65              5   \n",
       "7611             0            0        96                137             41   \n",
       "7612             0            0        58                 94             36   \n",
       "\n",
       "      keyword_value_sin_stemming  keyword_value_con_stemming  \\\n",
       "0                       3.267254                     0.03008   \n",
       "1                       3.267254                     0.03008   \n",
       "2                       3.267254                     0.03008   \n",
       "3                       3.267254                     0.03008   \n",
       "4                       3.267254                     0.03008   \n",
       "...                          ...                         ...   \n",
       "7608                    3.267254                     0.03008   \n",
       "7609                    3.267254                     0.03008   \n",
       "7610                    3.267254                     0.03008   \n",
       "7611                    3.267254                     0.03008   \n",
       "7612                    3.267254                     0.03008   \n",
       "\n",
       "      keyword_value_mult  keyword_value_diff  keyword_sum  ...  \\\n",
       "0               0.098278            3.237175          1.0  ...   \n",
       "1               0.098278            3.237175          1.0  ...   \n",
       "2               0.098278            3.237175          1.0  ...   \n",
       "3               0.098278            3.237175          1.0  ...   \n",
       "4               0.098278            3.237175          1.0  ...   \n",
       "...                  ...                 ...          ...  ...   \n",
       "7608            0.098278            3.237175          1.0  ...   \n",
       "7609            0.098278            3.237175          1.0  ...   \n",
       "7610            0.098278            3.237175          1.0  ...   \n",
       "7611            0.098278            3.237175          1.0  ...   \n",
       "7612            0.098278            3.237175          1.0  ...   \n",
       "\n",
       "      text_norm_value_2_gram  text_value_3_gram  text_norm_value_3_gram  \\\n",
       "0                   0.039129           0.000000                0.000000   \n",
       "1                   0.039828           0.000000                0.000000   \n",
       "2                   0.058736           0.000000                0.000000   \n",
       "3                   0.040829           0.000000                0.000000   \n",
       "4                   0.000000           0.000000                0.000000   \n",
       "...                      ...                ...                     ...   \n",
       "7608                0.081231           0.200066                0.076401   \n",
       "7609                0.085929           0.255415                0.090223   \n",
       "7610                0.112936           0.238182                0.086771   \n",
       "7611                0.111862           0.433861                0.109249   \n",
       "7612                0.075668           0.202807                0.081158   \n",
       "\n",
       "      text_value_4_gram  text_norm_value_4_gram  text_value_mult  \\\n",
       "0              0.000000                0.000000         6.328488   \n",
       "1              0.000000                0.000000         2.183374   \n",
       "2              0.000000                0.000000        15.902513   \n",
       "3              0.000000                0.000000         4.867260   \n",
       "4              0.000000                0.000000         9.930953   \n",
       "...                 ...                     ...              ...   \n",
       "7608           0.175942                0.074368         6.251264   \n",
       "7609           0.228933                0.070228        10.658496   \n",
       "7610           0.206868                0.077030         8.823204   \n",
       "7611           0.406871                0.112182        25.300413   \n",
       "7612           0.175936                0.071055         8.699998   \n",
       "\n",
       "      text_value_diff  text_norm_value_mult  text_norm_value_diff  target  \n",
       "0           27.200895              1.034131             12.431300       1  \n",
       "1           14.948923              0.482472              7.746799       1  \n",
       "2           50.867533              2.458198             21.204076       1  \n",
       "3           24.192476              0.804374             11.435785       1  \n",
       "4           38.388048              1.239480             15.629609       1  \n",
       "...               ...                   ...                   ...     ...  \n",
       "7608        23.519079              0.907812             10.779492       1  \n",
       "7609        33.534944              1.475837             15.424894       1  \n",
       "7610        30.397755              2.377698             15.240896       1  \n",
       "7611        51.636186              2.709726             21.319579       1  \n",
       "7612        33.251702              1.264146             14.001665       1  \n",
       "\n",
       "[7613 rows x 55 columns]"
      ]
     },
     "execution_count": 21,
     "metadata": {},
     "output_type": "execute_result"
    }
   ],
   "source": [
    "train_set"
   ]
  },
  {
   "cell_type": "code",
   "execution_count": 22,
   "metadata": {},
   "outputs": [],
   "source": [
    "X, y = train_set.iloc[:,:-1],train_set.iloc[:,-1]\n",
    "X_train, X_test, y_train, y_test = train_test_split(X, y, test_size=0.2)\n",
    "lgb_train = lgb.Dataset(X_train, y_train)\n",
    "lgb_eval = lgb.Dataset(X_test, y_test, reference=lgb_train)"
   ]
  },
  {
   "cell_type": "code",
   "execution_count": 23,
   "metadata": {},
   "outputs": [],
   "source": [
    "def binary_preds(preds):\n",
    "    len_preds = len(preds)\n",
    "    for i in range(len_preds):\n",
    "        if preds[i] >= 0.5:\n",
    "            preds[i] = 1\n",
    "        else:\n",
    "            preds[i] = 0"
   ]
  },
  {
   "cell_type": "code",
   "execution_count": 33,
   "metadata": {},
   "outputs": [],
   "source": [
    "params = {\n",
    "    'learning_rate': [0.3, 0.1, 0.01, 0.001],\n",
    "    'num_leaves': [10, 20, 40, 70, 150, 300],\n",
    "    'max_depth': [20, 50, 70, 100, 200],\n",
    "    'metric': ['binary_logloss'],\n",
    "    'sub_feature': [0.2, 0.3, 0.5, 0.7, 0.8],\n",
    "}"
   ]
  },
  {
   "cell_type": "markdown",
   "metadata": {},
   "source": [
    "## Grid Search"
   ]
  },
  {
   "cell_type": "code",
   "execution_count": 21,
   "metadata": {},
   "outputs": [],
   "source": [
    "grid_model = GridSearchCV(estimator=lgb.LGBMClassifier(), param_grid=params, cv=7)\n",
    "result = grid_model.fit(X_train, y_train)"
   ]
  },
  {
   "cell_type": "code",
   "execution_count": 22,
   "metadata": {},
   "outputs": [
    {
     "data": {
      "text/plain": [
       "{'learning_rate': 0.1,\n",
       " 'max_depth': 50,\n",
       " 'metric': 'binary_logloss',\n",
       " 'num_leaves': 40,\n",
       " 'sub_feature': 0.5}"
      ]
     },
     "execution_count": 22,
     "metadata": {},
     "output_type": "execute_result"
    }
   ],
   "source": [
    "grid_model.best_params_"
   ]
  },
  {
   "cell_type": "code",
   "execution_count": 23,
   "metadata": {},
   "outputs": [
    {
     "name": "stdout",
     "output_type": "stream",
     "text": [
      "F-Mean Score: 0.814046\n"
     ]
    }
   ],
   "source": [
    "preds = grid_model.predict(X_test)\n",
    "f1 = np.sqrt(f1_score(y_test, preds))\n",
    "print(\"F-Mean Score: %f\" % (f1))"
   ]
  },
  {
   "cell_type": "markdown",
   "metadata": {},
   "source": [
    "## Random search"
   ]
  },
  {
   "cell_type": "code",
   "execution_count": 7,
   "metadata": {},
   "outputs": [],
   "source": [
    "lgbm_random = RandomizedSearchCV(estimator = lgb.LGBMClassifier(),\\\n",
    "                               param_distributions=params, n_iter=30, cv=7, random_state=111)\n",
    "result = lgbm_random.fit(X_train, y_train)"
   ]
  },
  {
   "cell_type": "code",
   "execution_count": 8,
   "metadata": {},
   "outputs": [
    {
     "data": {
      "text/plain": [
       "{'sub_feature': 0.5,\n",
       " 'num_leaves': 20,\n",
       " 'metric': 'binary_logloss',\n",
       " 'max_depth': 200,\n",
       " 'learning_rate': 0.1}"
      ]
     },
     "execution_count": 8,
     "metadata": {},
     "output_type": "execute_result"
    }
   ],
   "source": [
    "lgbm_random.best_params_"
   ]
  },
  {
   "cell_type": "code",
   "execution_count": 9,
   "metadata": {},
   "outputs": [
    {
     "name": "stdout",
     "output_type": "stream",
     "text": [
      "F-Mean Score: 0.811377\n"
     ]
    }
   ],
   "source": [
    "preds = lgbm_random.predict(X_test)\n",
    "f1 = np.sqrt(f1_score(y_test, preds))\n",
    "print(\"F-Mean Score: %f\" % (f1))"
   ]
  },
  {
   "cell_type": "markdown",
   "metadata": {},
   "source": [
    "## Pruebas manuales"
   ]
  },
  {
   "cell_type": "code",
   "execution_count": 24,
   "metadata": {},
   "outputs": [
    {
     "name": "stdout",
     "output_type": "stream",
     "text": [
      "F-Mean Score: 0.825928\n"
     ]
    }
   ],
   "source": [
    "params = {'objective': 'binary', 'metric': 'binary_logloss', 'num_leaves': 40,\\\n",
    "          'learning_rate': 0.1, 'sub_feature': 0.5, 'max_depth': 50}\n",
    "\n",
    "gbm = lgb.train(params, lgb_train, num_boost_round=600, valid_sets=lgb_eval, verbose_eval=False)\n",
    "preds = gbm.predict(X_test, num_iteration=gbm.best_iteration)\n",
    "\n",
    "binary_preds(preds)\n",
    "\n",
    "f1 = np.sqrt(f1_score(y_test, preds))\n",
    "print(\"F-Mean Score: %f\" % (f1))"
   ]
  },
  {
   "cell_type": "code",
   "execution_count": 25,
   "metadata": {},
   "outputs": [
    {
     "name": "stdout",
     "output_type": "stream",
     "text": [
      "F-Mean Score: 0.823880\n"
     ]
    }
   ],
   "source": [
    "params = {'objective': 'binary', 'metric': 'binary_logloss', 'num_leaves': 20,\\\n",
    "          'learning_rate': 0.1, 'sub_feature': 0.5, 'max_depth': 200}\n",
    "\n",
    "gbm = lgb.train(params, lgb_train, num_boost_round=600, valid_sets=lgb_eval, verbose_eval=False)\n",
    "preds = gbm.predict(X_test, num_iteration=gbm.best_iteration)\n",
    "\n",
    "binary_preds(preds)\n",
    "\n",
    "f1 = np.sqrt(f1_score(y_test, preds))\n",
    "print(\"F-Mean Score: %f\" % (f1))"
   ]
  },
  {
   "cell_type": "code",
   "execution_count": 26,
   "metadata": {},
   "outputs": [
    {
     "name": "stdout",
     "output_type": "stream",
     "text": [
      "F-Mean Score: 0.830831\n"
     ]
    }
   ],
   "source": [
    "params = {'objective': 'binary', 'metric': 'binary_logloss', 'num_leaves': 20,\\\n",
    "          'learning_rate': 0.1, 'sub_feature': 0.2, 'max_depth': 20}\n",
    "\n",
    "gbm = lgb.train(params, lgb_train, num_boost_round=600, valid_sets=lgb_eval, verbose_eval=False)\n",
    "preds = gbm.predict(X_test, num_iteration=gbm.best_iteration)\n",
    "\n",
    "binary_preds(preds)\n",
    "\n",
    "f1 = np.sqrt(f1_score(y_test, preds))\n",
    "print(\"F-Mean Score: %f\" % (f1))"
   ]
  },
  {
   "cell_type": "code",
   "execution_count": 27,
   "metadata": {},
   "outputs": [
    {
     "name": "stdout",
     "output_type": "stream",
     "text": [
      "F-Mean Score: 0.826128\n"
     ]
    }
   ],
   "source": [
    "params = {'objective': 'binary', 'metric': 'binary_logloss', 'num_leaves': 20,\\\n",
    "          'learning_rate': 0.1, 'sub_feature': 0.4, 'max_depth': 20}\n",
    "\n",
    "gbm = lgb.train(params, lgb_train, num_boost_round=600, valid_sets=lgb_eval, verbose_eval=False)\n",
    "preds = gbm.predict(X_test, num_iteration=gbm.best_iteration)\n",
    "\n",
    "binary_preds(preds)\n",
    "\n",
    "f1 = np.sqrt(f1_score(y_test, preds))\n",
    "print(\"F-Mean Score: %f\" % (f1))"
   ]
  },
  {
   "cell_type": "code",
   "execution_count": 28,
   "metadata": {},
   "outputs": [
    {
     "name": "stdout",
     "output_type": "stream",
     "text": [
      "F-Mean Score: 0.821571\n"
     ]
    }
   ],
   "source": [
    "params = {'objective': 'binary', 'metric': 'binary_logloss', 'num_leaves': 40,\\\n",
    "          'learning_rate': 0.1, 'sub_feature': 0.6, 'max_depth': 100}\n",
    "\n",
    "gbm = lgb.train(params, lgb_train, num_boost_round=100, valid_sets=lgb_eval, verbose_eval=False)\n",
    "preds = gbm.predict(X_test, num_iteration=gbm.best_iteration)\n",
    "\n",
    "binary_preds(preds)\n",
    "\n",
    "f1 = np.sqrt(f1_score(y_test, preds))\n",
    "print(\"F-Mean Score: %f\" % (f1))"
   ]
  },
  {
   "cell_type": "code",
   "execution_count": 29,
   "metadata": {},
   "outputs": [
    {
     "name": "stdout",
     "output_type": "stream",
     "text": [
      "F-Mean Score: 0.827063\n"
     ]
    }
   ],
   "source": [
    "params = {'objective': 'binary', 'metric': 'accuracy', 'num_leaves': 20,\\\n",
    "          'learning_rate': 0.1, 'feature_fraction': 0.9}\n",
    "\n",
    "gbm = lgb.train(params, lgb_train, num_boost_round=100, valid_sets=lgb_eval)\n",
    "preds = gbm.predict(X_test, num_iteration=gbm.best_iteration)\n",
    "\n",
    "binary_preds(preds)\n",
    "f1 = np.sqrt(f1_score(y_test, preds))\n",
    "print(\"F-Mean Score: %f\" % (f1))"
   ]
  },
  {
   "cell_type": "code",
   "execution_count": 30,
   "metadata": {},
   "outputs": [
    {
     "name": "stdout",
     "output_type": "stream",
     "text": [
      "F-Mean Score: 0.822674\n"
     ]
    }
   ],
   "source": [
    "gbm = lgb.train({}, train_set=lgb_train, num_boost_round=100, valid_sets=lgb_eval)\n",
    "preds = gbm.predict(X_test, num_iteration=gbm.best_iteration)\n",
    "\n",
    "binary_preds(preds)\n",
    "f1 = np.sqrt(f1_score(y_test, preds))\n",
    "print(\"F-Mean Score: %f\" % (f1))"
   ]
  },
  {
   "cell_type": "markdown",
   "metadata": {},
   "source": [
    "## Test"
   ]
  },
  {
   "cell_type": "code",
   "execution_count": 14,
   "metadata": {},
   "outputs": [],
   "source": [
    "test_set = pd.read_csv('test/test_encoded.csv')"
   ]
  },
  {
   "cell_type": "code",
   "execution_count": 15,
   "metadata": {},
   "outputs": [],
   "source": [
    "col_id = test_set['id']\n",
    "test_set.drop('id', axis=1, inplace=True)"
   ]
  },
  {
   "cell_type": "code",
   "execution_count": 16,
   "metadata": {},
   "outputs": [
    {
     "data": {
      "text/plain": [
       "array([0., 1., 1., ..., 1., 1., 1.])"
      ]
     },
     "execution_count": 16,
     "metadata": {},
     "output_type": "execute_result"
    }
   ],
   "source": [
    "preds = gbm.predict(test_set)\n",
    "binary_preds(preds)\n",
    "preds"
   ]
  },
  {
   "cell_type": "code",
   "execution_count": 17,
   "metadata": {},
   "outputs": [],
   "source": [
    "test_set['id'] = col_id"
   ]
  },
  {
   "cell_type": "code",
   "execution_count": 18,
   "metadata": {},
   "outputs": [
    {
     "data": {
      "text/html": [
       "<div>\n",
       "<style scoped>\n",
       "    .dataframe tbody tr th:only-of-type {\n",
       "        vertical-align: middle;\n",
       "    }\n",
       "\n",
       "    .dataframe tbody tr th {\n",
       "        vertical-align: top;\n",
       "    }\n",
       "\n",
       "    .dataframe thead th {\n",
       "        text-align: right;\n",
       "    }\n",
       "</style>\n",
       "<table border=\"1\" class=\"dataframe\">\n",
       "  <thead>\n",
       "    <tr style=\"text-align: right;\">\n",
       "      <th></th>\n",
       "      <th>id</th>\n",
       "      <th>target</th>\n",
       "    </tr>\n",
       "  </thead>\n",
       "  <tbody>\n",
       "    <tr>\n",
       "      <th>0</th>\n",
       "      <td>0</td>\n",
       "      <td>0</td>\n",
       "    </tr>\n",
       "    <tr>\n",
       "      <th>1</th>\n",
       "      <td>2</td>\n",
       "      <td>1</td>\n",
       "    </tr>\n",
       "    <tr>\n",
       "      <th>2</th>\n",
       "      <td>3</td>\n",
       "      <td>1</td>\n",
       "    </tr>\n",
       "    <tr>\n",
       "      <th>3</th>\n",
       "      <td>9</td>\n",
       "      <td>0</td>\n",
       "    </tr>\n",
       "    <tr>\n",
       "      <th>4</th>\n",
       "      <td>11</td>\n",
       "      <td>1</td>\n",
       "    </tr>\n",
       "    <tr>\n",
       "      <th>...</th>\n",
       "      <td>...</td>\n",
       "      <td>...</td>\n",
       "    </tr>\n",
       "    <tr>\n",
       "      <th>3258</th>\n",
       "      <td>10861</td>\n",
       "      <td>0</td>\n",
       "    </tr>\n",
       "    <tr>\n",
       "      <th>3259</th>\n",
       "      <td>10865</td>\n",
       "      <td>1</td>\n",
       "    </tr>\n",
       "    <tr>\n",
       "      <th>3260</th>\n",
       "      <td>10868</td>\n",
       "      <td>1</td>\n",
       "    </tr>\n",
       "    <tr>\n",
       "      <th>3261</th>\n",
       "      <td>10874</td>\n",
       "      <td>1</td>\n",
       "    </tr>\n",
       "    <tr>\n",
       "      <th>3262</th>\n",
       "      <td>10875</td>\n",
       "      <td>1</td>\n",
       "    </tr>\n",
       "  </tbody>\n",
       "</table>\n",
       "<p>3263 rows × 2 columns</p>\n",
       "</div>"
      ],
      "text/plain": [
       "         id  target\n",
       "0         0       0\n",
       "1         2       1\n",
       "2         3       1\n",
       "3         9       0\n",
       "4        11       1\n",
       "...     ...     ...\n",
       "3258  10861       0\n",
       "3259  10865       1\n",
       "3260  10868       1\n",
       "3261  10874       1\n",
       "3262  10875       1\n",
       "\n",
       "[3263 rows x 2 columns]"
      ]
     },
     "execution_count": 18,
     "metadata": {},
     "output_type": "execute_result"
    }
   ],
   "source": [
    "test_set['target'] = preds.astype('int64')\n",
    "test_set[['id', 'target']]"
   ]
  },
  {
   "cell_type": "code",
   "execution_count": 19,
   "metadata": {},
   "outputs": [],
   "source": [
    "test_set[['id', 'target']].to_csv('result.csv', header=True, index=False)"
   ]
  }
 ],
 "metadata": {
  "kernelspec": {
   "display_name": "Python 3",
   "language": "python",
   "name": "python3"
  },
  "language_info": {
   "codemirror_mode": {
    "name": "ipython",
    "version": 3
   },
   "file_extension": ".py",
   "mimetype": "text/x-python",
   "name": "python",
   "nbconvert_exporter": "python",
   "pygments_lexer": "ipython3",
   "version": "3.8.5"
  }
 },
 "nbformat": 4,
 "nbformat_minor": 4
}
