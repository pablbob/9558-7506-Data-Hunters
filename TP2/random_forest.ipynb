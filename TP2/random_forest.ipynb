{
 "cells": [
  {
   "cell_type": "markdown",
   "metadata": {},
   "source": [
    "## Imports"
   ]
  },
  {
   "cell_type": "code",
   "execution_count": 19,
   "metadata": {},
   "outputs": [],
   "source": [
    "from sklearn.ensemble import RandomForestClassifier\n",
    "from sklearn.metrics import f1_score\n",
    "import pandas as pd\n",
    "import numpy as np\n",
    "%matplotlib inline\n",
    "import matplotlib.pyplot as plt\n",
    "import seaborn as sb\n",
    "from sklearn import tree\n",
    "from sklearn.model_selection import train_test_split\n",
    "\n",
    "sb.set(style=\"whitegrid\")"
   ]
  },
  {
   "cell_type": "markdown",
   "metadata": {},
   "source": [
    "## Train"
   ]
  },
  {
   "cell_type": "code",
   "execution_count": 2,
   "metadata": {},
   "outputs": [
    {
     "data": {
      "text/html": [
       "<div>\n",
       "<style scoped>\n",
       "    .dataframe tbody tr th:only-of-type {\n",
       "        vertical-align: middle;\n",
       "    }\n",
       "\n",
       "    .dataframe tbody tr th {\n",
       "        vertical-align: top;\n",
       "    }\n",
       "\n",
       "    .dataframe thead th {\n",
       "        text-align: right;\n",
       "    }\n",
       "</style>\n",
       "<table border=\"1\" class=\"dataframe\">\n",
       "  <thead>\n",
       "    <tr style=\"text-align: right;\">\n",
       "      <th></th>\n",
       "      <th>len_location</th>\n",
       "      <th>len_keyword</th>\n",
       "      <th>len_text</th>\n",
       "      <th>len_text_original</th>\n",
       "      <th>diff_len_text</th>\n",
       "      <th>keyword_value</th>\n",
       "      <th>keyword_sum</th>\n",
       "      <th>keyword_min</th>\n",
       "      <th>keyword_max</th>\n",
       "      <th>keyword_mean</th>\n",
       "      <th>...</th>\n",
       "      <th>text_mean_tf-idf</th>\n",
       "      <th>text_median_tf-idf</th>\n",
       "      <th>text_value</th>\n",
       "      <th>text_norm_value</th>\n",
       "      <th>text_sum_w2v</th>\n",
       "      <th>text_min_w2v</th>\n",
       "      <th>text_max_w2v</th>\n",
       "      <th>text_mean_w2v</th>\n",
       "      <th>text_median_w2v</th>\n",
       "      <th>target</th>\n",
       "    </tr>\n",
       "  </thead>\n",
       "  <tbody>\n",
       "    <tr>\n",
       "      <th>0</th>\n",
       "      <td>0</td>\n",
       "      <td>0</td>\n",
       "      <td>43</td>\n",
       "      <td>69</td>\n",
       "      <td>26</td>\n",
       "      <td>3.267254</td>\n",
       "      <td>1.0</td>\n",
       "      <td>1.0</td>\n",
       "      <td>1.0</td>\n",
       "      <td>1.0</td>\n",
       "      <td>...</td>\n",
       "      <td>0.343243</td>\n",
       "      <td>0.323476</td>\n",
       "      <td>27.431596</td>\n",
       "      <td>12.513938</td>\n",
       "      <td>8.481658</td>\n",
       "      <td>0.000850</td>\n",
       "      <td>0.615265</td>\n",
       "      <td>0.154212</td>\n",
       "      <td>0.121727</td>\n",
       "      <td>1</td>\n",
       "    </tr>\n",
       "    <tr>\n",
       "      <th>1</th>\n",
       "      <td>0</td>\n",
       "      <td>0</td>\n",
       "      <td>36</td>\n",
       "      <td>38</td>\n",
       "      <td>2</td>\n",
       "      <td>3.267254</td>\n",
       "      <td>1.0</td>\n",
       "      <td>1.0</td>\n",
       "      <td>1.0</td>\n",
       "      <td>1.0</td>\n",
       "      <td>...</td>\n",
       "      <td>0.363618</td>\n",
       "      <td>0.340166</td>\n",
       "      <td>15.093579</td>\n",
       "      <td>7.808587</td>\n",
       "      <td>0.790154</td>\n",
       "      <td>-0.103024</td>\n",
       "      <td>0.308946</td>\n",
       "      <td>0.079015</td>\n",
       "      <td>0.055061</td>\n",
       "      <td>1</td>\n",
       "    </tr>\n",
       "    <tr>\n",
       "      <th>2</th>\n",
       "      <td>0</td>\n",
       "      <td>0</td>\n",
       "      <td>72</td>\n",
       "      <td>133</td>\n",
       "      <td>61</td>\n",
       "      <td>3.267254</td>\n",
       "      <td>1.0</td>\n",
       "      <td>1.0</td>\n",
       "      <td>1.0</td>\n",
       "      <td>1.0</td>\n",
       "      <td>...</td>\n",
       "      <td>0.327084</td>\n",
       "      <td>0.256037</td>\n",
       "      <td>51.178261</td>\n",
       "      <td>21.319380</td>\n",
       "      <td>29.265612</td>\n",
       "      <td>-0.044882</td>\n",
       "      <td>1.000000</td>\n",
       "      <td>0.139360</td>\n",
       "      <td>0.095317</td>\n",
       "      <td>1</td>\n",
       "    </tr>\n",
       "    <tr>\n",
       "      <th>3</th>\n",
       "      <td>0</td>\n",
       "      <td>0</td>\n",
       "      <td>50</td>\n",
       "      <td>65</td>\n",
       "      <td>15</td>\n",
       "      <td>3.267254</td>\n",
       "      <td>1.0</td>\n",
       "      <td>1.0</td>\n",
       "      <td>1.0</td>\n",
       "      <td>1.0</td>\n",
       "      <td>...</td>\n",
       "      <td>0.359336</td>\n",
       "      <td>0.346962</td>\n",
       "      <td>24.392019</td>\n",
       "      <td>11.505696</td>\n",
       "      <td>2.733583</td>\n",
       "      <td>-0.039545</td>\n",
       "      <td>0.317247</td>\n",
       "      <td>0.097628</td>\n",
       "      <td>0.082558</td>\n",
       "      <td>1</td>\n",
       "    </tr>\n",
       "    <tr>\n",
       "      <th>4</th>\n",
       "      <td>0</td>\n",
       "      <td>0</td>\n",
       "      <td>52</td>\n",
       "      <td>88</td>\n",
       "      <td>36</td>\n",
       "      <td>3.267254</td>\n",
       "      <td>1.0</td>\n",
       "      <td>1.0</td>\n",
       "      <td>1.0</td>\n",
       "      <td>1.0</td>\n",
       "      <td>...</td>\n",
       "      <td>0.326443</td>\n",
       "      <td>0.287533</td>\n",
       "      <td>38.645027</td>\n",
       "      <td>15.708514</td>\n",
       "      <td>13.153737</td>\n",
       "      <td>-0.041156</td>\n",
       "      <td>1.000000</td>\n",
       "      <td>0.125274</td>\n",
       "      <td>0.086994</td>\n",
       "      <td>1</td>\n",
       "    </tr>\n",
       "    <tr>\n",
       "      <th>5</th>\n",
       "      <td>0</td>\n",
       "      <td>0</td>\n",
       "      <td>84</td>\n",
       "      <td>110</td>\n",
       "      <td>26</td>\n",
       "      <td>3.267254</td>\n",
       "      <td>1.0</td>\n",
       "      <td>1.0</td>\n",
       "      <td>1.0</td>\n",
       "      <td>1.0</td>\n",
       "      <td>...</td>\n",
       "      <td>0.267090</td>\n",
       "      <td>0.268381</td>\n",
       "      <td>37.357096</td>\n",
       "      <td>15.731668</td>\n",
       "      <td>7.810325</td>\n",
       "      <td>-0.093557</td>\n",
       "      <td>0.478663</td>\n",
       "      <td>0.100132</td>\n",
       "      <td>0.080587</td>\n",
       "      <td>1</td>\n",
       "    </tr>\n",
       "    <tr>\n",
       "      <th>6</th>\n",
       "      <td>0</td>\n",
       "      <td>0</td>\n",
       "      <td>74</td>\n",
       "      <td>95</td>\n",
       "      <td>21</td>\n",
       "      <td>3.267254</td>\n",
       "      <td>1.0</td>\n",
       "      <td>1.0</td>\n",
       "      <td>1.0</td>\n",
       "      <td>1.0</td>\n",
       "      <td>...</td>\n",
       "      <td>0.304355</td>\n",
       "      <td>0.292368</td>\n",
       "      <td>34.450148</td>\n",
       "      <td>16.301306</td>\n",
       "      <td>9.341228</td>\n",
       "      <td>-0.047981</td>\n",
       "      <td>0.788929</td>\n",
       "      <td>0.141534</td>\n",
       "      <td>0.109943</td>\n",
       "      <td>1</td>\n",
       "    </tr>\n",
       "    <tr>\n",
       "      <th>7</th>\n",
       "      <td>0</td>\n",
       "      <td>0</td>\n",
       "      <td>21</td>\n",
       "      <td>59</td>\n",
       "      <td>38</td>\n",
       "      <td>3.267254</td>\n",
       "      <td>1.0</td>\n",
       "      <td>1.0</td>\n",
       "      <td>1.0</td>\n",
       "      <td>1.0</td>\n",
       "      <td>...</td>\n",
       "      <td>0.433880</td>\n",
       "      <td>0.410864</td>\n",
       "      <td>26.954125</td>\n",
       "      <td>12.321519</td>\n",
       "      <td>11.859967</td>\n",
       "      <td>-0.143466</td>\n",
       "      <td>1.000000</td>\n",
       "      <td>0.152051</td>\n",
       "      <td>0.112546</td>\n",
       "      <td>1</td>\n",
       "    </tr>\n",
       "    <tr>\n",
       "      <th>8</th>\n",
       "      <td>0</td>\n",
       "      <td>0</td>\n",
       "      <td>38</td>\n",
       "      <td>79</td>\n",
       "      <td>41</td>\n",
       "      <td>3.267254</td>\n",
       "      <td>1.0</td>\n",
       "      <td>1.0</td>\n",
       "      <td>1.0</td>\n",
       "      <td>1.0</td>\n",
       "      <td>...</td>\n",
       "      <td>0.404259</td>\n",
       "      <td>0.389401</td>\n",
       "      <td>27.801975</td>\n",
       "      <td>13.488863</td>\n",
       "      <td>15.609978</td>\n",
       "      <td>-0.033696</td>\n",
       "      <td>1.000000</td>\n",
       "      <td>0.200128</td>\n",
       "      <td>0.158737</td>\n",
       "      <td>1</td>\n",
       "    </tr>\n",
       "    <tr>\n",
       "      <th>9</th>\n",
       "      <td>0</td>\n",
       "      <td>0</td>\n",
       "      <td>24</td>\n",
       "      <td>52</td>\n",
       "      <td>28</td>\n",
       "      <td>3.267254</td>\n",
       "      <td>1.0</td>\n",
       "      <td>1.0</td>\n",
       "      <td>1.0</td>\n",
       "      <td>1.0</td>\n",
       "      <td>...</td>\n",
       "      <td>0.491594</td>\n",
       "      <td>0.467736</td>\n",
       "      <td>23.065922</td>\n",
       "      <td>11.107360</td>\n",
       "      <td>7.238668</td>\n",
       "      <td>0.004347</td>\n",
       "      <td>0.526257</td>\n",
       "      <td>0.160859</td>\n",
       "      <td>0.136866</td>\n",
       "      <td>1</td>\n",
       "    </tr>\n",
       "  </tbody>\n",
       "</table>\n",
       "<p>10 rows × 36 columns</p>\n",
       "</div>"
      ],
      "text/plain": [
       "   len_location  len_keyword  len_text  len_text_original  diff_len_text  \\\n",
       "0             0            0        43                 69             26   \n",
       "1             0            0        36                 38              2   \n",
       "2             0            0        72                133             61   \n",
       "3             0            0        50                 65             15   \n",
       "4             0            0        52                 88             36   \n",
       "5             0            0        84                110             26   \n",
       "6             0            0        74                 95             21   \n",
       "7             0            0        21                 59             38   \n",
       "8             0            0        38                 79             41   \n",
       "9             0            0        24                 52             28   \n",
       "\n",
       "   keyword_value  keyword_sum  keyword_min  keyword_max  keyword_mean  ...  \\\n",
       "0       3.267254          1.0          1.0          1.0           1.0  ...   \n",
       "1       3.267254          1.0          1.0          1.0           1.0  ...   \n",
       "2       3.267254          1.0          1.0          1.0           1.0  ...   \n",
       "3       3.267254          1.0          1.0          1.0           1.0  ...   \n",
       "4       3.267254          1.0          1.0          1.0           1.0  ...   \n",
       "5       3.267254          1.0          1.0          1.0           1.0  ...   \n",
       "6       3.267254          1.0          1.0          1.0           1.0  ...   \n",
       "7       3.267254          1.0          1.0          1.0           1.0  ...   \n",
       "8       3.267254          1.0          1.0          1.0           1.0  ...   \n",
       "9       3.267254          1.0          1.0          1.0           1.0  ...   \n",
       "\n",
       "   text_mean_tf-idf  text_median_tf-idf  text_value  text_norm_value  \\\n",
       "0          0.343243            0.323476   27.431596        12.513938   \n",
       "1          0.363618            0.340166   15.093579         7.808587   \n",
       "2          0.327084            0.256037   51.178261        21.319380   \n",
       "3          0.359336            0.346962   24.392019        11.505696   \n",
       "4          0.326443            0.287533   38.645027        15.708514   \n",
       "5          0.267090            0.268381   37.357096        15.731668   \n",
       "6          0.304355            0.292368   34.450148        16.301306   \n",
       "7          0.433880            0.410864   26.954125        12.321519   \n",
       "8          0.404259            0.389401   27.801975        13.488863   \n",
       "9          0.491594            0.467736   23.065922        11.107360   \n",
       "\n",
       "   text_sum_w2v  text_min_w2v  text_max_w2v  text_mean_w2v  text_median_w2v  \\\n",
       "0      8.481658      0.000850      0.615265       0.154212         0.121727   \n",
       "1      0.790154     -0.103024      0.308946       0.079015         0.055061   \n",
       "2     29.265612     -0.044882      1.000000       0.139360         0.095317   \n",
       "3      2.733583     -0.039545      0.317247       0.097628         0.082558   \n",
       "4     13.153737     -0.041156      1.000000       0.125274         0.086994   \n",
       "5      7.810325     -0.093557      0.478663       0.100132         0.080587   \n",
       "6      9.341228     -0.047981      0.788929       0.141534         0.109943   \n",
       "7     11.859967     -0.143466      1.000000       0.152051         0.112546   \n",
       "8     15.609978     -0.033696      1.000000       0.200128         0.158737   \n",
       "9      7.238668      0.004347      0.526257       0.160859         0.136866   \n",
       "\n",
       "   target  \n",
       "0       1  \n",
       "1       1  \n",
       "2       1  \n",
       "3       1  \n",
       "4       1  \n",
       "5       1  \n",
       "6       1  \n",
       "7       1  \n",
       "8       1  \n",
       "9       1  \n",
       "\n",
       "[10 rows x 36 columns]"
      ]
     },
     "execution_count": 2,
     "metadata": {},
     "output_type": "execute_result"
    }
   ],
   "source": [
    "train_set = pd.read_csv('train/train_encoded.csv')\n",
    "train_set.head(10)"
   ]
  },
  {
   "cell_type": "markdown",
   "metadata": {},
   "source": [
    "### Random Forest"
   ]
  },
  {
   "cell_type": "code",
   "execution_count": 3,
   "metadata": {},
   "outputs": [],
   "source": [
    "X, y = train_set.iloc[:,:-1],train_set.iloc[:,-1]"
   ]
  },
  {
   "cell_type": "code",
   "execution_count": 25,
   "metadata": {},
   "outputs": [],
   "source": [
    "X_train, X_test, y_train, y_test = train_test_split(X, y, test_size=0.2)"
   ]
  },
  {
   "cell_type": "markdown",
   "metadata": {},
   "source": [
    "### Random Search"
   ]
  },
  {
   "cell_type": "code",
   "execution_count": 5,
   "metadata": {},
   "outputs": [],
   "source": [
    "from sklearn.model_selection import RandomizedSearchCV\n",
    "n_estimators = [20, 50, 70, 100]\n",
    "max_features = ['auto', 'log2']\n",
    "max_depth = [20, 50, 70]\n",
    "min_samples_split = [5, 50, 100]\n",
    "min_samples_leaf = [20]\n",
    "\n",
    "random_search = {'n_estimators': n_estimators,\n",
    "               'max_features': max_features,\n",
    "               'max_depth': max_depth,\n",
    "               'min_samples_split': min_samples_split,\n",
    "               'min_samples_leaf': min_samples_leaf}"
   ]
  },
  {
   "cell_type": "code",
   "execution_count": 6,
   "metadata": {},
   "outputs": [],
   "source": [
    "rf_random = RandomizedSearchCV(estimator = RandomForestClassifier(),\\\n",
    "                               param_distributions=random_search, n_iter=50, cv=7, random_state=111)"
   ]
  },
  {
   "cell_type": "code",
   "execution_count": 7,
   "metadata": {},
   "outputs": [
    {
     "data": {
      "text/plain": [
       "RandomizedSearchCV(cv=7, estimator=RandomForestClassifier(), n_iter=50,\n",
       "                   param_distributions={'max_depth': [20, 50, 70],\n",
       "                                        'max_features': ['auto', 'log2'],\n",
       "                                        'min_samples_leaf': [20],\n",
       "                                        'min_samples_split': [5, 50, 100],\n",
       "                                        'n_estimators': [20, 50, 70, 100]},\n",
       "                   random_state=111)"
      ]
     },
     "execution_count": 7,
     "metadata": {},
     "output_type": "execute_result"
    }
   ],
   "source": [
    "rf_random.fit(X_train, y_train)"
   ]
  },
  {
   "cell_type": "code",
   "execution_count": 8,
   "metadata": {},
   "outputs": [
    {
     "data": {
      "text/plain": [
       "{'n_estimators': 100,\n",
       " 'min_samples_split': 5,\n",
       " 'min_samples_leaf': 20,\n",
       " 'max_features': 'log2',\n",
       " 'max_depth': 70}"
      ]
     },
     "execution_count": 8,
     "metadata": {},
     "output_type": "execute_result"
    }
   ],
   "source": [
    "rf_random.best_params_"
   ]
  },
  {
   "cell_type": "code",
   "execution_count": 9,
   "metadata": {},
   "outputs": [
    {
     "name": "stdout",
     "output_type": "stream",
     "text": [
      "F1-Mean Score 0.791581\n"
     ]
    }
   ],
   "source": [
    "preds = rf_random.predict(X_test)\n",
    "f1 = np.sqrt(f1_score(y_test, preds))\n",
    "print(\"F1-Mean Score %f\" % (f1))"
   ]
  },
  {
   "cell_type": "markdown",
   "metadata": {},
   "source": [
    "## Pruebas manuales"
   ]
  },
  {
   "cell_type": "code",
   "execution_count": 26,
   "metadata": {},
   "outputs": [
    {
     "name": "stdout",
     "output_type": "stream",
     "text": [
      "F1-Mean Score: 0.805795\n"
     ]
    }
   ],
   "source": [
    "rf_model = RandomForestClassifier(n_estimators=100, min_samples_split=5, min_samples_leaf=20, max_depth=70, max_features='log2')\n",
    "rf_model.fit(X_train, y_train)\n",
    "preds = rf_model.predict(X_test)\n",
    "f1 = np.sqrt(f1_score(y_test, preds))\n",
    "print(\"F1-Mean Score: %f\" % (f1))"
   ]
  },
  {
   "cell_type": "code",
   "execution_count": 27,
   "metadata": {},
   "outputs": [
    {
     "name": "stdout",
     "output_type": "stream",
     "text": [
      "F1-Mean Score: 0.799563\n"
     ]
    }
   ],
   "source": [
    "rf_model = RandomForestClassifier(n_estimators=100, min_samples_split=50, min_samples_leaf=20, max_depth=20)\n",
    "rf_model.fit(X_train, y_train)\n",
    "preds = rf_model.predict(X_test)\n",
    "f1 = np.sqrt(f1_score(y_test, preds))\n",
    "print(\"F1-Mean Score: %f\" % (f1))"
   ]
  },
  {
   "cell_type": "code",
   "execution_count": 28,
   "metadata": {},
   "outputs": [
    {
     "name": "stdout",
     "output_type": "stream",
     "text": [
      "F1-Mean Score: 0.799005\n"
     ]
    }
   ],
   "source": [
    "rf_model = RandomForestClassifier(n_estimators=100, min_samples_split=5, min_samples_leaf=20, max_depth=70)\n",
    "rf_model.fit(X_train, y_train)\n",
    "preds = rf_model.predict(X_test)\n",
    "f1 = np.sqrt(f1_score(y_test, preds))\n",
    "print(\"F1-Mean Score: %f\" % (f1))"
   ]
  },
  {
   "cell_type": "code",
   "execution_count": 29,
   "metadata": {},
   "outputs": [
    {
     "name": "stdout",
     "output_type": "stream",
     "text": [
      "F1-Mean Score: 0.802088\n"
     ]
    }
   ],
   "source": [
    "rf_model = RandomForestClassifier(n_estimators=70, min_samples_split=50, min_samples_leaf=20, max_depth=70)\n",
    "rf_model.fit(X_train, y_train)\n",
    "preds = rf_model.predict(X_test)\n",
    "f1 = np.sqrt(f1_score(y_test, preds))\n",
    "print(\"F1-Mean Score: %f\" % (f1))"
   ]
  },
  {
   "cell_type": "code",
   "execution_count": 30,
   "metadata": {},
   "outputs": [
    {
     "name": "stdout",
     "output_type": "stream",
     "text": [
      "F1-Mean Score: 0.800172\n"
     ]
    }
   ],
   "source": [
    "rf_model = RandomForestClassifier(n_estimators=57, min_samples_split=4, max_depth=70, random_state=111)\n",
    "rf_model.fit(X_train, y_train)\n",
    "preds = rf_model.predict(X_test)\n",
    "f1 = np.sqrt(f1_score(y_test, preds))\n",
    "print(\"F1-Mean Score: %f\" % (f1))"
   ]
  },
  {
   "cell_type": "code",
   "execution_count": 31,
   "metadata": {},
   "outputs": [
    {
     "name": "stdout",
     "output_type": "stream",
     "text": [
      "F1-Mean Score: 0.802773\n"
     ]
    }
   ],
   "source": [
    "rf_model = RandomForestClassifier(n_estimators=60, min_samples_split=4, max_depth=37, random_state=111)\n",
    "rf_model.fit(X_train, y_train)\n",
    "preds = rf_model.predict(X_test)\n",
    "f1 = np.sqrt(f1_score(y_test, preds))\n",
    "print(\"F1-Mean Score: %f\" % (f1))"
   ]
  },
  {
   "cell_type": "code",
   "execution_count": 32,
   "metadata": {},
   "outputs": [
    {
     "name": "stdout",
     "output_type": "stream",
     "text": [
      "F1-Mean Score: 0.812606\n"
     ]
    }
   ],
   "source": [
    "rf_model = RandomForestClassifier(n_estimators=57, min_samples_split=4, max_depth=30, min_samples_leaf=5, random_state=111)\n",
    "rf_model.fit(X_train, y_train)\n",
    "preds = rf_model.predict(X_test)\n",
    "f1 = np.sqrt(f1_score(y_test, preds))\n",
    "print(\"F1-Mean Score: %f\" % (f1))"
   ]
  },
  {
   "cell_type": "code",
   "execution_count": 33,
   "metadata": {},
   "outputs": [
    {
     "data": {
      "image/png": "[encoded data removed]",
      "text/plain": [
       "<Figure size 720x576 with 1 Axes>"
      ]
     },
     "metadata": {},
     "output_type": "display_data"
    }
   ],
   "source": [
    "plt.figure(figsize=(10, 8))\n",
    "plt.bar(X_train.columns, rf_model.feature_importances_)\n",
    "plt.xticks(rotation=90)\n",
    "plt.xlabel('Features')\n",
    "plt.ylabel('Importancia')\n",
    "plt.title('Importancia - Features con RF')\n",
    "plt.show()"
   ]
  },
  {
   "cell_type": "code",
   "execution_count": 35,
   "metadata": {},
   "outputs": [],
   "source": [
    "n_estimators = [15, 20, 60]\n",
    "max_features = ['auto', 'log2']\n",
    "max_depth = [5, 15, 30]\n",
    "min_samples_split = [5, 25, 50]\n",
    "min_samples_leaf = [5, 20, 30]\n",
    "\n",
    "random_search = {'n_estimators': n_estimators,\n",
    "               'max_features': max_features,\n",
    "               'max_depth': max_depth,\n",
    "               'min_samples_split': min_samples_split,\n",
    "               'min_samples_leaf': min_samples_leaf}"
   ]
  },
  {
   "cell_type": "code",
   "execution_count": 36,
   "metadata": {},
   "outputs": [],
   "source": [
    "rf_random = RandomizedSearchCV(estimator = RandomForestClassifier(),\\\n",
    "                               param_distributions=random_search, n_iter=30, cv=7, random_state=47)"
   ]
  },
  {
   "cell_type": "code",
   "execution_count": 37,
   "metadata": {},
   "outputs": [
    {
     "data": {
      "text/plain": [
       "RandomizedSearchCV(cv=7, estimator=RandomForestClassifier(), n_iter=30,\n",
       "                   param_distributions={'max_depth': [5, 15, 30],\n",
       "                                        'max_features': ['auto', 'log2'],\n",
       "                                        'min_samples_leaf': [5, 20, 30],\n",
       "                                        'min_samples_split': [5, 25, 50],\n",
       "                                        'n_estimators': [15, 20, 60]},\n",
       "                   random_state=47)"
      ]
     },
     "execution_count": 37,
     "metadata": {},
     "output_type": "execute_result"
    }
   ],
   "source": [
    "rf_random.fit(X_train, y_train)"
   ]
  },
  {
   "cell_type": "code",
   "execution_count": 38,
   "metadata": {},
   "outputs": [
    {
     "data": {
      "text/plain": [
       "{'n_estimators': 60,\n",
       " 'min_samples_split': 5,\n",
       " 'min_samples_leaf': 5,\n",
       " 'max_features': 'log2',\n",
       " 'max_depth': 30}"
      ]
     },
     "execution_count": 38,
     "metadata": {},
     "output_type": "execute_result"
    }
   ],
   "source": [
    "rf_random.best_params_"
   ]
  },
  {
   "cell_type": "code",
   "execution_count": 39,
   "metadata": {},
   "outputs": [
    {
     "name": "stdout",
     "output_type": "stream",
     "text": [
      "F1-Mean Score 0.785969\n"
     ]
    }
   ],
   "source": [
    "preds = rf_random.predict(X_test)\n",
    "f1 = np.sqrt(f1_score(y_test, preds))\n",
    "print(\"F1-Mean Score %f\" % (f1))"
   ]
  },
  {
   "cell_type": "code",
   "execution_count": 45,
   "metadata": {},
   "outputs": [
    {
     "name": "stdout",
     "output_type": "stream",
     "text": [
      "F1-Mean Score: 0.786557\n"
     ]
    }
   ],
   "source": [
    "rf_model = RandomForestClassifier(n_estimators=60, min_samples_split=5, min_samples_leaf=5, max_depth=30, max_features='log2', random_state=111)\n",
    "rf_model.fit(X_train, y_train)\n",
    "preds = rf_model.predict(X_test)\n",
    "f1 = np.sqrt(f1_score(y_test, preds))\n",
    "print(\"F1-Mean Score: %f\" % (f1))"
   ]
  },
  {
   "cell_type": "markdown",
   "metadata": {},
   "source": [
    "### Test"
   ]
  },
  {
   "cell_type": "code",
   "execution_count": 76,
   "metadata": {},
   "outputs": [],
   "source": [
    "test_set = pd.read_csv('test/test_encoded.csv')"
   ]
  },
  {
   "cell_type": "code",
   "execution_count": 77,
   "metadata": {},
   "outputs": [],
   "source": [
    "col_id = test_set['id']\n",
    "test_set.drop('id', axis=1, inplace=True)"
   ]
  },
  {
   "cell_type": "code",
   "execution_count": 78,
   "metadata": {},
   "outputs": [
    {
     "data": {
      "text/html": [
       "<div>\n",
       "<style scoped>\n",
       "    .dataframe tbody tr th:only-of-type {\n",
       "        vertical-align: middle;\n",
       "    }\n",
       "\n",
       "    .dataframe tbody tr th {\n",
       "        vertical-align: top;\n",
       "    }\n",
       "\n",
       "    .dataframe thead th {\n",
       "        text-align: right;\n",
       "    }\n",
       "</style>\n",
       "<table border=\"1\" class=\"dataframe\">\n",
       "  <thead>\n",
       "    <tr style=\"text-align: right;\">\n",
       "      <th></th>\n",
       "      <th>len_keyword</th>\n",
       "      <th>len_location</th>\n",
       "      <th>len_text</th>\n",
       "      <th>len_text_original</th>\n",
       "      <th>diff_len_text</th>\n",
       "      <th>keyword_sum</th>\n",
       "      <th>keyword_min</th>\n",
       "      <th>keyword_max</th>\n",
       "      <th>keyword_mean</th>\n",
       "      <th>keyword_median</th>\n",
       "      <th>...</th>\n",
       "      <th>text_sum_tf-idf</th>\n",
       "      <th>text_min_tf-idf</th>\n",
       "      <th>text_max_tf-idf</th>\n",
       "      <th>text_mean_tf-idf</th>\n",
       "      <th>text_median_tf-idf</th>\n",
       "      <th>text_sum_w2v</th>\n",
       "      <th>text_min_w2v</th>\n",
       "      <th>text_max_w2v</th>\n",
       "      <th>text_mean_w2v</th>\n",
       "      <th>text_median_w2v</th>\n",
       "    </tr>\n",
       "  </thead>\n",
       "  <tbody>\n",
       "    <tr>\n",
       "      <th>0</th>\n",
       "      <td>0.0</td>\n",
       "      <td>0.0</td>\n",
       "      <td>34</td>\n",
       "      <td>34</td>\n",
       "      <td>0</td>\n",
       "      <td>1.0</td>\n",
       "      <td>1.0</td>\n",
       "      <td>1.0</td>\n",
       "      <td>1.0</td>\n",
       "      <td>1.0</td>\n",
       "      <td>...</td>\n",
       "      <td>2.350852</td>\n",
       "      <td>0.188729</td>\n",
       "      <td>0.539327</td>\n",
       "      <td>0.391809</td>\n",
       "      <td>0.405420</td>\n",
       "      <td>2.615612</td>\n",
       "      <td>0.123642</td>\n",
       "      <td>0.416246</td>\n",
       "      <td>0.261561</td>\n",
       "      <td>0.253108</td>\n",
       "    </tr>\n",
       "    <tr>\n",
       "      <th>1</th>\n",
       "      <td>0.0</td>\n",
       "      <td>0.0</td>\n",
       "      <td>62</td>\n",
       "      <td>64</td>\n",
       "      <td>2</td>\n",
       "      <td>1.0</td>\n",
       "      <td>1.0</td>\n",
       "      <td>1.0</td>\n",
       "      <td>1.0</td>\n",
       "      <td>1.0</td>\n",
       "      <td>...</td>\n",
       "      <td>2.907499</td>\n",
       "      <td>0.134557</td>\n",
       "      <td>0.424909</td>\n",
       "      <td>0.323055</td>\n",
       "      <td>0.335907</td>\n",
       "      <td>4.601476</td>\n",
       "      <td>0.020386</td>\n",
       "      <td>0.308944</td>\n",
       "      <td>0.127819</td>\n",
       "      <td>0.103810</td>\n",
       "    </tr>\n",
       "    <tr>\n",
       "      <th>2</th>\n",
       "      <td>0.0</td>\n",
       "      <td>0.0</td>\n",
       "      <td>94</td>\n",
       "      <td>96</td>\n",
       "      <td>2</td>\n",
       "      <td>1.0</td>\n",
       "      <td>1.0</td>\n",
       "      <td>1.0</td>\n",
       "      <td>1.0</td>\n",
       "      <td>1.0</td>\n",
       "      <td>...</td>\n",
       "      <td>3.829908</td>\n",
       "      <td>0.087343</td>\n",
       "      <td>0.366435</td>\n",
       "      <td>0.212773</td>\n",
       "      <td>0.202162</td>\n",
       "      <td>18.687548</td>\n",
       "      <td>-0.060702</td>\n",
       "      <td>0.536185</td>\n",
       "      <td>0.122141</td>\n",
       "      <td>0.104698</td>\n",
       "    </tr>\n",
       "    <tr>\n",
       "      <th>3</th>\n",
       "      <td>0.0</td>\n",
       "      <td>0.0</td>\n",
       "      <td>38</td>\n",
       "      <td>40</td>\n",
       "      <td>2</td>\n",
       "      <td>1.0</td>\n",
       "      <td>1.0</td>\n",
       "      <td>1.0</td>\n",
       "      <td>1.0</td>\n",
       "      <td>1.0</td>\n",
       "      <td>...</td>\n",
       "      <td>1.977999</td>\n",
       "      <td>0.387866</td>\n",
       "      <td>0.583183</td>\n",
       "      <td>0.494500</td>\n",
       "      <td>0.503475</td>\n",
       "      <td>0.390538</td>\n",
       "      <td>0.065934</td>\n",
       "      <td>0.175728</td>\n",
       "      <td>0.130179</td>\n",
       "      <td>0.148877</td>\n",
       "    </tr>\n",
       "    <tr>\n",
       "      <th>4</th>\n",
       "      <td>0.0</td>\n",
       "      <td>0.0</td>\n",
       "      <td>45</td>\n",
       "      <td>45</td>\n",
       "      <td>0</td>\n",
       "      <td>1.0</td>\n",
       "      <td>1.0</td>\n",
       "      <td>1.0</td>\n",
       "      <td>1.0</td>\n",
       "      <td>1.0</td>\n",
       "      <td>...</td>\n",
       "      <td>2.676265</td>\n",
       "      <td>0.145303</td>\n",
       "      <td>0.467023</td>\n",
       "      <td>0.334533</td>\n",
       "      <td>0.357812</td>\n",
       "      <td>0.780736</td>\n",
       "      <td>-0.023094</td>\n",
       "      <td>0.283668</td>\n",
       "      <td>0.078074</td>\n",
       "      <td>0.060852</td>\n",
       "    </tr>\n",
       "    <tr>\n",
       "      <th>5</th>\n",
       "      <td>0.0</td>\n",
       "      <td>0.0</td>\n",
       "      <td>36</td>\n",
       "      <td>34</td>\n",
       "      <td>-2</td>\n",
       "      <td>1.0</td>\n",
       "      <td>1.0</td>\n",
       "      <td>1.0</td>\n",
       "      <td>1.0</td>\n",
       "      <td>1.0</td>\n",
       "      <td>...</td>\n",
       "      <td>2.433109</td>\n",
       "      <td>0.184247</td>\n",
       "      <td>0.661802</td>\n",
       "      <td>0.347587</td>\n",
       "      <td>0.311464</td>\n",
       "      <td>3.261046</td>\n",
       "      <td>-0.091945</td>\n",
       "      <td>0.536185</td>\n",
       "      <td>0.155288</td>\n",
       "      <td>0.093425</td>\n",
       "    </tr>\n",
       "    <tr>\n",
       "      <th>6</th>\n",
       "      <td>0.0</td>\n",
       "      <td>0.0</td>\n",
       "      <td>73</td>\n",
       "      <td>72</td>\n",
       "      <td>-1</td>\n",
       "      <td>1.0</td>\n",
       "      <td>1.0</td>\n",
       "      <td>1.0</td>\n",
       "      <td>1.0</td>\n",
       "      <td>1.0</td>\n",
       "      <td>...</td>\n",
       "      <td>3.780986</td>\n",
       "      <td>0.177587</td>\n",
       "      <td>0.639809</td>\n",
       "      <td>0.290845</td>\n",
       "      <td>0.219339</td>\n",
       "      <td>15.150403</td>\n",
       "      <td>-0.038854</td>\n",
       "      <td>1.000000</td>\n",
       "      <td>0.194236</td>\n",
       "      <td>0.143367</td>\n",
       "    </tr>\n",
       "    <tr>\n",
       "      <th>7</th>\n",
       "      <td>0.0</td>\n",
       "      <td>0.0</td>\n",
       "      <td>15</td>\n",
       "      <td>17</td>\n",
       "      <td>2</td>\n",
       "      <td>1.0</td>\n",
       "      <td>1.0</td>\n",
       "      <td>1.0</td>\n",
       "      <td>1.0</td>\n",
       "      <td>1.0</td>\n",
       "      <td>...</td>\n",
       "      <td>1.908290</td>\n",
       "      <td>0.351061</td>\n",
       "      <td>0.726570</td>\n",
       "      <td>0.477073</td>\n",
       "      <td>0.415329</td>\n",
       "      <td>1.542290</td>\n",
       "      <td>0.097143</td>\n",
       "      <td>0.555028</td>\n",
       "      <td>0.257048</td>\n",
       "      <td>0.215696</td>\n",
       "    </tr>\n",
       "    <tr>\n",
       "      <th>8</th>\n",
       "      <td>0.0</td>\n",
       "      <td>0.0</td>\n",
       "      <td>15</td>\n",
       "      <td>16</td>\n",
       "      <td>1</td>\n",
       "      <td>1.0</td>\n",
       "      <td>1.0</td>\n",
       "      <td>1.0</td>\n",
       "      <td>1.0</td>\n",
       "      <td>1.0</td>\n",
       "      <td>...</td>\n",
       "      <td>1.884570</td>\n",
       "      <td>0.223933</td>\n",
       "      <td>0.653736</td>\n",
       "      <td>0.471142</td>\n",
       "      <td>0.503450</td>\n",
       "      <td>0.549909</td>\n",
       "      <td>0.086593</td>\n",
       "      <td>0.273800</td>\n",
       "      <td>0.183303</td>\n",
       "      <td>0.189516</td>\n",
       "    </tr>\n",
       "    <tr>\n",
       "      <th>9</th>\n",
       "      <td>0.0</td>\n",
       "      <td>0.0</td>\n",
       "      <td>8</td>\n",
       "      <td>9</td>\n",
       "      <td>1</td>\n",
       "      <td>1.0</td>\n",
       "      <td>1.0</td>\n",
       "      <td>1.0</td>\n",
       "      <td>1.0</td>\n",
       "      <td>1.0</td>\n",
       "      <td>...</td>\n",
       "      <td>1.406949</td>\n",
       "      <td>0.631894</td>\n",
       "      <td>0.775055</td>\n",
       "      <td>0.703474</td>\n",
       "      <td>0.703474</td>\n",
       "      <td>0.164787</td>\n",
       "      <td>0.164787</td>\n",
       "      <td>0.164787</td>\n",
       "      <td>0.164787</td>\n",
       "      <td>0.164787</td>\n",
       "    </tr>\n",
       "  </tbody>\n",
       "</table>\n",
       "<p>10 rows × 25 columns</p>\n",
       "</div>"
      ],
      "text/plain": [
       "   len_keyword  len_location  len_text  len_text_original  diff_len_text  \\\n",
       "0          0.0           0.0        34                 34              0   \n",
       "1          0.0           0.0        62                 64              2   \n",
       "2          0.0           0.0        94                 96              2   \n",
       "3          0.0           0.0        38                 40              2   \n",
       "4          0.0           0.0        45                 45              0   \n",
       "5          0.0           0.0        36                 34             -2   \n",
       "6          0.0           0.0        73                 72             -1   \n",
       "7          0.0           0.0        15                 17              2   \n",
       "8          0.0           0.0        15                 16              1   \n",
       "9          0.0           0.0         8                  9              1   \n",
       "\n",
       "   keyword_sum  keyword_min  keyword_max  keyword_mean  keyword_median  ...  \\\n",
       "0          1.0          1.0          1.0           1.0             1.0  ...   \n",
       "1          1.0          1.0          1.0           1.0             1.0  ...   \n",
       "2          1.0          1.0          1.0           1.0             1.0  ...   \n",
       "3          1.0          1.0          1.0           1.0             1.0  ...   \n",
       "4          1.0          1.0          1.0           1.0             1.0  ...   \n",
       "5          1.0          1.0          1.0           1.0             1.0  ...   \n",
       "6          1.0          1.0          1.0           1.0             1.0  ...   \n",
       "7          1.0          1.0          1.0           1.0             1.0  ...   \n",
       "8          1.0          1.0          1.0           1.0             1.0  ...   \n",
       "9          1.0          1.0          1.0           1.0             1.0  ...   \n",
       "\n",
       "   text_sum_tf-idf  text_min_tf-idf  text_max_tf-idf  text_mean_tf-idf  \\\n",
       "0         2.350852         0.188729         0.539327          0.391809   \n",
       "1         2.907499         0.134557         0.424909          0.323055   \n",
       "2         3.829908         0.087343         0.366435          0.212773   \n",
       "3         1.977999         0.387866         0.583183          0.494500   \n",
       "4         2.676265         0.145303         0.467023          0.334533   \n",
       "5         2.433109         0.184247         0.661802          0.347587   \n",
       "6         3.780986         0.177587         0.639809          0.290845   \n",
       "7         1.908290         0.351061         0.726570          0.477073   \n",
       "8         1.884570         0.223933         0.653736          0.471142   \n",
       "9         1.406949         0.631894         0.775055          0.703474   \n",
       "\n",
       "   text_median_tf-idf  text_sum_w2v  text_min_w2v  text_max_w2v  \\\n",
       "0            0.405420      2.615612      0.123642      0.416246   \n",
       "1            0.335907      4.601476      0.020386      0.308944   \n",
       "2            0.202162     18.687548     -0.060702      0.536185   \n",
       "3            0.503475      0.390538      0.065934      0.175728   \n",
       "4            0.357812      0.780736     -0.023094      0.283668   \n",
       "5            0.311464      3.261046     -0.091945      0.536185   \n",
       "6            0.219339     15.150403     -0.038854      1.000000   \n",
       "7            0.415329      1.542290      0.097143      0.555028   \n",
       "8            0.503450      0.549909      0.086593      0.273800   \n",
       "9            0.703474      0.164787      0.164787      0.164787   \n",
       "\n",
       "   text_mean_w2v  text_median_w2v  \n",
       "0       0.261561         0.253108  \n",
       "1       0.127819         0.103810  \n",
       "2       0.122141         0.104698  \n",
       "3       0.130179         0.148877  \n",
       "4       0.078074         0.060852  \n",
       "5       0.155288         0.093425  \n",
       "6       0.194236         0.143367  \n",
       "7       0.257048         0.215696  \n",
       "8       0.183303         0.189516  \n",
       "9       0.164787         0.164787  \n",
       "\n",
       "[10 rows x 25 columns]"
      ]
     },
     "execution_count": 78,
     "metadata": {},
     "output_type": "execute_result"
    }
   ],
   "source": [
    "test_set.head(10)"
   ]
  },
  {
   "cell_type": "markdown",
   "metadata": {},
   "source": [
    "# PROBAR CON BEST_PARAMS"
   ]
  },
  {
   "cell_type": "code",
   "execution_count": 79,
   "metadata": {},
   "outputs": [
    {
     "data": {
      "text/plain": [
       "array([0, 0, 0, ..., 0, 0, 0])"
      ]
     },
     "execution_count": 79,
     "metadata": {},
     "output_type": "execute_result"
    }
   ],
   "source": [
    "preds = rf_model.predict(test_set)\n",
    "preds"
   ]
  },
  {
   "cell_type": "code",
   "execution_count": 80,
   "metadata": {},
   "outputs": [
    {
     "name": "stdout",
     "output_type": "stream",
     "text": [
      "3263\n"
     ]
    },
    {
     "data": {
      "text/html": [
       "<div>\n",
       "<style scoped>\n",
       "    .dataframe tbody tr th:only-of-type {\n",
       "        vertical-align: middle;\n",
       "    }\n",
       "\n",
       "    .dataframe tbody tr th {\n",
       "        vertical-align: top;\n",
       "    }\n",
       "\n",
       "    .dataframe thead th {\n",
       "        text-align: right;\n",
       "    }\n",
       "</style>\n",
       "<table border=\"1\" class=\"dataframe\">\n",
       "  <thead>\n",
       "    <tr style=\"text-align: right;\">\n",
       "      <th></th>\n",
       "      <th>id</th>\n",
       "      <th>target</th>\n",
       "    </tr>\n",
       "  </thead>\n",
       "  <tbody>\n",
       "    <tr>\n",
       "      <th>0</th>\n",
       "      <td>0</td>\n",
       "      <td>0</td>\n",
       "    </tr>\n",
       "    <tr>\n",
       "      <th>1</th>\n",
       "      <td>2</td>\n",
       "      <td>0</td>\n",
       "    </tr>\n",
       "    <tr>\n",
       "      <th>2</th>\n",
       "      <td>3</td>\n",
       "      <td>0</td>\n",
       "    </tr>\n",
       "    <tr>\n",
       "      <th>3</th>\n",
       "      <td>9</td>\n",
       "      <td>0</td>\n",
       "    </tr>\n",
       "    <tr>\n",
       "      <th>4</th>\n",
       "      <td>11</td>\n",
       "      <td>0</td>\n",
       "    </tr>\n",
       "    <tr>\n",
       "      <th>...</th>\n",
       "      <td>...</td>\n",
       "      <td>...</td>\n",
       "    </tr>\n",
       "    <tr>\n",
       "      <th>3258</th>\n",
       "      <td>10861</td>\n",
       "      <td>0</td>\n",
       "    </tr>\n",
       "    <tr>\n",
       "      <th>3259</th>\n",
       "      <td>10865</td>\n",
       "      <td>0</td>\n",
       "    </tr>\n",
       "    <tr>\n",
       "      <th>3260</th>\n",
       "      <td>10868</td>\n",
       "      <td>0</td>\n",
       "    </tr>\n",
       "    <tr>\n",
       "      <th>3261</th>\n",
       "      <td>10874</td>\n",
       "      <td>0</td>\n",
       "    </tr>\n",
       "    <tr>\n",
       "      <th>3262</th>\n",
       "      <td>10875</td>\n",
       "      <td>0</td>\n",
       "    </tr>\n",
       "  </tbody>\n",
       "</table>\n",
       "<p>3263 rows × 2 columns</p>\n",
       "</div>"
      ],
      "text/plain": [
       "         id  target\n",
       "0         0       0\n",
       "1         2       0\n",
       "2         3       0\n",
       "3         9       0\n",
       "4        11       0\n",
       "...     ...     ...\n",
       "3258  10861       0\n",
       "3259  10865       0\n",
       "3260  10868       0\n",
       "3261  10874       0\n",
       "3262  10875       0\n",
       "\n",
       "[3263 rows x 2 columns]"
      ]
     },
     "execution_count": 80,
     "metadata": {},
     "output_type": "execute_result"
    }
   ],
   "source": [
    "print(len(preds))\n",
    "test_set['target'] = preds\n",
    "test_set['id'] = col_id\n",
    "test_set[['id', 'target']]"
   ]
  },
  {
   "cell_type": "markdown",
   "metadata": {},
   "source": [
    "### Resultado"
   ]
  },
  {
   "cell_type": "code",
   "execution_count": 81,
   "metadata": {},
   "outputs": [],
   "source": [
    "test_set[['id', 'target']].to_csv('result_rf_encoded.csv', header=True, index=False)"
   ]
  },
  {
   "cell_type": "markdown",
   "metadata": {},
   "source": [
    "## Text w2v"
   ]
  },
  {
   "cell_type": "markdown",
   "metadata": {},
   "source": [
    "## Train"
   ]
  },
  {
   "cell_type": "code",
   "execution_count": 2,
   "metadata": {},
   "outputs": [
    {
     "data": {
      "text/html": [
       "<div>\n",
       "<style scoped>\n",
       "    .dataframe tbody tr th:only-of-type {\n",
       "        vertical-align: middle;\n",
       "    }\n",
       "\n",
       "    .dataframe tbody tr th {\n",
       "        vertical-align: top;\n",
       "    }\n",
       "\n",
       "    .dataframe thead th {\n",
       "        text-align: right;\n",
       "    }\n",
       "</style>\n",
       "<table border=\"1\" class=\"dataframe\">\n",
       "  <thead>\n",
       "    <tr style=\"text-align: right;\">\n",
       "      <th></th>\n",
       "      <th>id</th>\n",
       "      <th>text_sum</th>\n",
       "      <th>text_min</th>\n",
       "      <th>text_max</th>\n",
       "      <th>text_mean</th>\n",
       "      <th>text_median</th>\n",
       "      <th>target</th>\n",
       "    </tr>\n",
       "  </thead>\n",
       "  <tbody>\n",
       "    <tr>\n",
       "      <th>0</th>\n",
       "      <td>1</td>\n",
       "      <td>1.100006</td>\n",
       "      <td>0.004267</td>\n",
       "      <td>0.261477</td>\n",
       "      <td>0.110001</td>\n",
       "      <td>0.108159</td>\n",
       "      <td>1</td>\n",
       "    </tr>\n",
       "    <tr>\n",
       "      <th>1</th>\n",
       "      <td>4</td>\n",
       "      <td>1.312549</td>\n",
       "      <td>-0.103024</td>\n",
       "      <td>0.308946</td>\n",
       "      <td>0.087503</td>\n",
       "      <td>0.093828</td>\n",
       "      <td>1</td>\n",
       "    </tr>\n",
       "    <tr>\n",
       "      <th>2</th>\n",
       "      <td>5</td>\n",
       "      <td>6.537887</td>\n",
       "      <td>-0.029605</td>\n",
       "      <td>1.000000</td>\n",
       "      <td>0.145286</td>\n",
       "      <td>0.099503</td>\n",
       "      <td>1</td>\n",
       "    </tr>\n",
       "    <tr>\n",
       "      <th>3</th>\n",
       "      <td>6</td>\n",
       "      <td>1.225229</td>\n",
       "      <td>0.001371</td>\n",
       "      <td>0.300471</td>\n",
       "      <td>0.122523</td>\n",
       "      <td>0.077621</td>\n",
       "      <td>1</td>\n",
       "    </tr>\n",
       "    <tr>\n",
       "      <th>4</th>\n",
       "      <td>7</td>\n",
       "      <td>2.055524</td>\n",
       "      <td>-0.059800</td>\n",
       "      <td>0.332519</td>\n",
       "      <td>0.097882</td>\n",
       "      <td>0.074613</td>\n",
       "      <td>1</td>\n",
       "    </tr>\n",
       "    <tr>\n",
       "      <th>5</th>\n",
       "      <td>8</td>\n",
       "      <td>1.770825</td>\n",
       "      <td>-0.060205</td>\n",
       "      <td>0.273306</td>\n",
       "      <td>0.049190</td>\n",
       "      <td>0.040129</td>\n",
       "      <td>1</td>\n",
       "    </tr>\n",
       "    <tr>\n",
       "      <th>6</th>\n",
       "      <td>10</td>\n",
       "      <td>5.151926</td>\n",
       "      <td>-0.028055</td>\n",
       "      <td>1.000000</td>\n",
       "      <td>0.143109</td>\n",
       "      <td>0.098941</td>\n",
       "      <td>1</td>\n",
       "    </tr>\n",
       "    <tr>\n",
       "      <th>7</th>\n",
       "      <td>13</td>\n",
       "      <td>0.790631</td>\n",
       "      <td>-0.039936</td>\n",
       "      <td>0.178667</td>\n",
       "      <td>0.079063</td>\n",
       "      <td>0.080440</td>\n",
       "      <td>1</td>\n",
       "    </tr>\n",
       "    <tr>\n",
       "      <th>8</th>\n",
       "      <td>14</td>\n",
       "      <td>1.052949</td>\n",
       "      <td>-0.027161</td>\n",
       "      <td>0.223943</td>\n",
       "      <td>0.105295</td>\n",
       "      <td>0.103054</td>\n",
       "      <td>1</td>\n",
       "    </tr>\n",
       "    <tr>\n",
       "      <th>9</th>\n",
       "      <td>15</td>\n",
       "      <td>0.775155</td>\n",
       "      <td>0.025716</td>\n",
       "      <td>0.260719</td>\n",
       "      <td>0.129193</td>\n",
       "      <td>0.106400</td>\n",
       "      <td>1</td>\n",
       "    </tr>\n",
       "  </tbody>\n",
       "</table>\n",
       "</div>"
      ],
      "text/plain": [
       "   id  text_sum  text_min  text_max  text_mean  text_median  target\n",
       "0   1  1.100006  0.004267  0.261477   0.110001     0.108159       1\n",
       "1   4  1.312549 -0.103024  0.308946   0.087503     0.093828       1\n",
       "2   5  6.537887 -0.029605  1.000000   0.145286     0.099503       1\n",
       "3   6  1.225229  0.001371  0.300471   0.122523     0.077621       1\n",
       "4   7  2.055524 -0.059800  0.332519   0.097882     0.074613       1\n",
       "5   8  1.770825 -0.060205  0.273306   0.049190     0.040129       1\n",
       "6  10  5.151926 -0.028055  1.000000   0.143109     0.098941       1\n",
       "7  13  0.790631 -0.039936  0.178667   0.079063     0.080440       1\n",
       "8  14  1.052949 -0.027161  0.223943   0.105295     0.103054       1\n",
       "9  15  0.775155  0.025716  0.260719   0.129193     0.106400       1"
      ]
     },
     "execution_count": 2,
     "metadata": {},
     "output_type": "execute_result"
    }
   ],
   "source": [
    "train_set = pd.read_csv('train/text_encoded_w2v.csv')\n",
    "train_set.head(10)"
   ]
  },
  {
   "cell_type": "code",
   "execution_count": 17,
   "metadata": {},
   "outputs": [],
   "source": [
    "train_set.drop('id', axis=1, inplace=True)"
   ]
  },
  {
   "cell_type": "markdown",
   "metadata": {},
   "source": [
    "### Random Forest"
   ]
  },
  {
   "cell_type": "code",
   "execution_count": 18,
   "metadata": {},
   "outputs": [],
   "source": [
    "X, y = train_set.iloc[:,:-1],train_set.iloc[:,-1]"
   ]
  },
  {
   "cell_type": "code",
   "execution_count": 19,
   "metadata": {},
   "outputs": [],
   "source": [
    "X_train, X_test, y_train, y_test = train_test_split(X, y, test_size=0.3)"
   ]
  },
  {
   "cell_type": "markdown",
   "metadata": {},
   "source": [
    "### Random Search"
   ]
  },
  {
   "cell_type": "code",
   "execution_count": 20,
   "metadata": {},
   "outputs": [],
   "source": [
    "from sklearn.model_selection import RandomizedSearchCV\n",
    "n_estimators = [20, 50, 70, 100]\n",
    "max_features = ['auto'] #'log2'\n",
    "max_depth = [20, 50, 70]\n",
    "min_samples_split = [5, 50, 100]\n",
    "min_samples_leaf = [20]\n",
    "\n",
    "random_search = {'n_estimators': n_estimators,\n",
    "               'max_features': max_features,\n",
    "               'max_depth': max_depth,\n",
    "               'min_samples_split': min_samples_split,\n",
    "               'min_samples_leaf': min_samples_leaf}"
   ]
  },
  {
   "cell_type": "code",
   "execution_count": 21,
   "metadata": {},
   "outputs": [],
   "source": [
    "rf_random = RandomizedSearchCV(estimator = RandomForestClassifier(),\\\n",
    "                               param_distributions=random_search, n_iter=30, cv=7, random_state=111)"
   ]
  },
  {
   "cell_type": "code",
   "execution_count": 22,
   "metadata": {},
   "outputs": [
    {
     "data": {
      "text/plain": [
       "RandomizedSearchCV(cv=7, estimator=RandomForestClassifier(), n_iter=30,\n",
       "                   param_distributions={'max_depth': [20, 50, 70],\n",
       "                                        'max_features': ['auto'],\n",
       "                                        'min_samples_leaf': [20],\n",
       "                                        'min_samples_split': [5, 50, 100],\n",
       "                                        'n_estimators': [20, 50, 70, 100]},\n",
       "                   random_state=111)"
      ]
     },
     "execution_count": 22,
     "metadata": {},
     "output_type": "execute_result"
    }
   ],
   "source": [
    "rf_random.fit(X_train, y_train)"
   ]
  },
  {
   "cell_type": "code",
   "execution_count": 23,
   "metadata": {},
   "outputs": [
    {
     "data": {
      "text/plain": [
       "{'n_estimators': 70,\n",
       " 'min_samples_split': 5,\n",
       " 'min_samples_leaf': 20,\n",
       " 'max_features': 'auto',\n",
       " 'max_depth': 70}"
      ]
     },
     "execution_count": 23,
     "metadata": {},
     "output_type": "execute_result"
    }
   ],
   "source": [
    "rf_random.best_params_"
   ]
  },
  {
   "cell_type": "code",
   "execution_count": 24,
   "metadata": {},
   "outputs": [
    {
     "name": "stdout",
     "output_type": "stream",
     "text": [
      "F1-Mean Score 0.695411\n"
     ]
    }
   ],
   "source": [
    "preds = rf_random.predict(X_test)\n",
    "f1 = np.sqrt(f1_score(y_test, preds))\n",
    "print(\"F1-Mean Score %f\" % (f1))"
   ]
  },
  {
   "cell_type": "code",
   "execution_count": 25,
   "metadata": {},
   "outputs": [
    {
     "name": "stdout",
     "output_type": "stream",
     "text": [
      "F1-Mean Score: 0.697627\n"
     ]
    }
   ],
   "source": [
    "rf_model = RandomForestClassifier(n_estimators=70, min_samples_split=50, min_samples_leaf=20, max_depth=70)\n",
    "rf_model.fit(X_train, y_train)\n",
    "preds = rf_model.predict(X_test)\n",
    "f1 = np.sqrt(f1_score(y_test, preds))\n",
    "print(\"F1-Mean Score: %f\" % (f1))"
   ]
  },
  {
   "cell_type": "code",
   "execution_count": 26,
   "metadata": {},
   "outputs": [
    {
     "name": "stdout",
     "output_type": "stream",
     "text": [
      "F1-Mean Score: 0.691294\n"
     ]
    }
   ],
   "source": [
    "rf_model = RandomForestClassifier(n_estimators=100, min_samples_split=5, min_samples_leaf=20, max_depth=70)\n",
    "rf_model.fit(X_train, y_train)\n",
    "preds = rf_model.predict(X_test)\n",
    "f1 = np.sqrt(f1_score(y_test, preds))\n",
    "print(\"F1-Mean Score: %f\" % (f1))"
   ]
  },
  {
   "cell_type": "code",
   "execution_count": 27,
   "metadata": {},
   "outputs": [
    {
     "name": "stdout",
     "output_type": "stream",
     "text": [
      "F1-Mean Score: 0.686626\n"
     ]
    }
   ],
   "source": [
    "rf_model = RandomForestClassifier(n_estimators=100, min_samples_split=50, min_samples_leaf=20, max_depth=70)\n",
    "rf_model.fit(X_train, y_train)\n",
    "preds = rf_model.predict(X_test)\n",
    "f1 = np.sqrt(f1_score(y_test, preds))\n",
    "print(\"F1-Mean Score: %f\" % (f1))"
   ]
  },
  {
   "cell_type": "code",
   "execution_count": 28,
   "metadata": {},
   "outputs": [
    {
     "name": "stdout",
     "output_type": "stream",
     "text": [
      "F1-Mean Score: 0.718371\n"
     ]
    }
   ],
   "source": [
    "rf_model = RandomForestClassifier(n_estimators=57, min_samples_split=4, max_depth=70, random_state=111)\n",
    "rf_model.fit(X_train, y_train)\n",
    "preds = rf_model.predict(X_test)\n",
    "f1 = np.sqrt(f1_score(y_test, preds))\n",
    "print(\"F1-Mean Score: %f\" % (f1))"
   ]
  },
  {
   "cell_type": "code",
   "execution_count": 29,
   "metadata": {},
   "outputs": [
    {
     "name": "stdout",
     "output_type": "stream",
     "text": [
      "F1-Mean Score: 0.712376\n"
     ]
    }
   ],
   "source": [
    "rf_model = RandomForestClassifier(n_estimators=57, min_samples_split=4, max_depth=30, min_samples_leaf=5, random_state=111)\n",
    "rf_model.fit(X_train, y_train)\n",
    "preds = rf_model.predict(X_test)\n",
    "f1 = np.sqrt(f1_score(y_test, preds))\n",
    "print(\"F1-Mean Score: %f\" % (f1))"
   ]
  },
  {
   "cell_type": "code",
   "execution_count": 30,
   "metadata": {},
   "outputs": [
    {
     "data": {
      "image/png": "[encoded data removed]",
      "text/plain": [
       "<Figure size 432x288 with 1 Axes>"
      ]
     },
     "metadata": {
      "needs_background": "light"
     },
     "output_type": "display_data"
    }
   ],
   "source": [
    "plt.bar(X_train.columns, rf_model.feature_importances_)\n",
    "plt.xticks(rotation=90)\n",
    "plt.xlabel('Features')\n",
    "plt.ylabel('Importancia')\n",
    "plt.title('Importancia - Features con RF')\n",
    "plt.show()"
   ]
  },
  {
   "cell_type": "code",
   "execution_count": null,
   "metadata": {},
   "outputs": [],
   "source": []
  }
 ],
 "metadata": {
  "kernelspec": {
   "display_name": "Python 3",
   "language": "python",
   "name": "python3"
  },
  "language_info": {
   "codemirror_mode": {
    "name": "ipython",
    "version": 3
   },
   "file_extension": ".py",
   "mimetype": "text/x-python",
   "name": "python",
   "nbconvert_exporter": "python",
   "pygments_lexer": "ipython3",
   "version": "3.8.5"
  }
 },
 "nbformat": 4,
 "nbformat_minor": 4
}
