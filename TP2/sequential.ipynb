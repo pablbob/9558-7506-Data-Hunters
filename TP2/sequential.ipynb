{
 "cells": [
  {
   "cell_type": "markdown",
   "metadata": {},
   "source": [
    "# Imports"
   ]
  },
  {
   "cell_type": "code",
   "execution_count": 1,
   "metadata": {},
   "outputs": [],
   "source": [
    "import pandas as pd\n",
    "import numpy as np\n",
    "from sklearn.model_selection import train_test_split\n",
    "import keras\n",
    "from keras.models import Sequential\n",
    "from keras.layers import Dense, Dropout, Flatten\n",
    "from keras.layers import Conv1D, MaxPooling1D"
   ]
  },
  {
   "cell_type": "markdown",
   "metadata": {},
   "source": [
    "# Train"
   ]
  },
  {
   "cell_type": "code",
   "execution_count": 2,
   "metadata": {},
   "outputs": [],
   "source": [
    "train_set = pd.read_csv('train/train_encoded.csv')"
   ]
  },
  {
   "cell_type": "code",
   "execution_count": 3,
   "metadata": {},
   "outputs": [],
   "source": [
    "X, y = train_set.iloc[:,:-1],train_set.iloc[:,-1]\n",
    "X_train, X_test, y_train, y_test = train_test_split(X, y, test_size=0.3)"
   ]
  },
  {
   "cell_type": "markdown",
   "metadata": {},
   "source": [
    "# Model"
   ]
  },
  {
   "cell_type": "code",
   "execution_count": 4,
   "metadata": {},
   "outputs": [],
   "source": [
    "batch_size = 1\n",
    "num_classes = 2\n",
    "epochs = 10"
   ]
  },
  {
   "cell_type": "code",
   "execution_count": 5,
   "metadata": {},
   "outputs": [
    {
     "data": {
      "text/html": [
       "<div>\n",
       "<style scoped>\n",
       "    .dataframe tbody tr th:only-of-type {\n",
       "        vertical-align: middle;\n",
       "    }\n",
       "\n",
       "    .dataframe tbody tr th {\n",
       "        vertical-align: top;\n",
       "    }\n",
       "\n",
       "    .dataframe thead th {\n",
       "        text-align: right;\n",
       "    }\n",
       "</style>\n",
       "<table border=\"1\" class=\"dataframe\">\n",
       "  <thead>\n",
       "    <tr style=\"text-align: right;\">\n",
       "      <th></th>\n",
       "      <th>len_keyword</th>\n",
       "      <th>len_location</th>\n",
       "      <th>len_text</th>\n",
       "      <th>len_text_original</th>\n",
       "      <th>diff_len_text</th>\n",
       "      <th>keyword_sum</th>\n",
       "      <th>keyword_min</th>\n",
       "      <th>keyword_max</th>\n",
       "      <th>keyword_mean</th>\n",
       "      <th>keyword_median</th>\n",
       "      <th>...</th>\n",
       "      <th>text_sum_tf-idf</th>\n",
       "      <th>text_min_tf-idf</th>\n",
       "      <th>text_max_tf-idf</th>\n",
       "      <th>text_mean_tf-idf</th>\n",
       "      <th>text_median_tf-idf</th>\n",
       "      <th>text_sum_w2v</th>\n",
       "      <th>text_min_w2v</th>\n",
       "      <th>text_max_w2v</th>\n",
       "      <th>text_mean_w2v</th>\n",
       "      <th>text_median_w2v</th>\n",
       "    </tr>\n",
       "  </thead>\n",
       "  <tbody>\n",
       "    <tr>\n",
       "      <th>1904</th>\n",
       "      <td>5</td>\n",
       "      <td>9</td>\n",
       "      <td>70</td>\n",
       "      <td>105</td>\n",
       "      <td>35</td>\n",
       "      <td>1.000000</td>\n",
       "      <td>1.000000</td>\n",
       "      <td>1.00000</td>\n",
       "      <td>1.000000</td>\n",
       "      <td>1.000000</td>\n",
       "      <td>...</td>\n",
       "      <td>3.592421</td>\n",
       "      <td>0.071013</td>\n",
       "      <td>0.397966</td>\n",
       "      <td>0.299368</td>\n",
       "      <td>0.288652</td>\n",
       "      <td>10.455622</td>\n",
       "      <td>-0.061978</td>\n",
       "      <td>1.000000</td>\n",
       "      <td>0.134046</td>\n",
       "      <td>0.072980</td>\n",
       "    </tr>\n",
       "    <tr>\n",
       "      <th>1892</th>\n",
       "      <td>5</td>\n",
       "      <td>2</td>\n",
       "      <td>104</td>\n",
       "      <td>136</td>\n",
       "      <td>32</td>\n",
       "      <td>1.000000</td>\n",
       "      <td>1.000000</td>\n",
       "      <td>1.00000</td>\n",
       "      <td>1.000000</td>\n",
       "      <td>1.000000</td>\n",
       "      <td>...</td>\n",
       "      <td>4.140262</td>\n",
       "      <td>0.198539</td>\n",
       "      <td>0.345046</td>\n",
       "      <td>0.258766</td>\n",
       "      <td>0.242859</td>\n",
       "      <td>36.134873</td>\n",
       "      <td>-0.074673</td>\n",
       "      <td>1.000000</td>\n",
       "      <td>0.142826</td>\n",
       "      <td>0.108250</td>\n",
       "    </tr>\n",
       "    <tr>\n",
       "      <th>5640</th>\n",
       "      <td>6</td>\n",
       "      <td>29</td>\n",
       "      <td>72</td>\n",
       "      <td>141</td>\n",
       "      <td>69</td>\n",
       "      <td>1.000000</td>\n",
       "      <td>1.000000</td>\n",
       "      <td>1.00000</td>\n",
       "      <td>1.000000</td>\n",
       "      <td>1.000000</td>\n",
       "      <td>...</td>\n",
       "      <td>3.957329</td>\n",
       "      <td>0.062907</td>\n",
       "      <td>0.599341</td>\n",
       "      <td>0.304410</td>\n",
       "      <td>0.210001</td>\n",
       "      <td>21.251278</td>\n",
       "      <td>-0.135451</td>\n",
       "      <td>1.000000</td>\n",
       "      <td>0.138897</td>\n",
       "      <td>0.099134</td>\n",
       "    </tr>\n",
       "    <tr>\n",
       "      <th>850</th>\n",
       "      <td>5</td>\n",
       "      <td>0</td>\n",
       "      <td>42</td>\n",
       "      <td>62</td>\n",
       "      <td>20</td>\n",
       "      <td>1.000000</td>\n",
       "      <td>1.000000</td>\n",
       "      <td>1.00000</td>\n",
       "      <td>1.000000</td>\n",
       "      <td>1.000000</td>\n",
       "      <td>...</td>\n",
       "      <td>2.801855</td>\n",
       "      <td>0.288021</td>\n",
       "      <td>0.465146</td>\n",
       "      <td>0.350232</td>\n",
       "      <td>0.339347</td>\n",
       "      <td>9.890325</td>\n",
       "      <td>-0.019611</td>\n",
       "      <td>0.620719</td>\n",
       "      <td>0.149853</td>\n",
       "      <td>0.122252</td>\n",
       "    </tr>\n",
       "    <tr>\n",
       "      <th>1399</th>\n",
       "      <td>8</td>\n",
       "      <td>10</td>\n",
       "      <td>85</td>\n",
       "      <td>136</td>\n",
       "      <td>51</td>\n",
       "      <td>1.000000</td>\n",
       "      <td>1.000000</td>\n",
       "      <td>1.00000</td>\n",
       "      <td>1.000000</td>\n",
       "      <td>1.000000</td>\n",
       "      <td>...</td>\n",
       "      <td>3.758141</td>\n",
       "      <td>0.066550</td>\n",
       "      <td>0.624554</td>\n",
       "      <td>0.289088</td>\n",
       "      <td>0.256348</td>\n",
       "      <td>13.087911</td>\n",
       "      <td>-0.045919</td>\n",
       "      <td>1.000000</td>\n",
       "      <td>0.109066</td>\n",
       "      <td>0.082295</td>\n",
       "    </tr>\n",
       "    <tr>\n",
       "      <th>...</th>\n",
       "      <td>...</td>\n",
       "      <td>...</td>\n",
       "      <td>...</td>\n",
       "      <td>...</td>\n",
       "      <td>...</td>\n",
       "      <td>...</td>\n",
       "      <td>...</td>\n",
       "      <td>...</td>\n",
       "      <td>...</td>\n",
       "      <td>...</td>\n",
       "      <td>...</td>\n",
       "      <td>...</td>\n",
       "      <td>...</td>\n",
       "      <td>...</td>\n",
       "      <td>...</td>\n",
       "      <td>...</td>\n",
       "      <td>...</td>\n",
       "      <td>...</td>\n",
       "      <td>...</td>\n",
       "      <td>...</td>\n",
       "      <td>...</td>\n",
       "    </tr>\n",
       "    <tr>\n",
       "      <th>3203</th>\n",
       "      <td>10</td>\n",
       "      <td>12</td>\n",
       "      <td>63</td>\n",
       "      <td>94</td>\n",
       "      <td>31</td>\n",
       "      <td>1.403003</td>\n",
       "      <td>0.612643</td>\n",
       "      <td>0.79036</td>\n",
       "      <td>0.701501</td>\n",
       "      <td>0.701501</td>\n",
       "      <td>...</td>\n",
       "      <td>2.821905</td>\n",
       "      <td>0.106504</td>\n",
       "      <td>0.473545</td>\n",
       "      <td>0.313545</td>\n",
       "      <td>0.326251</td>\n",
       "      <td>18.172960</td>\n",
       "      <td>-0.007859</td>\n",
       "      <td>1.000000</td>\n",
       "      <td>0.199703</td>\n",
       "      <td>0.147767</td>\n",
       "    </tr>\n",
       "    <tr>\n",
       "      <th>6739</th>\n",
       "      <td>12</td>\n",
       "      <td>14</td>\n",
       "      <td>23</td>\n",
       "      <td>29</td>\n",
       "      <td>6</td>\n",
       "      <td>1.000000</td>\n",
       "      <td>1.000000</td>\n",
       "      <td>1.00000</td>\n",
       "      <td>1.000000</td>\n",
       "      <td>1.000000</td>\n",
       "      <td>...</td>\n",
       "      <td>1.730627</td>\n",
       "      <td>0.545210</td>\n",
       "      <td>0.601060</td>\n",
       "      <td>0.576876</td>\n",
       "      <td>0.584356</td>\n",
       "      <td>0.688198</td>\n",
       "      <td>-0.000831</td>\n",
       "      <td>0.331057</td>\n",
       "      <td>0.114700</td>\n",
       "      <td>0.043823</td>\n",
       "    </tr>\n",
       "    <tr>\n",
       "      <th>5938</th>\n",
       "      <td>6</td>\n",
       "      <td>17</td>\n",
       "      <td>22</td>\n",
       "      <td>50</td>\n",
       "      <td>28</td>\n",
       "      <td>1.000000</td>\n",
       "      <td>1.000000</td>\n",
       "      <td>1.00000</td>\n",
       "      <td>1.000000</td>\n",
       "      <td>1.000000</td>\n",
       "      <td>...</td>\n",
       "      <td>1.795422</td>\n",
       "      <td>0.120250</td>\n",
       "      <td>0.673899</td>\n",
       "      <td>0.448855</td>\n",
       "      <td>0.500636</td>\n",
       "      <td>1.017684</td>\n",
       "      <td>0.051257</td>\n",
       "      <td>0.516417</td>\n",
       "      <td>0.169614</td>\n",
       "      <td>0.121434</td>\n",
       "    </tr>\n",
       "    <tr>\n",
       "      <th>4485</th>\n",
       "      <td>6</td>\n",
       "      <td>12</td>\n",
       "      <td>85</td>\n",
       "      <td>126</td>\n",
       "      <td>41</td>\n",
       "      <td>1.000000</td>\n",
       "      <td>1.000000</td>\n",
       "      <td>1.00000</td>\n",
       "      <td>1.000000</td>\n",
       "      <td>1.000000</td>\n",
       "      <td>...</td>\n",
       "      <td>3.700297</td>\n",
       "      <td>0.075396</td>\n",
       "      <td>0.344611</td>\n",
       "      <td>0.264307</td>\n",
       "      <td>0.270475</td>\n",
       "      <td>13.693841</td>\n",
       "      <td>-0.085002</td>\n",
       "      <td>1.000000</td>\n",
       "      <td>0.114115</td>\n",
       "      <td>0.076175</td>\n",
       "    </tr>\n",
       "    <tr>\n",
       "      <th>7103</th>\n",
       "      <td>13</td>\n",
       "      <td>16</td>\n",
       "      <td>63</td>\n",
       "      <td>119</td>\n",
       "      <td>56</td>\n",
       "      <td>1.407495</td>\n",
       "      <td>0.634905</td>\n",
       "      <td>0.77259</td>\n",
       "      <td>0.703748</td>\n",
       "      <td>0.703748</td>\n",
       "      <td>...</td>\n",
       "      <td>3.241353</td>\n",
       "      <td>0.157555</td>\n",
       "      <td>0.422116</td>\n",
       "      <td>0.294668</td>\n",
       "      <td>0.302138</td>\n",
       "      <td>12.911877</td>\n",
       "      <td>-0.015281</td>\n",
       "      <td>1.000000</td>\n",
       "      <td>0.122970</td>\n",
       "      <td>0.096878</td>\n",
       "    </tr>\n",
       "  </tbody>\n",
       "</table>\n",
       "<p>5329 rows × 25 columns</p>\n",
       "</div>"
      ],
      "text/plain": [
       "      len_keyword  len_location  len_text  len_text_original  diff_len_text  \\\n",
       "1904            5             9        70                105             35   \n",
       "1892            5             2       104                136             32   \n",
       "5640            6            29        72                141             69   \n",
       "850             5             0        42                 62             20   \n",
       "1399            8            10        85                136             51   \n",
       "...           ...           ...       ...                ...            ...   \n",
       "3203           10            12        63                 94             31   \n",
       "6739           12            14        23                 29              6   \n",
       "5938            6            17        22                 50             28   \n",
       "4485            6            12        85                126             41   \n",
       "7103           13            16        63                119             56   \n",
       "\n",
       "      keyword_sum  keyword_min  keyword_max  keyword_mean  keyword_median  \\\n",
       "1904     1.000000     1.000000      1.00000      1.000000        1.000000   \n",
       "1892     1.000000     1.000000      1.00000      1.000000        1.000000   \n",
       "5640     1.000000     1.000000      1.00000      1.000000        1.000000   \n",
       "850      1.000000     1.000000      1.00000      1.000000        1.000000   \n",
       "1399     1.000000     1.000000      1.00000      1.000000        1.000000   \n",
       "...           ...          ...          ...           ...             ...   \n",
       "3203     1.403003     0.612643      0.79036      0.701501        0.701501   \n",
       "6739     1.000000     1.000000      1.00000      1.000000        1.000000   \n",
       "5938     1.000000     1.000000      1.00000      1.000000        1.000000   \n",
       "4485     1.000000     1.000000      1.00000      1.000000        1.000000   \n",
       "7103     1.407495     0.634905      0.77259      0.703748        0.703748   \n",
       "\n",
       "      ...  text_sum_tf-idf  text_min_tf-idf  text_max_tf-idf  \\\n",
       "1904  ...         3.592421         0.071013         0.397966   \n",
       "1892  ...         4.140262         0.198539         0.345046   \n",
       "5640  ...         3.957329         0.062907         0.599341   \n",
       "850   ...         2.801855         0.288021         0.465146   \n",
       "1399  ...         3.758141         0.066550         0.624554   \n",
       "...   ...              ...              ...              ...   \n",
       "3203  ...         2.821905         0.106504         0.473545   \n",
       "6739  ...         1.730627         0.545210         0.601060   \n",
       "5938  ...         1.795422         0.120250         0.673899   \n",
       "4485  ...         3.700297         0.075396         0.344611   \n",
       "7103  ...         3.241353         0.157555         0.422116   \n",
       "\n",
       "      text_mean_tf-idf  text_median_tf-idf  text_sum_w2v  text_min_w2v  \\\n",
       "1904          0.299368            0.288652     10.455622     -0.061978   \n",
       "1892          0.258766            0.242859     36.134873     -0.074673   \n",
       "5640          0.304410            0.210001     21.251278     -0.135451   \n",
       "850           0.350232            0.339347      9.890325     -0.019611   \n",
       "1399          0.289088            0.256348     13.087911     -0.045919   \n",
       "...                ...                 ...           ...           ...   \n",
       "3203          0.313545            0.326251     18.172960     -0.007859   \n",
       "6739          0.576876            0.584356      0.688198     -0.000831   \n",
       "5938          0.448855            0.500636      1.017684      0.051257   \n",
       "4485          0.264307            0.270475     13.693841     -0.085002   \n",
       "7103          0.294668            0.302138     12.911877     -0.015281   \n",
       "\n",
       "      text_max_w2v  text_mean_w2v  text_median_w2v  \n",
       "1904      1.000000       0.134046         0.072980  \n",
       "1892      1.000000       0.142826         0.108250  \n",
       "5640      1.000000       0.138897         0.099134  \n",
       "850       0.620719       0.149853         0.122252  \n",
       "1399      1.000000       0.109066         0.082295  \n",
       "...            ...            ...              ...  \n",
       "3203      1.000000       0.199703         0.147767  \n",
       "6739      0.331057       0.114700         0.043823  \n",
       "5938      0.516417       0.169614         0.121434  \n",
       "4485      1.000000       0.114115         0.076175  \n",
       "7103      1.000000       0.122970         0.096878  \n",
       "\n",
       "[5329 rows x 25 columns]"
      ]
     },
     "execution_count": 5,
     "metadata": {},
     "output_type": "execute_result"
    }
   ],
   "source": [
    "X_train"
   ]
  },
  {
   "cell_type": "code",
   "execution_count": 6,
   "metadata": {},
   "outputs": [],
   "source": [
    "X_train = np.expand_dims(X_train, axis=2)\n",
    "X_test = np.expand_dims(X_test, axis=2)"
   ]
  },
  {
   "cell_type": "code",
   "execution_count": 7,
   "metadata": {},
   "outputs": [
    {
     "data": {
      "text/plain": [
       "(5329, 25, 1)"
      ]
     },
     "execution_count": 7,
     "metadata": {},
     "output_type": "execute_result"
    }
   ],
   "source": [
    "X_train.shape"
   ]
  },
  {
   "cell_type": "code",
   "execution_count": 8,
   "metadata": {},
   "outputs": [
    {
     "data": {
      "text/plain": [
       "(25, 1)"
      ]
     },
     "execution_count": 8,
     "metadata": {},
     "output_type": "execute_result"
    }
   ],
   "source": [
    "input_shape = (X_train.shape[1], 1)\n",
    "input_shape"
   ]
  },
  {
   "cell_type": "markdown",
   "metadata": {},
   "source": [
    "## Relu"
   ]
  },
  {
   "cell_type": "code",
   "execution_count": 9,
   "metadata": {},
   "outputs": [],
   "source": [
    "model = Sequential()\n",
    "model.add(Conv1D(128, kernel_size=2,\n",
    "                 activation='relu',\n",
    "                 input_shape=input_shape))\n",
    "model.add(Conv1D(64, 1, activation='relu'))\n",
    "model.add(MaxPooling1D(pool_size=3))\n",
    "model.add(Dropout(0.25))\n",
    "model.add(Flatten())\n",
    "model.add(Dense(128, activation='relu'))\n",
    "model.add(Dropout(0.5))\n",
    "model.add(Dense(num_classes, activation='relu'))\n",
    "\n",
    "model.compile(loss=keras.losses.binary_crossentropy,\n",
    "              optimizer=keras.optimizers.Adadelta(),\n",
    "              metrics=['accuracy'])"
   ]
  },
  {
   "cell_type": "code",
   "execution_count": 10,
   "metadata": {},
   "outputs": [
    {
     "name": "stdout",
     "output_type": "stream",
     "text": [
      "Model: \"sequential\"\n",
      "_________________________________________________________________\n",
      "Layer (type)                 Output Shape              Param #   \n",
      "=================================================================\n",
      "conv1d (Conv1D)              (None, 24, 128)           384       \n",
      "_________________________________________________________________\n",
      "conv1d_1 (Conv1D)            (None, 24, 64)            8256      \n",
      "_________________________________________________________________\n",
      "max_pooling1d (MaxPooling1D) (None, 8, 64)             0         \n",
      "_________________________________________________________________\n",
      "dropout (Dropout)            (None, 8, 64)             0         \n",
      "_________________________________________________________________\n",
      "flatten (Flatten)            (None, 512)               0         \n",
      "_________________________________________________________________\n",
      "dense (Dense)                (None, 128)               65664     \n",
      "_________________________________________________________________\n",
      "dropout_1 (Dropout)          (None, 128)               0         \n",
      "_________________________________________________________________\n",
      "dense_1 (Dense)              (None, 2)                 258       \n",
      "=================================================================\n",
      "Total params: 74,562\n",
      "Trainable params: 74,562\n",
      "Non-trainable params: 0\n",
      "_________________________________________________________________\n"
     ]
    }
   ],
   "source": [
    "model.summary()"
   ]
  },
  {
   "cell_type": "code",
   "execution_count": 11,
   "metadata": {},
   "outputs": [
    {
     "name": "stdout",
     "output_type": "stream",
     "text": [
      "Epoch 1/5\n",
      "5329/5329 [==============================] - 15s 3ms/step - loss: 6.6116 - accuracy: 0.5515 - val_loss: 4.3409 - val_accuracy: 0.5679\n",
      "Epoch 2/5\n",
      "5329/5329 [==============================] - 17s 3ms/step - loss: 6.6694 - accuracy: 0.5472 - val_loss: 4.4032 - val_accuracy: 0.5679\n",
      "Epoch 3/5\n",
      "5329/5329 [==============================] - 16s 3ms/step - loss: 6.5591 - accuracy: 0.5463 - val_loss: 4.5541 - val_accuracy: 0.5679\n",
      "Epoch 4/5\n",
      "5329/5329 [==============================] - 16s 3ms/step - loss: 6.5715 - accuracy: 0.5521 - val_loss: 4.7209 - val_accuracy: 0.5679\n",
      "Epoch 5/5\n",
      "5329/5329 [==============================] - 19s 4ms/step - loss: 6.6521 - accuracy: 0.5519 - val_loss: 4.9144 - val_accuracy: 0.5679\n"
     ]
    },
    {
     "data": {
      "text/plain": [
       "<tensorflow.python.keras.callbacks.History at 0x7f2eec710a60>"
      ]
     },
     "execution_count": 11,
     "metadata": {},
     "output_type": "execute_result"
    }
   ],
   "source": [
    "model.fit(X_train, y_train,\n",
    "          batch_size=batch_size,\n",
    "          epochs=5,\n",
    "          verbose=1,\n",
    "          validation_data=(X_test, y_test))"
   ]
  },
  {
   "cell_type": "code",
   "execution_count": 12,
   "metadata": {},
   "outputs": [],
   "source": [
    "model = Sequential()\n",
    "model.add(Conv1D(128, kernel_size=3,\n",
    "                 activation='relu',\n",
    "                 input_shape=input_shape))\n",
    "model.add(MaxPooling1D(pool_size=4))\n",
    "model.add(Dropout(0.25))\n",
    "model.add(Dense(128))\n",
    "model.add(Conv1D(filters=32, kernel_size=1, activation='relu'))\n",
    "model.add(MaxPooling1D(pool_size=2))\n",
    "model.add(Conv1D(64, 1))\n",
    "model.add(MaxPooling1D(pool_size=1))\n",
    "model.add(Flatten())\n",
    "model.add(Dense(num_classes, activation='relu'))\n",
    "\n",
    "model.compile(loss=keras.losses.binary_crossentropy,\n",
    "              optimizer=keras.optimizers.Adadelta(),\n",
    "              metrics=['accuracy'])"
   ]
  },
  {
   "cell_type": "code",
   "execution_count": 13,
   "metadata": {},
   "outputs": [
    {
     "name": "stdout",
     "output_type": "stream",
     "text": [
      "Model: \"sequential_1\"\n",
      "_________________________________________________________________\n",
      "Layer (type)                 Output Shape              Param #   \n",
      "=================================================================\n",
      "conv1d_2 (Conv1D)            (None, 23, 128)           512       \n",
      "_________________________________________________________________\n",
      "max_pooling1d_1 (MaxPooling1 (None, 5, 128)            0         \n",
      "_________________________________________________________________\n",
      "dropout_2 (Dropout)          (None, 5, 128)            0         \n",
      "_________________________________________________________________\n",
      "dense_2 (Dense)              (None, 5, 128)            16512     \n",
      "_________________________________________________________________\n",
      "conv1d_3 (Conv1D)            (None, 5, 32)             4128      \n",
      "_________________________________________________________________\n",
      "max_pooling1d_2 (MaxPooling1 (None, 2, 32)             0         \n",
      "_________________________________________________________________\n",
      "conv1d_4 (Conv1D)            (None, 2, 64)             2112      \n",
      "_________________________________________________________________\n",
      "max_pooling1d_3 (MaxPooling1 (None, 2, 64)             0         \n",
      "_________________________________________________________________\n",
      "flatten_1 (Flatten)          (None, 128)               0         \n",
      "_________________________________________________________________\n",
      "dense_3 (Dense)              (None, 2)                 258       \n",
      "=================================================================\n",
      "Total params: 23,522\n",
      "Trainable params: 23,522\n",
      "Non-trainable params: 0\n",
      "_________________________________________________________________\n"
     ]
    }
   ],
   "source": [
    "model.summary()"
   ]
  },
  {
   "cell_type": "code",
   "execution_count": 14,
   "metadata": {},
   "outputs": [
    {
     "name": "stdout",
     "output_type": "stream",
     "text": [
      "Epoch 1/5\n",
      "5329/5329 [==============================] - 14s 3ms/step - loss: 6.2743 - accuracy: 0.5078 - val_loss: 4.4366 - val_accuracy: 0.4733\n",
      "Epoch 2/5\n",
      "5329/5329 [==============================] - 13s 2ms/step - loss: 6.3780 - accuracy: 0.5042 - val_loss: 4.4972 - val_accuracy: 0.4939\n",
      "Epoch 3/5\n",
      "5329/5329 [==============================] - 14s 3ms/step - loss: 6.3221 - accuracy: 0.5121 - val_loss: 5.6849 - val_accuracy: 0.5210\n",
      "Epoch 4/5\n",
      "5329/5329 [==============================] - 14s 3ms/step - loss: 6.3082 - accuracy: 0.5219 - val_loss: 6.5016 - val_accuracy: 0.5433\n",
      "Epoch 5/5\n",
      "5329/5329 [==============================] - 14s 3ms/step - loss: 6.3362 - accuracy: 0.5258 - val_loss: 6.5931 - val_accuracy: 0.5486\n"
     ]
    },
    {
     "data": {
      "text/plain": [
       "<tensorflow.python.keras.callbacks.History at 0x7f2ecc70aeb0>"
      ]
     },
     "execution_count": 14,
     "metadata": {},
     "output_type": "execute_result"
    }
   ],
   "source": [
    "model.fit(X_train, y_train,\n",
    "          batch_size=batch_size,\n",
    "          epochs=5,\n",
    "          verbose=1,\n",
    "          validation_data=(X_test, y_test))"
   ]
  },
  {
   "cell_type": "code",
   "execution_count": 15,
   "metadata": {},
   "outputs": [],
   "source": [
    "model = Sequential()\n",
    "model.add(Conv1D(1024, kernel_size=1,\n",
    "                 activation='relu',\n",
    "                 input_shape=input_shape))\n",
    "model.add(MaxPooling1D(pool_size=10))\n",
    "model.add(Dropout(0.25))\n",
    "model.add(Dense(512))\n",
    "model.add(Conv1D(filters=32, kernel_size=1, activation='relu'))\n",
    "model.add(MaxPooling1D(pool_size=1))\n",
    "model.add(Conv1D(216, 1))\n",
    "model.add(MaxPooling1D(pool_size=1))\n",
    "model.add(Conv1D(128, 1))\n",
    "model.add(MaxPooling1D(pool_size=1))\n",
    "model.add(Conv1D(64, 1, activation='relu'))\n",
    "model.add(MaxPooling1D(pool_size=1))\n",
    "model.add(Conv1D(32, 1, activation='relu'))\n",
    "model.add(MaxPooling1D(pool_size=1))\n",
    "model.add(Flatten())\n",
    "model.add(Dense(num_classes, activation='relu'))\n",
    "\n",
    "model.compile(loss=keras.losses.binary_crossentropy,\n",
    "              optimizer=keras.optimizers.Adadelta(),\n",
    "              metrics=['accuracy'])"
   ]
  },
  {
   "cell_type": "code",
   "execution_count": 16,
   "metadata": {},
   "outputs": [
    {
     "name": "stdout",
     "output_type": "stream",
     "text": [
      "Model: \"sequential_2\"\n",
      "_________________________________________________________________\n",
      "Layer (type)                 Output Shape              Param #   \n",
      "=================================================================\n",
      "conv1d_5 (Conv1D)            (None, 25, 1024)          2048      \n",
      "_________________________________________________________________\n",
      "max_pooling1d_4 (MaxPooling1 (None, 2, 1024)           0         \n",
      "_________________________________________________________________\n",
      "dropout_3 (Dropout)          (None, 2, 1024)           0         \n",
      "_________________________________________________________________\n",
      "dense_4 (Dense)              (None, 2, 512)            524800    \n",
      "_________________________________________________________________\n",
      "conv1d_6 (Conv1D)            (None, 2, 32)             16416     \n",
      "_________________________________________________________________\n",
      "max_pooling1d_5 (MaxPooling1 (None, 2, 32)             0         \n",
      "_________________________________________________________________\n",
      "conv1d_7 (Conv1D)            (None, 2, 216)            7128      \n",
      "_________________________________________________________________\n",
      "max_pooling1d_6 (MaxPooling1 (None, 2, 216)            0         \n",
      "_________________________________________________________________\n",
      "conv1d_8 (Conv1D)            (None, 2, 128)            27776     \n",
      "_________________________________________________________________\n",
      "max_pooling1d_7 (MaxPooling1 (None, 2, 128)            0         \n",
      "_________________________________________________________________\n",
      "conv1d_9 (Conv1D)            (None, 2, 64)             8256      \n",
      "_________________________________________________________________\n",
      "max_pooling1d_8 (MaxPooling1 (None, 2, 64)             0         \n",
      "_________________________________________________________________\n",
      "conv1d_10 (Conv1D)           (None, 2, 32)             2080      \n",
      "_________________________________________________________________\n",
      "max_pooling1d_9 (MaxPooling1 (None, 2, 32)             0         \n",
      "_________________________________________________________________\n",
      "flatten_2 (Flatten)          (None, 64)                0         \n",
      "_________________________________________________________________\n",
      "dense_5 (Dense)              (None, 2)                 130       \n",
      "=================================================================\n",
      "Total params: 588,634\n",
      "Trainable params: 588,634\n",
      "Non-trainable params: 0\n",
      "_________________________________________________________________\n"
     ]
    }
   ],
   "source": [
    "model.summary()"
   ]
  },
  {
   "cell_type": "code",
   "execution_count": 17,
   "metadata": {},
   "outputs": [
    {
     "name": "stdout",
     "output_type": "stream",
     "text": [
      "Epoch 1/5\n",
      "5329/5329 [==============================] - 43s 8ms/step - loss: 2.3540 - accuracy: 0.4614 - val_loss: 0.8676 - val_accuracy: 0.5679\n",
      "Epoch 2/5\n",
      "5329/5329 [==============================] - 46s 9ms/step - loss: 1.7535 - accuracy: 0.4948 - val_loss: 0.7866 - val_accuracy: 0.5679\n",
      "Epoch 3/5\n",
      "5329/5329 [==============================] - 44s 8ms/step - loss: 1.5249 - accuracy: 0.5031 - val_loss: 0.7978 - val_accuracy: 0.5679\n",
      "Epoch 4/5\n",
      "5329/5329 [==============================] - 47s 9ms/step - loss: 1.3268 - accuracy: 0.4980 - val_loss: 0.7799 - val_accuracy: 0.5679\n",
      "Epoch 5/5\n",
      "5329/5329 [==============================] - 45s 8ms/step - loss: 1.1537 - accuracy: 0.5205 - val_loss: 0.7181 - val_accuracy: 0.5679\n"
     ]
    },
    {
     "data": {
      "text/plain": [
       "<tensorflow.python.keras.callbacks.History at 0x7f2ecc570d60>"
      ]
     },
     "execution_count": 17,
     "metadata": {},
     "output_type": "execute_result"
    }
   ],
   "source": [
    "model.fit(X_train, y_train,\n",
    "          batch_size=batch_size,\n",
    "          epochs=5,\n",
    "          verbose=1,\n",
    "          validation_data=(X_test, y_test))"
   ]
  },
  {
   "cell_type": "markdown",
   "metadata": {},
   "source": [
    "## Softmax"
   ]
  },
  {
   "cell_type": "code",
   "execution_count": 18,
   "metadata": {},
   "outputs": [],
   "source": [
    "model = Sequential()\n",
    "model.add(Conv1D(128, kernel_size=2,\n",
    "                 activation='softmax',\n",
    "                 input_shape=input_shape))\n",
    "model.add(Conv1D(64, 1, activation='softmax'))\n",
    "model.add(MaxPooling1D(pool_size=3))\n",
    "model.add(Dropout(0.25))\n",
    "model.add(Flatten())\n",
    "model.add(Dense(128, activation='softmax'))\n",
    "model.add(Dropout(0.5))\n",
    "model.add(Dense(num_classes, activation='softmax'))\n",
    "\n",
    "model.compile(loss=keras.losses.binary_crossentropy,\n",
    "              optimizer=keras.optimizers.Adadelta(),\n",
    "              metrics=['accuracy'])"
   ]
  },
  {
   "cell_type": "code",
   "execution_count": 19,
   "metadata": {},
   "outputs": [
    {
     "name": "stdout",
     "output_type": "stream",
     "text": [
      "Epoch 1/5\n",
      "5329/5329 [==============================] - 18s 3ms/step - loss: 0.6932 - accuracy: 0.5459 - val_loss: 0.6932 - val_accuracy: 0.5679\n",
      "Epoch 2/5\n",
      "5329/5329 [==============================] - 18s 3ms/step - loss: 0.6932 - accuracy: 0.5303 - val_loss: 0.6931 - val_accuracy: 0.5679\n",
      "Epoch 3/5\n",
      "5329/5329 [==============================] - 20s 4ms/step - loss: 0.6932 - accuracy: 0.5207 - val_loss: 0.6931 - val_accuracy: 0.5679\n",
      "Epoch 4/5\n",
      "5329/5329 [==============================] - 21s 4ms/step - loss: 0.6932 - accuracy: 0.5080 - val_loss: 0.6931 - val_accuracy: 0.5679\n",
      "Epoch 5/5\n",
      "5329/5329 [==============================] - 20s 4ms/step - loss: 0.6932 - accuracy: 0.5042 - val_loss: 0.6931 - val_accuracy: 0.5679\n"
     ]
    },
    {
     "data": {
      "text/plain": [
       "<tensorflow.python.keras.callbacks.History at 0x7f2ecc2d1280>"
      ]
     },
     "execution_count": 19,
     "metadata": {},
     "output_type": "execute_result"
    }
   ],
   "source": [
    "model.fit(X_train, y_train,\n",
    "          batch_size=batch_size,\n",
    "          epochs=5,\n",
    "          verbose=1,\n",
    "          validation_data=(X_test, y_test))"
   ]
  },
  {
   "cell_type": "markdown",
   "metadata": {},
   "source": [
    "## Tanh"
   ]
  },
  {
   "cell_type": "code",
   "execution_count": 20,
   "metadata": {},
   "outputs": [],
   "source": [
    "model = Sequential()\n",
    "model.add(Conv1D(128, kernel_size=2,\n",
    "                 activation='tanh',\n",
    "                 input_shape=input_shape))\n",
    "model.add(Conv1D(64, 1, activation='tanh'))\n",
    "model.add(MaxPooling1D(pool_size=3))\n",
    "model.add(Dropout(0.25))\n",
    "model.add(Flatten())\n",
    "model.add(Dense(128, activation='tanh'))\n",
    "model.add(Dropout(0.5))\n",
    "model.add(Dense(num_classes, activation='tanh'))\n",
    "\n",
    "model.compile(loss=keras.losses.binary_crossentropy,\n",
    "              optimizer=keras.optimizers.Adadelta(),\n",
    "              metrics=['accuracy'])"
   ]
  },
  {
   "cell_type": "code",
   "execution_count": 21,
   "metadata": {},
   "outputs": [
    {
     "name": "stdout",
     "output_type": "stream",
     "text": [
      "Epoch 1/5\n",
      "5329/5329 [==============================] - 19s 4ms/step - loss: 4.3310 - accuracy: 0.5528 - val_loss: 4.0523 - val_accuracy: 0.5679\n",
      "Epoch 2/5\n",
      "5329/5329 [==============================] - 15s 3ms/step - loss: 4.1956 - accuracy: 0.5393 - val_loss: 3.9104 - val_accuracy: 0.5679\n",
      "Epoch 3/5\n",
      "5329/5329 [==============================] - 15s 3ms/step - loss: 4.0135 - accuracy: 0.5472 - val_loss: 3.8582 - val_accuracy: 0.5679\n",
      "Epoch 4/5\n",
      "5329/5329 [==============================] - 14s 3ms/step - loss: 3.7964 - accuracy: 0.5361 - val_loss: 3.8736 - val_accuracy: 0.5679\n",
      "Epoch 5/5\n",
      "5329/5329 [==============================] - 22s 4ms/step - loss: 3.4858 - accuracy: 0.5239 - val_loss: 3.1945 - val_accuracy: 0.5683\n"
     ]
    },
    {
     "data": {
      "text/plain": [
       "<tensorflow.python.keras.callbacks.History at 0x7f2ecc0e1220>"
      ]
     },
     "execution_count": 21,
     "metadata": {},
     "output_type": "execute_result"
    }
   ],
   "source": [
    "model.fit(X_train, y_train,\n",
    "          batch_size=batch_size,\n",
    "          epochs=5,\n",
    "          verbose=1,\n",
    "          validation_data=(X_test, y_test))"
   ]
  },
  {
   "cell_type": "markdown",
   "metadata": {},
   "source": [
    "# Mix"
   ]
  },
  {
   "cell_type": "code",
   "execution_count": 22,
   "metadata": {},
   "outputs": [],
   "source": [
    "model = Sequential()\n",
    "model.add(Conv1D(128, kernel_size=1,\n",
    "                 activation='relu',\n",
    "                 input_shape=input_shape))\n",
    "model.add(MaxPooling1D(pool_size=3))\n",
    "model.add(Dropout(0.25))\n",
    "model.add(Dense(128))\n",
    "model.add(Conv1D(filters=32, kernel_size=1, activation='relu'))\n",
    "model.add(MaxPooling1D(pool_size=3))\n",
    "model.add(Conv1D(64, 1))\n",
    "model.add(MaxPooling1D(pool_size=2))\n",
    "model.add(Flatten())\n",
    "model.add(Dropout(0.5))\n",
    "model.add(Dense(num_classes, activation='relu'))\n",
    "\n",
    "model.compile(loss=keras.losses.binary_crossentropy,\n",
    "              optimizer=keras.optimizers.Adadelta(),\n",
    "              metrics=['accuracy'])"
   ]
  },
  {
   "cell_type": "code",
   "execution_count": 23,
   "metadata": {},
   "outputs": [
    {
     "name": "stdout",
     "output_type": "stream",
     "text": [
      "Model: \"sequential_5\"\n",
      "_________________________________________________________________\n",
      "Layer (type)                 Output Shape              Param #   \n",
      "=================================================================\n",
      "conv1d_15 (Conv1D)           (None, 25, 128)           256       \n",
      "_________________________________________________________________\n",
      "max_pooling1d_12 (MaxPooling (None, 8, 128)            0         \n",
      "_________________________________________________________________\n",
      "dropout_8 (Dropout)          (None, 8, 128)            0         \n",
      "_________________________________________________________________\n",
      "dense_10 (Dense)             (None, 8, 128)            16512     \n",
      "_________________________________________________________________\n",
      "conv1d_16 (Conv1D)           (None, 8, 32)             4128      \n",
      "_________________________________________________________________\n",
      "max_pooling1d_13 (MaxPooling (None, 2, 32)             0         \n",
      "_________________________________________________________________\n",
      "conv1d_17 (Conv1D)           (None, 2, 64)             2112      \n",
      "_________________________________________________________________\n",
      "max_pooling1d_14 (MaxPooling (None, 1, 64)             0         \n",
      "_________________________________________________________________\n",
      "flatten_5 (Flatten)          (None, 64)                0         \n",
      "_________________________________________________________________\n",
      "dropout_9 (Dropout)          (None, 64)                0         \n",
      "_________________________________________________________________\n",
      "dense_11 (Dense)             (None, 2)                 130       \n",
      "=================================================================\n",
      "Total params: 23,138\n",
      "Trainable params: 23,138\n",
      "Non-trainable params: 0\n",
      "_________________________________________________________________\n"
     ]
    }
   ],
   "source": [
    "model.summary()"
   ]
  },
  {
   "cell_type": "code",
   "execution_count": 24,
   "metadata": {},
   "outputs": [
    {
     "name": "stdout",
     "output_type": "stream",
     "text": [
      "Epoch 1/5\n",
      "5329/5329 [==============================] - 17s 3ms/step - loss: 7.4468 - accuracy: 0.4425 - val_loss: 7.6024 - val_accuracy: 0.4321\n",
      "Epoch 2/5\n",
      "5329/5329 [==============================] - 16s 3ms/step - loss: 7.4820 - accuracy: 0.4483 - val_loss: 7.6024 - val_accuracy: 0.4321\n",
      "Epoch 3/5\n",
      "5329/5329 [==============================] - 18s 3ms/step - loss: 7.3524 - accuracy: 0.4445 - val_loss: 7.6021 - val_accuracy: 0.4321\n",
      "Epoch 4/5\n",
      "5329/5329 [==============================] - 14s 3ms/step - loss: 7.3611 - accuracy: 0.4474 - val_loss: 7.5996 - val_accuracy: 0.4321\n",
      "Epoch 5/5\n",
      "5329/5329 [==============================] - 17s 3ms/step - loss: 7.2968 - accuracy: 0.4421 - val_loss: 7.5993 - val_accuracy: 0.4321\n"
     ]
    },
    {
     "data": {
      "text/plain": [
       "<tensorflow.python.keras.callbacks.History at 0x7f2ec56e26a0>"
      ]
     },
     "execution_count": 24,
     "metadata": {},
     "output_type": "execute_result"
    }
   ],
   "source": [
    "model.fit(X_train, y_train,\n",
    "          batch_size=batch_size,\n",
    "          epochs=5,\n",
    "          verbose=1,\n",
    "          validation_data=(X_test, y_test))"
   ]
  },
  {
   "cell_type": "markdown",
   "metadata": {},
   "source": [
    "## Text w2v"
   ]
  },
  {
   "cell_type": "code",
   "execution_count": 3,
   "metadata": {},
   "outputs": [],
   "source": [
    "train_set = pd.read_csv('train/text_encoded_w2v.csv')"
   ]
  },
  {
   "cell_type": "code",
   "execution_count": 4,
   "metadata": {},
   "outputs": [],
   "source": [
    "X, y = train_set.iloc[:,:-1],train_set.iloc[:,-1]\n",
    "X_train, X_test, y_train, y_test = train_test_split(X, y, test_size=0.3)"
   ]
  },
  {
   "cell_type": "markdown",
   "metadata": {},
   "source": [
    "# Model"
   ]
  },
  {
   "cell_type": "code",
   "execution_count": 5,
   "metadata": {},
   "outputs": [],
   "source": [
    "batch_size = 1\n",
    "num_classes = 2\n",
    "epochs = 10"
   ]
  },
  {
   "cell_type": "code",
   "execution_count": 6,
   "metadata": {},
   "outputs": [
    {
     "data": {
      "text/html": [
       "<div>\n",
       "<style scoped>\n",
       "    .dataframe tbody tr th:only-of-type {\n",
       "        vertical-align: middle;\n",
       "    }\n",
       "\n",
       "    .dataframe tbody tr th {\n",
       "        vertical-align: top;\n",
       "    }\n",
       "\n",
       "    .dataframe thead th {\n",
       "        text-align: right;\n",
       "    }\n",
       "</style>\n",
       "<table border=\"1\" class=\"dataframe\">\n",
       "  <thead>\n",
       "    <tr style=\"text-align: right;\">\n",
       "      <th></th>\n",
       "      <th>id</th>\n",
       "      <th>text_sum</th>\n",
       "      <th>text_min</th>\n",
       "      <th>text_max</th>\n",
       "      <th>text_mean</th>\n",
       "      <th>text_median</th>\n",
       "    </tr>\n",
       "  </thead>\n",
       "  <tbody>\n",
       "    <tr>\n",
       "      <th>5535</th>\n",
       "      <td>7895</td>\n",
       "      <td>1.885115</td>\n",
       "      <td>-0.031004</td>\n",
       "      <td>0.262091</td>\n",
       "      <td>0.089767</td>\n",
       "      <td>0.059510</td>\n",
       "    </tr>\n",
       "    <tr>\n",
       "      <th>6018</th>\n",
       "      <td>8596</td>\n",
       "      <td>9.313427</td>\n",
       "      <td>-0.040400</td>\n",
       "      <td>1.000000</td>\n",
       "      <td>0.102345</td>\n",
       "      <td>0.069088</td>\n",
       "    </tr>\n",
       "    <tr>\n",
       "      <th>4739</th>\n",
       "      <td>6738</td>\n",
       "      <td>14.726642</td>\n",
       "      <td>0.012219</td>\n",
       "      <td>1.000000</td>\n",
       "      <td>0.188803</td>\n",
       "      <td>0.132279</td>\n",
       "    </tr>\n",
       "    <tr>\n",
       "      <th>3181</th>\n",
       "      <td>4567</td>\n",
       "      <td>3.985746</td>\n",
       "      <td>-0.040585</td>\n",
       "      <td>0.433890</td>\n",
       "      <td>0.110715</td>\n",
       "      <td>0.082433</td>\n",
       "    </tr>\n",
       "    <tr>\n",
       "      <th>818</th>\n",
       "      <td>1189</td>\n",
       "      <td>3.576633</td>\n",
       "      <td>-0.090845</td>\n",
       "      <td>0.443895</td>\n",
       "      <td>0.170316</td>\n",
       "      <td>0.168023</td>\n",
       "    </tr>\n",
       "    <tr>\n",
       "      <th>...</th>\n",
       "      <td>...</td>\n",
       "      <td>...</td>\n",
       "      <td>...</td>\n",
       "      <td>...</td>\n",
       "      <td>...</td>\n",
       "      <td>...</td>\n",
       "    </tr>\n",
       "    <tr>\n",
       "      <th>5282</th>\n",
       "      <td>7548</td>\n",
       "      <td>2.514225</td>\n",
       "      <td>-0.025919</td>\n",
       "      <td>1.000000</td>\n",
       "      <td>0.119725</td>\n",
       "      <td>0.074594</td>\n",
       "    </tr>\n",
       "    <tr>\n",
       "      <th>563</th>\n",
       "      <td>814</td>\n",
       "      <td>4.079575</td>\n",
       "      <td>-0.013456</td>\n",
       "      <td>1.000000</td>\n",
       "      <td>0.271972</td>\n",
       "      <td>0.073396</td>\n",
       "    </tr>\n",
       "    <tr>\n",
       "      <th>2089</th>\n",
       "      <td>3003</td>\n",
       "      <td>12.973744</td>\n",
       "      <td>-0.108944</td>\n",
       "      <td>1.000000</td>\n",
       "      <td>0.142569</td>\n",
       "      <td>0.114495</td>\n",
       "    </tr>\n",
       "    <tr>\n",
       "      <th>3221</th>\n",
       "      <td>4622</td>\n",
       "      <td>3.870319</td>\n",
       "      <td>-0.074206</td>\n",
       "      <td>0.450665</td>\n",
       "      <td>0.107509</td>\n",
       "      <td>0.085664</td>\n",
       "    </tr>\n",
       "    <tr>\n",
       "      <th>1906</th>\n",
       "      <td>2740</td>\n",
       "      <td>0.034038</td>\n",
       "      <td>0.034038</td>\n",
       "      <td>0.034038</td>\n",
       "      <td>0.034038</td>\n",
       "      <td>0.034038</td>\n",
       "    </tr>\n",
       "  </tbody>\n",
       "</table>\n",
       "<p>5329 rows × 6 columns</p>\n",
       "</div>"
      ],
      "text/plain": [
       "        id   text_sum  text_min  text_max  text_mean  text_median\n",
       "5535  7895   1.885115 -0.031004  0.262091   0.089767     0.059510\n",
       "6018  8596   9.313427 -0.040400  1.000000   0.102345     0.069088\n",
       "4739  6738  14.726642  0.012219  1.000000   0.188803     0.132279\n",
       "3181  4567   3.985746 -0.040585  0.433890   0.110715     0.082433\n",
       "818   1189   3.576633 -0.090845  0.443895   0.170316     0.168023\n",
       "...    ...        ...       ...       ...        ...          ...\n",
       "5282  7548   2.514225 -0.025919  1.000000   0.119725     0.074594\n",
       "563    814   4.079575 -0.013456  1.000000   0.271972     0.073396\n",
       "2089  3003  12.973744 -0.108944  1.000000   0.142569     0.114495\n",
       "3221  4622   3.870319 -0.074206  0.450665   0.107509     0.085664\n",
       "1906  2740   0.034038  0.034038  0.034038   0.034038     0.034038\n",
       "\n",
       "[5329 rows x 6 columns]"
      ]
     },
     "execution_count": 6,
     "metadata": {},
     "output_type": "execute_result"
    }
   ],
   "source": [
    "X_train"
   ]
  },
  {
   "cell_type": "code",
   "execution_count": 7,
   "metadata": {},
   "outputs": [],
   "source": [
    "X_train = np.expand_dims(X_train, axis=2)\n",
    "X_test = np.expand_dims(X_test, axis=2)"
   ]
  },
  {
   "cell_type": "code",
   "execution_count": 8,
   "metadata": {},
   "outputs": [
    {
     "data": {
      "text/plain": [
       "(5329, 6, 1)"
      ]
     },
     "execution_count": 8,
     "metadata": {},
     "output_type": "execute_result"
    }
   ],
   "source": [
    "X_train.shape"
   ]
  },
  {
   "cell_type": "code",
   "execution_count": 9,
   "metadata": {},
   "outputs": [
    {
     "data": {
      "text/plain": [
       "(6, 1)"
      ]
     },
     "execution_count": 9,
     "metadata": {},
     "output_type": "execute_result"
    }
   ],
   "source": [
    "input_shape = (X_train.shape[1], 1)\n",
    "input_shape"
   ]
  },
  {
   "cell_type": "markdown",
   "metadata": {},
   "source": [
    "## Relu"
   ]
  },
  {
   "cell_type": "code",
   "execution_count": 10,
   "metadata": {},
   "outputs": [],
   "source": [
    "model = Sequential()\n",
    "model.add(Conv1D(128, kernel_size=2,\n",
    "                 activation='relu',\n",
    "                 input_shape=input_shape))\n",
    "model.add(Conv1D(64, 1, activation='relu'))\n",
    "model.add(MaxPooling1D(pool_size=3))\n",
    "model.add(Dropout(0.25))\n",
    "model.add(Flatten())\n",
    "model.add(Dense(128, activation='relu'))\n",
    "model.add(Dropout(0.5))\n",
    "model.add(Dense(num_classes, activation='relu'))\n",
    "\n",
    "model.compile(loss=keras.losses.binary_crossentropy,\n",
    "              optimizer=keras.optimizers.Adadelta(),\n",
    "              metrics=['accuracy'])"
   ]
  },
  {
   "cell_type": "code",
   "execution_count": 11,
   "metadata": {},
   "outputs": [
    {
     "name": "stdout",
     "output_type": "stream",
     "text": [
      "Model: \"sequential\"\n",
      "_________________________________________________________________\n",
      "Layer (type)                 Output Shape              Param #   \n",
      "=================================================================\n",
      "conv1d (Conv1D)              (None, 5, 128)            384       \n",
      "_________________________________________________________________\n",
      "conv1d_1 (Conv1D)            (None, 5, 64)             8256      \n",
      "_________________________________________________________________\n",
      "max_pooling1d (MaxPooling1D) (None, 1, 64)             0         \n",
      "_________________________________________________________________\n",
      "dropout (Dropout)            (None, 1, 64)             0         \n",
      "_________________________________________________________________\n",
      "flatten (Flatten)            (None, 64)                0         \n",
      "_________________________________________________________________\n",
      "dense (Dense)                (None, 128)               8320      \n",
      "_________________________________________________________________\n",
      "dropout_1 (Dropout)          (None, 128)               0         \n",
      "_________________________________________________________________\n",
      "dense_1 (Dense)              (None, 2)                 258       \n",
      "=================================================================\n",
      "Total params: 17,218\n",
      "Trainable params: 17,218\n",
      "Non-trainable params: 0\n",
      "_________________________________________________________________\n"
     ]
    }
   ],
   "source": [
    "model.summary()"
   ]
  },
  {
   "cell_type": "code",
   "execution_count": 12,
   "metadata": {},
   "outputs": [
    {
     "name": "stdout",
     "output_type": "stream",
     "text": [
      "Epoch 1/5\n",
      "5329/5329 [==============================] - 13s 2ms/step - loss: 8.2134 - accuracy: 0.4460 - val_loss: 8.4215 - val_accuracy: 0.4435\n",
      "Epoch 2/5\n",
      "5329/5329 [==============================] - 11s 2ms/step - loss: 8.2596 - accuracy: 0.4466 - val_loss: 8.4191 - val_accuracy: 0.4435\n",
      "Epoch 3/5\n",
      "5329/5329 [==============================] - 12s 2ms/step - loss: 8.1505 - accuracy: 0.4399 - val_loss: 8.4215 - val_accuracy: 0.4435\n",
      "Epoch 4/5\n",
      "5329/5329 [==============================] - 12s 2ms/step - loss: 8.2660 - accuracy: 0.4384 - val_loss: 8.4215 - val_accuracy: 0.4435\n",
      "Epoch 5/5\n",
      "5329/5329 [==============================] - 12s 2ms/step - loss: 8.2680 - accuracy: 0.4372 - val_loss: 8.4216 - val_accuracy: 0.4435\n"
     ]
    },
    {
     "data": {
      "text/plain": [
       "<tensorflow.python.keras.callbacks.History at 0x7fd080057ca0>"
      ]
     },
     "execution_count": 12,
     "metadata": {},
     "output_type": "execute_result"
    }
   ],
   "source": [
    "model.fit(X_train, y_train,\n",
    "          batch_size=batch_size,\n",
    "          epochs=5,\n",
    "          verbose=1,\n",
    "          validation_data=(X_test, y_test))"
   ]
  },
  {
   "cell_type": "code",
   "execution_count": 14,
   "metadata": {},
   "outputs": [],
   "source": [
    "model = Sequential()\n",
    "model.add(Conv1D(128, kernel_size=1,\n",
    "                 activation='relu',\n",
    "                 input_shape=input_shape))\n",
    "model.add(MaxPooling1D(pool_size=1))\n",
    "model.add(Dropout(0.25))\n",
    "model.add(Dense(128))\n",
    "model.add(Conv1D(filters=32, kernel_size=1, activation='relu'))\n",
    "model.add(MaxPooling1D(pool_size=1))\n",
    "model.add(Conv1D(64, 1))\n",
    "model.add(MaxPooling1D(pool_size=1))\n",
    "model.add(Flatten())\n",
    "model.add(Dense(num_classes, activation='relu'))\n",
    "\n",
    "model.compile(loss=keras.losses.binary_crossentropy,\n",
    "              optimizer=keras.optimizers.Adadelta(),\n",
    "              metrics=['accuracy'])"
   ]
  },
  {
   "cell_type": "code",
   "execution_count": 15,
   "metadata": {},
   "outputs": [
    {
     "name": "stdout",
     "output_type": "stream",
     "text": [
      "Model: \"sequential_2\"\n",
      "_________________________________________________________________\n",
      "Layer (type)                 Output Shape              Param #   \n",
      "=================================================================\n",
      "conv1d_4 (Conv1D)            (None, 6, 128)            256       \n",
      "_________________________________________________________________\n",
      "max_pooling1d_3 (MaxPooling1 (None, 6, 128)            0         \n",
      "_________________________________________________________________\n",
      "dropout_3 (Dropout)          (None, 6, 128)            0         \n",
      "_________________________________________________________________\n",
      "dense_3 (Dense)              (None, 6, 128)            16512     \n",
      "_________________________________________________________________\n",
      "conv1d_5 (Conv1D)            (None, 6, 32)             4128      \n",
      "_________________________________________________________________\n",
      "max_pooling1d_4 (MaxPooling1 (None, 6, 32)             0         \n",
      "_________________________________________________________________\n",
      "conv1d_6 (Conv1D)            (None, 6, 64)             2112      \n",
      "_________________________________________________________________\n",
      "max_pooling1d_5 (MaxPooling1 (None, 6, 64)             0         \n",
      "_________________________________________________________________\n",
      "flatten_1 (Flatten)          (None, 384)               0         \n",
      "_________________________________________________________________\n",
      "dense_4 (Dense)              (None, 2)                 770       \n",
      "=================================================================\n",
      "Total params: 23,778\n",
      "Trainable params: 23,778\n",
      "Non-trainable params: 0\n",
      "_________________________________________________________________\n"
     ]
    }
   ],
   "source": [
    "model.summary()"
   ]
  },
  {
   "cell_type": "code",
   "execution_count": 16,
   "metadata": {},
   "outputs": [
    {
     "name": "stdout",
     "output_type": "stream",
     "text": [
      "Epoch 1/5\n",
      "5329/5329 [==============================] - 14s 3ms/step - loss: 7.9467 - accuracy: 0.5384 - val_loss: 8.3027 - val_accuracy: 0.5565\n",
      "Epoch 2/5\n",
      "5329/5329 [==============================] - 13s 2ms/step - loss: 7.9275 - accuracy: 0.5485 - val_loss: 8.2378 - val_accuracy: 0.5565\n",
      "Epoch 3/5\n",
      "5329/5329 [==============================] - 14s 3ms/step - loss: 7.8626 - accuracy: 0.5372 - val_loss: 8.1313 - val_accuracy: 0.5565\n",
      "Epoch 4/5\n",
      "5329/5329 [==============================] - 13s 2ms/step - loss: 7.8740 - accuracy: 0.5393 - val_loss: 7.7117 - val_accuracy: 0.5565\n",
      "Epoch 5/5\n",
      "5329/5329 [==============================] - 13s 2ms/step - loss: 7.8631 - accuracy: 0.5378 - val_loss: 7.4220 - val_accuracy: 0.5565\n"
     ]
    },
    {
     "data": {
      "text/plain": [
       "<tensorflow.python.keras.callbacks.History at 0x7fd059411310>"
      ]
     },
     "execution_count": 16,
     "metadata": {},
     "output_type": "execute_result"
    }
   ],
   "source": [
    "model.fit(X_train, y_train,\n",
    "          batch_size=batch_size,\n",
    "          epochs=5,\n",
    "          verbose=1,\n",
    "          validation_data=(X_test, y_test))"
   ]
  },
  {
   "cell_type": "code",
   "execution_count": 17,
   "metadata": {},
   "outputs": [],
   "source": [
    "model = Sequential()\n",
    "model.add(Conv1D(1024, kernel_size=1,\n",
    "                 activation='relu',\n",
    "                 input_shape=input_shape))\n",
    "model.add(MaxPooling1D(pool_size=1))\n",
    "model.add(Dropout(0.25))\n",
    "model.add(Dense(512))\n",
    "model.add(Conv1D(filters=32, kernel_size=1, activation='relu'))\n",
    "model.add(MaxPooling1D(pool_size=1))\n",
    "model.add(Conv1D(216, 1))\n",
    "model.add(MaxPooling1D(pool_size=1))\n",
    "model.add(Conv1D(128, 1))\n",
    "model.add(MaxPooling1D(pool_size=1))\n",
    "model.add(Conv1D(64, 1, activation='relu'))\n",
    "model.add(MaxPooling1D(pool_size=1))\n",
    "model.add(Conv1D(32, 1, activation='relu'))\n",
    "model.add(MaxPooling1D(pool_size=1))\n",
    "model.add(Flatten())\n",
    "model.add(Dense(num_classes, activation='relu'))\n",
    "\n",
    "model.compile(loss=keras.losses.binary_crossentropy,\n",
    "              optimizer=keras.optimizers.Adadelta(),\n",
    "              metrics=['accuracy'])"
   ]
  },
  {
   "cell_type": "code",
   "execution_count": 18,
   "metadata": {},
   "outputs": [
    {
     "name": "stdout",
     "output_type": "stream",
     "text": [
      "Model: \"sequential_3\"\n",
      "_________________________________________________________________\n",
      "Layer (type)                 Output Shape              Param #   \n",
      "=================================================================\n",
      "conv1d_7 (Conv1D)            (None, 6, 1024)           2048      \n",
      "_________________________________________________________________\n",
      "max_pooling1d_6 (MaxPooling1 (None, 6, 1024)           0         \n",
      "_________________________________________________________________\n",
      "dropout_4 (Dropout)          (None, 6, 1024)           0         \n",
      "_________________________________________________________________\n",
      "dense_5 (Dense)              (None, 6, 512)            524800    \n",
      "_________________________________________________________________\n",
      "conv1d_8 (Conv1D)            (None, 6, 32)             16416     \n",
      "_________________________________________________________________\n",
      "max_pooling1d_7 (MaxPooling1 (None, 6, 32)             0         \n",
      "_________________________________________________________________\n",
      "conv1d_9 (Conv1D)            (None, 6, 216)            7128      \n",
      "_________________________________________________________________\n",
      "max_pooling1d_8 (MaxPooling1 (None, 6, 216)            0         \n",
      "_________________________________________________________________\n",
      "conv1d_10 (Conv1D)           (None, 6, 128)            27776     \n",
      "_________________________________________________________________\n",
      "max_pooling1d_9 (MaxPooling1 (None, 6, 128)            0         \n",
      "_________________________________________________________________\n",
      "conv1d_11 (Conv1D)           (None, 6, 64)             8256      \n",
      "_________________________________________________________________\n",
      "max_pooling1d_10 (MaxPooling (None, 6, 64)             0         \n",
      "_________________________________________________________________\n",
      "conv1d_12 (Conv1D)           (None, 6, 32)             2080      \n",
      "_________________________________________________________________\n",
      "max_pooling1d_11 (MaxPooling (None, 6, 32)             0         \n",
      "_________________________________________________________________\n",
      "flatten_2 (Flatten)          (None, 192)               0         \n",
      "_________________________________________________________________\n",
      "dense_6 (Dense)              (None, 2)                 386       \n",
      "=================================================================\n",
      "Total params: 588,890\n",
      "Trainable params: 588,890\n",
      "Non-trainable params: 0\n",
      "_________________________________________________________________\n"
     ]
    }
   ],
   "source": [
    "model.summary()"
   ]
  },
  {
   "cell_type": "code",
   "execution_count": 19,
   "metadata": {},
   "outputs": [
    {
     "name": "stdout",
     "output_type": "stream",
     "text": [
      "Epoch 1/5\n",
      "5329/5329 [==============================] - 47s 9ms/step - loss: 8.0898 - accuracy: 0.4265 - val_loss: 7.5757 - val_accuracy: 0.4426\n",
      "Epoch 2/5\n",
      "5329/5329 [==============================] - 51s 10ms/step - loss: 7.9531 - accuracy: 0.4260 - val_loss: 7.6082 - val_accuracy: 0.4426\n",
      "Epoch 3/5\n",
      "5329/5329 [==============================] - 50s 9ms/step - loss: 7.8164 - accuracy: 0.4218 - val_loss: 7.6192 - val_accuracy: 0.4426\n",
      "Epoch 4/5\n",
      "5329/5329 [==============================] - 47s 9ms/step - loss: 7.7759 - accuracy: 0.4256 - val_loss: 7.6203 - val_accuracy: 0.4431\n",
      "Epoch 5/5\n",
      "5329/5329 [==============================] - 48s 9ms/step - loss: 7.6847 - accuracy: 0.4237 - val_loss: 7.6232 - val_accuracy: 0.4431\n"
     ]
    },
    {
     "data": {
      "text/plain": [
       "<tensorflow.python.keras.callbacks.History at 0x7fd058a0fdc0>"
      ]
     },
     "execution_count": 19,
     "metadata": {},
     "output_type": "execute_result"
    }
   ],
   "source": [
    "model.fit(X_train, y_train,\n",
    "          batch_size=batch_size,\n",
    "          epochs=5,\n",
    "          verbose=1,\n",
    "          validation_data=(X_test, y_test))"
   ]
  },
  {
   "cell_type": "markdown",
   "metadata": {},
   "source": [
    "## Softmax"
   ]
  },
  {
   "cell_type": "code",
   "execution_count": 20,
   "metadata": {},
   "outputs": [],
   "source": [
    "model = Sequential()\n",
    "model.add(Conv1D(128, kernel_size=2,\n",
    "                 activation='softmax',\n",
    "                 input_shape=input_shape))\n",
    "model.add(Conv1D(64, 1, activation='softmax'))\n",
    "model.add(MaxPooling1D(pool_size=3))\n",
    "model.add(Dropout(0.25))\n",
    "model.add(Flatten())\n",
    "model.add(Dense(128, activation='softmax'))\n",
    "model.add(Dropout(0.5))\n",
    "model.add(Dense(num_classes, activation='softmax'))\n",
    "\n",
    "model.compile(loss=keras.losses.binary_crossentropy,\n",
    "              optimizer=keras.optimizers.Adadelta(),\n",
    "              metrics=['accuracy'])"
   ]
  },
  {
   "cell_type": "code",
   "execution_count": 21,
   "metadata": {},
   "outputs": [
    {
     "name": "stdout",
     "output_type": "stream",
     "text": [
      "Epoch 1/5\n",
      "5329/5329 [==============================] - 13s 2ms/step - loss: 0.6932 - accuracy: 0.4915 - val_loss: 0.6931 - val_accuracy: 0.4435\n",
      "Epoch 2/5\n",
      "5329/5329 [==============================] - 12s 2ms/step - loss: 0.6932 - accuracy: 0.4992 - val_loss: 0.6931 - val_accuracy: 0.4435\n",
      "Epoch 3/5\n",
      "5329/5329 [==============================] - 11s 2ms/step - loss: 0.6932 - accuracy: 0.5050 - val_loss: 0.6931 - val_accuracy: 0.4435\n",
      "Epoch 4/5\n",
      "5329/5329 [==============================] - 12s 2ms/step - loss: 0.6932 - accuracy: 0.4864 - val_loss: 0.6931 - val_accuracy: 0.4435\n",
      "Epoch 5/5\n",
      "5329/5329 [==============================] - 12s 2ms/step - loss: 0.6932 - accuracy: 0.5042 - val_loss: 0.6931 - val_accuracy: 0.4435\n"
     ]
    },
    {
     "data": {
      "text/plain": [
       "<tensorflow.python.keras.callbacks.History at 0x7fd0587e8dc0>"
      ]
     },
     "execution_count": 21,
     "metadata": {},
     "output_type": "execute_result"
    }
   ],
   "source": [
    "model.fit(X_train, y_train,\n",
    "          batch_size=batch_size,\n",
    "          epochs=5,\n",
    "          verbose=1,\n",
    "          validation_data=(X_test, y_test))"
   ]
  },
  {
   "cell_type": "markdown",
   "metadata": {},
   "source": [
    "## Tanh"
   ]
  },
  {
   "cell_type": "code",
   "execution_count": 22,
   "metadata": {},
   "outputs": [],
   "source": [
    "model = Sequential()\n",
    "model.add(Conv1D(128, kernel_size=2,\n",
    "                 activation='tanh',\n",
    "                 input_shape=input_shape))\n",
    "model.add(Conv1D(64, 1, activation='tanh'))\n",
    "model.add(MaxPooling1D(pool_size=3))\n",
    "model.add(Dropout(0.25))\n",
    "model.add(Flatten())\n",
    "model.add(Dense(128, activation='tanh'))\n",
    "model.add(Dropout(0.5))\n",
    "model.add(Dense(num_classes, activation='tanh'))\n",
    "\n",
    "model.compile(loss=keras.losses.binary_crossentropy,\n",
    "              optimizer=keras.optimizers.Adadelta(),\n",
    "              metrics=['accuracy'])"
   ]
  },
  {
   "cell_type": "code",
   "execution_count": 23,
   "metadata": {},
   "outputs": [
    {
     "name": "stdout",
     "output_type": "stream",
     "text": [
      "Epoch 1/5\n",
      "5329/5329 [==============================] - 11s 2ms/step - loss: 3.2916 - accuracy: 0.4843 - val_loss: 0.8663 - val_accuracy: 0.4426\n",
      "Epoch 2/5\n",
      "5329/5329 [==============================] - 11s 2ms/step - loss: 3.1247 - accuracy: 0.4881 - val_loss: 0.8411 - val_accuracy: 0.4435\n",
      "Epoch 3/5\n",
      "5329/5329 [==============================] - 12s 2ms/step - loss: 3.1101 - accuracy: 0.4935 - val_loss: 0.8166 - val_accuracy: 0.4448\n",
      "Epoch 4/5\n",
      "5329/5329 [==============================] - 12s 2ms/step - loss: 3.0732 - accuracy: 0.4817 - val_loss: 0.8006 - val_accuracy: 0.4453\n",
      "Epoch 5/5\n",
      "5329/5329 [==============================] - 12s 2ms/step - loss: 2.9780 - accuracy: 0.5044 - val_loss: 0.7842 - val_accuracy: 0.4448\n"
     ]
    },
    {
     "data": {
      "text/plain": [
       "<tensorflow.python.keras.callbacks.History at 0x7fd05865e490>"
      ]
     },
     "execution_count": 23,
     "metadata": {},
     "output_type": "execute_result"
    }
   ],
   "source": [
    "model.fit(X_train, y_train,\n",
    "          batch_size=batch_size,\n",
    "          epochs=5,\n",
    "          verbose=1,\n",
    "          validation_data=(X_test, y_test))"
   ]
  }
 ],
 "metadata": {
  "kernelspec": {
   "display_name": "Python 3",
   "language": "python",
   "name": "python3"
  },
  "language_info": {
   "codemirror_mode": {
    "name": "ipython",
    "version": 3
   },
   "file_extension": ".py",
   "mimetype": "text/x-python",
   "name": "python",
   "nbconvert_exporter": "python",
   "pygments_lexer": "ipython3",
   "version": "3.8.5"
  }
 },
 "nbformat": 4,
 "nbformat_minor": 4
}
