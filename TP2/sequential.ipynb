{
 "cells": [
  {
   "cell_type": "markdown",
   "metadata": {},
   "source": [
    "# Imports"
   ]
  },
  {
   "cell_type": "code",
   "execution_count": 1,
   "metadata": {},
   "outputs": [],
   "source": [
    "import pandas as pd\n",
    "import numpy as np\n",
    "from sklearn.model_selection import train_test_split\n",
    "import keras\n",
    "from keras.models import Sequential\n",
    "from keras.layers import Dense, Dropout, Flatten\n",
    "from keras.layers import Conv1D, MaxPooling1D"
   ]
  },
  {
   "cell_type": "markdown",
   "metadata": {},
   "source": [
    "# Train"
   ]
  },
  {
   "cell_type": "code",
   "execution_count": 2,
   "metadata": {},
   "outputs": [],
   "source": [
    "train_set = pd.read_csv('train/train_encoded.csv')"
   ]
  },
  {
   "cell_type": "code",
   "execution_count": 3,
   "metadata": {},
   "outputs": [],
   "source": [
    "X, y = train_set.iloc[:,:-1],train_set.iloc[:,-1]\n",
    "X_train, X_test, y_train, y_test = train_test_split(X, y, test_size=0.3)"
   ]
  },
  {
   "cell_type": "markdown",
   "metadata": {},
   "source": [
    "# Model"
   ]
  },
  {
   "cell_type": "code",
   "execution_count": 4,
   "metadata": {},
   "outputs": [],
   "source": [
    "batch_size = 1\n",
    "num_classes = 2\n",
    "epochs = 10"
   ]
  },
  {
   "cell_type": "code",
   "execution_count": 5,
   "metadata": {},
   "outputs": [
    {
     "data": {
      "text/html": [
       "<div>\n",
       "<style scoped>\n",
       "    .dataframe tbody tr th:only-of-type {\n",
       "        vertical-align: middle;\n",
       "    }\n",
       "\n",
       "    .dataframe tbody tr th {\n",
       "        vertical-align: top;\n",
       "    }\n",
       "\n",
       "    .dataframe thead th {\n",
       "        text-align: right;\n",
       "    }\n",
       "</style>\n",
       "<table border=\"1\" class=\"dataframe\">\n",
       "  <thead>\n",
       "    <tr style=\"text-align: right;\">\n",
       "      <th></th>\n",
       "      <th>len_location</th>\n",
       "      <th>len_keyword</th>\n",
       "      <th>len_text</th>\n",
       "      <th>len_text_original</th>\n",
       "      <th>diff_len_text</th>\n",
       "      <th>keyword_value</th>\n",
       "      <th>keyword_sum</th>\n",
       "      <th>keyword_min</th>\n",
       "      <th>keyword_max</th>\n",
       "      <th>keyword_mean</th>\n",
       "      <th>...</th>\n",
       "      <th>text_max_tf-idf</th>\n",
       "      <th>text_mean_tf-idf</th>\n",
       "      <th>text_median_tf-idf</th>\n",
       "      <th>text_value</th>\n",
       "      <th>text_norm_value</th>\n",
       "      <th>text_sum_w2v</th>\n",
       "      <th>text_min_w2v</th>\n",
       "      <th>text_max_w2v</th>\n",
       "      <th>text_mean_w2v</th>\n",
       "      <th>text_median_w2v</th>\n",
       "    </tr>\n",
       "  </thead>\n",
       "  <tbody>\n",
       "    <tr>\n",
       "      <th>7330</th>\n",
       "      <td>11</td>\n",
       "      <td>7</td>\n",
       "      <td>82</td>\n",
       "      <td>140</td>\n",
       "      <td>58</td>\n",
       "      <td>4.268695</td>\n",
       "      <td>1.000000</td>\n",
       "      <td>1.000000</td>\n",
       "      <td>1.000000</td>\n",
       "      <td>1.000000</td>\n",
       "      <td>...</td>\n",
       "      <td>0.386228</td>\n",
       "      <td>0.252131</td>\n",
       "      <td>0.247074</td>\n",
       "      <td>46.484588</td>\n",
       "      <td>17.931932</td>\n",
       "      <td>19.229431</td>\n",
       "      <td>-0.115915</td>\n",
       "      <td>0.568572</td>\n",
       "      <td>0.112453</td>\n",
       "      <td>0.093215</td>\n",
       "    </tr>\n",
       "    <tr>\n",
       "      <th>6601</th>\n",
       "      <td>0</td>\n",
       "      <td>6</td>\n",
       "      <td>87</td>\n",
       "      <td>140</td>\n",
       "      <td>53</td>\n",
       "      <td>3.397147</td>\n",
       "      <td>1.000000</td>\n",
       "      <td>1.000000</td>\n",
       "      <td>1.000000</td>\n",
       "      <td>1.000000</td>\n",
       "      <td>...</td>\n",
       "      <td>0.543414</td>\n",
       "      <td>0.288275</td>\n",
       "      <td>0.271707</td>\n",
       "      <td>39.706227</td>\n",
       "      <td>18.755461</td>\n",
       "      <td>13.829157</td>\n",
       "      <td>-0.039208</td>\n",
       "      <td>1.000000</td>\n",
       "      <td>0.151969</td>\n",
       "      <td>0.105314</td>\n",
       "    </tr>\n",
       "    <tr>\n",
       "      <th>5834</th>\n",
       "      <td>11</td>\n",
       "      <td>5</td>\n",
       "      <td>48</td>\n",
       "      <td>92</td>\n",
       "      <td>44</td>\n",
       "      <td>4.130719</td>\n",
       "      <td>1.000000</td>\n",
       "      <td>1.000000</td>\n",
       "      <td>1.000000</td>\n",
       "      <td>1.000000</td>\n",
       "      <td>...</td>\n",
       "      <td>0.403980</td>\n",
       "      <td>0.320793</td>\n",
       "      <td>0.363643</td>\n",
       "      <td>34.642470</td>\n",
       "      <td>14.492268</td>\n",
       "      <td>11.169735</td>\n",
       "      <td>0.000892</td>\n",
       "      <td>0.542930</td>\n",
       "      <td>0.122744</td>\n",
       "      <td>0.095739</td>\n",
       "    </tr>\n",
       "    <tr>\n",
       "      <th>6171</th>\n",
       "      <td>30</td>\n",
       "      <td>5</td>\n",
       "      <td>16</td>\n",
       "      <td>26</td>\n",
       "      <td>10</td>\n",
       "      <td>3.827693</td>\n",
       "      <td>1.000000</td>\n",
       "      <td>1.000000</td>\n",
       "      <td>1.000000</td>\n",
       "      <td>1.000000</td>\n",
       "      <td>...</td>\n",
       "      <td>0.656702</td>\n",
       "      <td>0.574148</td>\n",
       "      <td>0.553355</td>\n",
       "      <td>11.499934</td>\n",
       "      <td>6.794611</td>\n",
       "      <td>0.511770</td>\n",
       "      <td>0.004571</td>\n",
       "      <td>0.159618</td>\n",
       "      <td>0.085295</td>\n",
       "      <td>0.090074</td>\n",
       "    </tr>\n",
       "    <tr>\n",
       "      <th>2317</th>\n",
       "      <td>9</td>\n",
       "      <td>8</td>\n",
       "      <td>70</td>\n",
       "      <td>138</td>\n",
       "      <td>68</td>\n",
       "      <td>3.226890</td>\n",
       "      <td>1.000000</td>\n",
       "      <td>1.000000</td>\n",
       "      <td>1.000000</td>\n",
       "      <td>1.000000</td>\n",
       "      <td>...</td>\n",
       "      <td>0.423989</td>\n",
       "      <td>0.295990</td>\n",
       "      <td>0.327350</td>\n",
       "      <td>35.721459</td>\n",
       "      <td>16.136969</td>\n",
       "      <td>26.780494</td>\n",
       "      <td>-0.057497</td>\n",
       "      <td>1.000000</td>\n",
       "      <td>0.196915</td>\n",
       "      <td>0.146862</td>\n",
       "    </tr>\n",
       "    <tr>\n",
       "      <th>...</th>\n",
       "      <td>...</td>\n",
       "      <td>...</td>\n",
       "      <td>...</td>\n",
       "      <td>...</td>\n",
       "      <td>...</td>\n",
       "      <td>...</td>\n",
       "      <td>...</td>\n",
       "      <td>...</td>\n",
       "      <td>...</td>\n",
       "      <td>...</td>\n",
       "      <td>...</td>\n",
       "      <td>...</td>\n",
       "      <td>...</td>\n",
       "      <td>...</td>\n",
       "      <td>...</td>\n",
       "      <td>...</td>\n",
       "      <td>...</td>\n",
       "      <td>...</td>\n",
       "      <td>...</td>\n",
       "      <td>...</td>\n",
       "      <td>...</td>\n",
       "    </tr>\n",
       "    <tr>\n",
       "      <th>3152</th>\n",
       "      <td>8</td>\n",
       "      <td>5</td>\n",
       "      <td>72</td>\n",
       "      <td>137</td>\n",
       "      <td>65</td>\n",
       "      <td>2.949969</td>\n",
       "      <td>1.000000</td>\n",
       "      <td>1.000000</td>\n",
       "      <td>1.000000</td>\n",
       "      <td>1.000000</td>\n",
       "      <td>...</td>\n",
       "      <td>0.412201</td>\n",
       "      <td>0.286840</td>\n",
       "      <td>0.283988</td>\n",
       "      <td>20.879887</td>\n",
       "      <td>9.780977</td>\n",
       "      <td>2.718876</td>\n",
       "      <td>-0.103342</td>\n",
       "      <td>1.000000</td>\n",
       "      <td>0.097103</td>\n",
       "      <td>0.041653</td>\n",
       "    </tr>\n",
       "    <tr>\n",
       "      <th>575</th>\n",
       "      <td>0</td>\n",
       "      <td>9</td>\n",
       "      <td>76</td>\n",
       "      <td>138</td>\n",
       "      <td>62</td>\n",
       "      <td>4.219201</td>\n",
       "      <td>1.000000</td>\n",
       "      <td>1.000000</td>\n",
       "      <td>1.000000</td>\n",
       "      <td>1.000000</td>\n",
       "      <td>...</td>\n",
       "      <td>0.439925</td>\n",
       "      <td>0.294547</td>\n",
       "      <td>0.322111</td>\n",
       "      <td>30.273171</td>\n",
       "      <td>14.194214</td>\n",
       "      <td>7.353818</td>\n",
       "      <td>-0.030709</td>\n",
       "      <td>1.000000</td>\n",
       "      <td>0.133706</td>\n",
       "      <td>0.106252</td>\n",
       "    </tr>\n",
       "    <tr>\n",
       "      <th>3195</th>\n",
       "      <td>23</td>\n",
       "      <td>10</td>\n",
       "      <td>97</td>\n",
       "      <td>132</td>\n",
       "      <td>35</td>\n",
       "      <td>5.290447</td>\n",
       "      <td>1.403003</td>\n",
       "      <td>0.612643</td>\n",
       "      <td>0.790360</td>\n",
       "      <td>0.701501</td>\n",
       "      <td>...</td>\n",
       "      <td>0.387993</td>\n",
       "      <td>0.269390</td>\n",
       "      <td>0.232981</td>\n",
       "      <td>34.803419</td>\n",
       "      <td>15.609525</td>\n",
       "      <td>12.383357</td>\n",
       "      <td>-0.048282</td>\n",
       "      <td>0.634660</td>\n",
       "      <td>0.136081</td>\n",
       "      <td>0.108446</td>\n",
       "    </tr>\n",
       "    <tr>\n",
       "      <th>1184</th>\n",
       "      <td>23</td>\n",
       "      <td>13</td>\n",
       "      <td>50</td>\n",
       "      <td>83</td>\n",
       "      <td>33</td>\n",
       "      <td>6.173725</td>\n",
       "      <td>1.408101</td>\n",
       "      <td>0.638380</td>\n",
       "      <td>0.769722</td>\n",
       "      <td>0.704051</td>\n",
       "      <td>...</td>\n",
       "      <td>0.417117</td>\n",
       "      <td>0.320506</td>\n",
       "      <td>0.352132</td>\n",
       "      <td>23.781937</td>\n",
       "      <td>10.863061</td>\n",
       "      <td>3.762588</td>\n",
       "      <td>-0.026625</td>\n",
       "      <td>0.312744</td>\n",
       "      <td>0.104516</td>\n",
       "      <td>0.090719</td>\n",
       "    </tr>\n",
       "    <tr>\n",
       "      <th>2101</th>\n",
       "      <td>0</td>\n",
       "      <td>5</td>\n",
       "      <td>56</td>\n",
       "      <td>118</td>\n",
       "      <td>62</td>\n",
       "      <td>2.829321</td>\n",
       "      <td>1.000000</td>\n",
       "      <td>1.000000</td>\n",
       "      <td>1.000000</td>\n",
       "      <td>1.000000</td>\n",
       "      <td>...</td>\n",
       "      <td>0.382455</td>\n",
       "      <td>0.296502</td>\n",
       "      <td>0.292339</td>\n",
       "      <td>56.971224</td>\n",
       "      <td>28.272852</td>\n",
       "      <td>63.649614</td>\n",
       "      <td>-0.033040</td>\n",
       "      <td>1.000000</td>\n",
       "      <td>0.230615</td>\n",
       "      <td>0.196705</td>\n",
       "    </tr>\n",
       "  </tbody>\n",
       "</table>\n",
       "<p>5329 rows × 28 columns</p>\n",
       "</div>"
      ],
      "text/plain": [
       "      len_location  len_keyword  len_text  len_text_original  diff_len_text  \\\n",
       "7330            11            7        82                140             58   \n",
       "6601             0            6        87                140             53   \n",
       "5834            11            5        48                 92             44   \n",
       "6171            30            5        16                 26             10   \n",
       "2317             9            8        70                138             68   \n",
       "...            ...          ...       ...                ...            ...   \n",
       "3152             8            5        72                137             65   \n",
       "575              0            9        76                138             62   \n",
       "3195            23           10        97                132             35   \n",
       "1184            23           13        50                 83             33   \n",
       "2101             0            5        56                118             62   \n",
       "\n",
       "      keyword_value  keyword_sum  keyword_min  keyword_max  keyword_mean  ...  \\\n",
       "7330       4.268695     1.000000     1.000000     1.000000      1.000000  ...   \n",
       "6601       3.397147     1.000000     1.000000     1.000000      1.000000  ...   \n",
       "5834       4.130719     1.000000     1.000000     1.000000      1.000000  ...   \n",
       "6171       3.827693     1.000000     1.000000     1.000000      1.000000  ...   \n",
       "2317       3.226890     1.000000     1.000000     1.000000      1.000000  ...   \n",
       "...             ...          ...          ...          ...           ...  ...   \n",
       "3152       2.949969     1.000000     1.000000     1.000000      1.000000  ...   \n",
       "575        4.219201     1.000000     1.000000     1.000000      1.000000  ...   \n",
       "3195       5.290447     1.403003     0.612643     0.790360      0.701501  ...   \n",
       "1184       6.173725     1.408101     0.638380     0.769722      0.704051  ...   \n",
       "2101       2.829321     1.000000     1.000000     1.000000      1.000000  ...   \n",
       "\n",
       "      text_max_tf-idf  text_mean_tf-idf  text_median_tf-idf  text_value  \\\n",
       "7330         0.386228          0.252131            0.247074   46.484588   \n",
       "6601         0.543414          0.288275            0.271707   39.706227   \n",
       "5834         0.403980          0.320793            0.363643   34.642470   \n",
       "6171         0.656702          0.574148            0.553355   11.499934   \n",
       "2317         0.423989          0.295990            0.327350   35.721459   \n",
       "...               ...               ...                 ...         ...   \n",
       "3152         0.412201          0.286840            0.283988   20.879887   \n",
       "575          0.439925          0.294547            0.322111   30.273171   \n",
       "3195         0.387993          0.269390            0.232981   34.803419   \n",
       "1184         0.417117          0.320506            0.352132   23.781937   \n",
       "2101         0.382455          0.296502            0.292339   56.971224   \n",
       "\n",
       "      text_norm_value  text_sum_w2v  text_min_w2v  text_max_w2v  \\\n",
       "7330        17.931932     19.229431     -0.115915      0.568572   \n",
       "6601        18.755461     13.829157     -0.039208      1.000000   \n",
       "5834        14.492268     11.169735      0.000892      0.542930   \n",
       "6171         6.794611      0.511770      0.004571      0.159618   \n",
       "2317        16.136969     26.780494     -0.057497      1.000000   \n",
       "...               ...           ...           ...           ...   \n",
       "3152         9.780977      2.718876     -0.103342      1.000000   \n",
       "575         14.194214      7.353818     -0.030709      1.000000   \n",
       "3195        15.609525     12.383357     -0.048282      0.634660   \n",
       "1184        10.863061      3.762588     -0.026625      0.312744   \n",
       "2101        28.272852     63.649614     -0.033040      1.000000   \n",
       "\n",
       "      text_mean_w2v  text_median_w2v  \n",
       "7330       0.112453         0.093215  \n",
       "6601       0.151969         0.105314  \n",
       "5834       0.122744         0.095739  \n",
       "6171       0.085295         0.090074  \n",
       "2317       0.196915         0.146862  \n",
       "...             ...              ...  \n",
       "3152       0.097103         0.041653  \n",
       "575        0.133706         0.106252  \n",
       "3195       0.136081         0.108446  \n",
       "1184       0.104516         0.090719  \n",
       "2101       0.230615         0.196705  \n",
       "\n",
       "[5329 rows x 28 columns]"
      ]
     },
     "execution_count": 5,
     "metadata": {},
     "output_type": "execute_result"
    }
   ],
   "source": [
    "X_train"
   ]
  },
  {
   "cell_type": "code",
   "execution_count": 6,
   "metadata": {},
   "outputs": [],
   "source": [
    "X_train = np.expand_dims(X_train, axis=2)\n",
    "X_test = np.expand_dims(X_test, axis=2)"
   ]
  },
  {
   "cell_type": "code",
   "execution_count": 7,
   "metadata": {},
   "outputs": [
    {
     "data": {
      "text/plain": [
       "(5329, 28, 1)"
      ]
     },
     "execution_count": 7,
     "metadata": {},
     "output_type": "execute_result"
    }
   ],
   "source": [
    "X_train.shape"
   ]
  },
  {
   "cell_type": "code",
   "execution_count": 8,
   "metadata": {},
   "outputs": [
    {
     "data": {
      "text/plain": [
       "(28, 1)"
      ]
     },
     "execution_count": 8,
     "metadata": {},
     "output_type": "execute_result"
    }
   ],
   "source": [
    "input_shape = (X_train.shape[1], 1)\n",
    "input_shape"
   ]
  },
  {
   "cell_type": "markdown",
   "metadata": {},
   "source": [
    "## Relu"
   ]
  },
  {
   "cell_type": "code",
   "execution_count": 9,
   "metadata": {},
   "outputs": [],
   "source": [
    "model = Sequential()\n",
    "model.add(Conv1D(128, kernel_size=2,\n",
    "                 activation='relu',\n",
    "                 input_shape=input_shape))\n",
    "model.add(Conv1D(64, 1, activation='relu'))\n",
    "model.add(MaxPooling1D(pool_size=3))\n",
    "model.add(Dropout(0.25))\n",
    "model.add(Flatten())\n",
    "model.add(Dense(128, activation='relu'))\n",
    "model.add(Dropout(0.5))\n",
    "model.add(Dense(num_classes, activation='relu'))\n",
    "\n",
    "model.compile(loss=keras.losses.binary_crossentropy,\n",
    "              optimizer=keras.optimizers.Adadelta(),\n",
    "              metrics=['accuracy'])"
   ]
  },
  {
   "cell_type": "code",
   "execution_count": 10,
   "metadata": {},
   "outputs": [
    {
     "name": "stdout",
     "output_type": "stream",
     "text": [
      "Model: \"sequential\"\n",
      "_________________________________________________________________\n",
      "Layer (type)                 Output Shape              Param #   \n",
      "=================================================================\n",
      "conv1d (Conv1D)              (None, 27, 128)           384       \n",
      "_________________________________________________________________\n",
      "conv1d_1 (Conv1D)            (None, 27, 64)            8256      \n",
      "_________________________________________________________________\n",
      "max_pooling1d (MaxPooling1D) (None, 9, 64)             0         \n",
      "_________________________________________________________________\n",
      "dropout (Dropout)            (None, 9, 64)             0         \n",
      "_________________________________________________________________\n",
      "flatten (Flatten)            (None, 576)               0         \n",
      "_________________________________________________________________\n",
      "dense (Dense)                (None, 128)               73856     \n",
      "_________________________________________________________________\n",
      "dropout_1 (Dropout)          (None, 128)               0         \n",
      "_________________________________________________________________\n",
      "dense_1 (Dense)              (None, 2)                 258       \n",
      "=================================================================\n",
      "Total params: 82,754\n",
      "Trainable params: 82,754\n",
      "Non-trainable params: 0\n",
      "_________________________________________________________________\n"
     ]
    }
   ],
   "source": [
    "model.summary()"
   ]
  },
  {
   "cell_type": "code",
   "execution_count": 11,
   "metadata": {},
   "outputs": [
    {
     "name": "stdout",
     "output_type": "stream",
     "text": [
      "Epoch 1/5\n",
      "5329/5329 [==============================] - 16s 3ms/step - loss: 6.5609 - accuracy: 0.5138 - val_loss: 6.5056 - val_accuracy: 0.5749\n",
      "Epoch 2/5\n",
      "5329/5329 [==============================] - 16s 3ms/step - loss: 6.5199 - accuracy: 0.5258 - val_loss: 6.5057 - val_accuracy: 0.5753\n",
      "Epoch 3/5\n",
      "5329/5329 [==============================] - 16s 3ms/step - loss: 6.6076 - accuracy: 0.5142 - val_loss: 6.5082 - val_accuracy: 0.5749\n",
      "Epoch 4/5\n",
      "5329/5329 [==============================] - 16s 3ms/step - loss: 6.5078 - accuracy: 0.5267 - val_loss: 6.5082 - val_accuracy: 0.5753\n",
      "Epoch 5/5\n",
      "5329/5329 [==============================] - 16s 3ms/step - loss: 6.3880 - accuracy: 0.5243 - val_loss: 6.5083 - val_accuracy: 0.5762\n"
     ]
    },
    {
     "data": {
      "text/plain": [
       "<tensorflow.python.keras.callbacks.History at 0x7fa62c241a00>"
      ]
     },
     "execution_count": 11,
     "metadata": {},
     "output_type": "execute_result"
    }
   ],
   "source": [
    "model.fit(X_train, y_train,\n",
    "          batch_size=batch_size,\n",
    "          epochs=5,\n",
    "          verbose=1,\n",
    "          validation_data=(X_test, y_test))"
   ]
  },
  {
   "cell_type": "code",
   "execution_count": 12,
   "metadata": {},
   "outputs": [],
   "source": [
    "model = Sequential()\n",
    "model.add(Conv1D(128, kernel_size=3,\n",
    "                 activation='relu',\n",
    "                 input_shape=input_shape))\n",
    "model.add(MaxPooling1D(pool_size=4))\n",
    "model.add(Dropout(0.25))\n",
    "model.add(Dense(128))\n",
    "model.add(Conv1D(filters=32, kernel_size=1, activation='relu'))\n",
    "model.add(MaxPooling1D(pool_size=2))\n",
    "model.add(Conv1D(64, 1))\n",
    "model.add(MaxPooling1D(pool_size=1))\n",
    "model.add(Flatten())\n",
    "model.add(Dense(num_classes, activation='relu'))\n",
    "\n",
    "model.compile(loss=keras.losses.binary_crossentropy,\n",
    "              optimizer=keras.optimizers.Adadelta(),\n",
    "              metrics=['accuracy'])"
   ]
  },
  {
   "cell_type": "code",
   "execution_count": 13,
   "metadata": {},
   "outputs": [
    {
     "name": "stdout",
     "output_type": "stream",
     "text": [
      "Model: \"sequential_1\"\n",
      "_________________________________________________________________\n",
      "Layer (type)                 Output Shape              Param #   \n",
      "=================================================================\n",
      "conv1d_2 (Conv1D)            (None, 26, 128)           512       \n",
      "_________________________________________________________________\n",
      "max_pooling1d_1 (MaxPooling1 (None, 6, 128)            0         \n",
      "_________________________________________________________________\n",
      "dropout_2 (Dropout)          (None, 6, 128)            0         \n",
      "_________________________________________________________________\n",
      "dense_2 (Dense)              (None, 6, 128)            16512     \n",
      "_________________________________________________________________\n",
      "conv1d_3 (Conv1D)            (None, 6, 32)             4128      \n",
      "_________________________________________________________________\n",
      "max_pooling1d_2 (MaxPooling1 (None, 3, 32)             0         \n",
      "_________________________________________________________________\n",
      "conv1d_4 (Conv1D)            (None, 3, 64)             2112      \n",
      "_________________________________________________________________\n",
      "max_pooling1d_3 (MaxPooling1 (None, 3, 64)             0         \n",
      "_________________________________________________________________\n",
      "flatten_1 (Flatten)          (None, 192)               0         \n",
      "_________________________________________________________________\n",
      "dense_3 (Dense)              (None, 2)                 386       \n",
      "=================================================================\n",
      "Total params: 23,650\n",
      "Trainable params: 23,650\n",
      "Non-trainable params: 0\n",
      "_________________________________________________________________\n"
     ]
    }
   ],
   "source": [
    "model.summary()"
   ]
  },
  {
   "cell_type": "code",
   "execution_count": 14,
   "metadata": {},
   "outputs": [
    {
     "name": "stdout",
     "output_type": "stream",
     "text": [
      "Epoch 1/5\n",
      "5329/5329 [==============================] - 12s 2ms/step - loss: 7.2235 - accuracy: 0.5078 - val_loss: 7.7748 - val_accuracy: 0.4256\n",
      "Epoch 2/5\n",
      "5329/5329 [==============================] - 12s 2ms/step - loss: 6.9102 - accuracy: 0.4937 - val_loss: 7.2444 - val_accuracy: 0.4251\n",
      "Epoch 3/5\n",
      "5329/5329 [==============================] - 12s 2ms/step - loss: 6.7238 - accuracy: 0.5200 - val_loss: 6.5217 - val_accuracy: 0.4282\n",
      "Epoch 4/5\n",
      "5329/5329 [==============================] - 13s 2ms/step - loss: 6.5838 - accuracy: 0.5042 - val_loss: 5.0621 - val_accuracy: 0.4234\n",
      "Epoch 5/5\n",
      "5329/5329 [==============================] - 13s 2ms/step - loss: 6.4116 - accuracy: 0.5192 - val_loss: 4.4729 - val_accuracy: 0.4260\n"
     ]
    },
    {
     "data": {
      "text/plain": [
       "<tensorflow.python.keras.callbacks.History at 0x7fa614249df0>"
      ]
     },
     "execution_count": 14,
     "metadata": {},
     "output_type": "execute_result"
    }
   ],
   "source": [
    "model.fit(X_train, y_train,\n",
    "          batch_size=batch_size,\n",
    "          epochs=5,\n",
    "          verbose=1,\n",
    "          validation_data=(X_test, y_test))"
   ]
  },
  {
   "cell_type": "code",
   "execution_count": 15,
   "metadata": {},
   "outputs": [],
   "source": [
    "model = Sequential()\n",
    "model.add(Conv1D(1024, kernel_size=1,\n",
    "                 activation='relu',\n",
    "                 input_shape=input_shape))\n",
    "model.add(MaxPooling1D(pool_size=10))\n",
    "model.add(Dropout(0.25))\n",
    "model.add(Dense(512))\n",
    "model.add(Conv1D(filters=32, kernel_size=1, activation='relu'))\n",
    "model.add(MaxPooling1D(pool_size=1))\n",
    "model.add(Conv1D(216, 1))\n",
    "model.add(MaxPooling1D(pool_size=1))\n",
    "model.add(Conv1D(128, 1))\n",
    "model.add(MaxPooling1D(pool_size=1))\n",
    "model.add(Conv1D(64, 1, activation='relu'))\n",
    "model.add(MaxPooling1D(pool_size=1))\n",
    "model.add(Conv1D(32, 1, activation='relu'))\n",
    "model.add(MaxPooling1D(pool_size=1))\n",
    "model.add(Flatten())\n",
    "model.add(Dense(num_classes, activation='relu'))\n",
    "\n",
    "model.compile(loss=keras.losses.binary_crossentropy,\n",
    "              optimizer=keras.optimizers.Adadelta(),\n",
    "              metrics=['accuracy'])"
   ]
  },
  {
   "cell_type": "code",
   "execution_count": 16,
   "metadata": {},
   "outputs": [
    {
     "name": "stdout",
     "output_type": "stream",
     "text": [
      "Model: \"sequential_2\"\n",
      "_________________________________________________________________\n",
      "Layer (type)                 Output Shape              Param #   \n",
      "=================================================================\n",
      "conv1d_5 (Conv1D)            (None, 28, 1024)          2048      \n",
      "_________________________________________________________________\n",
      "max_pooling1d_4 (MaxPooling1 (None, 2, 1024)           0         \n",
      "_________________________________________________________________\n",
      "dropout_3 (Dropout)          (None, 2, 1024)           0         \n",
      "_________________________________________________________________\n",
      "dense_4 (Dense)              (None, 2, 512)            524800    \n",
      "_________________________________________________________________\n",
      "conv1d_6 (Conv1D)            (None, 2, 32)             16416     \n",
      "_________________________________________________________________\n",
      "max_pooling1d_5 (MaxPooling1 (None, 2, 32)             0         \n",
      "_________________________________________________________________\n",
      "conv1d_7 (Conv1D)            (None, 2, 216)            7128      \n",
      "_________________________________________________________________\n",
      "max_pooling1d_6 (MaxPooling1 (None, 2, 216)            0         \n",
      "_________________________________________________________________\n",
      "conv1d_8 (Conv1D)            (None, 2, 128)            27776     \n",
      "_________________________________________________________________\n",
      "max_pooling1d_7 (MaxPooling1 (None, 2, 128)            0         \n",
      "_________________________________________________________________\n",
      "conv1d_9 (Conv1D)            (None, 2, 64)             8256      \n",
      "_________________________________________________________________\n",
      "max_pooling1d_8 (MaxPooling1 (None, 2, 64)             0         \n",
      "_________________________________________________________________\n",
      "conv1d_10 (Conv1D)           (None, 2, 32)             2080      \n",
      "_________________________________________________________________\n",
      "max_pooling1d_9 (MaxPooling1 (None, 2, 32)             0         \n",
      "_________________________________________________________________\n",
      "flatten_2 (Flatten)          (None, 64)                0         \n",
      "_________________________________________________________________\n",
      "dense_5 (Dense)              (None, 2)                 130       \n",
      "=================================================================\n",
      "Total params: 588,634\n",
      "Trainable params: 588,634\n",
      "Non-trainable params: 0\n",
      "_________________________________________________________________\n"
     ]
    }
   ],
   "source": [
    "model.summary()"
   ]
  },
  {
   "cell_type": "code",
   "execution_count": 17,
   "metadata": {},
   "outputs": [
    {
     "name": "stdout",
     "output_type": "stream",
     "text": [
      "Epoch 1/5\n",
      "5329/5329 [==============================] - 42s 8ms/step - loss: 3.2425 - accuracy: 0.5296 - val_loss: 0.6812 - val_accuracy: 0.5792\n",
      "Epoch 2/5\n",
      "5329/5329 [==============================] - 46s 9ms/step - loss: 2.6731 - accuracy: 0.5179 - val_loss: 0.6830 - val_accuracy: 0.4221\n",
      "Epoch 3/5\n",
      "5329/5329 [==============================] - 45s 8ms/step - loss: 2.4629 - accuracy: 0.4918 - val_loss: 0.6894 - val_accuracy: 0.4221\n",
      "Epoch 4/5\n",
      "5329/5329 [==============================] - 55s 10ms/step - loss: 2.1333 - accuracy: 0.4900 - val_loss: 0.6900 - val_accuracy: 0.4221\n",
      "Epoch 5/5\n",
      "5329/5329 [==============================] - 40s 8ms/step - loss: 1.7980 - accuracy: 0.5100 - val_loss: 0.6861 - val_accuracy: 0.4221\n"
     ]
    },
    {
     "data": {
      "text/plain": [
       "<tensorflow.python.keras.callbacks.History at 0x7fa6140aeb20>"
      ]
     },
     "execution_count": 17,
     "metadata": {},
     "output_type": "execute_result"
    }
   ],
   "source": [
    "model.fit(X_train, y_train,\n",
    "          batch_size=batch_size,\n",
    "          epochs=5,\n",
    "          verbose=1,\n",
    "          validation_data=(X_test, y_test))"
   ]
  },
  {
   "cell_type": "markdown",
   "metadata": {},
   "source": [
    "## Softmax"
   ]
  },
  {
   "cell_type": "code",
   "execution_count": 18,
   "metadata": {},
   "outputs": [],
   "source": [
    "model = Sequential()\n",
    "model.add(Conv1D(128, kernel_size=2,\n",
    "                 activation='softmax',\n",
    "                 input_shape=input_shape))\n",
    "model.add(Conv1D(64, 1, activation='softmax'))\n",
    "model.add(MaxPooling1D(pool_size=3))\n",
    "model.add(Dropout(0.25))\n",
    "model.add(Flatten())\n",
    "model.add(Dense(128, activation='softmax'))\n",
    "model.add(Dropout(0.5))\n",
    "model.add(Dense(num_classes, activation='softmax'))\n",
    "\n",
    "model.compile(loss=keras.losses.binary_crossentropy,\n",
    "              optimizer=keras.optimizers.Adadelta(),\n",
    "              metrics=['accuracy'])"
   ]
  },
  {
   "cell_type": "code",
   "execution_count": 19,
   "metadata": {},
   "outputs": [
    {
     "name": "stdout",
     "output_type": "stream",
     "text": [
      "Epoch 1/5\n",
      "5329/5329 [==============================] - 18s 3ms/step - loss: 0.6932 - accuracy: 0.5459 - val_loss: 0.6932 - val_accuracy: 0.5679\n",
      "Epoch 2/5\n",
      "5329/5329 [==============================] - 18s 3ms/step - loss: 0.6932 - accuracy: 0.5303 - val_loss: 0.6931 - val_accuracy: 0.5679\n",
      "Epoch 3/5\n",
      "5329/5329 [==============================] - 20s 4ms/step - loss: 0.6932 - accuracy: 0.5207 - val_loss: 0.6931 - val_accuracy: 0.5679\n",
      "Epoch 4/5\n",
      "5329/5329 [==============================] - 21s 4ms/step - loss: 0.6932 - accuracy: 0.5080 - val_loss: 0.6931 - val_accuracy: 0.5679\n",
      "Epoch 5/5\n",
      "5329/5329 [==============================] - 20s 4ms/step - loss: 0.6932 - accuracy: 0.5042 - val_loss: 0.6931 - val_accuracy: 0.5679\n"
     ]
    },
    {
     "data": {
      "text/plain": [
       "<tensorflow.python.keras.callbacks.History at 0x7f2ecc2d1280>"
      ]
     },
     "execution_count": 19,
     "metadata": {},
     "output_type": "execute_result"
    }
   ],
   "source": [
    "model.fit(X_train, y_train,\n",
    "          batch_size=batch_size,\n",
    "          epochs=5,\n",
    "          verbose=1,\n",
    "          validation_data=(X_test, y_test))"
   ]
  },
  {
   "cell_type": "markdown",
   "metadata": {},
   "source": [
    "## Tanh"
   ]
  },
  {
   "cell_type": "code",
   "execution_count": 20,
   "metadata": {},
   "outputs": [],
   "source": [
    "model = Sequential()\n",
    "model.add(Conv1D(128, kernel_size=2,\n",
    "                 activation='tanh',\n",
    "                 input_shape=input_shape))\n",
    "model.add(Conv1D(64, 1, activation='tanh'))\n",
    "model.add(MaxPooling1D(pool_size=3))\n",
    "model.add(Dropout(0.25))\n",
    "model.add(Flatten())\n",
    "model.add(Dense(128, activation='tanh'))\n",
    "model.add(Dropout(0.5))\n",
    "model.add(Dense(num_classes, activation='tanh'))\n",
    "\n",
    "model.compile(loss=keras.losses.binary_crossentropy,\n",
    "              optimizer=keras.optimizers.Adadelta(),\n",
    "              metrics=['accuracy'])"
   ]
  },
  {
   "cell_type": "code",
   "execution_count": 21,
   "metadata": {},
   "outputs": [
    {
     "name": "stdout",
     "output_type": "stream",
     "text": [
      "Epoch 1/5\n",
      "5329/5329 [==============================] - 19s 4ms/step - loss: 4.3310 - accuracy: 0.5528 - val_loss: 4.0523 - val_accuracy: 0.5679\n",
      "Epoch 2/5\n",
      "5329/5329 [==============================] - 15s 3ms/step - loss: 4.1956 - accuracy: 0.5393 - val_loss: 3.9104 - val_accuracy: 0.5679\n",
      "Epoch 3/5\n",
      "5329/5329 [==============================] - 15s 3ms/step - loss: 4.0135 - accuracy: 0.5472 - val_loss: 3.8582 - val_accuracy: 0.5679\n",
      "Epoch 4/5\n",
      "5329/5329 [==============================] - 14s 3ms/step - loss: 3.7964 - accuracy: 0.5361 - val_loss: 3.8736 - val_accuracy: 0.5679\n",
      "Epoch 5/5\n",
      "5329/5329 [==============================] - 22s 4ms/step - loss: 3.4858 - accuracy: 0.5239 - val_loss: 3.1945 - val_accuracy: 0.5683\n"
     ]
    },
    {
     "data": {
      "text/plain": [
       "<tensorflow.python.keras.callbacks.History at 0x7f2ecc0e1220>"
      ]
     },
     "execution_count": 21,
     "metadata": {},
     "output_type": "execute_result"
    }
   ],
   "source": [
    "model.fit(X_train, y_train,\n",
    "          batch_size=batch_size,\n",
    "          epochs=5,\n",
    "          verbose=1,\n",
    "          validation_data=(X_test, y_test))"
   ]
  },
  {
   "cell_type": "markdown",
   "metadata": {},
   "source": [
    "# Mix"
   ]
  },
  {
   "cell_type": "code",
   "execution_count": 22,
   "metadata": {},
   "outputs": [],
   "source": [
    "model = Sequential()\n",
    "model.add(Conv1D(128, kernel_size=1,\n",
    "                 activation='relu',\n",
    "                 input_shape=input_shape))\n",
    "model.add(MaxPooling1D(pool_size=3))\n",
    "model.add(Dropout(0.25))\n",
    "model.add(Dense(128))\n",
    "model.add(Conv1D(filters=32, kernel_size=1, activation='relu'))\n",
    "model.add(MaxPooling1D(pool_size=3))\n",
    "model.add(Conv1D(64, 1))\n",
    "model.add(MaxPooling1D(pool_size=2))\n",
    "model.add(Flatten())\n",
    "model.add(Dropout(0.5))\n",
    "model.add(Dense(num_classes, activation='relu'))\n",
    "\n",
    "model.compile(loss=keras.losses.binary_crossentropy,\n",
    "              optimizer=keras.optimizers.Adadelta(),\n",
    "              metrics=['accuracy'])"
   ]
  },
  {
   "cell_type": "code",
   "execution_count": 23,
   "metadata": {},
   "outputs": [
    {
     "name": "stdout",
     "output_type": "stream",
     "text": [
      "Model: \"sequential_5\"\n",
      "_________________________________________________________________\n",
      "Layer (type)                 Output Shape              Param #   \n",
      "=================================================================\n",
      "conv1d_15 (Conv1D)           (None, 25, 128)           256       \n",
      "_________________________________________________________________\n",
      "max_pooling1d_12 (MaxPooling (None, 8, 128)            0         \n",
      "_________________________________________________________________\n",
      "dropout_8 (Dropout)          (None, 8, 128)            0         \n",
      "_________________________________________________________________\n",
      "dense_10 (Dense)             (None, 8, 128)            16512     \n",
      "_________________________________________________________________\n",
      "conv1d_16 (Conv1D)           (None, 8, 32)             4128      \n",
      "_________________________________________________________________\n",
      "max_pooling1d_13 (MaxPooling (None, 2, 32)             0         \n",
      "_________________________________________________________________\n",
      "conv1d_17 (Conv1D)           (None, 2, 64)             2112      \n",
      "_________________________________________________________________\n",
      "max_pooling1d_14 (MaxPooling (None, 1, 64)             0         \n",
      "_________________________________________________________________\n",
      "flatten_5 (Flatten)          (None, 64)                0         \n",
      "_________________________________________________________________\n",
      "dropout_9 (Dropout)          (None, 64)                0         \n",
      "_________________________________________________________________\n",
      "dense_11 (Dense)             (None, 2)                 130       \n",
      "=================================================================\n",
      "Total params: 23,138\n",
      "Trainable params: 23,138\n",
      "Non-trainable params: 0\n",
      "_________________________________________________________________\n"
     ]
    }
   ],
   "source": [
    "model.summary()"
   ]
  },
  {
   "cell_type": "code",
   "execution_count": 24,
   "metadata": {},
   "outputs": [
    {
     "name": "stdout",
     "output_type": "stream",
     "text": [
      "Epoch 1/5\n",
      "5329/5329 [==============================] - 17s 3ms/step - loss: 7.4468 - accuracy: 0.4425 - val_loss: 7.6024 - val_accuracy: 0.4321\n",
      "Epoch 2/5\n",
      "5329/5329 [==============================] - 16s 3ms/step - loss: 7.4820 - accuracy: 0.4483 - val_loss: 7.6024 - val_accuracy: 0.4321\n",
      "Epoch 3/5\n",
      "5329/5329 [==============================] - 18s 3ms/step - loss: 7.3524 - accuracy: 0.4445 - val_loss: 7.6021 - val_accuracy: 0.4321\n",
      "Epoch 4/5\n",
      "5329/5329 [==============================] - 14s 3ms/step - loss: 7.3611 - accuracy: 0.4474 - val_loss: 7.5996 - val_accuracy: 0.4321\n",
      "Epoch 5/5\n",
      "5329/5329 [==============================] - 17s 3ms/step - loss: 7.2968 - accuracy: 0.4421 - val_loss: 7.5993 - val_accuracy: 0.4321\n"
     ]
    },
    {
     "data": {
      "text/plain": [
       "<tensorflow.python.keras.callbacks.History at 0x7f2ec56e26a0>"
      ]
     },
     "execution_count": 24,
     "metadata": {},
     "output_type": "execute_result"
    }
   ],
   "source": [
    "model.fit(X_train, y_train,\n",
    "          batch_size=batch_size,\n",
    "          epochs=5,\n",
    "          verbose=1,\n",
    "          validation_data=(X_test, y_test))"
   ]
  },
  {
   "cell_type": "markdown",
   "metadata": {},
   "source": [
    "## Text w2v"
   ]
  },
  {
   "cell_type": "code",
   "execution_count": 3,
   "metadata": {},
   "outputs": [],
   "source": [
    "train_set = pd.read_csv('train/text_encoded_w2v.csv')"
   ]
  },
  {
   "cell_type": "code",
   "execution_count": 4,
   "metadata": {},
   "outputs": [],
   "source": [
    "X, y = train_set.iloc[:,:-1],train_set.iloc[:,-1]\n",
    "X_train, X_test, y_train, y_test = train_test_split(X, y, test_size=0.3)"
   ]
  },
  {
   "cell_type": "markdown",
   "metadata": {},
   "source": [
    "# Model"
   ]
  },
  {
   "cell_type": "code",
   "execution_count": 5,
   "metadata": {},
   "outputs": [],
   "source": [
    "batch_size = 1\n",
    "num_classes = 2\n",
    "epochs = 10"
   ]
  },
  {
   "cell_type": "code",
   "execution_count": 6,
   "metadata": {},
   "outputs": [
    {
     "data": {
      "text/html": [
       "<div>\n",
       "<style scoped>\n",
       "    .dataframe tbody tr th:only-of-type {\n",
       "        vertical-align: middle;\n",
       "    }\n",
       "\n",
       "    .dataframe tbody tr th {\n",
       "        vertical-align: top;\n",
       "    }\n",
       "\n",
       "    .dataframe thead th {\n",
       "        text-align: right;\n",
       "    }\n",
       "</style>\n",
       "<table border=\"1\" class=\"dataframe\">\n",
       "  <thead>\n",
       "    <tr style=\"text-align: right;\">\n",
       "      <th></th>\n",
       "      <th>id</th>\n",
       "      <th>text_sum</th>\n",
       "      <th>text_min</th>\n",
       "      <th>text_max</th>\n",
       "      <th>text_mean</th>\n",
       "      <th>text_median</th>\n",
       "    </tr>\n",
       "  </thead>\n",
       "  <tbody>\n",
       "    <tr>\n",
       "      <th>5535</th>\n",
       "      <td>7895</td>\n",
       "      <td>1.885115</td>\n",
       "      <td>-0.031004</td>\n",
       "      <td>0.262091</td>\n",
       "      <td>0.089767</td>\n",
       "      <td>0.059510</td>\n",
       "    </tr>\n",
       "    <tr>\n",
       "      <th>6018</th>\n",
       "      <td>8596</td>\n",
       "      <td>9.313427</td>\n",
       "      <td>-0.040400</td>\n",
       "      <td>1.000000</td>\n",
       "      <td>0.102345</td>\n",
       "      <td>0.069088</td>\n",
       "    </tr>\n",
       "    <tr>\n",
       "      <th>4739</th>\n",
       "      <td>6738</td>\n",
       "      <td>14.726642</td>\n",
       "      <td>0.012219</td>\n",
       "      <td>1.000000</td>\n",
       "      <td>0.188803</td>\n",
       "      <td>0.132279</td>\n",
       "    </tr>\n",
       "    <tr>\n",
       "      <th>3181</th>\n",
       "      <td>4567</td>\n",
       "      <td>3.985746</td>\n",
       "      <td>-0.040585</td>\n",
       "      <td>0.433890</td>\n",
       "      <td>0.110715</td>\n",
       "      <td>0.082433</td>\n",
       "    </tr>\n",
       "    <tr>\n",
       "      <th>818</th>\n",
       "      <td>1189</td>\n",
       "      <td>3.576633</td>\n",
       "      <td>-0.090845</td>\n",
       "      <td>0.443895</td>\n",
       "      <td>0.170316</td>\n",
       "      <td>0.168023</td>\n",
       "    </tr>\n",
       "    <tr>\n",
       "      <th>...</th>\n",
       "      <td>...</td>\n",
       "      <td>...</td>\n",
       "      <td>...</td>\n",
       "      <td>...</td>\n",
       "      <td>...</td>\n",
       "      <td>...</td>\n",
       "    </tr>\n",
       "    <tr>\n",
       "      <th>5282</th>\n",
       "      <td>7548</td>\n",
       "      <td>2.514225</td>\n",
       "      <td>-0.025919</td>\n",
       "      <td>1.000000</td>\n",
       "      <td>0.119725</td>\n",
       "      <td>0.074594</td>\n",
       "    </tr>\n",
       "    <tr>\n",
       "      <th>563</th>\n",
       "      <td>814</td>\n",
       "      <td>4.079575</td>\n",
       "      <td>-0.013456</td>\n",
       "      <td>1.000000</td>\n",
       "      <td>0.271972</td>\n",
       "      <td>0.073396</td>\n",
       "    </tr>\n",
       "    <tr>\n",
       "      <th>2089</th>\n",
       "      <td>3003</td>\n",
       "      <td>12.973744</td>\n",
       "      <td>-0.108944</td>\n",
       "      <td>1.000000</td>\n",
       "      <td>0.142569</td>\n",
       "      <td>0.114495</td>\n",
       "    </tr>\n",
       "    <tr>\n",
       "      <th>3221</th>\n",
       "      <td>4622</td>\n",
       "      <td>3.870319</td>\n",
       "      <td>-0.074206</td>\n",
       "      <td>0.450665</td>\n",
       "      <td>0.107509</td>\n",
       "      <td>0.085664</td>\n",
       "    </tr>\n",
       "    <tr>\n",
       "      <th>1906</th>\n",
       "      <td>2740</td>\n",
       "      <td>0.034038</td>\n",
       "      <td>0.034038</td>\n",
       "      <td>0.034038</td>\n",
       "      <td>0.034038</td>\n",
       "      <td>0.034038</td>\n",
       "    </tr>\n",
       "  </tbody>\n",
       "</table>\n",
       "<p>5329 rows × 6 columns</p>\n",
       "</div>"
      ],
      "text/plain": [
       "        id   text_sum  text_min  text_max  text_mean  text_median\n",
       "5535  7895   1.885115 -0.031004  0.262091   0.089767     0.059510\n",
       "6018  8596   9.313427 -0.040400  1.000000   0.102345     0.069088\n",
       "4739  6738  14.726642  0.012219  1.000000   0.188803     0.132279\n",
       "3181  4567   3.985746 -0.040585  0.433890   0.110715     0.082433\n",
       "818   1189   3.576633 -0.090845  0.443895   0.170316     0.168023\n",
       "...    ...        ...       ...       ...        ...          ...\n",
       "5282  7548   2.514225 -0.025919  1.000000   0.119725     0.074594\n",
       "563    814   4.079575 -0.013456  1.000000   0.271972     0.073396\n",
       "2089  3003  12.973744 -0.108944  1.000000   0.142569     0.114495\n",
       "3221  4622   3.870319 -0.074206  0.450665   0.107509     0.085664\n",
       "1906  2740   0.034038  0.034038  0.034038   0.034038     0.034038\n",
       "\n",
       "[5329 rows x 6 columns]"
      ]
     },
     "execution_count": 6,
     "metadata": {},
     "output_type": "execute_result"
    }
   ],
   "source": [
    "X_train"
   ]
  },
  {
   "cell_type": "code",
   "execution_count": 7,
   "metadata": {},
   "outputs": [],
   "source": [
    "X_train = np.expand_dims(X_train, axis=2)\n",
    "X_test = np.expand_dims(X_test, axis=2)"
   ]
  },
  {
   "cell_type": "code",
   "execution_count": 8,
   "metadata": {},
   "outputs": [
    {
     "data": {
      "text/plain": [
       "(5329, 6, 1)"
      ]
     },
     "execution_count": 8,
     "metadata": {},
     "output_type": "execute_result"
    }
   ],
   "source": [
    "X_train.shape"
   ]
  },
  {
   "cell_type": "code",
   "execution_count": 9,
   "metadata": {},
   "outputs": [
    {
     "data": {
      "text/plain": [
       "(6, 1)"
      ]
     },
     "execution_count": 9,
     "metadata": {},
     "output_type": "execute_result"
    }
   ],
   "source": [
    "input_shape = (X_train.shape[1], 1)\n",
    "input_shape"
   ]
  },
  {
   "cell_type": "markdown",
   "metadata": {},
   "source": [
    "## Relu"
   ]
  },
  {
   "cell_type": "code",
   "execution_count": 10,
   "metadata": {},
   "outputs": [],
   "source": [
    "model = Sequential()\n",
    "model.add(Conv1D(128, kernel_size=2,\n",
    "                 activation='relu',\n",
    "                 input_shape=input_shape))\n",
    "model.add(Conv1D(64, 1, activation='relu'))\n",
    "model.add(MaxPooling1D(pool_size=3))\n",
    "model.add(Dropout(0.25))\n",
    "model.add(Flatten())\n",
    "model.add(Dense(128, activation='relu'))\n",
    "model.add(Dropout(0.5))\n",
    "model.add(Dense(num_classes, activation='relu'))\n",
    "\n",
    "model.compile(loss=keras.losses.binary_crossentropy,\n",
    "              optimizer=keras.optimizers.Adadelta(),\n",
    "              metrics=['accuracy'])"
   ]
  },
  {
   "cell_type": "code",
   "execution_count": 11,
   "metadata": {},
   "outputs": [
    {
     "name": "stdout",
     "output_type": "stream",
     "text": [
      "Model: \"sequential\"\n",
      "_________________________________________________________________\n",
      "Layer (type)                 Output Shape              Param #   \n",
      "=================================================================\n",
      "conv1d (Conv1D)              (None, 5, 128)            384       \n",
      "_________________________________________________________________\n",
      "conv1d_1 (Conv1D)            (None, 5, 64)             8256      \n",
      "_________________________________________________________________\n",
      "max_pooling1d (MaxPooling1D) (None, 1, 64)             0         \n",
      "_________________________________________________________________\n",
      "dropout (Dropout)            (None, 1, 64)             0         \n",
      "_________________________________________________________________\n",
      "flatten (Flatten)            (None, 64)                0         \n",
      "_________________________________________________________________\n",
      "dense (Dense)                (None, 128)               8320      \n",
      "_________________________________________________________________\n",
      "dropout_1 (Dropout)          (None, 128)               0         \n",
      "_________________________________________________________________\n",
      "dense_1 (Dense)              (None, 2)                 258       \n",
      "=================================================================\n",
      "Total params: 17,218\n",
      "Trainable params: 17,218\n",
      "Non-trainable params: 0\n",
      "_________________________________________________________________\n"
     ]
    }
   ],
   "source": [
    "model.summary()"
   ]
  },
  {
   "cell_type": "code",
   "execution_count": 12,
   "metadata": {},
   "outputs": [
    {
     "name": "stdout",
     "output_type": "stream",
     "text": [
      "Epoch 1/5\n",
      "5329/5329 [==============================] - 13s 2ms/step - loss: 8.2134 - accuracy: 0.4460 - val_loss: 8.4215 - val_accuracy: 0.4435\n",
      "Epoch 2/5\n",
      "5329/5329 [==============================] - 11s 2ms/step - loss: 8.2596 - accuracy: 0.4466 - val_loss: 8.4191 - val_accuracy: 0.4435\n",
      "Epoch 3/5\n",
      "5329/5329 [==============================] - 12s 2ms/step - loss: 8.1505 - accuracy: 0.4399 - val_loss: 8.4215 - val_accuracy: 0.4435\n",
      "Epoch 4/5\n",
      "5329/5329 [==============================] - 12s 2ms/step - loss: 8.2660 - accuracy: 0.4384 - val_loss: 8.4215 - val_accuracy: 0.4435\n",
      "Epoch 5/5\n",
      "5329/5329 [==============================] - 12s 2ms/step - loss: 8.2680 - accuracy: 0.4372 - val_loss: 8.4216 - val_accuracy: 0.4435\n"
     ]
    },
    {
     "data": {
      "text/plain": [
       "<tensorflow.python.keras.callbacks.History at 0x7fd080057ca0>"
      ]
     },
     "execution_count": 12,
     "metadata": {},
     "output_type": "execute_result"
    }
   ],
   "source": [
    "model.fit(X_train, y_train,\n",
    "          batch_size=batch_size,\n",
    "          epochs=5,\n",
    "          verbose=1,\n",
    "          validation_data=(X_test, y_test))"
   ]
  },
  {
   "cell_type": "code",
   "execution_count": 14,
   "metadata": {},
   "outputs": [],
   "source": [
    "model = Sequential()\n",
    "model.add(Conv1D(128, kernel_size=1,\n",
    "                 activation='relu',\n",
    "                 input_shape=input_shape))\n",
    "model.add(MaxPooling1D(pool_size=1))\n",
    "model.add(Dropout(0.25))\n",
    "model.add(Dense(128))\n",
    "model.add(Conv1D(filters=32, kernel_size=1, activation='relu'))\n",
    "model.add(MaxPooling1D(pool_size=1))\n",
    "model.add(Conv1D(64, 1))\n",
    "model.add(MaxPooling1D(pool_size=1))\n",
    "model.add(Flatten())\n",
    "model.add(Dense(num_classes, activation='relu'))\n",
    "\n",
    "model.compile(loss=keras.losses.binary_crossentropy,\n",
    "              optimizer=keras.optimizers.Adadelta(),\n",
    "              metrics=['accuracy'])"
   ]
  },
  {
   "cell_type": "code",
   "execution_count": 15,
   "metadata": {},
   "outputs": [
    {
     "name": "stdout",
     "output_type": "stream",
     "text": [
      "Model: \"sequential_2\"\n",
      "_________________________________________________________________\n",
      "Layer (type)                 Output Shape              Param #   \n",
      "=================================================================\n",
      "conv1d_4 (Conv1D)            (None, 6, 128)            256       \n",
      "_________________________________________________________________\n",
      "max_pooling1d_3 (MaxPooling1 (None, 6, 128)            0         \n",
      "_________________________________________________________________\n",
      "dropout_3 (Dropout)          (None, 6, 128)            0         \n",
      "_________________________________________________________________\n",
      "dense_3 (Dense)              (None, 6, 128)            16512     \n",
      "_________________________________________________________________\n",
      "conv1d_5 (Conv1D)            (None, 6, 32)             4128      \n",
      "_________________________________________________________________\n",
      "max_pooling1d_4 (MaxPooling1 (None, 6, 32)             0         \n",
      "_________________________________________________________________\n",
      "conv1d_6 (Conv1D)            (None, 6, 64)             2112      \n",
      "_________________________________________________________________\n",
      "max_pooling1d_5 (MaxPooling1 (None, 6, 64)             0         \n",
      "_________________________________________________________________\n",
      "flatten_1 (Flatten)          (None, 384)               0         \n",
      "_________________________________________________________________\n",
      "dense_4 (Dense)              (None, 2)                 770       \n",
      "=================================================================\n",
      "Total params: 23,778\n",
      "Trainable params: 23,778\n",
      "Non-trainable params: 0\n",
      "_________________________________________________________________\n"
     ]
    }
   ],
   "source": [
    "model.summary()"
   ]
  },
  {
   "cell_type": "code",
   "execution_count": 16,
   "metadata": {},
   "outputs": [
    {
     "name": "stdout",
     "output_type": "stream",
     "text": [
      "Epoch 1/5\n",
      "5329/5329 [==============================] - 14s 3ms/step - loss: 7.9467 - accuracy: 0.5384 - val_loss: 8.3027 - val_accuracy: 0.5565\n",
      "Epoch 2/5\n",
      "5329/5329 [==============================] - 13s 2ms/step - loss: 7.9275 - accuracy: 0.5485 - val_loss: 8.2378 - val_accuracy: 0.5565\n",
      "Epoch 3/5\n",
      "5329/5329 [==============================] - 14s 3ms/step - loss: 7.8626 - accuracy: 0.5372 - val_loss: 8.1313 - val_accuracy: 0.5565\n",
      "Epoch 4/5\n",
      "5329/5329 [==============================] - 13s 2ms/step - loss: 7.8740 - accuracy: 0.5393 - val_loss: 7.7117 - val_accuracy: 0.5565\n",
      "Epoch 5/5\n",
      "5329/5329 [==============================] - 13s 2ms/step - loss: 7.8631 - accuracy: 0.5378 - val_loss: 7.4220 - val_accuracy: 0.5565\n"
     ]
    },
    {
     "data": {
      "text/plain": [
       "<tensorflow.python.keras.callbacks.History at 0x7fd059411310>"
      ]
     },
     "execution_count": 16,
     "metadata": {},
     "output_type": "execute_result"
    }
   ],
   "source": [
    "model.fit(X_train, y_train,\n",
    "          batch_size=batch_size,\n",
    "          epochs=5,\n",
    "          verbose=1,\n",
    "          validation_data=(X_test, y_test))"
   ]
  },
  {
   "cell_type": "code",
   "execution_count": 17,
   "metadata": {},
   "outputs": [],
   "source": [
    "model = Sequential()\n",
    "model.add(Conv1D(1024, kernel_size=1,\n",
    "                 activation='relu',\n",
    "                 input_shape=input_shape))\n",
    "model.add(MaxPooling1D(pool_size=1))\n",
    "model.add(Dropout(0.25))\n",
    "model.add(Dense(512))\n",
    "model.add(Conv1D(filters=32, kernel_size=1, activation='relu'))\n",
    "model.add(MaxPooling1D(pool_size=1))\n",
    "model.add(Conv1D(216, 1))\n",
    "model.add(MaxPooling1D(pool_size=1))\n",
    "model.add(Conv1D(128, 1))\n",
    "model.add(MaxPooling1D(pool_size=1))\n",
    "model.add(Conv1D(64, 1, activation='relu'))\n",
    "model.add(MaxPooling1D(pool_size=1))\n",
    "model.add(Conv1D(32, 1, activation='relu'))\n",
    "model.add(MaxPooling1D(pool_size=1))\n",
    "model.add(Flatten())\n",
    "model.add(Dense(num_classes, activation='relu'))\n",
    "\n",
    "model.compile(loss=keras.losses.binary_crossentropy,\n",
    "              optimizer=keras.optimizers.Adadelta(),\n",
    "              metrics=['accuracy'])"
   ]
  },
  {
   "cell_type": "code",
   "execution_count": 18,
   "metadata": {},
   "outputs": [
    {
     "name": "stdout",
     "output_type": "stream",
     "text": [
      "Model: \"sequential_3\"\n",
      "_________________________________________________________________\n",
      "Layer (type)                 Output Shape              Param #   \n",
      "=================================================================\n",
      "conv1d_7 (Conv1D)            (None, 6, 1024)           2048      \n",
      "_________________________________________________________________\n",
      "max_pooling1d_6 (MaxPooling1 (None, 6, 1024)           0         \n",
      "_________________________________________________________________\n",
      "dropout_4 (Dropout)          (None, 6, 1024)           0         \n",
      "_________________________________________________________________\n",
      "dense_5 (Dense)              (None, 6, 512)            524800    \n",
      "_________________________________________________________________\n",
      "conv1d_8 (Conv1D)            (None, 6, 32)             16416     \n",
      "_________________________________________________________________\n",
      "max_pooling1d_7 (MaxPooling1 (None, 6, 32)             0         \n",
      "_________________________________________________________________\n",
      "conv1d_9 (Conv1D)            (None, 6, 216)            7128      \n",
      "_________________________________________________________________\n",
      "max_pooling1d_8 (MaxPooling1 (None, 6, 216)            0         \n",
      "_________________________________________________________________\n",
      "conv1d_10 (Conv1D)           (None, 6, 128)            27776     \n",
      "_________________________________________________________________\n",
      "max_pooling1d_9 (MaxPooling1 (None, 6, 128)            0         \n",
      "_________________________________________________________________\n",
      "conv1d_11 (Conv1D)           (None, 6, 64)             8256      \n",
      "_________________________________________________________________\n",
      "max_pooling1d_10 (MaxPooling (None, 6, 64)             0         \n",
      "_________________________________________________________________\n",
      "conv1d_12 (Conv1D)           (None, 6, 32)             2080      \n",
      "_________________________________________________________________\n",
      "max_pooling1d_11 (MaxPooling (None, 6, 32)             0         \n",
      "_________________________________________________________________\n",
      "flatten_2 (Flatten)          (None, 192)               0         \n",
      "_________________________________________________________________\n",
      "dense_6 (Dense)              (None, 2)                 386       \n",
      "=================================================================\n",
      "Total params: 588,890\n",
      "Trainable params: 588,890\n",
      "Non-trainable params: 0\n",
      "_________________________________________________________________\n"
     ]
    }
   ],
   "source": [
    "model.summary()"
   ]
  },
  {
   "cell_type": "code",
   "execution_count": 19,
   "metadata": {},
   "outputs": [
    {
     "name": "stdout",
     "output_type": "stream",
     "text": [
      "Epoch 1/5\n",
      "5329/5329 [==============================] - 47s 9ms/step - loss: 8.0898 - accuracy: 0.4265 - val_loss: 7.5757 - val_accuracy: 0.4426\n",
      "Epoch 2/5\n",
      "5329/5329 [==============================] - 51s 10ms/step - loss: 7.9531 - accuracy: 0.4260 - val_loss: 7.6082 - val_accuracy: 0.4426\n",
      "Epoch 3/5\n",
      "5329/5329 [==============================] - 50s 9ms/step - loss: 7.8164 - accuracy: 0.4218 - val_loss: 7.6192 - val_accuracy: 0.4426\n",
      "Epoch 4/5\n",
      "5329/5329 [==============================] - 47s 9ms/step - loss: 7.7759 - accuracy: 0.4256 - val_loss: 7.6203 - val_accuracy: 0.4431\n",
      "Epoch 5/5\n",
      "5329/5329 [==============================] - 48s 9ms/step - loss: 7.6847 - accuracy: 0.4237 - val_loss: 7.6232 - val_accuracy: 0.4431\n"
     ]
    },
    {
     "data": {
      "text/plain": [
       "<tensorflow.python.keras.callbacks.History at 0x7fd058a0fdc0>"
      ]
     },
     "execution_count": 19,
     "metadata": {},
     "output_type": "execute_result"
    }
   ],
   "source": [
    "model.fit(X_train, y_train,\n",
    "          batch_size=batch_size,\n",
    "          epochs=5,\n",
    "          verbose=1,\n",
    "          validation_data=(X_test, y_test))"
   ]
  },
  {
   "cell_type": "markdown",
   "metadata": {},
   "source": [
    "## Softmax"
   ]
  },
  {
   "cell_type": "code",
   "execution_count": 20,
   "metadata": {},
   "outputs": [],
   "source": [
    "model = Sequential()\n",
    "model.add(Conv1D(128, kernel_size=2,\n",
    "                 activation='softmax',\n",
    "                 input_shape=input_shape))\n",
    "model.add(Conv1D(64, 1, activation='softmax'))\n",
    "model.add(MaxPooling1D(pool_size=3))\n",
    "model.add(Dropout(0.25))\n",
    "model.add(Flatten())\n",
    "model.add(Dense(128, activation='softmax'))\n",
    "model.add(Dropout(0.5))\n",
    "model.add(Dense(num_classes, activation='softmax'))\n",
    "\n",
    "model.compile(loss=keras.losses.binary_crossentropy,\n",
    "              optimizer=keras.optimizers.Adadelta(),\n",
    "              metrics=['accuracy'])"
   ]
  },
  {
   "cell_type": "code",
   "execution_count": 21,
   "metadata": {},
   "outputs": [
    {
     "name": "stdout",
     "output_type": "stream",
     "text": [
      "Epoch 1/5\n",
      "5329/5329 [==============================] - 13s 2ms/step - loss: 0.6932 - accuracy: 0.4915 - val_loss: 0.6931 - val_accuracy: 0.4435\n",
      "Epoch 2/5\n",
      "5329/5329 [==============================] - 12s 2ms/step - loss: 0.6932 - accuracy: 0.4992 - val_loss: 0.6931 - val_accuracy: 0.4435\n",
      "Epoch 3/5\n",
      "5329/5329 [==============================] - 11s 2ms/step - loss: 0.6932 - accuracy: 0.5050 - val_loss: 0.6931 - val_accuracy: 0.4435\n",
      "Epoch 4/5\n",
      "5329/5329 [==============================] - 12s 2ms/step - loss: 0.6932 - accuracy: 0.4864 - val_loss: 0.6931 - val_accuracy: 0.4435\n",
      "Epoch 5/5\n",
      "5329/5329 [==============================] - 12s 2ms/step - loss: 0.6932 - accuracy: 0.5042 - val_loss: 0.6931 - val_accuracy: 0.4435\n"
     ]
    },
    {
     "data": {
      "text/plain": [
       "<tensorflow.python.keras.callbacks.History at 0x7fd0587e8dc0>"
      ]
     },
     "execution_count": 21,
     "metadata": {},
     "output_type": "execute_result"
    }
   ],
   "source": [
    "model.fit(X_train, y_train,\n",
    "          batch_size=batch_size,\n",
    "          epochs=5,\n",
    "          verbose=1,\n",
    "          validation_data=(X_test, y_test))"
   ]
  },
  {
   "cell_type": "markdown",
   "metadata": {},
   "source": [
    "## Tanh"
   ]
  },
  {
   "cell_type": "code",
   "execution_count": 22,
   "metadata": {},
   "outputs": [],
   "source": [
    "model = Sequential()\n",
    "model.add(Conv1D(128, kernel_size=2,\n",
    "                 activation='tanh',\n",
    "                 input_shape=input_shape))\n",
    "model.add(Conv1D(64, 1, activation='tanh'))\n",
    "model.add(MaxPooling1D(pool_size=3))\n",
    "model.add(Dropout(0.25))\n",
    "model.add(Flatten())\n",
    "model.add(Dense(128, activation='tanh'))\n",
    "model.add(Dropout(0.5))\n",
    "model.add(Dense(num_classes, activation='tanh'))\n",
    "\n",
    "model.compile(loss=keras.losses.binary_crossentropy,\n",
    "              optimizer=keras.optimizers.Adadelta(),\n",
    "              metrics=['accuracy'])"
   ]
  },
  {
   "cell_type": "code",
   "execution_count": 23,
   "metadata": {},
   "outputs": [
    {
     "name": "stdout",
     "output_type": "stream",
     "text": [
      "Epoch 1/5\n",
      "5329/5329 [==============================] - 11s 2ms/step - loss: 3.2916 - accuracy: 0.4843 - val_loss: 0.8663 - val_accuracy: 0.4426\n",
      "Epoch 2/5\n",
      "5329/5329 [==============================] - 11s 2ms/step - loss: 3.1247 - accuracy: 0.4881 - val_loss: 0.8411 - val_accuracy: 0.4435\n",
      "Epoch 3/5\n",
      "5329/5329 [==============================] - 12s 2ms/step - loss: 3.1101 - accuracy: 0.4935 - val_loss: 0.8166 - val_accuracy: 0.4448\n",
      "Epoch 4/5\n",
      "5329/5329 [==============================] - 12s 2ms/step - loss: 3.0732 - accuracy: 0.4817 - val_loss: 0.8006 - val_accuracy: 0.4453\n",
      "Epoch 5/5\n",
      "5329/5329 [==============================] - 12s 2ms/step - loss: 2.9780 - accuracy: 0.5044 - val_loss: 0.7842 - val_accuracy: 0.4448\n"
     ]
    },
    {
     "data": {
      "text/plain": [
       "<tensorflow.python.keras.callbacks.History at 0x7fd05865e490>"
      ]
     },
     "execution_count": 23,
     "metadata": {},
     "output_type": "execute_result"
    }
   ],
   "source": [
    "model.fit(X_train, y_train,\n",
    "          batch_size=batch_size,\n",
    "          epochs=5,\n",
    "          verbose=1,\n",
    "          validation_data=(X_test, y_test))"
   ]
  }
 ],
 "metadata": {
  "kernelspec": {
   "display_name": "Python 3",
   "language": "python",
   "name": "python3"
  },
  "language_info": {
   "codemirror_mode": {
    "name": "ipython",
    "version": 3
   },
   "file_extension": ".py",
   "mimetype": "text/x-python",
   "name": "python",
   "nbconvert_exporter": "python",
   "pygments_lexer": "ipython3",
   "version": "3.8.5"
  }
 },
 "nbformat": 4,
 "nbformat_minor": 4
}
