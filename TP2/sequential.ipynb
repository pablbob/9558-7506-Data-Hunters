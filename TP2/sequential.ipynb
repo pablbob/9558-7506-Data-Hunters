{
 "cells": [
  {
   "cell_type": "markdown",
   "metadata": {},
   "source": [
    "# Imports"
   ]
  },
  {
   "cell_type": "code",
   "execution_count": 1,
   "metadata": {},
   "outputs": [],
   "source": [
    "import pandas as pd\n",
    "import numpy as np\n",
    "from sklearn.model_selection import train_test_split\n",
    "import keras\n",
    "from keras.models import Sequential\n",
    "from keras.layers import Dense, Dropout, Flatten\n",
    "from keras.layers import Conv1D, MaxPooling1D"
   ]
  },
  {
   "cell_type": "markdown",
   "metadata": {},
   "source": [
    "# Train"
   ]
  },
  {
   "cell_type": "code",
   "execution_count": 2,
   "metadata": {},
   "outputs": [],
   "source": [
    "train_set = pd.read_csv('train/train_encoded.csv')"
   ]
  },
  {
   "cell_type": "code",
   "execution_count": 3,
   "metadata": {},
   "outputs": [],
   "source": [
    "train_set.drop('id', axis=1, inplace=True)"
   ]
  },
  {
   "cell_type": "code",
   "execution_count": 4,
   "metadata": {},
   "outputs": [],
   "source": [
    "X, y = train_set.iloc[:,:-1],train_set.iloc[:,-1]\n",
    "X_train, X_test, y_train, y_test = train_test_split(X, y, test_size=0.3)"
   ]
  },
  {
   "cell_type": "markdown",
   "metadata": {},
   "source": [
    "# Model"
   ]
  },
  {
   "cell_type": "code",
   "execution_count": 5,
   "metadata": {},
   "outputs": [],
   "source": [
    "batch_size = 1\n",
    "num_classes = 2\n",
    "epochs = 10"
   ]
  },
  {
   "cell_type": "code",
   "execution_count": 6,
   "metadata": {},
   "outputs": [
    {
     "data": {
      "text/html": [
       "<div>\n",
       "<style scoped>\n",
       "    .dataframe tbody tr th:only-of-type {\n",
       "        vertical-align: middle;\n",
       "    }\n",
       "\n",
       "    .dataframe tbody tr th {\n",
       "        vertical-align: top;\n",
       "    }\n",
       "\n",
       "    .dataframe thead th {\n",
       "        text-align: right;\n",
       "    }\n",
       "</style>\n",
       "<table border=\"1\" class=\"dataframe\">\n",
       "  <thead>\n",
       "    <tr style=\"text-align: right;\">\n",
       "      <th></th>\n",
       "      <th>len_keyword</th>\n",
       "      <th>len_location</th>\n",
       "      <th>len_text</th>\n",
       "      <th>len_text_original</th>\n",
       "      <th>diff_len_text</th>\n",
       "      <th>keyword_sum</th>\n",
       "      <th>keyword_min</th>\n",
       "      <th>keyword_max</th>\n",
       "      <th>keyword_mean</th>\n",
       "      <th>keyword_median</th>\n",
       "      <th>...</th>\n",
       "      <th>text_sum_tf-idf</th>\n",
       "      <th>text_min_tf-idf</th>\n",
       "      <th>text_max_tf-idf</th>\n",
       "      <th>text_mean_tf-idf</th>\n",
       "      <th>text_median_tf-idf</th>\n",
       "      <th>text_sum_w2v</th>\n",
       "      <th>text_min_w2v</th>\n",
       "      <th>text_max_w2v</th>\n",
       "      <th>text_mean_w2v</th>\n",
       "      <th>text_median_w2v</th>\n",
       "    </tr>\n",
       "  </thead>\n",
       "  <tbody>\n",
       "    <tr>\n",
       "      <th>5342</th>\n",
       "      <td>11.0</td>\n",
       "      <td>17.0</td>\n",
       "      <td>64</td>\n",
       "      <td>88</td>\n",
       "      <td>24</td>\n",
       "      <td>1.000000</td>\n",
       "      <td>1.000000</td>\n",
       "      <td>1.000000</td>\n",
       "      <td>1.000000</td>\n",
       "      <td>1.000000</td>\n",
       "      <td>...</td>\n",
       "      <td>3.075644</td>\n",
       "      <td>0.126763</td>\n",
       "      <td>0.377990</td>\n",
       "      <td>0.307564</td>\n",
       "      <td>0.329847</td>\n",
       "      <td>3.893729</td>\n",
       "      <td>-0.055620</td>\n",
       "      <td>0.431871</td>\n",
       "      <td>0.086527</td>\n",
       "      <td>0.063590</td>\n",
       "    </tr>\n",
       "    <tr>\n",
       "      <th>6337</th>\n",
       "      <td>15.0</td>\n",
       "      <td>24.0</td>\n",
       "      <td>95</td>\n",
       "      <td>117</td>\n",
       "      <td>22</td>\n",
       "      <td>1.414214</td>\n",
       "      <td>0.707107</td>\n",
       "      <td>0.707107</td>\n",
       "      <td>0.707107</td>\n",
       "      <td>0.707107</td>\n",
       "      <td>...</td>\n",
       "      <td>3.361030</td>\n",
       "      <td>0.100555</td>\n",
       "      <td>0.367202</td>\n",
       "      <td>0.280086</td>\n",
       "      <td>0.285886</td>\n",
       "      <td>4.414135</td>\n",
       "      <td>-0.053262</td>\n",
       "      <td>0.268294</td>\n",
       "      <td>0.080257</td>\n",
       "      <td>0.071987</td>\n",
       "    </tr>\n",
       "    <tr>\n",
       "      <th>915</th>\n",
       "      <td>6.0</td>\n",
       "      <td>28.0</td>\n",
       "      <td>105</td>\n",
       "      <td>129</td>\n",
       "      <td>24</td>\n",
       "      <td>1.000000</td>\n",
       "      <td>1.000000</td>\n",
       "      <td>1.000000</td>\n",
       "      <td>1.000000</td>\n",
       "      <td>1.000000</td>\n",
       "      <td>...</td>\n",
       "      <td>3.782429</td>\n",
       "      <td>0.089744</td>\n",
       "      <td>0.357183</td>\n",
       "      <td>0.222496</td>\n",
       "      <td>0.233757</td>\n",
       "      <td>10.905544</td>\n",
       "      <td>-0.040835</td>\n",
       "      <td>0.497005</td>\n",
       "      <td>0.119841</td>\n",
       "      <td>0.108092</td>\n",
       "    </tr>\n",
       "    <tr>\n",
       "      <th>5690</th>\n",
       "      <td>5.0</td>\n",
       "      <td>28.0</td>\n",
       "      <td>104</td>\n",
       "      <td>107</td>\n",
       "      <td>3</td>\n",
       "      <td>1.000000</td>\n",
       "      <td>1.000000</td>\n",
       "      <td>1.000000</td>\n",
       "      <td>1.000000</td>\n",
       "      <td>1.000000</td>\n",
       "      <td>...</td>\n",
       "      <td>5.714941</td>\n",
       "      <td>0.086989</td>\n",
       "      <td>0.457572</td>\n",
       "      <td>0.285747</td>\n",
       "      <td>0.262499</td>\n",
       "      <td>38.922700</td>\n",
       "      <td>-0.041069</td>\n",
       "      <td>1.000000</td>\n",
       "      <td>0.286196</td>\n",
       "      <td>0.238599</td>\n",
       "    </tr>\n",
       "    <tr>\n",
       "      <th>3029</th>\n",
       "      <td>9.0</td>\n",
       "      <td>0.0</td>\n",
       "      <td>98</td>\n",
       "      <td>121</td>\n",
       "      <td>23</td>\n",
       "      <td>1.000000</td>\n",
       "      <td>1.000000</td>\n",
       "      <td>1.000000</td>\n",
       "      <td>1.000000</td>\n",
       "      <td>1.000000</td>\n",
       "      <td>...</td>\n",
       "      <td>3.289223</td>\n",
       "      <td>0.085256</td>\n",
       "      <td>0.346145</td>\n",
       "      <td>0.274102</td>\n",
       "      <td>0.322001</td>\n",
       "      <td>1.882967</td>\n",
       "      <td>-0.016486</td>\n",
       "      <td>0.282174</td>\n",
       "      <td>0.089665</td>\n",
       "      <td>0.091887</td>\n",
       "    </tr>\n",
       "    <tr>\n",
       "      <th>...</th>\n",
       "      <td>...</td>\n",
       "      <td>...</td>\n",
       "      <td>...</td>\n",
       "      <td>...</td>\n",
       "      <td>...</td>\n",
       "      <td>...</td>\n",
       "      <td>...</td>\n",
       "      <td>...</td>\n",
       "      <td>...</td>\n",
       "      <td>...</td>\n",
       "      <td>...</td>\n",
       "      <td>...</td>\n",
       "      <td>...</td>\n",
       "      <td>...</td>\n",
       "      <td>...</td>\n",
       "      <td>...</td>\n",
       "      <td>...</td>\n",
       "      <td>...</td>\n",
       "      <td>...</td>\n",
       "      <td>...</td>\n",
       "      <td>...</td>\n",
       "    </tr>\n",
       "    <tr>\n",
       "      <th>1225</th>\n",
       "      <td>10.0</td>\n",
       "      <td>13.0</td>\n",
       "      <td>114</td>\n",
       "      <td>117</td>\n",
       "      <td>3</td>\n",
       "      <td>1.413688</td>\n",
       "      <td>0.687569</td>\n",
       "      <td>0.726119</td>\n",
       "      <td>0.706844</td>\n",
       "      <td>0.706844</td>\n",
       "      <td>...</td>\n",
       "      <td>4.449931</td>\n",
       "      <td>0.083032</td>\n",
       "      <td>0.337116</td>\n",
       "      <td>0.202270</td>\n",
       "      <td>0.189729</td>\n",
       "      <td>16.265894</td>\n",
       "      <td>-0.063523</td>\n",
       "      <td>0.482684</td>\n",
       "      <td>0.106313</td>\n",
       "      <td>0.089853</td>\n",
       "    </tr>\n",
       "    <tr>\n",
       "      <th>3215</th>\n",
       "      <td>12.0</td>\n",
       "      <td>8.0</td>\n",
       "      <td>66</td>\n",
       "      <td>88</td>\n",
       "      <td>22</td>\n",
       "      <td>1.402200</td>\n",
       "      <td>0.609129</td>\n",
       "      <td>0.793071</td>\n",
       "      <td>0.701100</td>\n",
       "      <td>0.701100</td>\n",
       "      <td>...</td>\n",
       "      <td>3.045940</td>\n",
       "      <td>0.108639</td>\n",
       "      <td>0.432385</td>\n",
       "      <td>0.276904</td>\n",
       "      <td>0.268736</td>\n",
       "      <td>4.455212</td>\n",
       "      <td>-0.002509</td>\n",
       "      <td>0.363886</td>\n",
       "      <td>0.123756</td>\n",
       "      <td>0.101253</td>\n",
       "    </tr>\n",
       "    <tr>\n",
       "      <th>5789</th>\n",
       "      <td>4.0</td>\n",
       "      <td>18.0</td>\n",
       "      <td>128</td>\n",
       "      <td>128</td>\n",
       "      <td>0</td>\n",
       "      <td>1.000000</td>\n",
       "      <td>1.000000</td>\n",
       "      <td>1.000000</td>\n",
       "      <td>1.000000</td>\n",
       "      <td>1.000000</td>\n",
       "      <td>...</td>\n",
       "      <td>4.911973</td>\n",
       "      <td>0.089455</td>\n",
       "      <td>0.351161</td>\n",
       "      <td>0.213564</td>\n",
       "      <td>0.218253</td>\n",
       "      <td>48.070689</td>\n",
       "      <td>-0.068548</td>\n",
       "      <td>1.000000</td>\n",
       "      <td>0.228908</td>\n",
       "      <td>0.189672</td>\n",
       "    </tr>\n",
       "    <tr>\n",
       "      <th>349</th>\n",
       "      <td>4.0</td>\n",
       "      <td>0.0</td>\n",
       "      <td>44</td>\n",
       "      <td>89</td>\n",
       "      <td>45</td>\n",
       "      <td>1.000000</td>\n",
       "      <td>1.000000</td>\n",
       "      <td>1.000000</td>\n",
       "      <td>1.000000</td>\n",
       "      <td>1.000000</td>\n",
       "      <td>...</td>\n",
       "      <td>2.837199</td>\n",
       "      <td>0.141578</td>\n",
       "      <td>0.433233</td>\n",
       "      <td>0.315244</td>\n",
       "      <td>0.360362</td>\n",
       "      <td>2.613822</td>\n",
       "      <td>0.004426</td>\n",
       "      <td>0.376678</td>\n",
       "      <td>0.124468</td>\n",
       "      <td>0.121230</td>\n",
       "    </tr>\n",
       "    <tr>\n",
       "      <th>1205</th>\n",
       "      <td>10.0</td>\n",
       "      <td>15.0</td>\n",
       "      <td>137</td>\n",
       "      <td>137</td>\n",
       "      <td>0</td>\n",
       "      <td>1.413688</td>\n",
       "      <td>0.687569</td>\n",
       "      <td>0.726119</td>\n",
       "      <td>0.706844</td>\n",
       "      <td>0.706844</td>\n",
       "      <td>...</td>\n",
       "      <td>4.927587</td>\n",
       "      <td>0.127288</td>\n",
       "      <td>0.369391</td>\n",
       "      <td>0.223981</td>\n",
       "      <td>0.193365</td>\n",
       "      <td>37.364082</td>\n",
       "      <td>-0.024492</td>\n",
       "      <td>1.000000</td>\n",
       "      <td>0.196653</td>\n",
       "      <td>0.148816</td>\n",
       "    </tr>\n",
       "  </tbody>\n",
       "</table>\n",
       "<p>5329 rows × 25 columns</p>\n",
       "</div>"
      ],
      "text/plain": [
       "      len_keyword  len_location  len_text  len_text_original  diff_len_text  \\\n",
       "5342         11.0          17.0        64                 88             24   \n",
       "6337         15.0          24.0        95                117             22   \n",
       "915           6.0          28.0       105                129             24   \n",
       "5690          5.0          28.0       104                107              3   \n",
       "3029          9.0           0.0        98                121             23   \n",
       "...           ...           ...       ...                ...            ...   \n",
       "1225         10.0          13.0       114                117              3   \n",
       "3215         12.0           8.0        66                 88             22   \n",
       "5789          4.0          18.0       128                128              0   \n",
       "349           4.0           0.0        44                 89             45   \n",
       "1205         10.0          15.0       137                137              0   \n",
       "\n",
       "      keyword_sum  keyword_min  keyword_max  keyword_mean  keyword_median  \\\n",
       "5342     1.000000     1.000000     1.000000      1.000000        1.000000   \n",
       "6337     1.414214     0.707107     0.707107      0.707107        0.707107   \n",
       "915      1.000000     1.000000     1.000000      1.000000        1.000000   \n",
       "5690     1.000000     1.000000     1.000000      1.000000        1.000000   \n",
       "3029     1.000000     1.000000     1.000000      1.000000        1.000000   \n",
       "...           ...          ...          ...           ...             ...   \n",
       "1225     1.413688     0.687569     0.726119      0.706844        0.706844   \n",
       "3215     1.402200     0.609129     0.793071      0.701100        0.701100   \n",
       "5789     1.000000     1.000000     1.000000      1.000000        1.000000   \n",
       "349      1.000000     1.000000     1.000000      1.000000        1.000000   \n",
       "1205     1.413688     0.687569     0.726119      0.706844        0.706844   \n",
       "\n",
       "      ...  text_sum_tf-idf  text_min_tf-idf  text_max_tf-idf  \\\n",
       "5342  ...         3.075644         0.126763         0.377990   \n",
       "6337  ...         3.361030         0.100555         0.367202   \n",
       "915   ...         3.782429         0.089744         0.357183   \n",
       "5690  ...         5.714941         0.086989         0.457572   \n",
       "3029  ...         3.289223         0.085256         0.346145   \n",
       "...   ...              ...              ...              ...   \n",
       "1225  ...         4.449931         0.083032         0.337116   \n",
       "3215  ...         3.045940         0.108639         0.432385   \n",
       "5789  ...         4.911973         0.089455         0.351161   \n",
       "349   ...         2.837199         0.141578         0.433233   \n",
       "1205  ...         4.927587         0.127288         0.369391   \n",
       "\n",
       "      text_mean_tf-idf  text_median_tf-idf  text_sum_w2v  text_min_w2v  \\\n",
       "5342          0.307564            0.329847      3.893729     -0.055620   \n",
       "6337          0.280086            0.285886      4.414135     -0.053262   \n",
       "915           0.222496            0.233757     10.905544     -0.040835   \n",
       "5690          0.285747            0.262499     38.922700     -0.041069   \n",
       "3029          0.274102            0.322001      1.882967     -0.016486   \n",
       "...                ...                 ...           ...           ...   \n",
       "1225          0.202270            0.189729     16.265894     -0.063523   \n",
       "3215          0.276904            0.268736      4.455212     -0.002509   \n",
       "5789          0.213564            0.218253     48.070689     -0.068548   \n",
       "349           0.315244            0.360362      2.613822      0.004426   \n",
       "1205          0.223981            0.193365     37.364082     -0.024492   \n",
       "\n",
       "      text_max_w2v  text_mean_w2v  text_median_w2v  \n",
       "5342      0.431871       0.086527         0.063590  \n",
       "6337      0.268294       0.080257         0.071987  \n",
       "915       0.497005       0.119841         0.108092  \n",
       "5690      1.000000       0.286196         0.238599  \n",
       "3029      0.282174       0.089665         0.091887  \n",
       "...            ...            ...              ...  \n",
       "1225      0.482684       0.106313         0.089853  \n",
       "3215      0.363886       0.123756         0.101253  \n",
       "5789      1.000000       0.228908         0.189672  \n",
       "349       0.376678       0.124468         0.121230  \n",
       "1205      1.000000       0.196653         0.148816  \n",
       "\n",
       "[5329 rows x 25 columns]"
      ]
     },
     "execution_count": 6,
     "metadata": {},
     "output_type": "execute_result"
    }
   ],
   "source": [
    "X_train"
   ]
  },
  {
   "cell_type": "code",
   "execution_count": 7,
   "metadata": {},
   "outputs": [],
   "source": [
    "X_train = np.expand_dims(X_train, axis=2)\n",
    "X_test = np.expand_dims(X_test, axis=2)"
   ]
  },
  {
   "cell_type": "code",
   "execution_count": 8,
   "metadata": {},
   "outputs": [
    {
     "data": {
      "text/plain": [
       "(5329, 25, 1)"
      ]
     },
     "execution_count": 8,
     "metadata": {},
     "output_type": "execute_result"
    }
   ],
   "source": [
    "X_train.shape"
   ]
  },
  {
   "cell_type": "code",
   "execution_count": 9,
   "metadata": {},
   "outputs": [
    {
     "data": {
      "text/plain": [
       "(25, 1)"
      ]
     },
     "execution_count": 9,
     "metadata": {},
     "output_type": "execute_result"
    }
   ],
   "source": [
    "input_shape = (X_train.shape[1], 1)\n",
    "input_shape"
   ]
  },
  {
   "cell_type": "markdown",
   "metadata": {},
   "source": [
    "## Relu"
   ]
  },
  {
   "cell_type": "code",
   "execution_count": 10,
   "metadata": {},
   "outputs": [],
   "source": [
    "model = Sequential()\n",
    "model.add(Conv1D(128, kernel_size=2,\n",
    "                 activation='relu',\n",
    "                 input_shape=input_shape))\n",
    "model.add(Conv1D(64, 1, activation='relu'))\n",
    "model.add(MaxPooling1D(pool_size=3))\n",
    "model.add(Dropout(0.25))\n",
    "model.add(Flatten())\n",
    "model.add(Dense(128, activation='relu'))\n",
    "model.add(Dropout(0.5))\n",
    "model.add(Dense(num_classes, activation='relu'))\n",
    "\n",
    "model.compile(loss=keras.losses.binary_crossentropy,\n",
    "              optimizer=keras.optimizers.Adadelta(),\n",
    "              metrics=['accuracy'])"
   ]
  },
  {
   "cell_type": "code",
   "execution_count": 11,
   "metadata": {},
   "outputs": [
    {
     "name": "stdout",
     "output_type": "stream",
     "text": [
      "Model: \"sequential\"\n",
      "_________________________________________________________________\n",
      "Layer (type)                 Output Shape              Param #   \n",
      "=================================================================\n",
      "conv1d (Conv1D)              (None, 24, 128)           384       \n",
      "_________________________________________________________________\n",
      "conv1d_1 (Conv1D)            (None, 24, 64)            8256      \n",
      "_________________________________________________________________\n",
      "max_pooling1d (MaxPooling1D) (None, 8, 64)             0         \n",
      "_________________________________________________________________\n",
      "dropout (Dropout)            (None, 8, 64)             0         \n",
      "_________________________________________________________________\n",
      "flatten (Flatten)            (None, 512)               0         \n",
      "_________________________________________________________________\n",
      "dense (Dense)                (None, 128)               65664     \n",
      "_________________________________________________________________\n",
      "dropout_1 (Dropout)          (None, 128)               0         \n",
      "_________________________________________________________________\n",
      "dense_1 (Dense)              (None, 2)                 258       \n",
      "=================================================================\n",
      "Total params: 74,562\n",
      "Trainable params: 74,562\n",
      "Non-trainable params: 0\n",
      "_________________________________________________________________\n"
     ]
    }
   ],
   "source": [
    "model.summary()"
   ]
  },
  {
   "cell_type": "code",
   "execution_count": 12,
   "metadata": {},
   "outputs": [
    {
     "name": "stdout",
     "output_type": "stream",
     "text": [
      "Epoch 1/5\n",
      "5329/5329 [==============================] - 15s 3ms/step - loss: 6.8646 - accuracy: 0.5035 - val_loss: 4.4601 - val_accuracy: 0.5381\n",
      "Epoch 2/5\n",
      "5329/5329 [==============================] - 15s 3ms/step - loss: 6.8202 - accuracy: 0.5112 - val_loss: 4.6010 - val_accuracy: 0.5679\n",
      "Epoch 3/5\n",
      "5329/5329 [==============================] - 15s 3ms/step - loss: 6.6942 - accuracy: 0.5151 - val_loss: 4.7952 - val_accuracy: 0.5880\n",
      "Epoch 4/5\n",
      "5329/5329 [==============================] - 15s 3ms/step - loss: 6.7665 - accuracy: 0.5115 - val_loss: 5.1324 - val_accuracy: 0.5827\n",
      "Epoch 5/5\n",
      "5329/5329 [==============================] - 15s 3ms/step - loss: 6.7819 - accuracy: 0.5061 - val_loss: 5.5604 - val_accuracy: 0.5771\n"
     ]
    },
    {
     "data": {
      "text/plain": [
       "<tensorflow.python.keras.callbacks.History at 0x7f8804202bb0>"
      ]
     },
     "execution_count": 12,
     "metadata": {},
     "output_type": "execute_result"
    }
   ],
   "source": [
    "model.fit(X_train, y_train,\n",
    "          batch_size=batch_size,\n",
    "          epochs=5,\n",
    "          verbose=1,\n",
    "          validation_data=(X_test, y_test))"
   ]
  },
  {
   "cell_type": "code",
   "execution_count": 29,
   "metadata": {},
   "outputs": [],
   "source": [
    "model = Sequential()\n",
    "model.add(Conv1D(128, kernel_size=3,\n",
    "                 activation='relu',\n",
    "                 input_shape=input_shape))\n",
    "model.add(MaxPooling1D(pool_size=4))\n",
    "model.add(Dropout(0.25))\n",
    "model.add(Dense(128))\n",
    "model.add(Conv1D(filters=32, kernel_size=1, activation='relu'))\n",
    "model.add(MaxPooling1D(pool_size=2))\n",
    "model.add(Conv1D(64, 1))\n",
    "model.add(MaxPooling1D(pool_size=1))\n",
    "model.add(Flatten())\n",
    "model.add(Dense(num_classes, activation='relu'))\n",
    "\n",
    "model.compile(loss=keras.losses.binary_crossentropy,\n",
    "              optimizer=keras.optimizers.Adadelta(),\n",
    "              metrics=['accuracy'])"
   ]
  },
  {
   "cell_type": "code",
   "execution_count": 30,
   "metadata": {},
   "outputs": [
    {
     "name": "stdout",
     "output_type": "stream",
     "text": [
      "Model: \"sequential_7\"\n",
      "_________________________________________________________________\n",
      "Layer (type)                 Output Shape              Param #   \n",
      "=================================================================\n",
      "conv1d_21 (Conv1D)           (None, 23, 128)           512       \n",
      "_________________________________________________________________\n",
      "max_pooling1d_18 (MaxPooling (None, 5, 128)            0         \n",
      "_________________________________________________________________\n",
      "dropout_10 (Dropout)         (None, 5, 128)            0         \n",
      "_________________________________________________________________\n",
      "dense_14 (Dense)             (None, 5, 128)            16512     \n",
      "_________________________________________________________________\n",
      "conv1d_22 (Conv1D)           (None, 5, 32)             4128      \n",
      "_________________________________________________________________\n",
      "max_pooling1d_19 (MaxPooling (None, 2, 32)             0         \n",
      "_________________________________________________________________\n",
      "conv1d_23 (Conv1D)           (None, 2, 64)             2112      \n",
      "_________________________________________________________________\n",
      "max_pooling1d_20 (MaxPooling (None, 2, 64)             0         \n",
      "_________________________________________________________________\n",
      "flatten_7 (Flatten)          (None, 128)               0         \n",
      "_________________________________________________________________\n",
      "dense_15 (Dense)             (None, 2)                 258       \n",
      "=================================================================\n",
      "Total params: 23,522\n",
      "Trainable params: 23,522\n",
      "Non-trainable params: 0\n",
      "_________________________________________________________________\n"
     ]
    }
   ],
   "source": [
    "model.summary()"
   ]
  },
  {
   "cell_type": "code",
   "execution_count": 31,
   "metadata": {},
   "outputs": [
    {
     "name": "stdout",
     "output_type": "stream",
     "text": [
      "Epoch 1/5\n",
      "5329/5329 [==============================] - 13s 3ms/step - loss: 6.2114 - accuracy: 0.5267 - val_loss: 4.4661 - val_accuracy: 0.5604\n",
      "Epoch 2/5\n",
      "5329/5329 [==============================] - 13s 2ms/step - loss: 6.1241 - accuracy: 0.5500 - val_loss: 4.3443 - val_accuracy: 0.5604\n",
      "Epoch 3/5\n",
      "5329/5329 [==============================] - 13s 2ms/step - loss: 6.1773 - accuracy: 0.5395 - val_loss: 4.3340 - val_accuracy: 0.5604\n",
      "Epoch 4/5\n",
      "5329/5329 [==============================] - 13s 2ms/step - loss: 6.1055 - accuracy: 0.5418 - val_loss: 4.3657 - val_accuracy: 0.5604\n",
      "Epoch 5/5\n",
      "5329/5329 [==============================] - 13s 2ms/step - loss: 6.1175 - accuracy: 0.5498 - val_loss: 4.7079 - val_accuracy: 0.5604\n"
     ]
    },
    {
     "data": {
      "text/plain": [
       "<tensorflow.python.keras.callbacks.History at 0x7f87d6f6f370>"
      ]
     },
     "execution_count": 31,
     "metadata": {},
     "output_type": "execute_result"
    }
   ],
   "source": [
    "model.fit(X_train, y_train,\n",
    "          batch_size=batch_size,\n",
    "          epochs=5,\n",
    "          verbose=1,\n",
    "          validation_data=(X_test, y_test))"
   ]
  },
  {
   "cell_type": "code",
   "execution_count": 16,
   "metadata": {},
   "outputs": [],
   "source": [
    "model = Sequential()\n",
    "model.add(Conv1D(1024, kernel_size=1,\n",
    "                 activation='relu',\n",
    "                 input_shape=input_shape))\n",
    "model.add(MaxPooling1D(pool_size=10))\n",
    "model.add(Dropout(0.25))\n",
    "model.add(Dense(512))\n",
    "model.add(Conv1D(filters=32, kernel_size=1, activation='relu'))\n",
    "model.add(MaxPooling1D(pool_size=1))\n",
    "model.add(Conv1D(216, 1))\n",
    "model.add(MaxPooling1D(pool_size=1))\n",
    "model.add(Conv1D(128, 1))\n",
    "model.add(MaxPooling1D(pool_size=1))\n",
    "model.add(Conv1D(64, 1, activation='relu'))\n",
    "model.add(MaxPooling1D(pool_size=1))\n",
    "model.add(Conv1D(32, 1, activation='relu'))\n",
    "model.add(MaxPooling1D(pool_size=1))\n",
    "model.add(Flatten())\n",
    "model.add(Dense(num_classes, activation='relu'))\n",
    "\n",
    "model.compile(loss=keras.losses.binary_crossentropy,\n",
    "              optimizer=keras.optimizers.Adadelta(),\n",
    "              metrics=['accuracy'])"
   ]
  },
  {
   "cell_type": "code",
   "execution_count": 17,
   "metadata": {},
   "outputs": [
    {
     "name": "stdout",
     "output_type": "stream",
     "text": [
      "Model: \"sequential_2\"\n",
      "_________________________________________________________________\n",
      "Layer (type)                 Output Shape              Param #   \n",
      "=================================================================\n",
      "conv1d_5 (Conv1D)            (None, 25, 1024)          2048      \n",
      "_________________________________________________________________\n",
      "max_pooling1d_4 (MaxPooling1 (None, 2, 1024)           0         \n",
      "_________________________________________________________________\n",
      "dropout_3 (Dropout)          (None, 2, 1024)           0         \n",
      "_________________________________________________________________\n",
      "dense_4 (Dense)              (None, 2, 512)            524800    \n",
      "_________________________________________________________________\n",
      "conv1d_6 (Conv1D)            (None, 2, 32)             16416     \n",
      "_________________________________________________________________\n",
      "max_pooling1d_5 (MaxPooling1 (None, 2, 32)             0         \n",
      "_________________________________________________________________\n",
      "conv1d_7 (Conv1D)            (None, 2, 216)            7128      \n",
      "_________________________________________________________________\n",
      "max_pooling1d_6 (MaxPooling1 (None, 2, 216)            0         \n",
      "_________________________________________________________________\n",
      "conv1d_8 (Conv1D)            (None, 2, 128)            27776     \n",
      "_________________________________________________________________\n",
      "max_pooling1d_7 (MaxPooling1 (None, 2, 128)            0         \n",
      "_________________________________________________________________\n",
      "conv1d_9 (Conv1D)            (None, 2, 64)             8256      \n",
      "_________________________________________________________________\n",
      "max_pooling1d_8 (MaxPooling1 (None, 2, 64)             0         \n",
      "_________________________________________________________________\n",
      "conv1d_10 (Conv1D)           (None, 2, 32)             2080      \n",
      "_________________________________________________________________\n",
      "max_pooling1d_9 (MaxPooling1 (None, 2, 32)             0         \n",
      "_________________________________________________________________\n",
      "flatten_2 (Flatten)          (None, 64)                0         \n",
      "_________________________________________________________________\n",
      "dense_5 (Dense)              (None, 2)                 130       \n",
      "=================================================================\n",
      "Total params: 588,634\n",
      "Trainable params: 588,634\n",
      "Non-trainable params: 0\n",
      "_________________________________________________________________\n"
     ]
    }
   ],
   "source": [
    "model.summary()"
   ]
  },
  {
   "cell_type": "code",
   "execution_count": 18,
   "metadata": {},
   "outputs": [
    {
     "name": "stdout",
     "output_type": "stream",
     "text": [
      "Epoch 1/5\n",
      "5329/5329 [==============================] - 39s 7ms/step - loss: 2.4844 - accuracy: 0.5530 - val_loss: 0.6835 - val_accuracy: 0.4396\n",
      "Epoch 2/5\n",
      "5329/5329 [==============================] - 40s 7ms/step - loss: 1.4301 - accuracy: 0.5159 - val_loss: 0.6968 - val_accuracy: 0.4396\n",
      "Epoch 3/5\n",
      "5329/5329 [==============================] - 40s 7ms/step - loss: 1.1064 - accuracy: 0.5123 - val_loss: 0.6841 - val_accuracy: 0.4396\n",
      "Epoch 4/5\n",
      "5329/5329 [==============================] - 39s 7ms/step - loss: 0.9168 - accuracy: 0.4881 - val_loss: 0.6818 - val_accuracy: 0.4396\n",
      "Epoch 5/5\n",
      "5329/5329 [==============================] - 40s 7ms/step - loss: 0.8030 - accuracy: 0.4950 - val_loss: 0.6800 - val_accuracy: 0.4326\n"
     ]
    },
    {
     "data": {
      "text/plain": [
       "<tensorflow.python.keras.callbacks.History at 0x7f87db7c0df0>"
      ]
     },
     "execution_count": 18,
     "metadata": {},
     "output_type": "execute_result"
    }
   ],
   "source": [
    "model.fit(X_train, y_train,\n",
    "          batch_size=batch_size,\n",
    "          epochs=5,\n",
    "          verbose=1,\n",
    "          validation_data=(X_test, y_test))"
   ]
  },
  {
   "cell_type": "markdown",
   "metadata": {},
   "source": [
    "## Softmax"
   ]
  },
  {
   "cell_type": "code",
   "execution_count": 19,
   "metadata": {},
   "outputs": [],
   "source": [
    "model = Sequential()\n",
    "model.add(Conv1D(128, kernel_size=2,\n",
    "                 activation='softmax',\n",
    "                 input_shape=input_shape))\n",
    "model.add(Conv1D(64, 1, activation='softmax'))\n",
    "model.add(MaxPooling1D(pool_size=3))\n",
    "model.add(Dropout(0.25))\n",
    "model.add(Flatten())\n",
    "model.add(Dense(128, activation='softmax'))\n",
    "model.add(Dropout(0.5))\n",
    "model.add(Dense(num_classes, activation='softmax'))\n",
    "\n",
    "model.compile(loss=keras.losses.binary_crossentropy,\n",
    "              optimizer=keras.optimizers.Adadelta(),\n",
    "              metrics=['accuracy'])"
   ]
  },
  {
   "cell_type": "code",
   "execution_count": 20,
   "metadata": {},
   "outputs": [
    {
     "name": "stdout",
     "output_type": "stream",
     "text": [
      "Epoch 1/5\n",
      "5329/5329 [==============================] - 18s 3ms/step - loss: 0.6932 - accuracy: 0.5179 - val_loss: 0.6931 - val_accuracy: 0.5604\n",
      "Epoch 2/5\n",
      "5329/5329 [==============================] - 17s 3ms/step - loss: 0.6932 - accuracy: 0.5059 - val_loss: 0.6931 - val_accuracy: 0.5604\n",
      "Epoch 3/5\n",
      "5329/5329 [==============================] - 18s 3ms/step - loss: 0.6932 - accuracy: 0.4982 - val_loss: 0.6931 - val_accuracy: 0.5604\n",
      "Epoch 4/5\n",
      "5329/5329 [==============================] - 19s 3ms/step - loss: 0.6932 - accuracy: 0.4849 - val_loss: 0.6931 - val_accuracy: 0.5604\n",
      "Epoch 5/5\n",
      "5329/5329 [==============================] - 17s 3ms/step - loss: 0.6932 - accuracy: 0.4932 - val_loss: 0.6931 - val_accuracy: 0.5604\n"
     ]
    },
    {
     "data": {
      "text/plain": [
       "<tensorflow.python.keras.callbacks.History at 0x7f87db593ca0>"
      ]
     },
     "execution_count": 20,
     "metadata": {},
     "output_type": "execute_result"
    }
   ],
   "source": [
    "model.fit(X_train, y_train,\n",
    "          batch_size=batch_size,\n",
    "          epochs=5,\n",
    "          verbose=1,\n",
    "          validation_data=(X_test, y_test))"
   ]
  },
  {
   "cell_type": "markdown",
   "metadata": {},
   "source": [
    "## Tanh"
   ]
  },
  {
   "cell_type": "code",
   "execution_count": 21,
   "metadata": {},
   "outputs": [],
   "source": [
    "model = Sequential()\n",
    "model.add(Conv1D(128, kernel_size=2,\n",
    "                 activation='tanh',\n",
    "                 input_shape=input_shape))\n",
    "model.add(Conv1D(64, 1, activation='tanh'))\n",
    "model.add(MaxPooling1D(pool_size=3))\n",
    "model.add(Dropout(0.25))\n",
    "model.add(Flatten())\n",
    "model.add(Dense(128, activation='tanh'))\n",
    "model.add(Dropout(0.5))\n",
    "model.add(Dense(num_classes, activation='tanh'))\n",
    "\n",
    "model.compile(loss=keras.losses.binary_crossentropy,\n",
    "              optimizer=keras.optimizers.Adadelta(),\n",
    "              metrics=['accuracy'])"
   ]
  },
  {
   "cell_type": "code",
   "execution_count": 22,
   "metadata": {},
   "outputs": [
    {
     "name": "stdout",
     "output_type": "stream",
     "text": [
      "Epoch 1/5\n",
      "5329/5329 [==============================] - 16s 3ms/step - loss: 1.7749 - accuracy: 0.4780 - val_loss: 0.7248 - val_accuracy: 0.4256\n",
      "Epoch 2/5\n",
      "5329/5329 [==============================] - 16s 3ms/step - loss: 2.0569 - accuracy: 0.4898 - val_loss: 0.6943 - val_accuracy: 0.4247\n",
      "Epoch 3/5\n",
      "5329/5329 [==============================] - 17s 3ms/step - loss: 2.1810 - accuracy: 0.4916 - val_loss: 0.6872 - val_accuracy: 0.4286\n",
      "Epoch 4/5\n",
      "5329/5329 [==============================] - 17s 3ms/step - loss: 2.2992 - accuracy: 0.4935 - val_loss: 0.6903 - val_accuracy: 0.4251\n",
      "Epoch 5/5\n",
      "5329/5329 [==============================] - 19s 3ms/step - loss: 2.3886 - accuracy: 0.4875 - val_loss: 0.6973 - val_accuracy: 0.4260\n"
     ]
    },
    {
     "data": {
      "text/plain": [
       "<tensorflow.python.keras.callbacks.History at 0x7f87db3ab250>"
      ]
     },
     "execution_count": 22,
     "metadata": {},
     "output_type": "execute_result"
    }
   ],
   "source": [
    "model.fit(X_train, y_train,\n",
    "          batch_size=batch_size,\n",
    "          epochs=5,\n",
    "          verbose=1,\n",
    "          validation_data=(X_test, y_test))"
   ]
  },
  {
   "cell_type": "markdown",
   "metadata": {},
   "source": [
    "# Mix"
   ]
  },
  {
   "cell_type": "code",
   "execution_count": 50,
   "metadata": {},
   "outputs": [],
   "source": [
    "model = Sequential()\n",
    "model.add(Conv1D(128, kernel_size=1,\n",
    "                 activation='relu',\n",
    "                 input_shape=input_shape))\n",
    "model.add(MaxPooling1D(pool_size=3))\n",
    "model.add(Dropout(0.25))\n",
    "model.add(Dense(128))\n",
    "model.add(Conv1D(filters=32, kernel_size=1, activation='relu'))\n",
    "model.add(MaxPooling1D(pool_size=3))\n",
    "model.add(Conv1D(64, 1))\n",
    "model.add(MaxPooling1D(pool_size=2))\n",
    "model.add(Flatten())\n",
    "model.add(Dropout(0.5))\n",
    "model.add(Dense(num_classes, activation='relu'))\n",
    "\n",
    "model.compile(loss=keras.losses.binary_crossentropy,\n",
    "              optimizer=keras.optimizers.Adadelta(),\n",
    "              metrics=['accuracy'])"
   ]
  },
  {
   "cell_type": "code",
   "execution_count": 51,
   "metadata": {},
   "outputs": [
    {
     "name": "stdout",
     "output_type": "stream",
     "text": [
      "Model: \"sequential_18\"\n",
      "_________________________________________________________________\n",
      "Layer (type)                 Output Shape              Param #   \n",
      "=================================================================\n",
      "conv1d_54 (Conv1D)           (None, 25, 128)           256       \n",
      "_________________________________________________________________\n",
      "max_pooling1d_51 (MaxPooling (None, 8, 128)            0         \n",
      "_________________________________________________________________\n",
      "dropout_21 (Dropout)         (None, 8, 128)            0         \n",
      "_________________________________________________________________\n",
      "dense_33 (Dense)             (None, 8, 128)            16512     \n",
      "_________________________________________________________________\n",
      "conv1d_55 (Conv1D)           (None, 8, 32)             4128      \n",
      "_________________________________________________________________\n",
      "max_pooling1d_52 (MaxPooling (None, 2, 32)             0         \n",
      "_________________________________________________________________\n",
      "conv1d_56 (Conv1D)           (None, 2, 64)             2112      \n",
      "_________________________________________________________________\n",
      "max_pooling1d_53 (MaxPooling (None, 1, 64)             0         \n",
      "_________________________________________________________________\n",
      "flatten_15 (Flatten)         (None, 64)                0         \n",
      "_________________________________________________________________\n",
      "dropout_22 (Dropout)         (None, 64)                0         \n",
      "_________________________________________________________________\n",
      "dense_34 (Dense)             (None, 2)                 130       \n",
      "=================================================================\n",
      "Total params: 23,138\n",
      "Trainable params: 23,138\n",
      "Non-trainable params: 0\n",
      "_________________________________________________________________\n"
     ]
    }
   ],
   "source": [
    "model.summary()"
   ]
  },
  {
   "cell_type": "code",
   "execution_count": 52,
   "metadata": {},
   "outputs": [
    {
     "name": "stdout",
     "output_type": "stream",
     "text": [
      "Epoch 1/5\n",
      "5329/5329 [==============================] - 13s 2ms/step - loss: 7.0154 - accuracy: 0.5624 - val_loss: 5.9613 - val_accuracy: 0.5604\n",
      "Epoch 2/5\n",
      "5329/5329 [==============================] - 13s 2ms/step - loss: 6.9847 - accuracy: 0.5556 - val_loss: 5.1425 - val_accuracy: 0.5604\n",
      "Epoch 3/5\n",
      "5329/5329 [==============================] - 12s 2ms/step - loss: 7.0743 - accuracy: 0.5611 - val_loss: 3.7929 - val_accuracy: 0.5604\n",
      "Epoch 4/5\n",
      "5329/5329 [==============================] - 13s 2ms/step - loss: 7.0109 - accuracy: 0.5573 - val_loss: 3.7520 - val_accuracy: 0.5604\n",
      "Epoch 5/5\n",
      "5329/5329 [==============================] - 13s 2ms/step - loss: 6.9930 - accuracy: 0.5592 - val_loss: 3.7330 - val_accuracy: 0.5604\n"
     ]
    },
    {
     "data": {
      "text/plain": [
       "<tensorflow.python.keras.callbacks.History at 0x7f87d6979ca0>"
      ]
     },
     "execution_count": 52,
     "metadata": {},
     "output_type": "execute_result"
    }
   ],
   "source": [
    "model.fit(X_train, y_train,\n",
    "          batch_size=batch_size,\n",
    "          epochs=5,\n",
    "          verbose=1,\n",
    "          validation_data=(X_test, y_test))"
   ]
  },
  {
   "cell_type": "markdown",
   "metadata": {},
   "source": [
    "## Text w2v"
   ]
  },
  {
   "cell_type": "code",
   "execution_count": 3,
   "metadata": {},
   "outputs": [],
   "source": [
    "train_set = pd.read_csv('train/text_encoded_w2v.csv')"
   ]
  },
  {
   "cell_type": "code",
   "execution_count": 4,
   "metadata": {},
   "outputs": [],
   "source": [
    "X, y = train_set.iloc[:,:-1],train_set.iloc[:,-1]\n",
    "X_train, X_test, y_train, y_test = train_test_split(X, y, test_size=0.3)"
   ]
  },
  {
   "cell_type": "markdown",
   "metadata": {},
   "source": [
    "# Model"
   ]
  },
  {
   "cell_type": "code",
   "execution_count": 5,
   "metadata": {},
   "outputs": [],
   "source": [
    "batch_size = 1\n",
    "num_classes = 2\n",
    "epochs = 10"
   ]
  },
  {
   "cell_type": "code",
   "execution_count": 6,
   "metadata": {},
   "outputs": [
    {
     "data": {
      "text/html": [
       "<div>\n",
       "<style scoped>\n",
       "    .dataframe tbody tr th:only-of-type {\n",
       "        vertical-align: middle;\n",
       "    }\n",
       "\n",
       "    .dataframe tbody tr th {\n",
       "        vertical-align: top;\n",
       "    }\n",
       "\n",
       "    .dataframe thead th {\n",
       "        text-align: right;\n",
       "    }\n",
       "</style>\n",
       "<table border=\"1\" class=\"dataframe\">\n",
       "  <thead>\n",
       "    <tr style=\"text-align: right;\">\n",
       "      <th></th>\n",
       "      <th>id</th>\n",
       "      <th>text_sum</th>\n",
       "      <th>text_min</th>\n",
       "      <th>text_max</th>\n",
       "      <th>text_mean</th>\n",
       "      <th>text_median</th>\n",
       "    </tr>\n",
       "  </thead>\n",
       "  <tbody>\n",
       "    <tr>\n",
       "      <th>5535</th>\n",
       "      <td>7895</td>\n",
       "      <td>1.885115</td>\n",
       "      <td>-0.031004</td>\n",
       "      <td>0.262091</td>\n",
       "      <td>0.089767</td>\n",
       "      <td>0.059510</td>\n",
       "    </tr>\n",
       "    <tr>\n",
       "      <th>6018</th>\n",
       "      <td>8596</td>\n",
       "      <td>9.313427</td>\n",
       "      <td>-0.040400</td>\n",
       "      <td>1.000000</td>\n",
       "      <td>0.102345</td>\n",
       "      <td>0.069088</td>\n",
       "    </tr>\n",
       "    <tr>\n",
       "      <th>4739</th>\n",
       "      <td>6738</td>\n",
       "      <td>14.726642</td>\n",
       "      <td>0.012219</td>\n",
       "      <td>1.000000</td>\n",
       "      <td>0.188803</td>\n",
       "      <td>0.132279</td>\n",
       "    </tr>\n",
       "    <tr>\n",
       "      <th>3181</th>\n",
       "      <td>4567</td>\n",
       "      <td>3.985746</td>\n",
       "      <td>-0.040585</td>\n",
       "      <td>0.433890</td>\n",
       "      <td>0.110715</td>\n",
       "      <td>0.082433</td>\n",
       "    </tr>\n",
       "    <tr>\n",
       "      <th>818</th>\n",
       "      <td>1189</td>\n",
       "      <td>3.576633</td>\n",
       "      <td>-0.090845</td>\n",
       "      <td>0.443895</td>\n",
       "      <td>0.170316</td>\n",
       "      <td>0.168023</td>\n",
       "    </tr>\n",
       "    <tr>\n",
       "      <th>...</th>\n",
       "      <td>...</td>\n",
       "      <td>...</td>\n",
       "      <td>...</td>\n",
       "      <td>...</td>\n",
       "      <td>...</td>\n",
       "      <td>...</td>\n",
       "    </tr>\n",
       "    <tr>\n",
       "      <th>5282</th>\n",
       "      <td>7548</td>\n",
       "      <td>2.514225</td>\n",
       "      <td>-0.025919</td>\n",
       "      <td>1.000000</td>\n",
       "      <td>0.119725</td>\n",
       "      <td>0.074594</td>\n",
       "    </tr>\n",
       "    <tr>\n",
       "      <th>563</th>\n",
       "      <td>814</td>\n",
       "      <td>4.079575</td>\n",
       "      <td>-0.013456</td>\n",
       "      <td>1.000000</td>\n",
       "      <td>0.271972</td>\n",
       "      <td>0.073396</td>\n",
       "    </tr>\n",
       "    <tr>\n",
       "      <th>2089</th>\n",
       "      <td>3003</td>\n",
       "      <td>12.973744</td>\n",
       "      <td>-0.108944</td>\n",
       "      <td>1.000000</td>\n",
       "      <td>0.142569</td>\n",
       "      <td>0.114495</td>\n",
       "    </tr>\n",
       "    <tr>\n",
       "      <th>3221</th>\n",
       "      <td>4622</td>\n",
       "      <td>3.870319</td>\n",
       "      <td>-0.074206</td>\n",
       "      <td>0.450665</td>\n",
       "      <td>0.107509</td>\n",
       "      <td>0.085664</td>\n",
       "    </tr>\n",
       "    <tr>\n",
       "      <th>1906</th>\n",
       "      <td>2740</td>\n",
       "      <td>0.034038</td>\n",
       "      <td>0.034038</td>\n",
       "      <td>0.034038</td>\n",
       "      <td>0.034038</td>\n",
       "      <td>0.034038</td>\n",
       "    </tr>\n",
       "  </tbody>\n",
       "</table>\n",
       "<p>5329 rows × 6 columns</p>\n",
       "</div>"
      ],
      "text/plain": [
       "        id   text_sum  text_min  text_max  text_mean  text_median\n",
       "5535  7895   1.885115 -0.031004  0.262091   0.089767     0.059510\n",
       "6018  8596   9.313427 -0.040400  1.000000   0.102345     0.069088\n",
       "4739  6738  14.726642  0.012219  1.000000   0.188803     0.132279\n",
       "3181  4567   3.985746 -0.040585  0.433890   0.110715     0.082433\n",
       "818   1189   3.576633 -0.090845  0.443895   0.170316     0.168023\n",
       "...    ...        ...       ...       ...        ...          ...\n",
       "5282  7548   2.514225 -0.025919  1.000000   0.119725     0.074594\n",
       "563    814   4.079575 -0.013456  1.000000   0.271972     0.073396\n",
       "2089  3003  12.973744 -0.108944  1.000000   0.142569     0.114495\n",
       "3221  4622   3.870319 -0.074206  0.450665   0.107509     0.085664\n",
       "1906  2740   0.034038  0.034038  0.034038   0.034038     0.034038\n",
       "\n",
       "[5329 rows x 6 columns]"
      ]
     },
     "execution_count": 6,
     "metadata": {},
     "output_type": "execute_result"
    }
   ],
   "source": [
    "X_train"
   ]
  },
  {
   "cell_type": "code",
   "execution_count": 7,
   "metadata": {},
   "outputs": [],
   "source": [
    "X_train = np.expand_dims(X_train, axis=2)\n",
    "X_test = np.expand_dims(X_test, axis=2)"
   ]
  },
  {
   "cell_type": "code",
   "execution_count": 8,
   "metadata": {},
   "outputs": [
    {
     "data": {
      "text/plain": [
       "(5329, 6, 1)"
      ]
     },
     "execution_count": 8,
     "metadata": {},
     "output_type": "execute_result"
    }
   ],
   "source": [
    "X_train.shape"
   ]
  },
  {
   "cell_type": "code",
   "execution_count": 9,
   "metadata": {},
   "outputs": [
    {
     "data": {
      "text/plain": [
       "(6, 1)"
      ]
     },
     "execution_count": 9,
     "metadata": {},
     "output_type": "execute_result"
    }
   ],
   "source": [
    "input_shape = (X_train.shape[1], 1)\n",
    "input_shape"
   ]
  },
  {
   "cell_type": "markdown",
   "metadata": {},
   "source": [
    "## Relu"
   ]
  },
  {
   "cell_type": "code",
   "execution_count": 10,
   "metadata": {},
   "outputs": [],
   "source": [
    "model = Sequential()\n",
    "model.add(Conv1D(128, kernel_size=2,\n",
    "                 activation='relu',\n",
    "                 input_shape=input_shape))\n",
    "model.add(Conv1D(64, 1, activation='relu'))\n",
    "model.add(MaxPooling1D(pool_size=3))\n",
    "model.add(Dropout(0.25))\n",
    "model.add(Flatten())\n",
    "model.add(Dense(128, activation='relu'))\n",
    "model.add(Dropout(0.5))\n",
    "model.add(Dense(num_classes, activation='relu'))\n",
    "\n",
    "model.compile(loss=keras.losses.binary_crossentropy,\n",
    "              optimizer=keras.optimizers.Adadelta(),\n",
    "              metrics=['accuracy'])"
   ]
  },
  {
   "cell_type": "code",
   "execution_count": 11,
   "metadata": {},
   "outputs": [
    {
     "name": "stdout",
     "output_type": "stream",
     "text": [
      "Model: \"sequential\"\n",
      "_________________________________________________________________\n",
      "Layer (type)                 Output Shape              Param #   \n",
      "=================================================================\n",
      "conv1d (Conv1D)              (None, 5, 128)            384       \n",
      "_________________________________________________________________\n",
      "conv1d_1 (Conv1D)            (None, 5, 64)             8256      \n",
      "_________________________________________________________________\n",
      "max_pooling1d (MaxPooling1D) (None, 1, 64)             0         \n",
      "_________________________________________________________________\n",
      "dropout (Dropout)            (None, 1, 64)             0         \n",
      "_________________________________________________________________\n",
      "flatten (Flatten)            (None, 64)                0         \n",
      "_________________________________________________________________\n",
      "dense (Dense)                (None, 128)               8320      \n",
      "_________________________________________________________________\n",
      "dropout_1 (Dropout)          (None, 128)               0         \n",
      "_________________________________________________________________\n",
      "dense_1 (Dense)              (None, 2)                 258       \n",
      "=================================================================\n",
      "Total params: 17,218\n",
      "Trainable params: 17,218\n",
      "Non-trainable params: 0\n",
      "_________________________________________________________________\n"
     ]
    }
   ],
   "source": [
    "model.summary()"
   ]
  },
  {
   "cell_type": "code",
   "execution_count": 12,
   "metadata": {},
   "outputs": [
    {
     "name": "stdout",
     "output_type": "stream",
     "text": [
      "Epoch 1/5\n",
      "5329/5329 [==============================] - 13s 2ms/step - loss: 8.2134 - accuracy: 0.4460 - val_loss: 8.4215 - val_accuracy: 0.4435\n",
      "Epoch 2/5\n",
      "5329/5329 [==============================] - 11s 2ms/step - loss: 8.2596 - accuracy: 0.4466 - val_loss: 8.4191 - val_accuracy: 0.4435\n",
      "Epoch 3/5\n",
      "5329/5329 [==============================] - 12s 2ms/step - loss: 8.1505 - accuracy: 0.4399 - val_loss: 8.4215 - val_accuracy: 0.4435\n",
      "Epoch 4/5\n",
      "5329/5329 [==============================] - 12s 2ms/step - loss: 8.2660 - accuracy: 0.4384 - val_loss: 8.4215 - val_accuracy: 0.4435\n",
      "Epoch 5/5\n",
      "5329/5329 [==============================] - 12s 2ms/step - loss: 8.2680 - accuracy: 0.4372 - val_loss: 8.4216 - val_accuracy: 0.4435\n"
     ]
    },
    {
     "data": {
      "text/plain": [
       "<tensorflow.python.keras.callbacks.History at 0x7fd080057ca0>"
      ]
     },
     "execution_count": 12,
     "metadata": {},
     "output_type": "execute_result"
    }
   ],
   "source": [
    "model.fit(X_train, y_train,\n",
    "          batch_size=batch_size,\n",
    "          epochs=5,\n",
    "          verbose=1,\n",
    "          validation_data=(X_test, y_test))"
   ]
  },
  {
   "cell_type": "code",
   "execution_count": 14,
   "metadata": {},
   "outputs": [],
   "source": [
    "model = Sequential()\n",
    "model.add(Conv1D(128, kernel_size=1,\n",
    "                 activation='relu',\n",
    "                 input_shape=input_shape))\n",
    "model.add(MaxPooling1D(pool_size=1))\n",
    "model.add(Dropout(0.25))\n",
    "model.add(Dense(128))\n",
    "model.add(Conv1D(filters=32, kernel_size=1, activation='relu'))\n",
    "model.add(MaxPooling1D(pool_size=1))\n",
    "model.add(Conv1D(64, 1))\n",
    "model.add(MaxPooling1D(pool_size=1))\n",
    "model.add(Flatten())\n",
    "model.add(Dense(num_classes, activation='relu'))\n",
    "\n",
    "model.compile(loss=keras.losses.binary_crossentropy,\n",
    "              optimizer=keras.optimizers.Adadelta(),\n",
    "              metrics=['accuracy'])"
   ]
  },
  {
   "cell_type": "code",
   "execution_count": 15,
   "metadata": {},
   "outputs": [
    {
     "name": "stdout",
     "output_type": "stream",
     "text": [
      "Model: \"sequential_2\"\n",
      "_________________________________________________________________\n",
      "Layer (type)                 Output Shape              Param #   \n",
      "=================================================================\n",
      "conv1d_4 (Conv1D)            (None, 6, 128)            256       \n",
      "_________________________________________________________________\n",
      "max_pooling1d_3 (MaxPooling1 (None, 6, 128)            0         \n",
      "_________________________________________________________________\n",
      "dropout_3 (Dropout)          (None, 6, 128)            0         \n",
      "_________________________________________________________________\n",
      "dense_3 (Dense)              (None, 6, 128)            16512     \n",
      "_________________________________________________________________\n",
      "conv1d_5 (Conv1D)            (None, 6, 32)             4128      \n",
      "_________________________________________________________________\n",
      "max_pooling1d_4 (MaxPooling1 (None, 6, 32)             0         \n",
      "_________________________________________________________________\n",
      "conv1d_6 (Conv1D)            (None, 6, 64)             2112      \n",
      "_________________________________________________________________\n",
      "max_pooling1d_5 (MaxPooling1 (None, 6, 64)             0         \n",
      "_________________________________________________________________\n",
      "flatten_1 (Flatten)          (None, 384)               0         \n",
      "_________________________________________________________________\n",
      "dense_4 (Dense)              (None, 2)                 770       \n",
      "=================================================================\n",
      "Total params: 23,778\n",
      "Trainable params: 23,778\n",
      "Non-trainable params: 0\n",
      "_________________________________________________________________\n"
     ]
    }
   ],
   "source": [
    "model.summary()"
   ]
  },
  {
   "cell_type": "code",
   "execution_count": 16,
   "metadata": {},
   "outputs": [
    {
     "name": "stdout",
     "output_type": "stream",
     "text": [
      "Epoch 1/5\n",
      "5329/5329 [==============================] - 14s 3ms/step - loss: 7.9467 - accuracy: 0.5384 - val_loss: 8.3027 - val_accuracy: 0.5565\n",
      "Epoch 2/5\n",
      "5329/5329 [==============================] - 13s 2ms/step - loss: 7.9275 - accuracy: 0.5485 - val_loss: 8.2378 - val_accuracy: 0.5565\n",
      "Epoch 3/5\n",
      "5329/5329 [==============================] - 14s 3ms/step - loss: 7.8626 - accuracy: 0.5372 - val_loss: 8.1313 - val_accuracy: 0.5565\n",
      "Epoch 4/5\n",
      "5329/5329 [==============================] - 13s 2ms/step - loss: 7.8740 - accuracy: 0.5393 - val_loss: 7.7117 - val_accuracy: 0.5565\n",
      "Epoch 5/5\n",
      "5329/5329 [==============================] - 13s 2ms/step - loss: 7.8631 - accuracy: 0.5378 - val_loss: 7.4220 - val_accuracy: 0.5565\n"
     ]
    },
    {
     "data": {
      "text/plain": [
       "<tensorflow.python.keras.callbacks.History at 0x7fd059411310>"
      ]
     },
     "execution_count": 16,
     "metadata": {},
     "output_type": "execute_result"
    }
   ],
   "source": [
    "model.fit(X_train, y_train,\n",
    "          batch_size=batch_size,\n",
    "          epochs=5,\n",
    "          verbose=1,\n",
    "          validation_data=(X_test, y_test))"
   ]
  },
  {
   "cell_type": "code",
   "execution_count": 17,
   "metadata": {},
   "outputs": [],
   "source": [
    "model = Sequential()\n",
    "model.add(Conv1D(1024, kernel_size=1,\n",
    "                 activation='relu',\n",
    "                 input_shape=input_shape))\n",
    "model.add(MaxPooling1D(pool_size=1))\n",
    "model.add(Dropout(0.25))\n",
    "model.add(Dense(512))\n",
    "model.add(Conv1D(filters=32, kernel_size=1, activation='relu'))\n",
    "model.add(MaxPooling1D(pool_size=1))\n",
    "model.add(Conv1D(216, 1))\n",
    "model.add(MaxPooling1D(pool_size=1))\n",
    "model.add(Conv1D(128, 1))\n",
    "model.add(MaxPooling1D(pool_size=1))\n",
    "model.add(Conv1D(64, 1, activation='relu'))\n",
    "model.add(MaxPooling1D(pool_size=1))\n",
    "model.add(Conv1D(32, 1, activation='relu'))\n",
    "model.add(MaxPooling1D(pool_size=1))\n",
    "model.add(Flatten())\n",
    "model.add(Dense(num_classes, activation='relu'))\n",
    "\n",
    "model.compile(loss=keras.losses.binary_crossentropy,\n",
    "              optimizer=keras.optimizers.Adadelta(),\n",
    "              metrics=['accuracy'])"
   ]
  },
  {
   "cell_type": "code",
   "execution_count": 18,
   "metadata": {},
   "outputs": [
    {
     "name": "stdout",
     "output_type": "stream",
     "text": [
      "Model: \"sequential_3\"\n",
      "_________________________________________________________________\n",
      "Layer (type)                 Output Shape              Param #   \n",
      "=================================================================\n",
      "conv1d_7 (Conv1D)            (None, 6, 1024)           2048      \n",
      "_________________________________________________________________\n",
      "max_pooling1d_6 (MaxPooling1 (None, 6, 1024)           0         \n",
      "_________________________________________________________________\n",
      "dropout_4 (Dropout)          (None, 6, 1024)           0         \n",
      "_________________________________________________________________\n",
      "dense_5 (Dense)              (None, 6, 512)            524800    \n",
      "_________________________________________________________________\n",
      "conv1d_8 (Conv1D)            (None, 6, 32)             16416     \n",
      "_________________________________________________________________\n",
      "max_pooling1d_7 (MaxPooling1 (None, 6, 32)             0         \n",
      "_________________________________________________________________\n",
      "conv1d_9 (Conv1D)            (None, 6, 216)            7128      \n",
      "_________________________________________________________________\n",
      "max_pooling1d_8 (MaxPooling1 (None, 6, 216)            0         \n",
      "_________________________________________________________________\n",
      "conv1d_10 (Conv1D)           (None, 6, 128)            27776     \n",
      "_________________________________________________________________\n",
      "max_pooling1d_9 (MaxPooling1 (None, 6, 128)            0         \n",
      "_________________________________________________________________\n",
      "conv1d_11 (Conv1D)           (None, 6, 64)             8256      \n",
      "_________________________________________________________________\n",
      "max_pooling1d_10 (MaxPooling (None, 6, 64)             0         \n",
      "_________________________________________________________________\n",
      "conv1d_12 (Conv1D)           (None, 6, 32)             2080      \n",
      "_________________________________________________________________\n",
      "max_pooling1d_11 (MaxPooling (None, 6, 32)             0         \n",
      "_________________________________________________________________\n",
      "flatten_2 (Flatten)          (None, 192)               0         \n",
      "_________________________________________________________________\n",
      "dense_6 (Dense)              (None, 2)                 386       \n",
      "=================================================================\n",
      "Total params: 588,890\n",
      "Trainable params: 588,890\n",
      "Non-trainable params: 0\n",
      "_________________________________________________________________\n"
     ]
    }
   ],
   "source": [
    "model.summary()"
   ]
  },
  {
   "cell_type": "code",
   "execution_count": 19,
   "metadata": {},
   "outputs": [
    {
     "name": "stdout",
     "output_type": "stream",
     "text": [
      "Epoch 1/5\n",
      "5329/5329 [==============================] - 47s 9ms/step - loss: 8.0898 - accuracy: 0.4265 - val_loss: 7.5757 - val_accuracy: 0.4426\n",
      "Epoch 2/5\n",
      "5329/5329 [==============================] - 51s 10ms/step - loss: 7.9531 - accuracy: 0.4260 - val_loss: 7.6082 - val_accuracy: 0.4426\n",
      "Epoch 3/5\n",
      "5329/5329 [==============================] - 50s 9ms/step - loss: 7.8164 - accuracy: 0.4218 - val_loss: 7.6192 - val_accuracy: 0.4426\n",
      "Epoch 4/5\n",
      "5329/5329 [==============================] - 47s 9ms/step - loss: 7.7759 - accuracy: 0.4256 - val_loss: 7.6203 - val_accuracy: 0.4431\n",
      "Epoch 5/5\n",
      "5329/5329 [==============================] - 48s 9ms/step - loss: 7.6847 - accuracy: 0.4237 - val_loss: 7.6232 - val_accuracy: 0.4431\n"
     ]
    },
    {
     "data": {
      "text/plain": [
       "<tensorflow.python.keras.callbacks.History at 0x7fd058a0fdc0>"
      ]
     },
     "execution_count": 19,
     "metadata": {},
     "output_type": "execute_result"
    }
   ],
   "source": [
    "model.fit(X_train, y_train,\n",
    "          batch_size=batch_size,\n",
    "          epochs=5,\n",
    "          verbose=1,\n",
    "          validation_data=(X_test, y_test))"
   ]
  },
  {
   "cell_type": "markdown",
   "metadata": {},
   "source": [
    "## Softmax"
   ]
  },
  {
   "cell_type": "code",
   "execution_count": 20,
   "metadata": {},
   "outputs": [],
   "source": [
    "model = Sequential()\n",
    "model.add(Conv1D(128, kernel_size=2,\n",
    "                 activation='softmax',\n",
    "                 input_shape=input_shape))\n",
    "model.add(Conv1D(64, 1, activation='softmax'))\n",
    "model.add(MaxPooling1D(pool_size=3))\n",
    "model.add(Dropout(0.25))\n",
    "model.add(Flatten())\n",
    "model.add(Dense(128, activation='softmax'))\n",
    "model.add(Dropout(0.5))\n",
    "model.add(Dense(num_classes, activation='softmax'))\n",
    "\n",
    "model.compile(loss=keras.losses.binary_crossentropy,\n",
    "              optimizer=keras.optimizers.Adadelta(),\n",
    "              metrics=['accuracy'])"
   ]
  },
  {
   "cell_type": "code",
   "execution_count": 21,
   "metadata": {},
   "outputs": [
    {
     "name": "stdout",
     "output_type": "stream",
     "text": [
      "Epoch 1/5\n",
      "5329/5329 [==============================] - 13s 2ms/step - loss: 0.6932 - accuracy: 0.4915 - val_loss: 0.6931 - val_accuracy: 0.4435\n",
      "Epoch 2/5\n",
      "5329/5329 [==============================] - 12s 2ms/step - loss: 0.6932 - accuracy: 0.4992 - val_loss: 0.6931 - val_accuracy: 0.4435\n",
      "Epoch 3/5\n",
      "5329/5329 [==============================] - 11s 2ms/step - loss: 0.6932 - accuracy: 0.5050 - val_loss: 0.6931 - val_accuracy: 0.4435\n",
      "Epoch 4/5\n",
      "5329/5329 [==============================] - 12s 2ms/step - loss: 0.6932 - accuracy: 0.4864 - val_loss: 0.6931 - val_accuracy: 0.4435\n",
      "Epoch 5/5\n",
      "5329/5329 [==============================] - 12s 2ms/step - loss: 0.6932 - accuracy: 0.5042 - val_loss: 0.6931 - val_accuracy: 0.4435\n"
     ]
    },
    {
     "data": {
      "text/plain": [
       "<tensorflow.python.keras.callbacks.History at 0x7fd0587e8dc0>"
      ]
     },
     "execution_count": 21,
     "metadata": {},
     "output_type": "execute_result"
    }
   ],
   "source": [
    "model.fit(X_train, y_train,\n",
    "          batch_size=batch_size,\n",
    "          epochs=5,\n",
    "          verbose=1,\n",
    "          validation_data=(X_test, y_test))"
   ]
  },
  {
   "cell_type": "markdown",
   "metadata": {},
   "source": [
    "## Tanh"
   ]
  },
  {
   "cell_type": "code",
   "execution_count": 22,
   "metadata": {},
   "outputs": [],
   "source": [
    "model = Sequential()\n",
    "model.add(Conv1D(128, kernel_size=2,\n",
    "                 activation='tanh',\n",
    "                 input_shape=input_shape))\n",
    "model.add(Conv1D(64, 1, activation='tanh'))\n",
    "model.add(MaxPooling1D(pool_size=3))\n",
    "model.add(Dropout(0.25))\n",
    "model.add(Flatten())\n",
    "model.add(Dense(128, activation='tanh'))\n",
    "model.add(Dropout(0.5))\n",
    "model.add(Dense(num_classes, activation='tanh'))\n",
    "\n",
    "model.compile(loss=keras.losses.binary_crossentropy,\n",
    "              optimizer=keras.optimizers.Adadelta(),\n",
    "              metrics=['accuracy'])"
   ]
  },
  {
   "cell_type": "code",
   "execution_count": 23,
   "metadata": {},
   "outputs": [
    {
     "name": "stdout",
     "output_type": "stream",
     "text": [
      "Epoch 1/5\n",
      "5329/5329 [==============================] - 11s 2ms/step - loss: 3.2916 - accuracy: 0.4843 - val_loss: 0.8663 - val_accuracy: 0.4426\n",
      "Epoch 2/5\n",
      "5329/5329 [==============================] - 11s 2ms/step - loss: 3.1247 - accuracy: 0.4881 - val_loss: 0.8411 - val_accuracy: 0.4435\n",
      "Epoch 3/5\n",
      "5329/5329 [==============================] - 12s 2ms/step - loss: 3.1101 - accuracy: 0.4935 - val_loss: 0.8166 - val_accuracy: 0.4448\n",
      "Epoch 4/5\n",
      "5329/5329 [==============================] - 12s 2ms/step - loss: 3.0732 - accuracy: 0.4817 - val_loss: 0.8006 - val_accuracy: 0.4453\n",
      "Epoch 5/5\n",
      "5329/5329 [==============================] - 12s 2ms/step - loss: 2.9780 - accuracy: 0.5044 - val_loss: 0.7842 - val_accuracy: 0.4448\n"
     ]
    },
    {
     "data": {
      "text/plain": [
       "<tensorflow.python.keras.callbacks.History at 0x7fd05865e490>"
      ]
     },
     "execution_count": 23,
     "metadata": {},
     "output_type": "execute_result"
    }
   ],
   "source": [
    "model.fit(X_train, y_train,\n",
    "          batch_size=batch_size,\n",
    "          epochs=5,\n",
    "          verbose=1,\n",
    "          validation_data=(X_test, y_test))"
   ]
  }
 ],
 "metadata": {
  "kernelspec": {
   "display_name": "Python 3",
   "language": "python",
   "name": "python3"
  },
  "language_info": {
   "codemirror_mode": {
    "name": "ipython",
    "version": 3
   },
   "file_extension": ".py",
   "mimetype": "text/x-python",
   "name": "python",
   "nbconvert_exporter": "python",
   "pygments_lexer": "ipython3",
   "version": "3.8.5"
  }
 },
 "nbformat": 4,
 "nbformat_minor": 4
}
